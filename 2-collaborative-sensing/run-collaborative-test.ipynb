{
 "cells": [
  {
   "cell_type": "code",
   "execution_count": 1,
   "id": "70ba8fec",
   "metadata": {},
   "outputs": [
    {
     "name": "stdout",
     "output_type": "stream",
     "text": [
      "Cannot import rss library\n"
     ]
    }
   ],
   "source": [
    "import sys, os\n",
    "os.environ['CUDA_LAUNCH_BLOCKING'] = \"1\" \n",
    "import avstack\n",
    "import avapi\n",
    "from copy import copy, deepcopy\n",
    "import numpy as np\n",
    "import pandas as pd\n",
    "from tqdm import tqdm\n",
    "import pickle\n",
    "\n",
    "%load_ext autoreload\n",
    "%autoreload 2\n",
    "\n",
    "%matplotlib inline\n",
    "\n",
    "data_root_dir = '../data'\n",
    "data_dir_kitti_obj = os.path.join(data_root_dir, 'KITTI/object')\n",
    "data_dir_kitti_raw = os.path.join(data_root_dir, 'KITTI/raw')\n",
    "data_dir_nuscenes  = os.path.join(data_root_dir, 'nuScenes')\n",
    "data_dir_carla     = os.path.join(data_root_dir, 'CARLA/carla-object-v1')\n",
    "data_dir_carla_collab = os.path.join(data_root_dir, 'CARLA/carla-collaborative-v1')\n",
    "\n",
    "# KSM = avapi.kitti.KittiScenesManager(data_dir_kitti_obj, data_dir_kitti_raw, convert_raw=False)\n",
    "# NSM = avapi.nuscenes.nuScenesManager(data_dir_nuscenes, split='v1.0-mini')\n",
    "# CSM = avapi.carla.CarlaScenesManager(data_dir_carla, verbose=False)\n",
    "CSM = avapi.carla.CarlaScenesManager(data_dir_carla_collab, verbose=False)"
   ]
  },
  {
   "cell_type": "markdown",
   "id": "f14d8649",
   "metadata": {},
   "source": [
    "# Trade Study 1: Using ground truth labels with noise on each element"
   ]
  },
  {
   "cell_type": "code",
   "execution_count": 2,
   "id": "284f36fa",
   "metadata": {},
   "outputs": [],
   "source": [
    "# constants over all experiments\n",
    "li_perception = 'pointpillars'\n",
    "ca_perception = None\n",
    "tracking = 'basic-box-tracker'\n",
    "sensor_eval = 'main_lidar'\n",
    "sensor_eval_super = 'ego'  # to filter out ones from collabs that are behind buildings\n",
    "filter_front = False\n",
    "max_lidar_range = 25\n",
    "max_framerate = 10\n",
    "\n",
    "# communication range in units of meters\n",
    "collab_range = {1:100,\n",
    "                2:100,\n",
    "                3:70,\n",
    "                4:50,\n",
    "                5:None}\n",
    "\n",
    "# collaborative detection noise (variance) on [h, w, l, x, y, z]\n",
    "collab_noise = {1:None,\n",
    "                2:[s**2 for s in [0.2, 0.2, 0.2, 1, 1, 1]],\n",
    "                3:[s**2 for s in [0.1, 0.1, 0.1, 0.33, 0.33, 33]],\n",
    "                4:[s**s for s in [0.05, 0.05, 0.05, 0.1, 0.1, 0.1]],\n",
    "                5:None}\n",
    "\n",
    "# communication rates in Hz\n",
    "collab_rate = {1:10,\n",
    "               2:10,\n",
    "               3:10,\n",
    "               4:10,\n",
    "               5:None}\n",
    "\n",
    "# source of the collaborative sensing\n",
    "collab_source = {1:'ground_truth',\n",
    "                 2:'ground_truth',\n",
    "                 3:'ground_truth',\n",
    "                 4:'ground_truth',\n",
    "                 5:None}\n",
    "\n",
    "# sensors to use from our dataset\n",
    "all_collab_sensors = [f'LIDAR_INFRASTRUCTURE_{d:03d}' for d in range(1,40,1)]\n",
    "collab_sensors = {1:all_collab_sensors,\n",
    "                  2:all_collab_sensors,\n",
    "                  3:all_collab_sensors,\n",
    "                  4:all_collab_sensors,\n",
    "                  5:None}\n",
    "\n",
    "# trade study type\n",
    "trade_types = {1:'collaborative',\n",
    "               2:'collaborative',\n",
    "               3:'collaborative',\n",
    "               4:'collaborative',\n",
    "               5:'standard'}\n",
    "\n",
    "# AV configurations\n",
    "vs = avstack.ego.vehicle\n",
    "AVs = {1:vs.LidarCollabPerceptionAndTrackingVehicle,\n",
    "       2:vs.LidarCollabPerceptionAndTrackingVehicle,\n",
    "       3:vs.LidarCollabPerceptionAndTrackingVehicle,\n",
    "       4:vs.LidarCollabPerceptionAndTrackingVehicle,\n",
    "       5:vs.LidarPerceptionAndTrackingVehicle}\n",
    "SMs = [CSM]"
   ]
  },
  {
   "cell_type": "markdown",
   "id": "cc0f995b",
   "metadata": {},
   "source": [
    "## Run Trades"
   ]
  },
  {
   "cell_type": "code",
   "execution_count": 3,
   "id": "99e75bb6",
   "metadata": {
    "scrolled": false
   },
   "outputs": [
    {
     "name": "stdout",
     "output_type": "stream",
     "text": [
      "Running dataset CARLA over 1 trials\n",
      "   Running trial 0, using index 0\n"
     ]
    },
    {
     "name": "stderr",
     "output_type": "stream",
     "text": [
      "/home/spencer/.cache/pypoetry/virtualenvs/avstack-studies-CCMTMq_C-py3.8/lib/python3.8/site-packages/mmcv/__init__.py:20: UserWarning: On January 1, 2023, MMCV will release v2.0.0, in which it will remove components related to the training process and add a data transformation module. In addition, it will rename the package names mmcv to mmcv-lite and mmcv-full to mmcv. See https://github.com/open-mmlab/mmcv/blob/master/docs/en/compatibility.md for more details.\n",
      "  warnings.warn(\n",
      "/home/spencer/Documents/Projects/AVstack/avstack-studies/submodules/lib-avstack-core/third_party/mmdetection3d/mmdet3d/models/dense_heads/anchor3d_head.py:84: UserWarning: dir_offset and dir_limit_offset will be depressed and be incorporated into box coder in the future\n",
      "  warnings.warn(\n"
     ]
    },
    {
     "name": "stdout",
     "output_type": "stream",
     "text": [
      "load checkpoint from local path: /home/spencer/Documents/Projects/AVstack/avstack-studies/submodules/lib-avstack-core/third_party/mmdetection3d/work_dirs/carla/hv_pointpillars_fpn_sbn-all_fp16_2x8_2x_carla-3d.pth\n",
      "      Running dataset: CARLA, case 1\n"
     ]
    },
    {
     "name": "stderr",
     "output_type": "stream",
     "text": [
      "  0%|                               | 0/100 [00:00<?, ?it/s]/home/spencer/.cache/pypoetry/virtualenvs/avstack-studies-CCMTMq_C-py3.8/lib/python3.8/site-packages/torch/functional.py:445: UserWarning: torch.meshgrid: in an upcoming release, it will be required to pass the indexing argument. (Triggered internally at  ../aten/src/ATen/native/TensorShape.cpp:2157.)\n",
      "  return _VF.meshgrid(tensors, **kwargs)  # type: ignore[attr-defined]\n",
      "100%|█████████████████████| 100/100 [00:29<00:00,  3.34it/s]\n",
      "100%|█████████████████████| 100/100 [00:05<00:00, 16.74it/s]\n",
      "100%|█████████████████████| 100/100 [00:11<00:00,  8.82it/s]\n"
     ]
    },
    {
     "name": "stdout",
     "output_type": "stream",
     "text": [
      "\n",
      "CLEAR Config:\n",
      "THRESHOLD            : 0.5                           \n",
      "PRINT_CONFIG         : True                          \n",
      "\n",
      "IDEucl Config:\n",
      "THRESHOLD            : 0.4                           \n",
      "PRINT_CONFIG         : True                          \n",
      "\n",
      "Evaluating 1 tracker(s) on 1 sequence(s) for 1 class(es) on AvstackTrackDataset dataset using the following metrics: HOTA, CLEAR, VACE, IDEucl, Count\n",
      "\n",
      "\n",
      "Evaluating no-name\n",
      "\n",
      "\n",
      "CLEAR Config:\n",
      "THRESHOLD            : 0.5                           \n",
      "PRINT_CONFIG         : True                          \n",
      "\n",
      "IDEucl Config:\n",
      "THRESHOLD            : 0.4                           \n",
      "PRINT_CONFIG         : True                          \n",
      "\n",
      "Evaluating 1 tracker(s) on 1 sequence(s) for 1 class(es) on AvstackTrackDataset dataset using the following metrics: HOTA, CLEAR, VACE, IDEucl, Count\n",
      "\n",
      "\n",
      "Evaluating box-tracker\n",
      "\n",
      "1 eval_sequence(run_2022_10_31_13:34:52, box-tracker)                    4.6267 sec\n",
      "\n",
      "All sequences for box-tracker finished in 4.63 seconds\n"
     ]
    },
    {
     "name": "stderr",
     "output_type": "stream",
     "text": [
      "100%|█████████████████████| 100/100 [00:54<00:00,  1.83it/s]\n",
      "/home/spencer/Documents/Projects/AVstack/avstack-studies/submodules/lib-avstack-core/third_party/mmdetection3d/mmdet3d/models/dense_heads/anchor3d_head.py:84: UserWarning: dir_offset and dir_limit_offset will be depressed and be incorporated into box coder in the future\n",
      "  warnings.warn(\n"
     ]
    },
    {
     "name": "stdout",
     "output_type": "stream",
     "text": [
      "{'Case': 1, 'Dataset': 'CARLA', 'Trial': 0, 'Metrics_perception_object_3d_tot_TP': 807, 'Metrics_perception_object_3d_tot_FP': 0, 'Metrics_perception_object_3d_tot_FN': 317, 'Metrics_perception_object_3d_tot_T': 1124, 'Metrics_perception_object_3d_mean_precision': 1.0, 'Metrics_perception_object_3d_mean_recall': 0.7363702963702963, 'Metrics_tracking_HOTA_HOTA': array([0.8339535, 0.8339535, 0.8339535, 0.8339535, 0.8339535, 0.8339535,\n",
      "       0.8339535, 0.8339535, 0.8339535, 0.8339535, 0.8339535, 0.8339535,\n",
      "       0.8339535, 0.8339535, 0.8339535, 0.8339535, 0.8339535, 0.8339535,\n",
      "       0.8339535]), 'Metrics_tracking_HOTA_DetA': array([0.72206466, 0.72206466, 0.72206466, 0.72206466, 0.72206466,\n",
      "       0.72206466, 0.72206466, 0.72206466, 0.72206466, 0.72206466,\n",
      "       0.72206466, 0.72206466, 0.72206466, 0.72206466, 0.72206466,\n",
      "       0.72206466, 0.72206466, 0.72206466, 0.72206466]), 'Metrics_tracking_HOTA_AssA': array([0.96318029, 0.96318029, 0.96318029, 0.96318029, 0.96318029,\n",
      "       0.96318029, 0.96318029, 0.96318029, 0.96318029, 0.96318029,\n",
      "       0.96318029, 0.96318029, 0.96318029, 0.96318029, 0.96318029,\n",
      "       0.96318029, 0.96318029, 0.96318029, 0.96318029]), 'Metrics_tracking_HOTA_DetRe': array([0.86422267, 0.86422267, 0.86422267, 0.86422267, 0.86422267,\n",
      "       0.86422267, 0.86422267, 0.86422267, 0.86422267, 0.86422267,\n",
      "       0.86422267, 0.86422267, 0.86422267, 0.86422267, 0.86422267,\n",
      "       0.86422267, 0.86422267, 0.86422267, 0.86422267]), 'Metrics_tracking_HOTA_DetPr': array([0.81445937, 0.81445937, 0.81445937, 0.81445937, 0.81445937,\n",
      "       0.81445937, 0.81445937, 0.81445937, 0.81445937, 0.81445937,\n",
      "       0.81445937, 0.81445937, 0.81445937, 0.81445937, 0.81445937,\n",
      "       0.81445937, 0.81445937, 0.81445937, 0.81445937]), 'Metrics_tracking_HOTA_AssRe': array([0.96318029, 0.96318029, 0.96318029, 0.96318029, 0.96318029,\n",
      "       0.96318029, 0.96318029, 0.96318029, 0.96318029, 0.96318029,\n",
      "       0.96318029, 0.96318029, 0.96318029, 0.96318029, 0.96318029,\n",
      "       0.96318029, 0.96318029, 0.96318029, 0.96318029]), 'Metrics_tracking_HOTA_AssPr': array([1., 1., 1., 1., 1., 1., 1., 1., 1., 1., 1., 1., 1., 1., 1., 1., 1.,\n",
      "       1., 1.]), 'Metrics_tracking_HOTA_LocA': array([3.1058718, 3.1058718, 3.1058718, 3.1058718, 3.1058718, 3.1058718,\n",
      "       3.1058718, 3.1058718, 3.1058718, 3.1058718, 3.1058718, 3.1058718,\n",
      "       3.1058718, 3.1058718, 3.1058718, 3.1058718, 3.1058718, 3.1058718,\n",
      "       3.1058718]), 'Metrics_tracking_HOTA_OWTA': array([0.91236081, 0.91236081, 0.91236081, 0.91236081, 0.91236081,\n",
      "       0.91236081, 0.91236081, 0.91236081, 0.91236081, 0.91236081,\n",
      "       0.91236081, 0.91236081, 0.91236081, 0.91236081, 0.91236081,\n",
      "       0.91236081, 0.91236081, 0.91236081, 0.91236081]), 'Metrics_tracking_HOTA_HOTA_TP': array([1273., 1273., 1273., 1273., 1273., 1273., 1273., 1273., 1273.,\n",
      "       1273., 1273., 1273., 1273., 1273., 1273., 1273., 1273., 1273.,\n",
      "       1273.]), 'Metrics_tracking_HOTA_HOTA_FN': array([200., 200., 200., 200., 200., 200., 200., 200., 200., 200., 200.,\n",
      "       200., 200., 200., 200., 200., 200., 200., 200.]), 'Metrics_tracking_HOTA_HOTA_FP': array([290., 290., 290., 290., 290., 290., 290., 290., 290., 290., 290.,\n",
      "       290., 290., 290., 290., 290., 290., 290., 290.]), 'Metrics_tracking_HOTA_HOTA(0)': 0.8339535043620715, 'Metrics_tracking_HOTA_LocA(0)': 3.1058717975339185, 'Metrics_tracking_HOTA_HOTALocA(0)': 2.5901526696527375, 'Metrics_tracking_CLEAR_MOTA': 0.6673455532926001, 'Metrics_tracking_CLEAR_MOTP': 3.1058717975339185, 'Metrics_tracking_CLEAR_MODA': 0.6673455532926001, 'Metrics_tracking_CLEAR_CLR_Re': 0.8642226748133062, 'Metrics_tracking_CLEAR_CLR_Pr': 0.8144593730006398, 'Metrics_tracking_CLEAR_MTR': 0.7241379310344828, 'Metrics_tracking_CLEAR_PTR': 0.034482758620689655, 'Metrics_tracking_CLEAR_MLR': 0.2413793103448276, 'Metrics_tracking_CLEAR_sMOTA': 2.4872877109712683, 'Metrics_tracking_CLEAR_CLR_F1': 0.8386034255599473, 'Metrics_tracking_CLEAR_FP_per_frame': 2.9, 'Metrics_tracking_CLEAR_MOTAL': 0.6673455532926001, 'Metrics_tracking_CLEAR_MOTP_sum': 3953.7747982606784, 'Metrics_tracking_CLEAR_CLR_TP': 1273, 'Metrics_tracking_CLEAR_CLR_FN': 200, 'Metrics_tracking_CLEAR_CLR_FP': 290, 'Metrics_tracking_CLEAR_IDSW': 0, 'Metrics_tracking_CLEAR_MT': 21, 'Metrics_tracking_CLEAR_PT': 1, 'Metrics_tracking_CLEAR_ML': 7, 'Metrics_tracking_CLEAR_Frag': 53.0, 'Metrics_tracking_CLEAR_CLR_Frames': 100, 'Metrics_tracking_VACE_STDA': 21.273529702460344, 'Metrics_tracking_VACE_VACE_IDs': 27, 'Metrics_tracking_VACE_VACE_GT_IDs': 29, 'Metrics_tracking_VACE_FDA': 259.787483401774, 'Metrics_tracking_VACE_num_non_empty_timesteps': 100, 'Metrics_tracking_VACE_ATA': 0.7597689179450123, 'Metrics_tracking_VACE_SFDA': 2.59787483401774, 'Metrics_tracking_IDEucl_IDEucl': array(0.83885043), 'Metrics_tracking_Count_Dets': 10000, 'Metrics_tracking_Count_GT_Dets': 10000, 'Metrics_tracking_Count_IDs': 27, 'Metrics_tracking_Count_GT_IDs': 29, 'Metrics_tracking_Count_Frames': 100, 'Metrics_prediction_agg_ADE': 3.9699805963314945, 'Metrics_prediction_agg_FDE': 9.649341225480613, 'Metrics_prediction_std_ADE': 1.0433632819649583, 'Metrics_prediction_std_FDE': 3.2408693889971625, 'Metrics_prediction_n_with_truth': 2617, 'Metrics_prediction_n_objects': 2617, 'Metrics_collaborative_n_collab_detections_median': 122.0, 'Metrics_collaborative_n_collab_sensors_in_view_median': 13.0, 'Metrics_collaborative_n_collab_sensors_total_median': 39.0}\n",
      "load checkpoint from local path: /home/spencer/Documents/Projects/AVstack/avstack-studies/submodules/lib-avstack-core/third_party/mmdetection3d/work_dirs/carla/hv_pointpillars_fpn_sbn-all_fp16_2x8_2x_carla-3d.pth\n",
      "      Running dataset: CARLA, case 2\n"
     ]
    },
    {
     "name": "stderr",
     "output_type": "stream",
     "text": [
      "100%|█████████████████████| 100/100 [00:32<00:00,  3.12it/s]\n",
      "100%|█████████████████████| 100/100 [00:05<00:00, 18.78it/s]\n",
      "100%|█████████████████████| 100/100 [00:11<00:00,  8.86it/s]\n"
     ]
    },
    {
     "name": "stdout",
     "output_type": "stream",
     "text": [
      "\n",
      "CLEAR Config:\n",
      "THRESHOLD            : 0.5                           \n",
      "PRINT_CONFIG         : True                          \n",
      "\n",
      "IDEucl Config:\n",
      "THRESHOLD            : 0.4                           \n",
      "PRINT_CONFIG         : True                          \n",
      "\n",
      "Evaluating 1 tracker(s) on 1 sequence(s) for 1 class(es) on AvstackTrackDataset dataset using the following metrics: HOTA, CLEAR, VACE, IDEucl, Count\n",
      "\n",
      "\n",
      "Evaluating no-name\n",
      "\n",
      "2 eval_sequence(run_2022_10_31_13:34:52, no-name)                        4.6517 sec\n",
      "\n",
      "CLEAR Config:\n",
      "THRESHOLD            : 0.5                           \n",
      "PRINT_CONFIG         : True                          \n",
      "\n",
      "IDEucl Config:\n",
      "THRESHOLD            : 0.4                           \n",
      "PRINT_CONFIG         : True                          \n",
      "\n",
      "Evaluating 1 tracker(s) on 1 sequence(s) for 1 class(es) on AvstackTrackDataset dataset using the following metrics: HOTA, CLEAR, VACE, IDEucl, Count\n",
      "\n",
      "\n",
      "Evaluating box-tracker\n",
      "\n",
      "3 eval_sequence(run_2022_10_31_13:34:52, box-tracker)                    4.5569 sec\n",
      "\n",
      "All sequences for box-tracker finished in 4.56 seconds\n"
     ]
    },
    {
     "name": "stderr",
     "output_type": "stream",
     "text": [
      "100%|█████████████████████| 100/100 [01:07<00:00,  1.48it/s]\n",
      "/home/spencer/Documents/Projects/AVstack/avstack-studies/submodules/lib-avstack-core/third_party/mmdetection3d/mmdet3d/models/dense_heads/anchor3d_head.py:84: UserWarning: dir_offset and dir_limit_offset will be depressed and be incorporated into box coder in the future\n",
      "  warnings.warn(\n"
     ]
    },
    {
     "name": "stdout",
     "output_type": "stream",
     "text": [
      "{'Case': 2, 'Dataset': 'CARLA', 'Trial': 0, 'Metrics_perception_object_3d_tot_TP': 807, 'Metrics_perception_object_3d_tot_FP': 0, 'Metrics_perception_object_3d_tot_FN': 317, 'Metrics_perception_object_3d_tot_T': 1124, 'Metrics_perception_object_3d_mean_precision': 1.0, 'Metrics_perception_object_3d_mean_recall': 0.7363702963702963, 'Metrics_tracking_HOTA_HOTA': array([0.78826057, 0.78826057, 0.78826057, 0.78826057, 0.78826057,\n",
      "       0.78826057, 0.78826057, 0.78826057, 0.78826057, 0.78826057,\n",
      "       0.78826057, 0.78826057, 0.787956  , 0.7877103 , 0.7877103 ,\n",
      "       0.7877103 , 0.7877103 , 0.7877103 , 0.7877103 ]), 'Metrics_tracking_HOTA_DetA': array([0.70280682, 0.70280682, 0.70280682, 0.70280682, 0.70280682,\n",
      "       0.70280682, 0.70280682, 0.70280682, 0.70280682, 0.70280682,\n",
      "       0.70280682, 0.70280682, 0.70187019, 0.70093458, 0.70093458,\n",
      "       0.70093458, 0.70093458, 0.70093458, 0.70093458]), 'Metrics_tracking_HOTA_AssA': array([0.88410457, 0.88410457, 0.88410457, 0.88410457, 0.88410457,\n",
      "       0.88410457, 0.88410457, 0.88410457, 0.88410457, 0.88410457,\n",
      "       0.88410457, 0.88410457, 0.88460041, 0.88522886, 0.88522886,\n",
      "       0.88522886, 0.88522886, 0.88522886, 0.88522886]), 'Metrics_tracking_HOTA_DetRe': array([0.86693822, 0.86693822, 0.86693822, 0.86693822, 0.86693822,\n",
      "       0.86693822, 0.86693822, 0.86693822, 0.86693822, 0.86693822,\n",
      "       0.86693822, 0.86693822, 0.86625933, 0.86558045, 0.86558045,\n",
      "       0.86558045, 0.86558045, 0.86558045, 0.86558045]), 'Metrics_tracking_HOTA_DetPr': array([0.78778532, 0.78778532, 0.78778532, 0.78778532, 0.78778532,\n",
      "       0.78778532, 0.78778532, 0.78778532, 0.78778532, 0.78778532,\n",
      "       0.78778532, 0.78778532, 0.78716841, 0.78655151, 0.78655151,\n",
      "       0.78655151, 0.78655151, 0.78655151, 0.78655151]), 'Metrics_tracking_HOTA_AssRe': array([0.88720641, 0.88720641, 0.88720641, 0.88720641, 0.88720641,\n",
      "       0.88720641, 0.88720641, 0.88720641, 0.88720641, 0.88720641,\n",
      "       0.88720641, 0.88720641, 0.88771469, 0.88828022, 0.88828022,\n",
      "       0.88828022, 0.88828022, 0.88828022, 0.88828022]), 'Metrics_tracking_HOTA_AssPr': array([0.98780904, 0.98780904, 0.98780904, 0.98780904, 0.98780904,\n",
      "       0.98780904, 0.98780904, 0.98780904, 0.98780904, 0.98780904,\n",
      "       0.98780904, 0.98780904, 0.98708703, 0.98774917, 0.98774917,\n",
      "       0.98774917, 0.98774917, 0.98774917, 0.98774917]), 'Metrics_tracking_HOTA_LocA': array([3.00884957, 3.00884957, 3.00884957, 3.00884957, 3.00884957,\n",
      "       3.00884957, 3.00884957, 3.00884957, 3.00884957, 3.00884957,\n",
      "       3.00884957, 3.00884957, 3.01070672, 3.01253138, 3.01253138,\n",
      "       3.01253138, 3.01253138, 3.01253138, 3.01253138]), 'Metrics_tracking_HOTA_OWTA': array([0.87547932, 0.87547932, 0.87547932, 0.87547932, 0.87547932,\n",
      "       0.87547932, 0.87547932, 0.87547932, 0.87547932, 0.87547932,\n",
      "       0.87547932, 0.87547932, 0.87538184, 0.87534953, 0.87534953,\n",
      "       0.87534953, 0.87534953, 0.87534953, 0.87534953]), 'Metrics_tracking_HOTA_HOTA_TP': array([1277., 1277., 1277., 1277., 1277., 1277., 1277., 1277., 1277.,\n",
      "       1277., 1277., 1277., 1276., 1275., 1275., 1275., 1275., 1275.,\n",
      "       1275.]), 'Metrics_tracking_HOTA_HOTA_FN': array([196., 196., 196., 196., 196., 196., 196., 196., 196., 196., 196.,\n",
      "       196., 197., 198., 198., 198., 198., 198., 198.]), 'Metrics_tracking_HOTA_HOTA_FP': array([344., 344., 344., 344., 344., 344., 344., 344., 344., 344., 344.,\n",
      "       344., 345., 346., 346., 346., 346., 346., 346.]), 'Metrics_tracking_HOTA_HOTA(0)': 0.7882605683797365, 'Metrics_tracking_HOTA_LocA(0)': 3.00884956835385, 'Metrics_tracking_HOTA_HOTALocA(0)': 2.3717574709197304, 'Metrics_tracking_CLEAR_MOTA': 0.6279701289884589, 'Metrics_tracking_CLEAR_MOTP': 3.0078442471194706, 'Metrics_tracking_CLEAR_MODA': 0.6334012219959266, 'Metrics_tracking_CLEAR_CLR_Re': 0.86693822131704, 'Metrics_tracking_CLEAR_CLR_Pr': 0.7877853177051203, 'Metrics_tracking_CLEAR_MTR': 0.6551724137931034, 'Metrics_tracking_CLEAR_PTR': 0.1724137931034483, 'Metrics_tracking_CLEAR_MLR': 0.1724137931034483, 'Metrics_tracking_CLEAR_sMOTA': 2.368647049267864, 'Metrics_tracking_CLEAR_CLR_F1': 0.8254686489980607, 'Metrics_tracking_CLEAR_FP_per_frame': 3.44, 'Metrics_tracking_CLEAR_MOTAL': 0.6327881262817434, 'Metrics_tracking_CLEAR_MOTP_sum': 3841.017103571564, 'Metrics_tracking_CLEAR_CLR_TP': 1277, 'Metrics_tracking_CLEAR_CLR_FN': 196, 'Metrics_tracking_CLEAR_CLR_FP': 344, 'Metrics_tracking_CLEAR_IDSW': 8, 'Metrics_tracking_CLEAR_MT': 19, 'Metrics_tracking_CLEAR_PT': 5, 'Metrics_tracking_CLEAR_ML': 5, 'Metrics_tracking_CLEAR_Frag': 64.0, 'Metrics_tracking_CLEAR_CLR_Frames': 100, 'Metrics_tracking_VACE_STDA': 18.372441413138244, 'Metrics_tracking_VACE_VACE_IDs': 45, 'Metrics_tracking_VACE_VACE_GT_IDs': 29, 'Metrics_tracking_VACE_FDA': 248.34654358833285, 'Metrics_tracking_VACE_num_non_empty_timesteps': 100, 'Metrics_tracking_VACE_ATA': 0.49655247062535796, 'Metrics_tracking_VACE_SFDA': 2.4834654358833284, 'Metrics_tracking_IDEucl_IDEucl': array(0.73151882), 'Metrics_tracking_Count_Dets': 10000, 'Metrics_tracking_Count_GT_Dets': 10000, 'Metrics_tracking_Count_IDs': 45, 'Metrics_tracking_Count_GT_IDs': 29, 'Metrics_tracking_Count_Frames': 100, 'Metrics_prediction_agg_ADE': 3.5636805576966792, 'Metrics_prediction_agg_FDE': 7.65199073919199, 'Metrics_prediction_std_ADE': 1.3627356139790117, 'Metrics_prediction_std_FDE': 3.443015694124893, 'Metrics_prediction_n_with_truth': 2587, 'Metrics_prediction_n_objects': 2587, 'Metrics_collaborative_n_collab_detections_median': 122.0, 'Metrics_collaborative_n_collab_sensors_in_view_median': 13.0, 'Metrics_collaborative_n_collab_sensors_total_median': 39.0}\n",
      "load checkpoint from local path: /home/spencer/Documents/Projects/AVstack/avstack-studies/submodules/lib-avstack-core/third_party/mmdetection3d/work_dirs/carla/hv_pointpillars_fpn_sbn-all_fp16_2x8_2x_carla-3d.pth\n",
      "      Running dataset: CARLA, case 3\n"
     ]
    },
    {
     "name": "stderr",
     "output_type": "stream",
     "text": [
      "100%|█████████████████████| 100/100 [00:34<00:00,  2.93it/s]\n",
      "100%|█████████████████████| 100/100 [00:05<00:00, 18.82it/s]\n",
      "100%|█████████████████████| 100/100 [00:06<00:00, 14.61it/s]\n"
     ]
    },
    {
     "name": "stdout",
     "output_type": "stream",
     "text": [
      "\n",
      "CLEAR Config:\n",
      "THRESHOLD            : 0.5                           \n",
      "PRINT_CONFIG         : True                          \n",
      "\n",
      "IDEucl Config:\n",
      "THRESHOLD            : 0.4                           \n",
      "PRINT_CONFIG         : True                          \n",
      "\n",
      "Evaluating 1 tracker(s) on 1 sequence(s) for 1 class(es) on AvstackTrackDataset dataset using the following metrics: HOTA, CLEAR, VACE, IDEucl, Count\n",
      "\n",
      "\n",
      "Evaluating no-name\n",
      "\n",
      "4 eval_sequence(run_2022_10_31_13:34:52, no-name)                        3.2906 sec\n",
      "\n",
      "CLEAR Config:\n",
      "THRESHOLD            : 0.5                           \n",
      "PRINT_CONFIG         : True                          \n",
      "\n",
      "IDEucl Config:\n",
      "THRESHOLD            : 0.4                           \n",
      "PRINT_CONFIG         : True                          \n",
      "\n",
      "Evaluating 1 tracker(s) on 1 sequence(s) for 1 class(es) on AvstackTrackDataset dataset using the following metrics: HOTA, CLEAR, VACE, IDEucl, Count\n",
      "\n",
      "\n",
      "Evaluating box-tracker\n",
      "\n",
      "5 eval_sequence(run_2022_10_31_13:34:52, box-tracker)                    3.4662 sec\n",
      "\n",
      "All sequences for box-tracker finished in 3.47 seconds\n"
     ]
    },
    {
     "name": "stderr",
     "output_type": "stream",
     "text": [
      "100%|█████████████████████| 100/100 [00:41<00:00,  2.43it/s]\n",
      "/home/spencer/Documents/Projects/AVstack/avstack-studies/submodules/lib-avstack-core/third_party/mmdetection3d/mmdet3d/models/dense_heads/anchor3d_head.py:84: UserWarning: dir_offset and dir_limit_offset will be depressed and be incorporated into box coder in the future\n",
      "  warnings.warn(\n"
     ]
    },
    {
     "name": "stdout",
     "output_type": "stream",
     "text": [
      "{'Case': 3, 'Dataset': 'CARLA', 'Trial': 0, 'Metrics_perception_object_3d_tot_TP': 807, 'Metrics_perception_object_3d_tot_FP': 0, 'Metrics_perception_object_3d_tot_FN': 317, 'Metrics_perception_object_3d_tot_T': 1124, 'Metrics_perception_object_3d_mean_precision': 1.0, 'Metrics_perception_object_3d_mean_recall': 0.7363702963702963, 'Metrics_tracking_HOTA_HOTA': array([0.56653595, 0.56653595, 0.56653595, 0.56653595, 0.56653595,\n",
      "       0.56653595, 0.56653595, 0.56653595, 0.56653595, 0.56653595,\n",
      "       0.56653595, 0.56653595, 0.56653595, 0.56653595, 0.56653595,\n",
      "       0.56653595, 0.56653595, 0.56653595, 0.56653595]), 'Metrics_tracking_HOTA_DetA': array([0.38232271, 0.38232271, 0.38232271, 0.38232271, 0.38232271,\n",
      "       0.38232271, 0.38232271, 0.38232271, 0.38232271, 0.38232271,\n",
      "       0.38232271, 0.38232271, 0.38232271, 0.38232271, 0.38232271,\n",
      "       0.38232271, 0.38232271, 0.38232271, 0.38232271]), 'Metrics_tracking_HOTA_AssA': array([0.839508, 0.839508, 0.839508, 0.839508, 0.839508, 0.839508,\n",
      "       0.839508, 0.839508, 0.839508, 0.839508, 0.839508, 0.839508,\n",
      "       0.839508, 0.839508, 0.839508, 0.839508, 0.839508, 0.839508,\n",
      "       0.839508]), 'Metrics_tracking_HOTA_DetRe': array([0.50509165, 0.50509165, 0.50509165, 0.50509165, 0.50509165,\n",
      "       0.50509165, 0.50509165, 0.50509165, 0.50509165, 0.50509165,\n",
      "       0.50509165, 0.50509165, 0.50509165, 0.50509165, 0.50509165,\n",
      "       0.50509165, 0.50509165, 0.50509165, 0.50509165]), 'Metrics_tracking_HOTA_DetPr': array([0.61133936, 0.61133936, 0.61133936, 0.61133936, 0.61133936,\n",
      "       0.61133936, 0.61133936, 0.61133936, 0.61133936, 0.61133936,\n",
      "       0.61133936, 0.61133936, 0.61133936, 0.61133936, 0.61133936,\n",
      "       0.61133936, 0.61133936, 0.61133936, 0.61133936]), 'Metrics_tracking_HOTA_AssRe': array([0.83950842, 0.83950842, 0.83950842, 0.83950842, 0.83950842,\n",
      "       0.83950842, 0.83950842, 0.83950842, 0.83950842, 0.83950842,\n",
      "       0.83950842, 0.83950842, 0.83950842, 0.83950842, 0.83950842,\n",
      "       0.83950842, 0.83950842, 0.83950842, 0.83950842]), 'Metrics_tracking_HOTA_AssPr': array([0.99910394, 0.99910394, 0.99910394, 0.99910394, 0.99910394,\n",
      "       0.99910394, 0.99910394, 0.99910394, 0.99910394, 0.99910394,\n",
      "       0.99910394, 0.99910394, 0.99910394, 0.99910394, 0.99910394,\n",
      "       0.99910394, 0.99910394, 0.99910394, 0.99910394]), 'Metrics_tracking_HOTA_LocA': array([3.05181374, 3.05181374, 3.05181374, 3.05181374, 3.05181374,\n",
      "       3.05181374, 3.05181374, 3.05181374, 3.05181374, 3.05181374,\n",
      "       3.05181374, 3.05181374, 3.05181374, 3.05181374, 3.05181374,\n",
      "       3.05181374, 3.05181374, 3.05181374, 3.05181374]), 'Metrics_tracking_HOTA_OWTA': array([0.65117469, 0.65117469, 0.65117469, 0.65117469, 0.65117469,\n",
      "       0.65117469, 0.65117469, 0.65117469, 0.65117469, 0.65117469,\n",
      "       0.65117469, 0.65117469, 0.65117469, 0.65117469, 0.65117469,\n",
      "       0.65117469, 0.65117469, 0.65117469, 0.65117469]), 'Metrics_tracking_HOTA_HOTA_TP': array([744., 744., 744., 744., 744., 744., 744., 744., 744., 744., 744.,\n",
      "       744., 744., 744., 744., 744., 744., 744., 744.]), 'Metrics_tracking_HOTA_HOTA_FN': array([729., 729., 729., 729., 729., 729., 729., 729., 729., 729., 729.,\n",
      "       729., 729., 729., 729., 729., 729., 729., 729.]), 'Metrics_tracking_HOTA_HOTA_FP': array([473., 473., 473., 473., 473., 473., 473., 473., 473., 473., 473.,\n",
      "       473., 473., 473., 473., 473., 473., 473., 473.]), 'Metrics_tracking_HOTA_HOTA(0)': 0.5665359450566856, 'Metrics_tracking_HOTA_LocA(0)': 3.0518137422435085, 'Metrics_tracking_HOTA_HOTALocA(0)': 1.7289621825989063, 'Metrics_tracking_CLEAR_MOTA': 0.18329938900203666, 'Metrics_tracking_CLEAR_MOTP': 3.0518137422435085, 'Metrics_tracking_CLEAR_MODA': 0.18397827562797012, 'Metrics_tracking_CLEAR_CLR_Re': 0.505091649694501, 'Metrics_tracking_CLEAR_CLR_Pr': 0.6113393590797042, 'Metrics_tracking_CLEAR_MTR': 0.1724137931034483, 'Metrics_tracking_CLEAR_PTR': 0.20689655172413793, 'Metrics_tracking_CLEAR_MLR': 0.6206896551724138, 'Metrics_tracking_CLEAR_sMOTA': 1.219653376937658, 'Metrics_tracking_CLEAR_CLR_F1': 0.5531598513011152, 'Metrics_tracking_CLEAR_FP_per_frame': 4.73, 'Metrics_tracking_CLEAR_MOTAL': 0.18397827562797012, 'Metrics_tracking_CLEAR_MOTP_sum': 2270.54942422917, 'Metrics_tracking_CLEAR_CLR_TP': 744, 'Metrics_tracking_CLEAR_CLR_FN': 729, 'Metrics_tracking_CLEAR_CLR_FP': 473, 'Metrics_tracking_CLEAR_IDSW': 1, 'Metrics_tracking_CLEAR_MT': 5, 'Metrics_tracking_CLEAR_PT': 6, 'Metrics_tracking_CLEAR_ML': 18, 'Metrics_tracking_CLEAR_Frag': 3.0, 'Metrics_tracking_CLEAR_CLR_Frames': 100, 'Metrics_tracking_VACE_STDA': 7.990600338806002, 'Metrics_tracking_VACE_VACE_IDs': 136, 'Metrics_tracking_VACE_VACE_GT_IDs': 29, 'Metrics_tracking_VACE_FDA': 169.17942296989185, 'Metrics_tracking_VACE_num_non_empty_timesteps': 100, 'Metrics_tracking_VACE_ATA': 0.09685576168249699, 'Metrics_tracking_VACE_SFDA': 1.6917942296989184, 'Metrics_tracking_IDEucl_IDEucl': array(0.31909482), 'Metrics_tracking_Count_Dets': 10000, 'Metrics_tracking_Count_GT_Dets': 10000, 'Metrics_tracking_Count_IDs': 136, 'Metrics_tracking_Count_GT_IDs': 29, 'Metrics_tracking_Count_Frames': 100, 'Metrics_prediction_agg_ADE': 2.0958200287993827, 'Metrics_prediction_agg_FDE': 3.3971652414440805, 'Metrics_prediction_std_ADE': 1.4578805920600177, 'Metrics_prediction_std_FDE': 2.8360765473010976, 'Metrics_prediction_n_with_truth': 1333, 'Metrics_prediction_n_objects': 1333, 'Metrics_collaborative_n_collab_detections_median': 55.0, 'Metrics_collaborative_n_collab_sensors_in_view_median': 5.0, 'Metrics_collaborative_n_collab_sensors_total_median': 39.0}\n",
      "load checkpoint from local path: /home/spencer/Documents/Projects/AVstack/avstack-studies/submodules/lib-avstack-core/third_party/mmdetection3d/work_dirs/carla/hv_pointpillars_fpn_sbn-all_fp16_2x8_2x_carla-3d.pth\n",
      "      Running dataset: CARLA, case 4\n"
     ]
    },
    {
     "name": "stderr",
     "output_type": "stream",
     "text": [
      "100%|█████████████████████| 100/100 [00:15<00:00,  6.66it/s]\n",
      "100%|█████████████████████| 100/100 [00:05<00:00, 18.83it/s]\n",
      "100%|█████████████████████| 100/100 [00:07<00:00, 13.41it/s]\n"
     ]
    },
    {
     "name": "stdout",
     "output_type": "stream",
     "text": [
      "\n",
      "CLEAR Config:\n",
      "THRESHOLD            : 0.5                           \n",
      "PRINT_CONFIG         : True                          \n",
      "\n",
      "IDEucl Config:\n",
      "THRESHOLD            : 0.4                           \n",
      "PRINT_CONFIG         : True                          \n",
      "\n",
      "Evaluating 1 tracker(s) on 1 sequence(s) for 1 class(es) on AvstackTrackDataset dataset using the following metrics: HOTA, CLEAR, VACE, IDEucl, Count\n",
      "\n",
      "\n",
      "Evaluating no-name\n",
      "\n",
      "6 eval_sequence(run_2022_10_31_13:34:52, no-name)                        3.6354 sec\n",
      "\n",
      "CLEAR Config:\n",
      "THRESHOLD            : 0.5                           \n",
      "PRINT_CONFIG         : True                          \n",
      "\n",
      "IDEucl Config:\n",
      "THRESHOLD            : 0.4                           \n",
      "PRINT_CONFIG         : True                          \n",
      "\n",
      "Evaluating 1 tracker(s) on 1 sequence(s) for 1 class(es) on AvstackTrackDataset dataset using the following metrics: HOTA, CLEAR, VACE, IDEucl, Count\n",
      "\n",
      "\n",
      "Evaluating box-tracker\n",
      "\n",
      "7 eval_sequence(run_2022_10_31_13:34:52, box-tracker)                    3.4544 sec\n",
      "\n",
      "All sequences for box-tracker finished in 3.45 seconds\n"
     ]
    },
    {
     "name": "stderr",
     "output_type": "stream",
     "text": [
      "100%|█████████████████████| 100/100 [00:40<00:00,  2.49it/s]\n",
      "/home/spencer/Documents/Projects/AVstack/avstack-studies/submodules/lib-avstack-core/third_party/mmdetection3d/mmdet3d/models/dense_heads/anchor3d_head.py:84: UserWarning: dir_offset and dir_limit_offset will be depressed and be incorporated into box coder in the future\n",
      "  warnings.warn(\n"
     ]
    },
    {
     "name": "stdout",
     "output_type": "stream",
     "text": [
      "{'Case': 4, 'Dataset': 'CARLA', 'Trial': 0, 'Metrics_perception_object_3d_tot_TP': 807, 'Metrics_perception_object_3d_tot_FP': 0, 'Metrics_perception_object_3d_tot_FN': 317, 'Metrics_perception_object_3d_tot_T': 1124, 'Metrics_perception_object_3d_mean_precision': 1.0, 'Metrics_perception_object_3d_mean_recall': 0.7363702963702963, 'Metrics_tracking_HOTA_HOTA': array([0.70139198, 0.70139198, 0.70139198, 0.70139198, 0.70139198,\n",
      "       0.70139198, 0.70139198, 0.70139198, 0.70139198, 0.70139198,\n",
      "       0.70139198, 0.70139198, 0.70139198, 0.70139198, 0.70139198,\n",
      "       0.70139198, 0.70139198, 0.70139198, 0.70139198]), 'Metrics_tracking_HOTA_DetA': array([0.58319137, 0.58319137, 0.58319137, 0.58319137, 0.58319137,\n",
      "       0.58319137, 0.58319137, 0.58319137, 0.58319137, 0.58319137,\n",
      "       0.58319137, 0.58319137, 0.58319137, 0.58319137, 0.58319137,\n",
      "       0.58319137, 0.58319137, 0.58319137, 0.58319137]), 'Metrics_tracking_HOTA_AssA': array([0.84354936, 0.84354936, 0.84354936, 0.84354936, 0.84354936,\n",
      "       0.84354936, 0.84354936, 0.84354936, 0.84354936, 0.84354936,\n",
      "       0.84354936, 0.84354936, 0.84354936, 0.84354936, 0.84354936,\n",
      "       0.84354936, 0.84354936, 0.84354936, 0.84354936]), 'Metrics_tracking_HOTA_DetRe': array([0.69721656, 0.69721656, 0.69721656, 0.69721656, 0.69721656,\n",
      "       0.69721656, 0.69721656, 0.69721656, 0.69721656, 0.69721656,\n",
      "       0.69721656, 0.69721656, 0.69721656, 0.69721656, 0.69721656,\n",
      "       0.69721656, 0.69721656, 0.69721656, 0.69721656]), 'Metrics_tracking_HOTA_DetPr': array([0.78098859, 0.78098859, 0.78098859, 0.78098859, 0.78098859,\n",
      "       0.78098859, 0.78098859, 0.78098859, 0.78098859, 0.78098859,\n",
      "       0.78098859, 0.78098859, 0.78098859, 0.78098859, 0.78098859,\n",
      "       0.78098859, 0.78098859, 0.78098859, 0.78098859]), 'Metrics_tracking_HOTA_AssRe': array([0.84387843, 0.84387843, 0.84387843, 0.84387843, 0.84387843,\n",
      "       0.84387843, 0.84387843, 0.84387843, 0.84387843, 0.84387843,\n",
      "       0.84387843, 0.84387843, 0.84387843, 0.84387843, 0.84387843,\n",
      "       0.84387843, 0.84387843, 0.84387843, 0.84387843]), 'Metrics_tracking_HOTA_AssPr': array([0.99740344, 0.99740344, 0.99740344, 0.99740344, 0.99740344,\n",
      "       0.99740344, 0.99740344, 0.99740344, 0.99740344, 0.99740344,\n",
      "       0.99740344, 0.99740344, 0.99740344, 0.99740344, 0.99740344,\n",
      "       0.99740344, 0.99740344, 0.99740344, 0.99740344]), 'Metrics_tracking_HOTA_LocA': array([3.03973913, 3.03973913, 3.03973913, 3.03973913, 3.03973913,\n",
      "       3.03973913, 3.03973913, 3.03973913, 3.03973913, 3.03973913,\n",
      "       3.03973913, 3.03973913, 3.03973913, 3.03973913, 3.03973913,\n",
      "       3.03973913, 3.03973913, 3.03973913, 3.03973913]), 'Metrics_tracking_HOTA_OWTA': array([0.76690064, 0.76690064, 0.76690064, 0.76690064, 0.76690064,\n",
      "       0.76690064, 0.76690064, 0.76690064, 0.76690064, 0.76690064,\n",
      "       0.76690064, 0.76690064, 0.76690064, 0.76690064, 0.76690064,\n",
      "       0.76690064, 0.76690064, 0.76690064, 0.76690064]), 'Metrics_tracking_HOTA_HOTA_TP': array([1027., 1027., 1027., 1027., 1027., 1027., 1027., 1027., 1027.,\n",
      "       1027., 1027., 1027., 1027., 1027., 1027., 1027., 1027., 1027.,\n",
      "       1027.]), 'Metrics_tracking_HOTA_HOTA_FN': array([446., 446., 446., 446., 446., 446., 446., 446., 446., 446., 446.,\n",
      "       446., 446., 446., 446., 446., 446., 446., 446.]), 'Metrics_tracking_HOTA_HOTA_FP': array([288., 288., 288., 288., 288., 288., 288., 288., 288., 288., 288.,\n",
      "       288., 288., 288., 288., 288., 288., 288., 288.]), 'Metrics_tracking_HOTA_HOTA(0)': 0.701391976622957, 'Metrics_tracking_HOTA_LocA(0)': 3.0397391267876626, 'Metrics_tracking_HOTA_HOTALocA(0)': 2.13204863455574, 'Metrics_tracking_CLEAR_MOTA': 0.49626612355736593, 'Metrics_tracking_CLEAR_MOTP': 3.0409116926462043, 'Metrics_tracking_CLEAR_MODA': 0.5016972165648337, 'Metrics_tracking_CLEAR_CLR_Re': 0.6972165648336728, 'Metrics_tracking_CLEAR_CLR_Pr': 0.7809885931558935, 'Metrics_tracking_CLEAR_MTR': 0.27586206896551724, 'Metrics_tracking_CLEAR_PTR': 0.2413793103448276, 'Metrics_tracking_CLEAR_MLR': 0.4827586206896552, 'Metrics_tracking_CLEAR_sMOTA': 1.919223563033029, 'Metrics_tracking_CLEAR_CLR_F1': 0.736728837876614, 'Metrics_tracking_CLEAR_FP_per_frame': 2.88, 'Metrics_tracking_CLEAR_MOTAL': 0.5010841208506503, 'Metrics_tracking_CLEAR_MOTP_sum': 3123.016308347652, 'Metrics_tracking_CLEAR_CLR_TP': 1027, 'Metrics_tracking_CLEAR_CLR_FN': 446, 'Metrics_tracking_CLEAR_CLR_FP': 288, 'Metrics_tracking_CLEAR_IDSW': 8, 'Metrics_tracking_CLEAR_MT': 8, 'Metrics_tracking_CLEAR_PT': 7, 'Metrics_tracking_CLEAR_ML': 14, 'Metrics_tracking_CLEAR_Frag': 35.0, 'Metrics_tracking_CLEAR_CLR_Frames': 100, 'Metrics_tracking_VACE_STDA': 12.186713375543023, 'Metrics_tracking_VACE_VACE_IDs': 28, 'Metrics_tracking_VACE_VACE_GT_IDs': 29, 'Metrics_tracking_VACE_FDA': 223.4091017386469, 'Metrics_tracking_VACE_num_non_empty_timesteps': 100, 'Metrics_tracking_VACE_ATA': 0.4276039780892289, 'Metrics_tracking_VACE_SFDA': 2.234091017386469, 'Metrics_tracking_IDEucl_IDEucl': array(0.53502871), 'Metrics_tracking_Count_Dets': 10000, 'Metrics_tracking_Count_GT_Dets': 10000, 'Metrics_tracking_Count_IDs': 28, 'Metrics_tracking_Count_GT_IDs': 29, 'Metrics_tracking_Count_Frames': 100, 'Metrics_prediction_agg_ADE': 2.715484261663008, 'Metrics_prediction_agg_FDE': 5.3613635001503805, 'Metrics_prediction_std_ADE': 1.356011319198045, 'Metrics_prediction_std_FDE': 2.578347183803714, 'Metrics_prediction_n_with_truth': 1512, 'Metrics_prediction_n_objects': 1512, 'Metrics_collaborative_n_collab_detections_median': 20.0, 'Metrics_collaborative_n_collab_sensors_in_view_median': 2.0, 'Metrics_collaborative_n_collab_sensors_total_median': 39.0}\n",
      "load checkpoint from local path: /home/spencer/Documents/Projects/AVstack/avstack-studies/submodules/lib-avstack-core/third_party/mmdetection3d/work_dirs/carla/hv_pointpillars_fpn_sbn-all_fp16_2x8_2x_carla-3d.pth\n",
      "      Running dataset: CARLA, case 5\n"
     ]
    },
    {
     "name": "stderr",
     "output_type": "stream",
     "text": [
      "100%|█████████████████████| 100/100 [00:11<00:00,  8.37it/s]\n",
      "100%|█████████████████████| 100/100 [00:05<00:00, 18.81it/s]\n",
      "100%|█████████████████████| 100/100 [00:05<00:00, 19.67it/s]\n"
     ]
    },
    {
     "name": "stdout",
     "output_type": "stream",
     "text": [
      "\n",
      "CLEAR Config:\n",
      "THRESHOLD            : 0.5                           \n",
      "PRINT_CONFIG         : True                          \n",
      "\n",
      "IDEucl Config:\n",
      "THRESHOLD            : 0.4                           \n",
      "PRINT_CONFIG         : True                          \n",
      "\n",
      "Evaluating 1 tracker(s) on 1 sequence(s) for 1 class(es) on AvstackTrackDataset dataset using the following metrics: HOTA, CLEAR, VACE, IDEucl, Count\n",
      "\n",
      "\n",
      "Evaluating no-name\n",
      "\n",
      "8 eval_sequence(run_2022_10_31_13:34:52, no-name)                        2.7509 sec\n",
      "\n",
      "CLEAR Config:\n",
      "THRESHOLD            : 0.5                           \n",
      "PRINT_CONFIG         : True                          \n",
      "\n",
      "IDEucl Config:\n",
      "THRESHOLD            : 0.4                           \n",
      "PRINT_CONFIG         : True                          \n",
      "\n",
      "Evaluating 1 tracker(s) on 1 sequence(s) for 1 class(es) on AvstackTrackDataset dataset using the following metrics: HOTA, CLEAR, VACE, IDEucl, Count\n",
      "\n",
      "\n",
      "Evaluating box-tracker\n",
      "\n",
      "9 eval_sequence(run_2022_10_31_13:34:52, box-tracker)                    2.7498 sec\n",
      "\n",
      "All sequences for box-tracker finished in 2.75 seconds\n"
     ]
    },
    {
     "name": "stderr",
     "output_type": "stream",
     "text": [
      "100%|█████████████████████| 100/100 [01:25<00:00,  1.17it/s]"
     ]
    },
    {
     "name": "stdout",
     "output_type": "stream",
     "text": [
      "{'Case': 5, 'Dataset': 'CARLA', 'Trial': 0, 'Metrics_perception_object_3d_tot_TP': 807, 'Metrics_perception_object_3d_tot_FP': 0, 'Metrics_perception_object_3d_tot_FN': 317, 'Metrics_perception_object_3d_tot_T': 1124, 'Metrics_perception_object_3d_mean_precision': 1.0, 'Metrics_perception_object_3d_mean_recall': 0.7363702963702963, 'Metrics_tracking_HOTA_HOTA': array([0.64873863, 0.64873863, 0.64873863, 0.64873863, 0.64873863,\n",
      "       0.64873863, 0.64873863, 0.64873863, 0.64873863, 0.64873863,\n",
      "       0.64873863, 0.64873863, 0.64873863, 0.64873863, 0.64873863,\n",
      "       0.64873863, 0.64873863, 0.64873863, 0.64873863]), 'Metrics_tracking_HOTA_DetA': array([0.5023761, 0.5023761, 0.5023761, 0.5023761, 0.5023761, 0.5023761,\n",
      "       0.5023761, 0.5023761, 0.5023761, 0.5023761, 0.5023761, 0.5023761,\n",
      "       0.5023761, 0.5023761, 0.5023761, 0.5023761, 0.5023761, 0.5023761,\n",
      "       0.5023761]), 'Metrics_tracking_HOTA_AssA': array([0.83774251, 0.83774251, 0.83774251, 0.83774251, 0.83774251,\n",
      "       0.83774251, 0.83774251, 0.83774251, 0.83774251, 0.83774251,\n",
      "       0.83774251, 0.83774251, 0.83774251, 0.83774251, 0.83774251,\n",
      "       0.83774251, 0.83774251, 0.83774251, 0.83774251]), 'Metrics_tracking_HOTA_DetRe': array([0.5023761, 0.5023761, 0.5023761, 0.5023761, 0.5023761, 0.5023761,\n",
      "       0.5023761, 0.5023761, 0.5023761, 0.5023761, 0.5023761, 0.5023761,\n",
      "       0.5023761, 0.5023761, 0.5023761, 0.5023761, 0.5023761, 0.5023761,\n",
      "       0.5023761]), 'Metrics_tracking_HOTA_DetPr': array([1., 1., 1., 1., 1., 1., 1., 1., 1., 1., 1., 1., 1., 1., 1., 1., 1.,\n",
      "       1., 1.]), 'Metrics_tracking_HOTA_AssRe': array([0.83774251, 0.83774251, 0.83774251, 0.83774251, 0.83774251,\n",
      "       0.83774251, 0.83774251, 0.83774251, 0.83774251, 0.83774251,\n",
      "       0.83774251, 0.83774251, 0.83774251, 0.83774251, 0.83774251,\n",
      "       0.83774251, 0.83774251, 0.83774251, 0.83774251]), 'Metrics_tracking_HOTA_AssPr': array([1., 1., 1., 1., 1., 1., 1., 1., 1., 1., 1., 1., 1., 1., 1., 1., 1.,\n",
      "       1., 1.]), 'Metrics_tracking_HOTA_LocA': array([3.11236282, 3.11236282, 3.11236282, 3.11236282, 3.11236282,\n",
      "       3.11236282, 3.11236282, 3.11236282, 3.11236282, 3.11236282,\n",
      "       3.11236282, 3.11236282, 3.11236282, 3.11236282, 3.11236282,\n",
      "       3.11236282, 3.11236282, 3.11236282, 3.11236282]), 'Metrics_tracking_HOTA_OWTA': array([0.64873863, 0.64873863, 0.64873863, 0.64873863, 0.64873863,\n",
      "       0.64873863, 0.64873863, 0.64873863, 0.64873863, 0.64873863,\n",
      "       0.64873863, 0.64873863, 0.64873863, 0.64873863, 0.64873863,\n",
      "       0.64873863, 0.64873863, 0.64873863, 0.64873863]), 'Metrics_tracking_HOTA_HOTA_TP': array([740., 740., 740., 740., 740., 740., 740., 740., 740., 740., 740.,\n",
      "       740., 740., 740., 740., 740., 740., 740., 740.]), 'Metrics_tracking_HOTA_HOTA_FN': array([733., 733., 733., 733., 733., 733., 733., 733., 733., 733., 733.,\n",
      "       733., 733., 733., 733., 733., 733., 733., 733.]), 'Metrics_tracking_HOTA_HOTA_FP': array([0., 0., 0., 0., 0., 0., 0., 0., 0., 0., 0., 0., 0., 0., 0., 0., 0.,\n",
      "       0., 0.]), 'Metrics_tracking_HOTA_HOTA(0)': 0.6487386349888543, 'Metrics_tracking_HOTA_LocA(0)': 3.1123628195774264, 'Metrics_tracking_HOTA_HOTALocA(0)': 2.0191100071627215, 'Metrics_tracking_CLEAR_MOTA': 0.5023761031907671, 'Metrics_tracking_CLEAR_MOTP': 3.1123628195774264, 'Metrics_tracking_CLEAR_MODA': 0.5023761031907671, 'Metrics_tracking_CLEAR_CLR_Re': 0.5023761031907671, 'Metrics_tracking_CLEAR_CLR_Pr': 1.0, 'Metrics_tracking_CLEAR_MTR': 0.1724137931034483, 'Metrics_tracking_CLEAR_PTR': 0.20689655172413793, 'Metrics_tracking_CLEAR_MLR': 0.6206896551724138, 'Metrics_tracking_CLEAR_sMOTA': 1.5635767050151361, 'Metrics_tracking_CLEAR_CLR_F1': 0.6687754179846362, 'Metrics_tracking_CLEAR_FP_per_frame': 0.0, 'Metrics_tracking_CLEAR_MOTAL': 0.5023761031907671, 'Metrics_tracking_CLEAR_MOTP_sum': 2303.1484864872955, 'Metrics_tracking_CLEAR_CLR_TP': 740, 'Metrics_tracking_CLEAR_CLR_FN': 733, 'Metrics_tracking_CLEAR_CLR_FP': 0, 'Metrics_tracking_CLEAR_IDSW': 0, 'Metrics_tracking_CLEAR_MT': 5, 'Metrics_tracking_CLEAR_PT': 6, 'Metrics_tracking_CLEAR_ML': 18, 'Metrics_tracking_CLEAR_Frag': 2.0, 'Metrics_tracking_CLEAR_CLR_Frames': 100, 'Metrics_tracking_VACE_STDA': 7.9579421109579, 'Metrics_tracking_VACE_VACE_IDs': 11, 'Metrics_tracking_VACE_VACE_GT_IDs': 29, 'Metrics_tracking_VACE_FDA': 208.5096737391533, 'Metrics_tracking_VACE_num_non_empty_timesteps': 100, 'Metrics_tracking_VACE_ATA': 0.397897105547895, 'Metrics_tracking_VACE_SFDA': 2.085096737391533, 'Metrics_tracking_IDEucl_IDEucl': array(0.31633751), 'Metrics_tracking_Count_Dets': 10000, 'Metrics_tracking_Count_GT_Dets': 10000, 'Metrics_tracking_Count_IDs': 11, 'Metrics_tracking_Count_GT_IDs': 29, 'Metrics_tracking_Count_Frames': 100, 'Metrics_prediction_agg_ADE': 3.2759200964784605, 'Metrics_prediction_agg_FDE': 6.950897233463881, 'Metrics_prediction_std_ADE': 2.463377156562378, 'Metrics_prediction_std_FDE': 6.2086194166860915, 'Metrics_prediction_n_with_truth': 765, 'Metrics_prediction_n_objects': 765}\n"
     ]
    },
    {
     "name": "stderr",
     "output_type": "stream",
     "text": [
      "\n"
     ]
    },
    {
     "data": {
      "text/plain": [
       "<Figure size 640x480 with 0 Axes>"
      ]
     },
     "metadata": {},
     "output_type": "display_data"
    }
   ],
   "source": [
    "CSM = avapi.carla.CarlaScenesManager(data_dir_carla_collab, verbose=False)CSM = avapi.carla.CarlaScenesManager(data_dir_carla_collab, verbose=False)CSM = avapi.carla.CarlaScenesManager(data_dir_carla_collab, verbose=False)CSM = avapi.carla.CarlaScenesManager(data_dir_carla_collab, verbose=False)CSM = avapi.carla.CarlaScenesManager(data_dir_carla_collab, verbose=False)save_file_base = 'study-3-collaborative-{}-seq-res.p'\n",
    "frame_res_all, seq_res_all = avapi.evaluation.run_trades(SMs, AVs, li_perception, ca_perception, tracking,\n",
    "                            max_dist=100, max_lidar_range=max_lidar_range, max_framerate=max_framerate,\n",
    "                            trade_type=trade_types, sensor_eval=sensor_eval, sensor_eval_super=sensor_eval_super,\n",
    "                            collaborative_sensors=collab_sensors, n_cases_max=5,\n",
    "                            collaborative_range=collab_range, collaborative_noise=collab_noise,\n",
    "                            collaborative_source=collab_source, collaborative_rate=collab_rate,\n",
    "                            n_trials_max=3, frame_start=100, max_frames=100, filter_front=filter_front,\n",
    "                            save_file_base=save_file_base)"
   ]
  },
  {
   "cell_type": "code",
   "execution_count": 4,
   "id": "5f57b3d2",
   "metadata": {},
   "outputs": [
    {
     "data": {
      "image/png": "[encoded data removed]",
      "text/plain": [
       "<Figure size 1000x1000 with 1 Axes>"
      ]
     },
     "metadata": {},
     "output_type": "display_data"
    }
   ],
   "source": [
    "idx_frame = 17\n",
    "i_case = 2\n",
    "x_dets = np.array([obj.box.t.vector for obj in frame_res_all[0][i_case-1][idx_frame]['Result_tracking'].get_objects_of('detections')])\n",
    "x_trus = np.array([obj.box.t.vector for obj in frame_res_all[0][i_case-1][idx_frame]['Result_tracking'].get_objects_of('truths')])\n",
    "x_igns = np.array([obj.box.t.vector for obj in frame_res_all[0][i_case-1][idx_frame]['Result_tracking'].truths_dontcare])\n",
    "\n",
    "\n",
    "import matplotlib.pyplot as plt\n",
    "fig = plt.figure(figsize=(10,10))\n",
    "plt.scatter(x_trus[:,0], x_trus[:,1], c='blue', marker='o')\n",
    "plt.scatter(x_dets[:,0], x_dets[:,1], c='green', marker='x')\n",
    "plt.scatter(x_igns[:,0], x_igns[:,1], c='red', marker='.')\n",
    "plt.show()"
   ]
  },
  {
   "cell_type": "markdown",
   "id": "f84f3116",
   "metadata": {},
   "source": [
    "# Trade Study 2: Using real detections at different distances"
   ]
  },
  {
   "cell_type": "code",
   "execution_count": 5,
   "id": "ee3920f7",
   "metadata": {},
   "outputs": [],
   "source": [
    "# constants over all experiments\n",
    "li_perception = 'pointpillars'\n",
    "ca_perception = None\n",
    "tracking = 'basic-box-tracker'\n",
    "sensor_eval = 'main_lidar'\n",
    "sensor_eval_super = 'ego'  # to filter out ones from collabs that are behind buildings\n",
    "filter_front = False\n",
    "max_lidar_range = 25\n",
    "max_framerate = 10\n",
    "\n",
    "# communication range in units of meters\n",
    "collab_range = {1:70,\n",
    "                2:70,\n",
    "                3:70,\n",
    "                4:None}\n",
    "\n",
    "# collaborative detection noise (variance) on [h, w, l, x, y, z]\n",
    "collab_noise = {1:None,\n",
    "                2:[s**2 for s in [0.2, 0.2, 0.2, 1, 1, 1]],\n",
    "                3:[s**s for s in [0.05, 0.05, 0.05, 0.1, 0.1, 0.1]],\n",
    "                4:None}\n",
    "\n",
    "# communication rates in Hz\n",
    "collab_rate = {1:10,\n",
    "               2:10,\n",
    "               3:5,\n",
    "               4:None}\n",
    "\n",
    "# source of the collaborative sensing\n",
    "collab_source = {1:'ground_truth',\n",
    "                 2:'ground_truth',\n",
    "                 3:'ground_truth',\n",
    "                 4:None}\n",
    "\n",
    "# sensors to use from our dataset\n",
    "all_collab_sensors = [f'LIDAR_INFRASTRUCTURE_{d:03d}' for d in range(1,40,1)]\n",
    "collab_sensors = {1:all_collab_sensors,\n",
    "                  2:all_collab_sensors,\n",
    "                  3:all_collab_sensors,\n",
    "                  4:None}\n",
    "\n",
    "# trade study type\n",
    "trade_types = {1:'collaborative',\n",
    "               2:'collaborative',\n",
    "               3:'collaborative',\n",
    "               4:'standard'}\n",
    "\n",
    "# AV configurations\n",
    "vs = avstack.ego.vehicle\n",
    "AVs = {1:vs.LidarCollabPerceptionAndTrackingVehicle,\n",
    "       2:vs.LidarCollabPerceptionAndTrackingVehicle,\n",
    "       3:vs.LidarCollabPerceptionAndTrackingVehicle,\n",
    "       4:vs.LidarPerceptionAndTrackingVehicle}\n",
    "SMs = [CSM]"
   ]
  },
  {
   "cell_type": "code",
   "execution_count": 6,
   "id": "7e9e5d2b",
   "metadata": {
    "scrolled": true
   },
   "outputs": [
    {
     "name": "stderr",
     "output_type": "stream",
     "text": [
      "/home/spencer/Documents/Projects/AVstack/avstack-studies/submodules/lib-avstack-core/third_party/mmdetection3d/mmdet3d/models/dense_heads/anchor3d_head.py:84: UserWarning: dir_offset and dir_limit_offset will be depressed and be incorporated into box coder in the future\n",
      "  warnings.warn(\n"
     ]
    },
    {
     "name": "stdout",
     "output_type": "stream",
     "text": [
      "Running dataset CARLA over 1 trials\n",
      "   Running trial 0, using index 0\n",
      "load checkpoint from local path: /home/spencer/Documents/Projects/AVstack/avstack-studies/submodules/lib-avstack-core/third_party/mmdetection3d/work_dirs/carla/hv_pointpillars_fpn_sbn-all_fp16_2x8_2x_carla-3d.pth\n",
      "      Running dataset: CARLA, case 1\n"
     ]
    },
    {
     "name": "stderr",
     "output_type": "stream",
     "text": [
      "100%|███████████████████████| 50/50 [00:09<00:00,  5.29it/s]\n",
      "100%|███████████████████████| 50/50 [00:02<00:00, 24.34it/s]\n",
      "100%|███████████████████████| 50/50 [00:03<00:00, 15.09it/s]\n"
     ]
    },
    {
     "name": "stdout",
     "output_type": "stream",
     "text": [
      "\n",
      "CLEAR Config:\n",
      "THRESHOLD            : 0.5                           \n",
      "PRINT_CONFIG         : True                          \n",
      "\n",
      "IDEucl Config:\n",
      "THRESHOLD            : 0.4                           \n",
      "PRINT_CONFIG         : True                          \n",
      "\n",
      "Evaluating 1 tracker(s) on 1 sequence(s) for 1 class(es) on AvstackTrackDataset dataset using the following metrics: HOTA, CLEAR, VACE, IDEucl, Count\n",
      "\n",
      "\n",
      "Evaluating no-name\n",
      "\n",
      "10 eval_sequence(run_2022_10_31_13:34:52, no-name)                        1.5000 sec\n",
      "\n",
      "CLEAR Config:\n",
      "THRESHOLD            : 0.5                           \n",
      "PRINT_CONFIG         : True                          \n",
      "\n",
      "IDEucl Config:\n",
      "THRESHOLD            : 0.4                           \n",
      "PRINT_CONFIG         : True                          \n",
      "\n",
      "Evaluating 1 tracker(s) on 1 sequence(s) for 1 class(es) on AvstackTrackDataset dataset using the following metrics: HOTA, CLEAR, VACE, IDEucl, Count\n",
      "\n",
      "\n",
      "Evaluating box-tracker\n",
      "\n",
      "11 eval_sequence(run_2022_10_31_13:34:52, box-tracker)                    1.7126 sec\n",
      "\n",
      "All sequences for box-tracker finished in 1.71 seconds\n"
     ]
    },
    {
     "name": "stderr",
     "output_type": "stream",
     "text": [
      "100%|███████████████████████| 50/50 [00:22<00:00,  2.25it/s]\n",
      "/home/spencer/Documents/Projects/AVstack/avstack-studies/submodules/lib-avstack-core/third_party/mmdetection3d/mmdet3d/models/dense_heads/anchor3d_head.py:84: UserWarning: dir_offset and dir_limit_offset will be depressed and be incorporated into box coder in the future\n",
      "  warnings.warn(\n"
     ]
    },
    {
     "name": "stdout",
     "output_type": "stream",
     "text": [
      "{'Case': 1, 'Dataset': 'CARLA', 'Trial': 0, 'Metrics_perception_object_3d_tot_TP': 409, 'Metrics_perception_object_3d_tot_FP': 0, 'Metrics_perception_object_3d_tot_FN': 151, 'Metrics_perception_object_3d_tot_T': 560, 'Metrics_perception_object_3d_mean_precision': 1.0, 'Metrics_perception_object_3d_mean_recall': 0.7363892773892773, 'Metrics_tracking_HOTA_HOTA': array([0.79881251, 0.79881251, 0.79881251, 0.79881251, 0.79881251,\n",
      "       0.79881251, 0.79881251, 0.79881251, 0.79881251, 0.79881251,\n",
      "       0.79881251, 0.79881251, 0.79881251, 0.79881251, 0.79881251,\n",
      "       0.79881251, 0.79881251, 0.79881251, 0.79881251]), 'Metrics_tracking_HOTA_DetA': array([0.69946809, 0.69946809, 0.69946809, 0.69946809, 0.69946809,\n",
      "       0.69946809, 0.69946809, 0.69946809, 0.69946809, 0.69946809,\n",
      "       0.69946809, 0.69946809, 0.69946809, 0.69946809, 0.69946809,\n",
      "       0.69946809, 0.69946809, 0.69946809, 0.69946809]), 'Metrics_tracking_HOTA_AssA': array([0.91226668, 0.91226668, 0.91226668, 0.91226668, 0.91226668,\n",
      "       0.91226668, 0.91226668, 0.91226668, 0.91226668, 0.91226668,\n",
      "       0.91226668, 0.91226668, 0.91226668, 0.91226668, 0.91226668,\n",
      "       0.91226668, 0.91226668, 0.91226668, 0.91226668]), 'Metrics_tracking_HOTA_DetRe': array([0.86513158, 0.86513158, 0.86513158, 0.86513158, 0.86513158,\n",
      "       0.86513158, 0.86513158, 0.86513158, 0.86513158, 0.86513158,\n",
      "       0.86513158, 0.86513158, 0.86513158, 0.86513158, 0.86513158,\n",
      "       0.86513158, 0.86513158, 0.86513158, 0.86513158]), 'Metrics_tracking_HOTA_DetPr': array([0.78507463, 0.78507463, 0.78507463, 0.78507463, 0.78507463,\n",
      "       0.78507463, 0.78507463, 0.78507463, 0.78507463, 0.78507463,\n",
      "       0.78507463, 0.78507463, 0.78507463, 0.78507463, 0.78507463,\n",
      "       0.78507463, 0.78507463, 0.78507463, 0.78507463]), 'Metrics_tracking_HOTA_AssRe': array([0.91226668, 0.91226668, 0.91226668, 0.91226668, 0.91226668,\n",
      "       0.91226668, 0.91226668, 0.91226668, 0.91226668, 0.91226668,\n",
      "       0.91226668, 0.91226668, 0.91226668, 0.91226668, 0.91226668,\n",
      "       0.91226668, 0.91226668, 0.91226668, 0.91226668]), 'Metrics_tracking_HOTA_AssPr': array([1., 1., 1., 1., 1., 1., 1., 1., 1., 1., 1., 1., 1., 1., 1., 1., 1.,\n",
      "       1., 1.]), 'Metrics_tracking_HOTA_LocA': array([3.12311662, 3.12311662, 3.12311662, 3.12311662, 3.12311662,\n",
      "       3.12311662, 3.12311662, 3.12311662, 3.12311662, 3.12311662,\n",
      "       3.12311662, 3.12311662, 3.12311662, 3.12311662, 3.12311662,\n",
      "       3.12311662, 3.12311662, 3.12311662, 3.12311662]), 'Metrics_tracking_HOTA_OWTA': array([0.88838658, 0.88838658, 0.88838658, 0.88838658, 0.88838658,\n",
      "       0.88838658, 0.88838658, 0.88838658, 0.88838658, 0.88838658,\n",
      "       0.88838658, 0.88838658, 0.88838658, 0.88838658, 0.88838658,\n",
      "       0.88838658, 0.88838658, 0.88838658, 0.88838658]), 'Metrics_tracking_HOTA_HOTA_TP': array([526., 526., 526., 526., 526., 526., 526., 526., 526., 526., 526.,\n",
      "       526., 526., 526., 526., 526., 526., 526., 526.]), 'Metrics_tracking_HOTA_HOTA_FN': array([82., 82., 82., 82., 82., 82., 82., 82., 82., 82., 82., 82., 82.,\n",
      "       82., 82., 82., 82., 82., 82.]), 'Metrics_tracking_HOTA_HOTA_FP': array([144., 144., 144., 144., 144., 144., 144., 144., 144., 144., 144.,\n",
      "       144., 144., 144., 144., 144., 144., 144., 144.]), 'Metrics_tracking_HOTA_HOTA(0)': 0.7988125108763833, 'Metrics_tracking_HOTA_LocA(0)': 3.1231166172206746, 'Metrics_tracking_HOTA_HOTALocA(0)': 2.4947846267618035, 'Metrics_tracking_CLEAR_MOTA': 0.625, 'Metrics_tracking_CLEAR_MOTP': 3.1231166172206746, 'Metrics_tracking_CLEAR_MODA': 0.6282894736842105, 'Metrics_tracking_CLEAR_CLR_Re': 0.8651315789473685, 'Metrics_tracking_CLEAR_CLR_Pr': 0.7850746268656716, 'Metrics_tracking_CLEAR_MTR': 0.7333333333333333, 'Metrics_tracking_CLEAR_PTR': 0.06666666666666667, 'Metrics_tracking_CLEAR_MLR': 0.2, 'Metrics_tracking_CLEAR_sMOTA': 2.4617752313455177, 'Metrics_tracking_CLEAR_CLR_F1': 0.8231611893583725, 'Metrics_tracking_CLEAR_FP_per_frame': 2.88, 'Metrics_tracking_CLEAR_MOTAL': 0.6277943585597633, 'Metrics_tracking_CLEAR_MOTP_sum': 1642.7593406580747, 'Metrics_tracking_CLEAR_CLR_TP': 526, 'Metrics_tracking_CLEAR_CLR_FN': 82, 'Metrics_tracking_CLEAR_CLR_FP': 144, 'Metrics_tracking_CLEAR_IDSW': 2, 'Metrics_tracking_CLEAR_MT': 11, 'Metrics_tracking_CLEAR_PT': 1, 'Metrics_tracking_CLEAR_ML': 3, 'Metrics_tracking_CLEAR_Frag': 7.0, 'Metrics_tracking_CLEAR_CLR_Frames': 50, 'Metrics_tracking_VACE_STDA': 11.136328348464119, 'Metrics_tracking_VACE_VACE_IDs': 19, 'Metrics_tracking_VACE_VACE_GT_IDs': 15, 'Metrics_tracking_VACE_FDA': 127.03379961365388, 'Metrics_tracking_VACE_num_non_empty_timesteps': 50, 'Metrics_tracking_VACE_ATA': 0.6550781381449482, 'Metrics_tracking_VACE_SFDA': 2.5406759922730777, 'Metrics_tracking_IDEucl_IDEucl': array(0.74075503), 'Metrics_tracking_Count_Dets': 2500, 'Metrics_tracking_Count_GT_Dets': 2500, 'Metrics_tracking_Count_IDs': 19, 'Metrics_tracking_Count_GT_IDs': 15, 'Metrics_tracking_Count_Frames': 50, 'Metrics_prediction_agg_ADE': 4.051588242551184, 'Metrics_prediction_agg_FDE': 8.995709930554552, 'Metrics_prediction_std_ADE': 0.9126757964940605, 'Metrics_prediction_std_FDE': 2.0529231403462407, 'Metrics_prediction_n_with_truth': 1073, 'Metrics_prediction_n_objects': 1073, 'Metrics_collaborative_n_collab_detections_median': 54.0, 'Metrics_collaborative_n_collab_sensors_in_view_median': 5.0, 'Metrics_collaborative_n_collab_sensors_total_median': 39.0}\n",
      "load checkpoint from local path: /home/spencer/Documents/Projects/AVstack/avstack-studies/submodules/lib-avstack-core/third_party/mmdetection3d/work_dirs/carla/hv_pointpillars_fpn_sbn-all_fp16_2x8_2x_carla-3d.pth\n",
      "      Running dataset: CARLA, case 2\n"
     ]
    },
    {
     "name": "stderr",
     "output_type": "stream",
     "text": [
      "100%|███████████████████████| 50/50 [00:09<00:00,  5.18it/s]\n",
      "100%|███████████████████████| 50/50 [00:02<00:00, 24.37it/s]\n",
      "100%|███████████████████████| 50/50 [00:03<00:00, 13.87it/s]\n"
     ]
    },
    {
     "name": "stdout",
     "output_type": "stream",
     "text": [
      "\n",
      "CLEAR Config:\n",
      "THRESHOLD            : 0.5                           \n",
      "PRINT_CONFIG         : True                          \n",
      "\n",
      "IDEucl Config:\n",
      "THRESHOLD            : 0.4                           \n",
      "PRINT_CONFIG         : True                          \n",
      "\n",
      "Evaluating 1 tracker(s) on 1 sequence(s) for 1 class(es) on AvstackTrackDataset dataset using the following metrics: HOTA, CLEAR, VACE, IDEucl, Count\n",
      "\n",
      "\n",
      "Evaluating no-name\n",
      "\n",
      "12 eval_sequence(run_2022_10_31_13:34:52, no-name)                        1.5159 sec\n",
      "\n",
      "CLEAR Config:\n",
      "THRESHOLD            : 0.5                           \n",
      "PRINT_CONFIG         : True                          \n",
      "\n",
      "IDEucl Config:\n",
      "THRESHOLD            : 0.4                           \n",
      "PRINT_CONFIG         : True                          \n",
      "\n",
      "Evaluating 1 tracker(s) on 1 sequence(s) for 1 class(es) on AvstackTrackDataset dataset using the following metrics: HOTA, CLEAR, VACE, IDEucl, Count\n",
      "\n",
      "\n",
      "Evaluating box-tracker\n",
      "\n",
      "13 eval_sequence(run_2022_10_31_13:34:52, box-tracker)                    1.5087 sec\n",
      "\n",
      "All sequences for box-tracker finished in 1.51 seconds\n"
     ]
    },
    {
     "name": "stderr",
     "output_type": "stream",
     "text": [
      "100%|███████████████████████| 50/50 [00:25<00:00,  1.93it/s]\n",
      "/home/spencer/Documents/Projects/AVstack/avstack-studies/submodules/lib-avstack-core/third_party/mmdetection3d/mmdet3d/models/dense_heads/anchor3d_head.py:84: UserWarning: dir_offset and dir_limit_offset will be depressed and be incorporated into box coder in the future\n",
      "  warnings.warn(\n"
     ]
    },
    {
     "name": "stdout",
     "output_type": "stream",
     "text": [
      "{'Case': 2, 'Dataset': 'CARLA', 'Trial': 0, 'Metrics_perception_object_3d_tot_TP': 409, 'Metrics_perception_object_3d_tot_FP': 0, 'Metrics_perception_object_3d_tot_FN': 151, 'Metrics_perception_object_3d_tot_T': 560, 'Metrics_perception_object_3d_mean_precision': 1.0, 'Metrics_perception_object_3d_mean_recall': 0.7363892773892773, 'Metrics_tracking_HOTA_HOTA': array([0.7729139, 0.7729139, 0.7729139, 0.7729139, 0.7729139, 0.7729139,\n",
      "       0.7729139, 0.7729139, 0.7729139, 0.7729139, 0.7729139, 0.7729139,\n",
      "       0.7729139, 0.7729139, 0.7729139, 0.7729139, 0.7729139, 0.7729139,\n",
      "       0.7729139]), 'Metrics_tracking_HOTA_DetA': array([0.69179894, 0.69179894, 0.69179894, 0.69179894, 0.69179894,\n",
      "       0.69179894, 0.69179894, 0.69179894, 0.69179894, 0.69179894,\n",
      "       0.69179894, 0.69179894, 0.69179894, 0.69179894, 0.69179894,\n",
      "       0.69179894, 0.69179894, 0.69179894, 0.69179894]), 'Metrics_tracking_HOTA_AssA': array([0.86353977, 0.86353977, 0.86353977, 0.86353977, 0.86353977,\n",
      "       0.86353977, 0.86353977, 0.86353977, 0.86353977, 0.86353977,\n",
      "       0.86353977, 0.86353977, 0.86353977, 0.86353977, 0.86353977,\n",
      "       0.86353977, 0.86353977, 0.86353977, 0.86353977]), 'Metrics_tracking_HOTA_DetRe': array([0.86019737, 0.86019737, 0.86019737, 0.86019737, 0.86019737,\n",
      "       0.86019737, 0.86019737, 0.86019737, 0.86019737, 0.86019737,\n",
      "       0.86019737, 0.86019737, 0.86019737, 0.86019737, 0.86019737,\n",
      "       0.86019737, 0.86019737, 0.86019737, 0.86019737]), 'Metrics_tracking_HOTA_DetPr': array([0.77943368, 0.77943368, 0.77943368, 0.77943368, 0.77943368,\n",
      "       0.77943368, 0.77943368, 0.77943368, 0.77943368, 0.77943368,\n",
      "       0.77943368, 0.77943368, 0.77943368, 0.77943368, 0.77943368,\n",
      "       0.77943368, 0.77943368, 0.77943368, 0.77943368]), 'Metrics_tracking_HOTA_AssRe': array([0.86473947, 0.86473947, 0.86473947, 0.86473947, 0.86473947,\n",
      "       0.86473947, 0.86473947, 0.86473947, 0.86473947, 0.86473947,\n",
      "       0.86473947, 0.86473947, 0.86473947, 0.86473947, 0.86473947,\n",
      "       0.86473947, 0.86473947, 0.86473947, 0.86473947]), 'Metrics_tracking_HOTA_AssPr': array([0.99115679, 0.99115679, 0.99115679, 0.99115679, 0.99115679,\n",
      "       0.99115679, 0.99115679, 0.99115679, 0.99115679, 0.99115679,\n",
      "       0.99115679, 0.99115679, 0.99115679, 0.99115679, 0.99115679,\n",
      "       0.99115679, 0.99115679, 0.99115679, 0.99115679]), 'Metrics_tracking_HOTA_LocA': array([2.98830193, 2.98830193, 2.98830193, 2.98830193, 2.98830193,\n",
      "       2.98830193, 2.98830193, 2.98830193, 2.98830193, 2.98830193,\n",
      "       2.98830193, 2.98830193, 2.98830193, 2.98830193, 2.98830193,\n",
      "       2.98830193, 2.98830193, 2.98830193, 2.98830193]), 'Metrics_tracking_HOTA_OWTA': array([0.86186695, 0.86186695, 0.86186695, 0.86186695, 0.86186695,\n",
      "       0.86186695, 0.86186695, 0.86186695, 0.86186695, 0.86186695,\n",
      "       0.86186695, 0.86186695, 0.86186695, 0.86186695, 0.86186695,\n",
      "       0.86186695, 0.86186695, 0.86186695, 0.86186695]), 'Metrics_tracking_HOTA_HOTA_TP': array([523., 523., 523., 523., 523., 523., 523., 523., 523., 523., 523.,\n",
      "       523., 523., 523., 523., 523., 523., 523., 523.]), 'Metrics_tracking_HOTA_HOTA_FN': array([85., 85., 85., 85., 85., 85., 85., 85., 85., 85., 85., 85., 85.,\n",
      "       85., 85., 85., 85., 85., 85.]), 'Metrics_tracking_HOTA_HOTA_FP': array([148., 148., 148., 148., 148., 148., 148., 148., 148., 148., 148.,\n",
      "       148., 148., 148., 148., 148., 148., 148., 148.]), 'Metrics_tracking_HOTA_HOTA(0)': 0.772913900803881, 'Metrics_tracking_HOTA_LocA(0)': 2.9883019340719357, 'Metrics_tracking_HOTA_HOTALocA(0)': 2.309700104643322, 'Metrics_tracking_CLEAR_MOTA': 0.6101973684210527, 'Metrics_tracking_CLEAR_MOTP': 2.9817021992239052, 'Metrics_tracking_CLEAR_MODA': 0.6167763157894737, 'Metrics_tracking_CLEAR_CLR_Re': 0.8601973684210527, 'Metrics_tracking_CLEAR_CLR_Pr': 0.7794336810730254, 'Metrics_tracking_CLEAR_MTR': 0.7333333333333333, 'Metrics_tracking_CLEAR_PTR': 0.13333333333333333, 'Metrics_tracking_CLEAR_MLR': 0.13333333333333333, 'Metrics_tracking_CLEAR_sMOTA': 2.3148523851876686, 'Metrics_tracking_CLEAR_CLR_F1': 0.8178264268960125, 'Metrics_tracking_CLEAR_FP_per_frame': 2.96, 'Metrics_tracking_CLEAR_MOTAL': 0.615786085540579, 'Metrics_tracking_CLEAR_MOTP_sum': 1559.4302501941024, 'Metrics_tracking_CLEAR_CLR_TP': 523, 'Metrics_tracking_CLEAR_CLR_FN': 85, 'Metrics_tracking_CLEAR_CLR_FP': 148, 'Metrics_tracking_CLEAR_IDSW': 4, 'Metrics_tracking_CLEAR_MT': 11, 'Metrics_tracking_CLEAR_PT': 2, 'Metrics_tracking_CLEAR_ML': 2, 'Metrics_tracking_CLEAR_Frag': 8.0, 'Metrics_tracking_CLEAR_CLR_Frames': 50, 'Metrics_tracking_VACE_STDA': 11.123339914189776, 'Metrics_tracking_VACE_VACE_IDs': 21, 'Metrics_tracking_VACE_VACE_GT_IDs': 15, 'Metrics_tracking_VACE_FDA': 120.6605908809081, 'Metrics_tracking_VACE_num_non_empty_timesteps': 50, 'Metrics_tracking_VACE_ATA': 0.6179633285660987, 'Metrics_tracking_VACE_SFDA': 2.413211817618162, 'Metrics_tracking_IDEucl_IDEucl': array(0.70346998), 'Metrics_tracking_Count_Dets': 2500, 'Metrics_tracking_Count_GT_Dets': 2500, 'Metrics_tracking_Count_IDs': 21, 'Metrics_tracking_Count_GT_IDs': 15, 'Metrics_tracking_Count_Frames': 50, 'Metrics_prediction_agg_ADE': 4.197255280979522, 'Metrics_prediction_agg_FDE': 9.137467769079212, 'Metrics_prediction_std_ADE': 0.8607667340208487, 'Metrics_prediction_std_FDE': 1.805355935760138, 'Metrics_prediction_n_with_truth': 1120, 'Metrics_prediction_n_objects': 1120, 'Metrics_collaborative_n_collab_detections_median': 54.0, 'Metrics_collaborative_n_collab_sensors_in_view_median': 5.0, 'Metrics_collaborative_n_collab_sensors_total_median': 39.0}\n",
      "load checkpoint from local path: /home/spencer/Documents/Projects/AVstack/avstack-studies/submodules/lib-avstack-core/third_party/mmdetection3d/work_dirs/carla/hv_pointpillars_fpn_sbn-all_fp16_2x8_2x_carla-3d.pth\n",
      "      Running dataset: CARLA, case 3\n"
     ]
    },
    {
     "name": "stderr",
     "output_type": "stream",
     "text": [
      "100%|███████████████████████| 50/50 [00:08<00:00,  6.24it/s]\n",
      "100%|███████████████████████| 50/50 [00:02<00:00, 24.38it/s]\n",
      "100%|███████████████████████| 50/50 [00:03<00:00, 15.75it/s]\n"
     ]
    },
    {
     "name": "stdout",
     "output_type": "stream",
     "text": [
      "\n",
      "CLEAR Config:\n",
      "THRESHOLD            : 0.5                           \n",
      "PRINT_CONFIG         : True                          \n",
      "\n",
      "IDEucl Config:\n",
      "THRESHOLD            : 0.4                           \n",
      "PRINT_CONFIG         : True                          \n",
      "\n",
      "Evaluating 1 tracker(s) on 1 sequence(s) for 1 class(es) on AvstackTrackDataset dataset using the following metrics: HOTA, CLEAR, VACE, IDEucl, Count\n",
      "\n",
      "\n",
      "Evaluating no-name\n",
      "\n",
      "14 eval_sequence(run_2022_10_31_13:34:52, no-name)                        1.4704 sec\n",
      "\n",
      "CLEAR Config:\n",
      "THRESHOLD            : 0.5                           \n",
      "PRINT_CONFIG         : True                          \n",
      "\n",
      "IDEucl Config:\n",
      "THRESHOLD            : 0.4                           \n",
      "PRINT_CONFIG         : True                          \n",
      "\n",
      "Evaluating 1 tracker(s) on 1 sequence(s) for 1 class(es) on AvstackTrackDataset dataset using the following metrics: HOTA, CLEAR, VACE, IDEucl, Count\n",
      "\n",
      "\n",
      "Evaluating box-tracker\n",
      "\n",
      "15 eval_sequence(run_2022_10_31_13:34:52, box-tracker)                    1.4829 sec\n",
      "\n",
      "All sequences for box-tracker finished in 1.48 seconds\n"
     ]
    },
    {
     "name": "stderr",
     "output_type": "stream",
     "text": [
      "100%|███████████████████████| 50/50 [00:21<00:00,  2.38it/s]\n",
      "/home/spencer/Documents/Projects/AVstack/avstack-studies/submodules/lib-avstack-core/third_party/mmdetection3d/mmdet3d/models/dense_heads/anchor3d_head.py:84: UserWarning: dir_offset and dir_limit_offset will be depressed and be incorporated into box coder in the future\n",
      "  warnings.warn(\n"
     ]
    },
    {
     "name": "stdout",
     "output_type": "stream",
     "text": [
      "{'Case': 3, 'Dataset': 'CARLA', 'Trial': 0, 'Metrics_perception_object_3d_tot_TP': 409, 'Metrics_perception_object_3d_tot_FP': 0, 'Metrics_perception_object_3d_tot_FN': 151, 'Metrics_perception_object_3d_tot_T': 560, 'Metrics_perception_object_3d_mean_precision': 1.0, 'Metrics_perception_object_3d_mean_recall': 0.7363892773892773, 'Metrics_tracking_HOTA_HOTA': array([0.78826619, 0.78826619, 0.78826619, 0.78826619, 0.78826619,\n",
      "       0.78826619, 0.78826619, 0.78826619, 0.78552505, 0.78552505,\n",
      "       0.78552505, 0.78552505, 0.78552505, 0.78552505, 0.78289988,\n",
      "       0.78289988, 0.78289988, 0.78289988, 0.77836026]), 'Metrics_tracking_HOTA_DetA': array([0.67423231, 0.67423231, 0.67423231, 0.67423231, 0.67423231,\n",
      "       0.67423231, 0.67423231, 0.67423231, 0.672     , 0.672     ,\n",
      "       0.672     , 0.672     , 0.672     , 0.672     , 0.66977364,\n",
      "       0.66977364, 0.66977364, 0.66977364, 0.66533865]), 'Metrics_tracking_HOTA_AssA': array([0.92158678, 0.92158678, 0.92158678, 0.92158678, 0.92158678,\n",
      "       0.92158678, 0.92158678, 0.92158678, 0.91822858, 0.91822858,\n",
      "       0.91822858, 0.91822858, 0.91822858, 0.91822858, 0.91513339,\n",
      "       0.91513339, 0.91513339, 0.91513339, 0.91058095]), 'Metrics_tracking_HOTA_DetRe': array([0.83059211, 0.83059211, 0.83059211, 0.83059211, 0.83059211,\n",
      "       0.83059211, 0.83059211, 0.83059211, 0.82894737, 0.82894737,\n",
      "       0.82894737, 0.82894737, 0.82894737, 0.82894737, 0.82730263,\n",
      "       0.82730263, 0.82730263, 0.82730263, 0.82401316]), 'Metrics_tracking_HOTA_DetPr': array([0.78173375, 0.78173375, 0.78173375, 0.78173375, 0.78173375,\n",
      "       0.78173375, 0.78173375, 0.78173375, 0.78018576, 0.78018576,\n",
      "       0.78018576, 0.78018576, 0.78018576, 0.78018576, 0.77863777,\n",
      "       0.77863777, 0.77863777, 0.77863777, 0.7755418 ]), 'Metrics_tracking_HOTA_AssRe': array([0.92158678, 0.92158678, 0.92158678, 0.92158678, 0.92158678,\n",
      "       0.92158678, 0.92158678, 0.92158678, 0.91980421, 0.91980421,\n",
      "       0.91980421, 0.91980421, 0.91980421, 0.91980421, 0.91809408,\n",
      "       0.91809408, 0.91809408, 0.91809408, 0.91561143]), 'Metrics_tracking_HOTA_AssPr': array([1.        , 1.        , 1.        , 1.        , 1.        ,\n",
      "       1.        , 1.        , 1.        , 0.99805901, 0.99805901,\n",
      "       0.99805901, 0.99805901, 0.99805901, 0.99805901, 0.99619673,\n",
      "       0.99619673, 0.99619673, 0.99619673, 0.9924652 ]), 'Metrics_tracking_HOTA_LocA': array([2.9486969 , 2.9486969 , 2.9486969 , 2.9486969 , 2.9486969 ,\n",
      "       2.9486969 , 2.9486969 , 2.9486969 , 2.95370679, 2.95370679,\n",
      "       2.95370679, 2.95370679, 2.95370679, 2.95370679, 2.95808876,\n",
      "       2.95808876, 2.95808876, 2.95808876, 2.9661988 ]), 'Metrics_tracking_HOTA_OWTA': array([0.87490725, 0.87490725, 0.87490725, 0.87490725, 0.87490725,\n",
      "       0.87490725, 0.87490725, 0.87490725, 0.87244666, 0.87244666,\n",
      "       0.87244666, 0.87244666, 0.87244666, 0.87244666, 0.87011049,\n",
      "       0.87011049, 0.87011049, 0.87011049, 0.8662163 ]), 'Metrics_tracking_HOTA_HOTA_TP': array([505., 505., 505., 505., 505., 505., 505., 505., 504., 504., 504.,\n",
      "       504., 504., 504., 503., 503., 503., 503., 501.]), 'Metrics_tracking_HOTA_HOTA_FN': array([103., 103., 103., 103., 103., 103., 103., 103., 104., 104., 104.,\n",
      "       104., 104., 104., 105., 105., 105., 105., 107.]), 'Metrics_tracking_HOTA_HOTA_FP': array([141., 141., 141., 141., 141., 141., 141., 141., 142., 142., 142.,\n",
      "       142., 142., 142., 143., 143., 143., 143., 145.]), 'Metrics_tracking_HOTA_HOTA(0)': 0.7882661881870536, 'Metrics_tracking_HOTA_LocA(0)': 2.948696900639252, 'Metrics_tracking_HOTA_HOTALocA(0)': 2.3243580659858822, 'Metrics_tracking_CLEAR_MOTA': 0.5921052631578947, 'Metrics_tracking_CLEAR_MOTP': 2.9551253101892723, 'Metrics_tracking_CLEAR_MODA': 0.5953947368421053, 'Metrics_tracking_CLEAR_CLR_Re': 0.8289473684210527, 'Metrics_tracking_CLEAR_CLR_Pr': 0.7801857585139319, 'Metrics_tracking_CLEAR_MTR': 0.6666666666666666, 'Metrics_tracking_CLEAR_PTR': 0.13333333333333333, 'Metrics_tracking_CLEAR_MLR': 0.2, 'Metrics_tracking_CLEAR_sMOTA': 2.2128012439726863, 'Metrics_tracking_CLEAR_CLR_F1': 0.8038277511961722, 'Metrics_tracking_CLEAR_FP_per_frame': 2.84, 'Metrics_tracking_CLEAR_MOTAL': 0.594899621717658, 'Metrics_tracking_CLEAR_MOTP_sum': 1489.3831563353933, 'Metrics_tracking_CLEAR_CLR_TP': 504, 'Metrics_tracking_CLEAR_CLR_FN': 104, 'Metrics_tracking_CLEAR_CLR_FP': 142, 'Metrics_tracking_CLEAR_IDSW': 2, 'Metrics_tracking_CLEAR_MT': 10, 'Metrics_tracking_CLEAR_PT': 2, 'Metrics_tracking_CLEAR_ML': 3, 'Metrics_tracking_CLEAR_Frag': 5.0, 'Metrics_tracking_CLEAR_CLR_Frames': 50, 'Metrics_tracking_VACE_STDA': 10.77276691331924, 'Metrics_tracking_VACE_VACE_IDs': 19, 'Metrics_tracking_VACE_VACE_GT_IDs': 15, 'Metrics_tracking_VACE_FDA': 117.26245981287418, 'Metrics_tracking_VACE_num_non_empty_timesteps': 50, 'Metrics_tracking_VACE_ATA': 0.63369217137172, 'Metrics_tracking_VACE_SFDA': 2.3452491962574835, 'Metrics_tracking_IDEucl_IDEucl': array(0.67875855), 'Metrics_tracking_Count_Dets': 2500, 'Metrics_tracking_Count_GT_Dets': 2500, 'Metrics_tracking_Count_IDs': 19, 'Metrics_tracking_Count_GT_IDs': 15, 'Metrics_tracking_Count_Frames': 50, 'Metrics_prediction_agg_ADE': 4.377757530078857, 'Metrics_prediction_agg_FDE': 9.559689439403888, 'Metrics_prediction_std_ADE': 1.056034569570798, 'Metrics_prediction_std_FDE': 1.7090835076398845, 'Metrics_prediction_n_with_truth': 1002, 'Metrics_prediction_n_objects': 1002, 'Metrics_collaborative_n_collab_detections_median': 24.5, 'Metrics_collaborative_n_collab_sensors_in_view_median': 5.0, 'Metrics_collaborative_n_collab_sensors_total_median': 39.0}\n",
      "load checkpoint from local path: /home/spencer/Documents/Projects/AVstack/avstack-studies/submodules/lib-avstack-core/third_party/mmdetection3d/work_dirs/carla/hv_pointpillars_fpn_sbn-all_fp16_2x8_2x_carla-3d.pth\n",
      "      Running dataset: CARLA, case 4\n"
     ]
    },
    {
     "name": "stderr",
     "output_type": "stream",
     "text": [
      "100%|███████████████████████| 50/50 [00:05<00:00,  8.44it/s]\n",
      "100%|███████████████████████| 50/50 [00:02<00:00, 23.96it/s]\n",
      "100%|███████████████████████| 50/50 [00:01<00:00, 25.67it/s]\n"
     ]
    },
    {
     "name": "stdout",
     "output_type": "stream",
     "text": [
      "\n",
      "CLEAR Config:\n",
      "THRESHOLD            : 0.5                           \n",
      "PRINT_CONFIG         : True                          \n",
      "\n",
      "IDEucl Config:\n",
      "THRESHOLD            : 0.4                           \n",
      "PRINT_CONFIG         : True                          \n",
      "\n",
      "Evaluating 1 tracker(s) on 1 sequence(s) for 1 class(es) on AvstackTrackDataset dataset using the following metrics: HOTA, CLEAR, VACE, IDEucl, Count\n",
      "\n",
      "\n",
      "Evaluating no-name\n",
      "\n",
      "16 eval_sequence(run_2022_10_31_13:34:52, no-name)                        1.2219 sec\n",
      "\n",
      "CLEAR Config:\n",
      "THRESHOLD            : 0.5                           \n",
      "PRINT_CONFIG         : True                          \n",
      "\n",
      "IDEucl Config:\n",
      "THRESHOLD            : 0.4                           \n",
      "PRINT_CONFIG         : True                          \n",
      "\n",
      "Evaluating 1 tracker(s) on 1 sequence(s) for 1 class(es) on AvstackTrackDataset dataset using the following metrics: HOTA, CLEAR, VACE, IDEucl, Count\n",
      "\n",
      "\n",
      "Evaluating box-tracker\n",
      "\n",
      "17 eval_sequence(run_2022_10_31_13:34:52, box-tracker)                    1.2207 sec\n",
      "\n",
      "All sequences for box-tracker finished in 1.22 seconds\n"
     ]
    },
    {
     "name": "stderr",
     "output_type": "stream",
     "text": [
      "100%|███████████████████████| 50/50 [00:28<00:00,  1.74it/s]"
     ]
    },
    {
     "name": "stdout",
     "output_type": "stream",
     "text": [
      "{'Case': 4, 'Dataset': 'CARLA', 'Trial': 0, 'Metrics_perception_object_3d_tot_TP': 409, 'Metrics_perception_object_3d_tot_FP': 0, 'Metrics_perception_object_3d_tot_FN': 151, 'Metrics_perception_object_3d_tot_T': 560, 'Metrics_perception_object_3d_mean_precision': 1.0, 'Metrics_perception_object_3d_mean_recall': 0.7363892773892773, 'Metrics_tracking_HOTA_HOTA': array([0.74109914, 0.74109914, 0.74109914, 0.74109914, 0.74109914,\n",
      "       0.74109914, 0.74109914, 0.74109914, 0.74109914, 0.74109914,\n",
      "       0.74109914, 0.74109914, 0.74109914, 0.74109914, 0.74109914,\n",
      "       0.74109914, 0.74109914, 0.74109914, 0.74109914]), 'Metrics_tracking_HOTA_DetA': array([0.60855263, 0.60855263, 0.60855263, 0.60855263, 0.60855263,\n",
      "       0.60855263, 0.60855263, 0.60855263, 0.60855263, 0.60855263,\n",
      "       0.60855263, 0.60855263, 0.60855263, 0.60855263, 0.60855263,\n",
      "       0.60855263, 0.60855263, 0.60855263, 0.60855263]), 'Metrics_tracking_HOTA_AssA': array([0.90251508, 0.90251508, 0.90251508, 0.90251508, 0.90251508,\n",
      "       0.90251508, 0.90251508, 0.90251508, 0.90251508, 0.90251508,\n",
      "       0.90251508, 0.90251508, 0.90251508, 0.90251508, 0.90251508,\n",
      "       0.90251508, 0.90251508, 0.90251508, 0.90251508]), 'Metrics_tracking_HOTA_DetRe': array([0.60855263, 0.60855263, 0.60855263, 0.60855263, 0.60855263,\n",
      "       0.60855263, 0.60855263, 0.60855263, 0.60855263, 0.60855263,\n",
      "       0.60855263, 0.60855263, 0.60855263, 0.60855263, 0.60855263,\n",
      "       0.60855263, 0.60855263, 0.60855263, 0.60855263]), 'Metrics_tracking_HOTA_DetPr': array([1., 1., 1., 1., 1., 1., 1., 1., 1., 1., 1., 1., 1., 1., 1., 1., 1.,\n",
      "       1., 1.]), 'Metrics_tracking_HOTA_AssRe': array([0.90251508, 0.90251508, 0.90251508, 0.90251508, 0.90251508,\n",
      "       0.90251508, 0.90251508, 0.90251508, 0.90251508, 0.90251508,\n",
      "       0.90251508, 0.90251508, 0.90251508, 0.90251508, 0.90251508,\n",
      "       0.90251508, 0.90251508, 0.90251508, 0.90251508]), 'Metrics_tracking_HOTA_AssPr': array([1., 1., 1., 1., 1., 1., 1., 1., 1., 1., 1., 1., 1., 1., 1., 1., 1.,\n",
      "       1., 1.]), 'Metrics_tracking_HOTA_LocA': array([3.12908128, 3.12908128, 3.12908128, 3.12908128, 3.12908128,\n",
      "       3.12908128, 3.12908128, 3.12908128, 3.12908128, 3.12908128,\n",
      "       3.12908128, 3.12908128, 3.12908128, 3.12908128, 3.12908128,\n",
      "       3.12908128, 3.12908128, 3.12908128, 3.12908128]), 'Metrics_tracking_HOTA_OWTA': array([0.74109914, 0.74109914, 0.74109914, 0.74109914, 0.74109914,\n",
      "       0.74109914, 0.74109914, 0.74109914, 0.74109914, 0.74109914,\n",
      "       0.74109914, 0.74109914, 0.74109914, 0.74109914, 0.74109914,\n",
      "       0.74109914, 0.74109914, 0.74109914, 0.74109914]), 'Metrics_tracking_HOTA_HOTA_TP': array([370., 370., 370., 370., 370., 370., 370., 370., 370., 370., 370.,\n",
      "       370., 370., 370., 370., 370., 370., 370., 370.]), 'Metrics_tracking_HOTA_HOTA_FN': array([238., 238., 238., 238., 238., 238., 238., 238., 238., 238., 238.,\n",
      "       238., 238., 238., 238., 238., 238., 238., 238.]), 'Metrics_tracking_HOTA_HOTA_FP': array([0., 0., 0., 0., 0., 0., 0., 0., 0., 0., 0., 0., 0., 0., 0., 0., 0.,\n",
      "       0., 0.]), 'Metrics_tracking_HOTA_HOTA(0)': 0.7410991363687861, 'Metrics_tracking_HOTA_LocA(0)': 3.1290812768038183, 'Metrics_tracking_HOTA_HOTALocA(0)': 2.3189594318670483, 'Metrics_tracking_CLEAR_MOTA': 0.6085526315789473, 'Metrics_tracking_CLEAR_MOTP': 3.1290812768038183, 'Metrics_tracking_CLEAR_MODA': 0.6085526315789473, 'Metrics_tracking_CLEAR_CLR_Re': 0.6085526315789473, 'Metrics_tracking_CLEAR_CLR_Pr': 1.0, 'Metrics_tracking_CLEAR_MTR': 0.4666666666666667, 'Metrics_tracking_CLEAR_PTR': 0.13333333333333333, 'Metrics_tracking_CLEAR_MLR': 0.4, 'Metrics_tracking_CLEAR_sMOTA': 1.9042106454233765, 'Metrics_tracking_CLEAR_CLR_F1': 0.7566462167689162, 'Metrics_tracking_CLEAR_FP_per_frame': 0.0, 'Metrics_tracking_CLEAR_MOTAL': 0.6085526315789473, 'Metrics_tracking_CLEAR_MOTP_sum': 1157.7600724174129, 'Metrics_tracking_CLEAR_CLR_TP': 370, 'Metrics_tracking_CLEAR_CLR_FN': 238, 'Metrics_tracking_CLEAR_CLR_FP': 0, 'Metrics_tracking_CLEAR_IDSW': 0, 'Metrics_tracking_CLEAR_MT': 7, 'Metrics_tracking_CLEAR_PT': 2, 'Metrics_tracking_CLEAR_ML': 6, 'Metrics_tracking_CLEAR_Frag': 0.0, 'Metrics_tracking_CLEAR_CLR_Frames': 50, 'Metrics_tracking_VACE_STDA': 7.567558139534884, 'Metrics_tracking_VACE_VACE_IDs': 10, 'Metrics_tracking_VACE_VACE_GT_IDs': 15, 'Metrics_tracking_VACE_FDA': 116.69972199218583, 'Metrics_tracking_VACE_num_non_empty_timesteps': 50, 'Metrics_tracking_VACE_ATA': 0.6054046511627907, 'Metrics_tracking_VACE_SFDA': 2.3339944398437167, 'Metrics_tracking_IDEucl_IDEucl': array(0.43228403), 'Metrics_tracking_Count_Dets': 2500, 'Metrics_tracking_Count_GT_Dets': 2500, 'Metrics_tracking_Count_IDs': 10, 'Metrics_tracking_Count_GT_IDs': 15, 'Metrics_tracking_Count_Frames': 50, 'Metrics_prediction_agg_ADE': 3.0497557491362417, 'Metrics_prediction_agg_FDE': 5.839893819629294, 'Metrics_prediction_std_ADE': 2.1747678192834585, 'Metrics_prediction_std_FDE': 5.0040192763830245, 'Metrics_prediction_n_with_truth': 371, 'Metrics_prediction_n_objects': 371}\n"
     ]
    },
    {
     "name": "stderr",
     "output_type": "stream",
     "text": [
      "\n"
     ]
    },
    {
     "data": {
      "text/plain": [
       "<Figure size 640x480 with 0 Axes>"
      ]
     },
     "metadata": {},
     "output_type": "display_data"
    }
   ],
   "source": [
    "save_file_base = 'study-3-collaborative-{}-seq-res-EXP2.p'\n",
    "max_dist = 70\n",
    "frame_res_all, seq_res_all = avapi.evaluation.run_trades(SMs, AVs, li_perception, ca_perception, tracking,\n",
    "                            max_dist=max_dist, max_lidar_range=max_lidar_range, max_framerate=max_framerate,\n",
    "                            trade_type=trade_types, sensor_eval=sensor_eval, sensor_eval_super=sensor_eval_super,\n",
    "                            collaborative_sensors=collab_sensors, n_cases_max=4,\n",
    "                            collaborative_range=collab_range, collaborative_noise=collab_noise,\n",
    "                            collaborative_source=collab_source, collaborative_rate=collab_rate,\n",
    "                            n_trials_max=2, frame_start=120, max_frames=50, filter_front=filter_front,\n",
    "                            save_file_base=save_file_base)"
   ]
  },
  {
   "cell_type": "code",
   "execution_count": 8,
   "id": "60d136b9",
   "metadata": {},
   "outputs": [],
   "source": [
    "DM = CSM.get_scene_dataset_by_index(0)\n",
    "\n",
    "# collaborative detection noise (variance) on [h, w, l, x, y, z]\n",
    "collab_noise = {1:[s**2 for s in [0.2, 0.2, 0.2, 1, 1, 1]],\n",
    "                2:[s**2 for s in [0.1, 0.1, 0.1, 0.5, 0.5, 2]],\n",
    "                3:[s**s for s in [0.05, 0.05, 0.05, 0.25, 0.25, 0.25]],\n",
    "                4:None}\n",
    "\n",
    "n_assign = []\n",
    "for i_test in range(1,4):\n",
    "    n_assign_this = []\n",
    "    for i_trial in range(100):\n",
    "        objs_1 = DM.get_objects(frame=10, sensor='LIDAR_INFRASTRUCTURE_001')\n",
    "        for obj in objs_1:\n",
    "            obj.box.add_noise(collab_noise[i_test])\n",
    "\n",
    "        objs_2 = DM.get_objects(frame=12, sensor='LIDAR_INFRASTRUCTURE_001')\n",
    "        for obj in objs_2:\n",
    "            obj.box.add_noise(collab_noise[i_test])\n",
    "\n",
    "        A_noise = avstack.modules.assignment.build_A_from_iou([obj.box for obj in objs_1], [obj.box for obj in objs_2])\n",
    "        n_assign_this.append(np.sum(A_noise!=0))\n",
    "    n_assign.append(n_assign_this)\n",
    "        #     print(len(objs_1), len(objs_2), np.sum(A_noise!=0))"
   ]
  },
  {
   "cell_type": "code",
   "execution_count": 9,
   "id": "592b9841",
   "metadata": {},
   "outputs": [
    {
     "data": {
      "text/plain": [
       "(array([[ 0.,  1.,  1., 11., 17., 23., 40.,  4.,  2.,  1.],\n",
       "        [ 4.,  8.,  9., 39., 22., 13.,  5.,  0.,  0.,  0.],\n",
       "        [ 0.,  0.,  3., 16., 14., 22., 31., 10.,  3.,  1.]]),\n",
       " array([ 2. ,  3.3,  4.6,  5.9,  7.2,  8.5,  9.8, 11.1, 12.4, 13.7, 15. ]),\n",
       " <a list of 3 BarContainer objects>)"
      ]
     },
     "execution_count": 9,
     "metadata": {},
     "output_type": "execute_result"
    },
    {
     "data": {
      "image/png": "[encoded data removed]",
      "text/plain": [
       "<Figure size 640x480 with 1 Axes>"
      ]
     },
     "metadata": {},
     "output_type": "display_data"
    }
   ],
   "source": [
    "import matplotlib.pyplot as plt\n",
    "plt.hist(n_assign)"
   ]
  },
  {
   "cell_type": "code",
   "execution_count": null,
   "id": "8dc97177",
   "metadata": {},
   "outputs": [],
   "source": []
  }
 ],
 "metadata": {
  "kernelspec": {
   "display_name": "Python 3 (ipykernel)",
   "language": "python",
   "name": "python3"
  },
  "language_info": {
   "codemirror_mode": {
    "name": "ipython",
    "version": 3
   },
   "file_extension": ".py",
   "mimetype": "text/x-python",
   "name": "python",
   "nbconvert_exporter": "python",
   "pygments_lexer": "ipython3",
   "version": "3.8.16"
  }
 },
 "nbformat": 4,
 "nbformat_minor": 5
}
