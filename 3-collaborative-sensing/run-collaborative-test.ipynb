{
 "cells": [
  {
   "cell_type": "code",
   "execution_count": 1,
   "id": "624f7f59",
   "metadata": {},
   "outputs": [
    {
     "name": "stdout",
     "output_type": "stream",
     "text": [
      "Cannot import rss library\n"
     ]
    }
   ],
   "source": [
    "import sys, os\n",
    "import avstack\n",
    "import avapi\n",
    "from copy import copy, deepcopy\n",
    "import numpy as np\n",
    "import pandas as pd\n",
    "from tqdm import tqdm\n",
    "import pickle\n",
    "\n",
    "%load_ext autoreload\n",
    "%autoreload 2\n",
    "\n",
    "%matplotlib inline\n",
    "\n",
    "data_dir_carla_infra = '/data/spencer/CARLA/object_infrastructure_40_test'\n",
    "CSM = avapi.carla.CarlaScenesManager(data_dir_carla_infra, verbose=False)"
   ]
  },
  {
   "cell_type": "markdown",
   "id": "f14d8649",
   "metadata": {},
   "source": [
    "# Trade Study 1: Using ground truth labels with noise on each element"
   ]
  },
  {
   "cell_type": "code",
   "execution_count": 66,
   "id": "284f36fa",
   "metadata": {},
   "outputs": [],
   "source": [
    "# constants over all experiments\n",
    "li_perception = 'pointpillars'\n",
    "ca_perception = None\n",
    "tracking = 'basic-box-tracker'\n",
    "sensor_eval = 'main_lidar'\n",
    "sensor_eval_super = 'ego'  # to filter out ones from collabs that are behind buildings\n",
    "filter_front = False\n",
    "max_lidar_range = 25\n",
    "max_framerate = 10\n",
    "\n",
    "# communication range in units of meters\n",
    "collab_range = {1:100,\n",
    "                2:100,\n",
    "                3:70,\n",
    "                4:50,\n",
    "                5:None}\n",
    "\n",
    "# collaborative detection noise (variance) on [h, w, l, x, y, z]\n",
    "collab_noise = {1:None,\n",
    "                2:[s**2 for s in [0.2, 0.2, 0.2, 1, 1, 1]],\n",
    "                3:[s**2 for s in [0.1, 0.1, 0.1, 0.33, 0.33, 33]],\n",
    "                4:[s**s for s in [0.05, 0.05, 0.05, 0.1, 0.1, 0.1]],\n",
    "                5:None}\n",
    "\n",
    "# communication rates in Hz\n",
    "collab_rate = {1:10,\n",
    "               2:10,\n",
    "               3:10,\n",
    "               4:10,\n",
    "               5:None}\n",
    "\n",
    "# source of the collaborative sensing\n",
    "collab_source = {1:'ground_truth',\n",
    "                 2:'ground_truth',\n",
    "                 3:'ground_truth',\n",
    "                 4:'ground_truth',\n",
    "                 5:None}\n",
    "\n",
    "# sensors to use from our dataset\n",
    "all_collab_sensors = [f'LIDAR_INFRASTRUCTURE_{d:03d}' for d in range(1,40,1)]\n",
    "collab_sensors = {1:all_collab_sensors,\n",
    "                  2:all_collab_sensors,\n",
    "                  3:all_collab_sensors,\n",
    "                  4:all_collab_sensors,\n",
    "                  5:None}\n",
    "\n",
    "# trade study type\n",
    "trade_types = {1:'collaborative',\n",
    "               2:'collaborative',\n",
    "               3:'collaborative',\n",
    "               4:'collaborative',\n",
    "               5:'standard'}\n",
    "\n",
    "# AV configurations\n",
    "vs = avstack.ego.vehicle\n",
    "AVs = {1:vs.LidarCollabPerceptionAndTrackingVehicle,\n",
    "       2:vs.LidarCollabPerceptionAndTrackingVehicle,\n",
    "       3:vs.LidarCollabPerceptionAndTrackingVehicle,\n",
    "       4:vs.LidarCollabPerceptionAndTrackingVehicle,\n",
    "       5:vs.LidarPerceptionAndTrackingVehicle}\n",
    "SMs = [CSM]"
   ]
  },
  {
   "cell_type": "markdown",
   "id": "cc0f995b",
   "metadata": {},
   "source": [
    "## Run Trades"
   ]
  },
  {
   "cell_type": "code",
   "execution_count": 71,
   "id": "99e75bb6",
   "metadata": {
    "scrolled": true
   },
   "outputs": [
    {
     "name": "stdout",
     "output_type": "stream",
     "text": [
      "Running dataset CARLA over 3 trials\n",
      "   Running trial 0, using index 0\n",
      "load checkpoint from local path: /home/spencer/Documents/Projects/Research/avstack-studies/submodules/lib-avstack/third_party/mmdetection3d/work_dirs/hv_pointpillars_fpn_sbn-all_fp16_2x8_2x_carla-3d/latest.pth\n"
     ]
    },
    {
     "name": "stderr",
     "output_type": "stream",
     "text": [
      "/home/spencer/Documents/Projects/Research/avstack-studies/submodules/lib-avstack/third_party/mmdetection3d/mmdet3d/models/dense_heads/anchor3d_head.py:84: UserWarning: dir_offset and dir_limit_offset will be depressed and be incorporated into box coder in the future\n",
      "  warnings.warn(\n"
     ]
    },
    {
     "name": "stdout",
     "output_type": "stream",
     "text": [
      "      Running dataset: CARLA, case 1\n"
     ]
    },
    {
     "name": "stderr",
     "output_type": "stream",
     "text": [
      "100%|█████████████████████████████████████████████████████████████████| 100/100 [00:50<00:00,  1.97it/s]\n",
      "100%|█████████████████████████████████████████████████████████████████| 100/100 [00:10<00:00,  9.50it/s]\n",
      "100%|█████████████████████████████████████████████████████████████████| 100/100 [00:24<00:00,  4.00it/s]\n"
     ]
    },
    {
     "name": "stdout",
     "output_type": "stream",
     "text": [
      "\n",
      "CLEAR Config:\n",
      "THRESHOLD            : 0.5                           \n",
      "PRINT_CONFIG         : True                          \n",
      "\n",
      "IDEucl Config:\n",
      "THRESHOLD            : 0.4                           \n",
      "PRINT_CONFIG         : True                          \n",
      "\n",
      "Evaluating 1 tracker(s) on 1 sequence(s) for 1 class(es) on AvstackTrackDataset dataset using the following metrics: HOTA, CLEAR, VACE, IDEucl, Count\n",
      "\n",
      "\n",
      "Evaluating box-tracker\n",
      "\n",
      "22 eval_sequence(run_2022_10_31_13:34:52, box-tracker)                    10.9013 sec\n",
      "\n",
      "All sequences for box-tracker finished in 10.90 seconds\n"
     ]
    },
    {
     "name": "stderr",
     "output_type": "stream",
     "text": [
      "100%|█████████████████████████████████████████████████████████████████| 100/100 [01:54<00:00,  1.14s/it]\n",
      "/home/spencer/Documents/Projects/Research/avstack-studies/submodules/lib-avstack/third_party/mmdetection3d/mmdet3d/models/dense_heads/anchor3d_head.py:84: UserWarning: dir_offset and dir_limit_offset will be depressed and be incorporated into box coder in the future\n",
      "  warnings.warn(\n"
     ]
    },
    {
     "name": "stdout",
     "output_type": "stream",
     "text": [
      "{'Case': 1, 'Dataset': 'CARLA', 'Trial': 0, 'Metrics_perception_object_3d_tot_TP': 803, 'Metrics_perception_object_3d_tot_FP': 0, 'Metrics_perception_object_3d_tot_FN': 321, 'Metrics_perception_object_3d_tot_T': 1124, 'Metrics_perception_object_3d_mean_precision': 1.0, 'Metrics_perception_object_3d_mean_recall': 0.7329005994005994, 'Metrics_tracking_HOTA_HOTA': array([0.8339535, 0.8339535, 0.8339535, 0.8339535, 0.8339535, 0.8339535,\n",
      "       0.8339535, 0.8339535, 0.8339535, 0.8339535, 0.8339535, 0.8339535,\n",
      "       0.8339535, 0.8339535, 0.8339535, 0.8339535, 0.8339535, 0.8339535,\n",
      "       0.8339535]), 'Metrics_tracking_HOTA_DetA': array([0.72206466, 0.72206466, 0.72206466, 0.72206466, 0.72206466,\n",
      "       0.72206466, 0.72206466, 0.72206466, 0.72206466, 0.72206466,\n",
      "       0.72206466, 0.72206466, 0.72206466, 0.72206466, 0.72206466,\n",
      "       0.72206466, 0.72206466, 0.72206466, 0.72206466]), 'Metrics_tracking_HOTA_AssA': array([0.96318029, 0.96318029, 0.96318029, 0.96318029, 0.96318029,\n",
      "       0.96318029, 0.96318029, 0.96318029, 0.96318029, 0.96318029,\n",
      "       0.96318029, 0.96318029, 0.96318029, 0.96318029, 0.96318029,\n",
      "       0.96318029, 0.96318029, 0.96318029, 0.96318029]), 'Metrics_tracking_HOTA_DetRe': array([0.86422267, 0.86422267, 0.86422267, 0.86422267, 0.86422267,\n",
      "       0.86422267, 0.86422267, 0.86422267, 0.86422267, 0.86422267,\n",
      "       0.86422267, 0.86422267, 0.86422267, 0.86422267, 0.86422267,\n",
      "       0.86422267, 0.86422267, 0.86422267, 0.86422267]), 'Metrics_tracking_HOTA_DetPr': array([0.81445937, 0.81445937, 0.81445937, 0.81445937, 0.81445937,\n",
      "       0.81445937, 0.81445937, 0.81445937, 0.81445937, 0.81445937,\n",
      "       0.81445937, 0.81445937, 0.81445937, 0.81445937, 0.81445937,\n",
      "       0.81445937, 0.81445937, 0.81445937, 0.81445937]), 'Metrics_tracking_HOTA_AssRe': array([0.96318029, 0.96318029, 0.96318029, 0.96318029, 0.96318029,\n",
      "       0.96318029, 0.96318029, 0.96318029, 0.96318029, 0.96318029,\n",
      "       0.96318029, 0.96318029, 0.96318029, 0.96318029, 0.96318029,\n",
      "       0.96318029, 0.96318029, 0.96318029, 0.96318029]), 'Metrics_tracking_HOTA_AssPr': array([1., 1., 1., 1., 1., 1., 1., 1., 1., 1., 1., 1., 1., 1., 1., 1., 1.,\n",
      "       1., 1.]), 'Metrics_tracking_HOTA_LocA': array([3.10029183, 3.10029183, 3.10029183, 3.10029183, 3.10029183,\n",
      "       3.10029183, 3.10029183, 3.10029183, 3.10029183, 3.10029183,\n",
      "       3.10029183, 3.10029183, 3.10029183, 3.10029183, 3.10029183,\n",
      "       3.10029183, 3.10029183, 3.10029183, 3.10029183]), 'Metrics_tracking_HOTA_RHOTA': array([0.91236081, 0.91236081, 0.91236081, 0.91236081, 0.91236081,\n",
      "       0.91236081, 0.91236081, 0.91236081, 0.91236081, 0.91236081,\n",
      "       0.91236081, 0.91236081, 0.91236081, 0.91236081, 0.91236081,\n",
      "       0.91236081, 0.91236081, 0.91236081, 0.91236081]), 'Metrics_tracking_HOTA_HOTA_TP': array([1273., 1273., 1273., 1273., 1273., 1273., 1273., 1273., 1273.,\n",
      "       1273., 1273., 1273., 1273., 1273., 1273., 1273., 1273., 1273.,\n",
      "       1273.]), 'Metrics_tracking_HOTA_HOTA_FN': array([200., 200., 200., 200., 200., 200., 200., 200., 200., 200., 200.,\n",
      "       200., 200., 200., 200., 200., 200., 200., 200.]), 'Metrics_tracking_HOTA_HOTA_FP': array([290., 290., 290., 290., 290., 290., 290., 290., 290., 290., 290.,\n",
      "       290., 290., 290., 290., 290., 290., 290., 290.]), 'Metrics_tracking_HOTA_HOTA(0)': 0.8339535043620715, 'Metrics_tracking_HOTA_LocA(0)': 3.1002918349404123, 'Metrics_tracking_HOTA_HOTALocA(0)': 2.585499240293674, 'Metrics_tracking_CLEAR_MOTA': 0.6673455532926001, 'Metrics_tracking_CLEAR_MOTP': 3.1002918349404123, 'Metrics_tracking_CLEAR_MODA': 0.6673455532926001, 'Metrics_tracking_CLEAR_CLR_Re': 0.8642226748133062, 'Metrics_tracking_CLEAR_CLR_Pr': 0.8144593730006398, 'Metrics_tracking_CLEAR_MTR': 0.7241379310344828, 'Metrics_tracking_CLEAR_PTR': 0.034482758620689655, 'Metrics_tracking_CLEAR_MLR': 0.2413793103448276, 'Metrics_tracking_CLEAR_sMOTA': 2.48246538077335, 'Metrics_tracking_CLEAR_CLR_F1': 0.8386034255599473, 'Metrics_tracking_CLEAR_FP_per_frame': 2.9, 'Metrics_tracking_CLEAR_MOTAL': 0.6673455532926001, 'Metrics_tracking_CLEAR_MOTP_sum': 3946.6715058791447, 'Metrics_tracking_CLEAR_CLR_TP': 1273, 'Metrics_tracking_CLEAR_CLR_FN': 200, 'Metrics_tracking_CLEAR_CLR_FP': 290, 'Metrics_tracking_CLEAR_IDSW': 0, 'Metrics_tracking_CLEAR_MT': 21, 'Metrics_tracking_CLEAR_PT': 1, 'Metrics_tracking_CLEAR_ML': 7, 'Metrics_tracking_CLEAR_Frag': 53.0, 'Metrics_tracking_CLEAR_CLR_Frames': 100, 'Metrics_tracking_VACE_STDA': 21.273529702460344, 'Metrics_tracking_VACE_VACE_IDs': 27, 'Metrics_tracking_VACE_VACE_GT_IDs': 29, 'Metrics_tracking_VACE_FDA': 259.301937306448, 'Metrics_tracking_VACE_num_non_empty_timesteps': 100, 'Metrics_tracking_VACE_ATA': 0.7597689179450123, 'Metrics_tracking_VACE_SFDA': 2.59301937306448, 'Metrics_tracking_IDEucl_IDEucl': array(0.83885043), 'Metrics_tracking_Count_Dets': 10000, 'Metrics_tracking_Count_GT_Dets': 10000, 'Metrics_tracking_Count_IDs': 27, 'Metrics_tracking_Count_GT_IDs': 29, 'Metrics_tracking_Count_Frames': 100, 'Metrics_prediction_agg_ADE': 3.963747769618394, 'Metrics_prediction_agg_FDE': 9.630090491714729, 'Metrics_prediction_std_ADE': 1.0460724023119718, 'Metrics_prediction_std_FDE': 3.226842397058901, 'Metrics_prediction_n_with_truth': 2617, 'Metrics_prediction_n_objects': 2617, 'Metrics_collaborative_n_collab_detections_median': 122.0, 'Metrics_collaborative_n_collab_sensors_in_view_median': 13.0, 'Metrics_collaborative_n_collab_sensors_total_median': 39.0}\n",
      "load checkpoint from local path: /home/spencer/Documents/Projects/Research/avstack-studies/submodules/lib-avstack/third_party/mmdetection3d/work_dirs/hv_pointpillars_fpn_sbn-all_fp16_2x8_2x_carla-3d/latest.pth\n",
      "      Running dataset: CARLA, case 2\n"
     ]
    },
    {
     "name": "stderr",
     "output_type": "stream",
     "text": [
      "100%|█████████████████████████████████████████████████████████████████| 100/100 [01:00<00:00,  1.65it/s]\n",
      "100%|█████████████████████████████████████████████████████████████████| 100/100 [00:11<00:00,  8.50it/s]\n",
      "100%|█████████████████████████████████████████████████████████████████| 100/100 [00:25<00:00,  3.91it/s]\n"
     ]
    },
    {
     "name": "stdout",
     "output_type": "stream",
     "text": [
      "\n",
      "CLEAR Config:\n",
      "THRESHOLD            : 0.5                           \n",
      "PRINT_CONFIG         : True                          \n",
      "\n",
      "IDEucl Config:\n",
      "THRESHOLD            : 0.4                           \n",
      "PRINT_CONFIG         : True                          \n",
      "\n",
      "Evaluating 1 tracker(s) on 1 sequence(s) for 1 class(es) on AvstackTrackDataset dataset using the following metrics: HOTA, CLEAR, VACE, IDEucl, Count\n",
      "\n",
      "\n",
      "Evaluating box-tracker\n",
      "\n",
      "23 eval_sequence(run_2022_10_31_13:34:52, box-tracker)                    10.5841 sec\n",
      "\n",
      "All sequences for box-tracker finished in 10.58 seconds\n"
     ]
    },
    {
     "name": "stderr",
     "output_type": "stream",
     "text": [
      "100%|█████████████████████████████████████████████████████████████████| 100/100 [02:30<00:00,  1.51s/it]\n",
      "/home/spencer/Documents/Projects/Research/avstack-studies/submodules/lib-avstack/third_party/mmdetection3d/mmdet3d/models/dense_heads/anchor3d_head.py:84: UserWarning: dir_offset and dir_limit_offset will be depressed and be incorporated into box coder in the future\n",
      "  warnings.warn(\n"
     ]
    },
    {
     "name": "stdout",
     "output_type": "stream",
     "text": [
      "{'Case': 2, 'Dataset': 'CARLA', 'Trial': 0, 'Metrics_perception_object_3d_tot_TP': 803, 'Metrics_perception_object_3d_tot_FP': 0, 'Metrics_perception_object_3d_tot_FN': 321, 'Metrics_perception_object_3d_tot_T': 1124, 'Metrics_perception_object_3d_mean_precision': 1.0, 'Metrics_perception_object_3d_mean_recall': 0.7329005994005994, 'Metrics_tracking_HOTA_HOTA': array([0.77273554, 0.77273554, 0.77250721, 0.77250721, 0.77250721,\n",
      "       0.77250721, 0.77250721, 0.77202679, 0.77202679, 0.77202679,\n",
      "       0.77202679, 0.77202679, 0.77171756, 0.77142347, 0.77142347,\n",
      "       0.77142347, 0.77142347, 0.7712037 , 0.77055623]), 'Metrics_tracking_HOTA_DetA': array([0.69654428, 0.69654428, 0.69562871, 0.69562871, 0.69562871,\n",
      "       0.69562871, 0.69562871, 0.69471413, 0.69471413, 0.69471413,\n",
      "       0.69471413, 0.69471413, 0.69380054, 0.69288793, 0.69288793,\n",
      "       0.69288793, 0.69288793, 0.69197631, 0.690156  ]), 'Metrics_tracking_HOTA_AssA': array([0.85726096, 0.85726096, 0.85788205, 0.85788205, 0.85788205,\n",
      "       0.85788205, 0.85788205, 0.85794333, 0.85794333, 0.85794333,\n",
      "       0.85794333, 0.85794333, 0.85838503, 0.85886064, 0.85886064,\n",
      "       0.85886064, 0.85886064, 0.85950217, 0.86032275]), 'Metrics_tracking_HOTA_DetRe': array([0.87576375, 0.87576375, 0.87508486, 0.87508486, 0.87508486,\n",
      "       0.87508486, 0.87508486, 0.87440597, 0.87440597, 0.87440597,\n",
      "       0.87440597, 0.87440597, 0.87372709, 0.8730482 , 0.8730482 ,\n",
      "       0.8730482 , 0.8730482 , 0.87236931, 0.87101154]), 'Metrics_tracking_HOTA_DetPr': array([0.77291791, 0.77291791, 0.77231875, 0.77231875, 0.77231875,\n",
      "       0.77231875, 0.77231875, 0.77171959, 0.77171959, 0.77171959,\n",
      "       0.77171959, 0.77171959, 0.77112043, 0.77052127, 0.77052127,\n",
      "       0.77052127, 0.77052127, 0.76992211, 0.76872379]), 'Metrics_tracking_HOTA_AssRe': array([0.86349088, 0.86349088, 0.8641167 , 0.8641167 , 0.8641167 ,\n",
      "       0.8641167 , 0.8641167 , 0.86425637, 0.86425637, 0.86425637,\n",
      "       0.86425637, 0.86425637, 0.86469937, 0.86517989, 0.86517989,\n",
      "       0.86517989, 0.86517989, 0.86581222, 0.86666636]), 'Metrics_tracking_HOTA_AssPr': array([0.9711202 , 0.9711202 , 0.97090385, 0.97090385, 0.97090385,\n",
      "       0.97090385, 0.97090385, 0.97021577, 0.97021577, 0.97021577,\n",
      "       0.97021577, 0.97021577, 0.96999838, 0.96969734, 0.96969734,\n",
      "       0.96969734, 0.96969734, 0.97038122, 0.96969481]), 'Metrics_tracking_HOTA_LocA': array([2.93732274, 2.93732274, 2.93949082, 2.93949082, 2.93949082,\n",
      "       2.93949082, 2.93949082, 2.94150117, 2.94150117, 2.94150117,\n",
      "       2.94150117, 2.94150117, 2.94330921, 2.94508385, 2.94508385,\n",
      "       2.94508385, 2.94508385, 2.94667823, 2.94984454]), 'Metrics_tracking_HOTA_RHOTA': array([0.86646297, 0.86646297, 0.86644076, 0.86644076, 0.86644076,\n",
      "       0.86644076, 0.86644076, 0.86613554, 0.86613554, 0.86613554,\n",
      "       0.86613554, 0.86613554, 0.86602209, 0.86592536, 0.86592536,\n",
      "       0.86592536, 0.86592536, 0.86591184, 0.86565065]), 'Metrics_tracking_HOTA_HOTA_TP': array([1290., 1290., 1289., 1289., 1289., 1289., 1289., 1288., 1288.,\n",
      "       1288., 1288., 1288., 1287., 1286., 1286., 1286., 1286., 1285.,\n",
      "       1283.]), 'Metrics_tracking_HOTA_HOTA_FN': array([183., 183., 184., 184., 184., 184., 184., 185., 185., 185., 185.,\n",
      "       185., 186., 187., 187., 187., 187., 188., 190.]), 'Metrics_tracking_HOTA_HOTA_FP': array([379., 379., 380., 380., 380., 380., 380., 381., 381., 381., 381.,\n",
      "       381., 382., 383., 383., 383., 383., 384., 386.]), 'Metrics_tracking_HOTA_HOTA(0)': 0.7727355407423957, 'Metrics_tracking_HOTA_LocA(0)': 2.937322736432459, 'Metrics_tracking_HOTA_HOTALocA(0)': 2.2697736730720695, 'Metrics_tracking_CLEAR_MOTA': 0.604887983706721, 'Metrics_tracking_CLEAR_MOTP': 2.9374339640591605, 'Metrics_tracking_CLEAR_MODA': 0.6157501697216565, 'Metrics_tracking_CLEAR_CLR_Re': 0.8744059742023083, 'Metrics_tracking_CLEAR_CLR_Pr': 0.7717195925704015, 'Metrics_tracking_CLEAR_MTR': 0.6896551724137931, 'Metrics_tracking_CLEAR_PTR': 0.13793103448275862, 'Metrics_tracking_CLEAR_MLR': 0.1724137931034483, 'Metrics_tracking_CLEAR_sMOTA': 2.298991816502511, 'Metrics_tracking_CLEAR_CLR_F1': 0.8198599618077658, 'Metrics_tracking_CLEAR_FP_per_frame': 3.81, 'Metrics_tracking_CLEAR_MOTAL': 0.6149327087694121, 'Metrics_tracking_CLEAR_MOTP_sum': 3783.4149457081985, 'Metrics_tracking_CLEAR_CLR_TP': 1288, 'Metrics_tracking_CLEAR_CLR_FN': 185, 'Metrics_tracking_CLEAR_CLR_FP': 381, 'Metrics_tracking_CLEAR_IDSW': 16, 'Metrics_tracking_CLEAR_MT': 20, 'Metrics_tracking_CLEAR_PT': 4, 'Metrics_tracking_CLEAR_ML': 5, 'Metrics_tracking_CLEAR_Frag': 73.0, 'Metrics_tracking_CLEAR_CLR_Frames': 100, 'Metrics_tracking_VACE_STDA': 18.62244834888561, 'Metrics_tracking_VACE_VACE_IDs': 45, 'Metrics_tracking_VACE_VACE_GT_IDs': 29, 'Metrics_tracking_VACE_FDA': 241.96201637141445, 'Metrics_tracking_VACE_num_non_empty_timesteps': 100, 'Metrics_tracking_VACE_ATA': 0.5033094148347462, 'Metrics_tracking_VACE_SFDA': 2.4196201637141446, 'Metrics_tracking_IDEucl_IDEucl': array(0.73491492), 'Metrics_tracking_Count_Dets': 10000, 'Metrics_tracking_Count_GT_Dets': 10000, 'Metrics_tracking_Count_IDs': 45, 'Metrics_tracking_Count_GT_IDs': 29, 'Metrics_tracking_Count_Frames': 100, 'Metrics_prediction_agg_ADE': 3.5001453169284065, 'Metrics_prediction_agg_FDE': 8.2697040246071, 'Metrics_prediction_std_ADE': 1.114467911768121, 'Metrics_prediction_std_FDE': 2.652082544951583, 'Metrics_prediction_n_with_truth': 2704, 'Metrics_prediction_n_objects': 2704, 'Metrics_collaborative_n_collab_detections_median': 122.0, 'Metrics_collaborative_n_collab_sensors_in_view_median': 13.0, 'Metrics_collaborative_n_collab_sensors_total_median': 39.0}\n",
      "load checkpoint from local path: /home/spencer/Documents/Projects/Research/avstack-studies/submodules/lib-avstack/third_party/mmdetection3d/work_dirs/hv_pointpillars_fpn_sbn-all_fp16_2x8_2x_carla-3d/latest.pth\n",
      "      Running dataset: CARLA, case 3\n"
     ]
    },
    {
     "name": "stderr",
     "output_type": "stream",
     "text": [
      "100%|█████████████████████████████████████████████████████████████████| 100/100 [01:02<00:00,  1.61it/s]\n",
      "100%|█████████████████████████████████████████████████████████████████| 100/100 [00:10<00:00,  9.20it/s]\n",
      "100%|█████████████████████████████████████████████████████████████████| 100/100 [00:13<00:00,  7.29it/s]\n"
     ]
    },
    {
     "name": "stdout",
     "output_type": "stream",
     "text": [
      "\n",
      "CLEAR Config:\n",
      "THRESHOLD            : 0.5                           \n",
      "PRINT_CONFIG         : True                          \n",
      "\n",
      "IDEucl Config:\n",
      "THRESHOLD            : 0.4                           \n",
      "PRINT_CONFIG         : True                          \n",
      "\n",
      "Evaluating 1 tracker(s) on 1 sequence(s) for 1 class(es) on AvstackTrackDataset dataset using the following metrics: HOTA, CLEAR, VACE, IDEucl, Count\n",
      "\n",
      "\n",
      "Evaluating box-tracker\n",
      "\n",
      "24 eval_sequence(run_2022_10_31_13:34:52, box-tracker)                    8.0475 sec\n",
      "\n",
      "All sequences for box-tracker finished in 8.05 seconds\n"
     ]
    },
    {
     "name": "stderr",
     "output_type": "stream",
     "text": [
      "100%|█████████████████████████████████████████████████████████████████| 100/100 [01:25<00:00,  1.17it/s]\n",
      "/home/spencer/Documents/Projects/Research/avstack-studies/submodules/lib-avstack/third_party/mmdetection3d/mmdet3d/models/dense_heads/anchor3d_head.py:84: UserWarning: dir_offset and dir_limit_offset will be depressed and be incorporated into box coder in the future\n",
      "  warnings.warn(\n"
     ]
    },
    {
     "name": "stdout",
     "output_type": "stream",
     "text": [
      "{'Case': 3, 'Dataset': 'CARLA', 'Trial': 0, 'Metrics_perception_object_3d_tot_TP': 803, 'Metrics_perception_object_3d_tot_FP': 0, 'Metrics_perception_object_3d_tot_FN': 321, 'Metrics_perception_object_3d_tot_T': 1124, 'Metrics_perception_object_3d_mean_precision': 1.0, 'Metrics_perception_object_3d_mean_recall': 0.7329005994005994, 'Metrics_tracking_HOTA_HOTA': array([0.55524449, 0.55524449, 0.55524449, 0.55504887, 0.55504887,\n",
      "       0.55504887, 0.55504887, 0.55504887, 0.55504887, 0.55504887,\n",
      "       0.55504887, 0.55504887, 0.55504887, 0.55504887, 0.55504887,\n",
      "       0.55504887, 0.55504887, 0.55504887, 0.55504887]), 'Metrics_tracking_HOTA_DetA': array([0.36960883, 0.36960883, 0.36960883, 0.36892231, 0.36892231,\n",
      "       0.36892231, 0.36892231, 0.36892231, 0.36892231, 0.36892231,\n",
      "       0.36892231, 0.36892231, 0.36892231, 0.36892231, 0.36892231,\n",
      "       0.36892231, 0.36892231, 0.36892231, 0.36892231]), 'Metrics_tracking_HOTA_AssA': array([0.83411547, 0.83411547, 0.83411547, 0.83507894, 0.83507894,\n",
      "       0.83507894, 0.83507894, 0.83507894, 0.83507894, 0.83507894,\n",
      "       0.83507894, 0.83507894, 0.83507894, 0.83507894, 0.83507894,\n",
      "       0.83507894, 0.83507894, 0.83507894, 0.83507894]), 'Metrics_tracking_HOTA_DetRe': array([0.50033944, 0.50033944, 0.50033944, 0.49966056, 0.49966056,\n",
      "       0.49966056, 0.49966056, 0.49966056, 0.49966056, 0.49966056,\n",
      "       0.49966056, 0.49966056, 0.49966056, 0.49966056, 0.49966056,\n",
      "       0.49966056, 0.49966056, 0.49966056, 0.49966056]), 'Metrics_tracking_HOTA_DetPr': array([0.58585056, 0.58585056, 0.58585056, 0.58505564, 0.58505564,\n",
      "       0.58505564, 0.58505564, 0.58505564, 0.58505564, 0.58505564,\n",
      "       0.58505564, 0.58505564, 0.58505564, 0.58505564, 0.58505564,\n",
      "       0.58505564, 0.58505564, 0.58505564, 0.58505564]), 'Metrics_tracking_HOTA_AssRe': array([0.834172  , 0.834172  , 0.834172  , 0.83507894, 0.83507894,\n",
      "       0.83507894, 0.83507894, 0.83507894, 0.83507894, 0.83507894,\n",
      "       0.83507894, 0.83507894, 0.83507894, 0.83507894, 0.83507894,\n",
      "       0.83507894, 0.83507894, 0.83507894, 0.83507894]), 'Metrics_tracking_HOTA_AssPr': array([0.99909543, 0.99909543, 0.99909543, 1.        , 1.        ,\n",
      "       1.        , 1.        , 1.        , 1.        , 1.        ,\n",
      "       1.        , 1.        , 1.        , 1.        , 1.        ,\n",
      "       1.        , 1.        , 1.        , 1.        ]), 'Metrics_tracking_HOTA_LocA': array([3.09028093, 3.09028093, 3.09028093, 3.09423794, 3.09423794,\n",
      "       3.09423794, 3.09423794, 3.09423794, 3.09423794, 3.09423794,\n",
      "       3.09423794, 3.09423794, 3.09423794, 3.09423794, 3.09423794,\n",
      "       3.09423794, 3.09423794, 3.09423794, 3.09423794]), 'Metrics_tracking_HOTA_RHOTA': array([0.64601925, 0.64601925, 0.64601925, 0.64595356, 0.64595356,\n",
      "       0.64595356, 0.64595356, 0.64595356, 0.64595356, 0.64595356,\n",
      "       0.64595356, 0.64595356, 0.64595356, 0.64595356, 0.64595356,\n",
      "       0.64595356, 0.64595356, 0.64595356, 0.64595356]), 'Metrics_tracking_HOTA_HOTA_TP': array([737., 737., 737., 736., 736., 736., 736., 736., 736., 736., 736.,\n",
      "       736., 736., 736., 736., 736., 736., 736., 736.]), 'Metrics_tracking_HOTA_HOTA_FN': array([736., 736., 736., 737., 737., 737., 737., 737., 737., 737., 737.,\n",
      "       737., 737., 737., 737., 737., 737., 737., 737.]), 'Metrics_tracking_HOTA_HOTA_FP': array([521., 521., 521., 522., 522., 522., 522., 522., 522., 522., 522.,\n",
      "       522., 522., 522., 522., 522., 522., 522., 522.]), 'Metrics_tracking_HOTA_HOTA(0)': 0.5552444857704952, 'Metrics_tracking_HOTA_LocA(0)': 3.090280931854129, 'Metrics_tracking_HOTA_HOTALocA(0)': 1.7158614468937126, 'Metrics_tracking_CLEAR_MOTA': 0.1452817379497624, 'Metrics_tracking_CLEAR_MOTP': 3.0942379373919375, 'Metrics_tracking_CLEAR_MODA': 0.1452817379497624, 'Metrics_tracking_CLEAR_CLR_Re': 0.49966055668703324, 'Metrics_tracking_CLEAR_CLR_Pr': 0.5850556438791733, 'Metrics_tracking_CLEAR_MTR': 0.1724137931034483, 'Metrics_tracking_CLEAR_PTR': 0.20689655172413793, 'Metrics_tracking_CLEAR_MLR': 0.6206896551724138, 'Metrics_tracking_CLEAR_sMOTA': 1.191689831582122, 'Metrics_tracking_CLEAR_CLR_F1': 0.5389967045038447, 'Metrics_tracking_CLEAR_FP_per_frame': 5.22, 'Metrics_tracking_CLEAR_MOTAL': 0.1452817379497624, 'Metrics_tracking_CLEAR_MOTP_sum': 2277.359121920466, 'Metrics_tracking_CLEAR_CLR_TP': 736, 'Metrics_tracking_CLEAR_CLR_FN': 737, 'Metrics_tracking_CLEAR_CLR_FP': 522, 'Metrics_tracking_CLEAR_IDSW': 0, 'Metrics_tracking_CLEAR_MT': 5, 'Metrics_tracking_CLEAR_PT': 6, 'Metrics_tracking_CLEAR_ML': 18, 'Metrics_tracking_CLEAR_Frag': 2.0, 'Metrics_tracking_CLEAR_CLR_Frames': 100, 'Metrics_tracking_VACE_STDA': 7.916484679500469, 'Metrics_tracking_VACE_VACE_IDs': 140, 'Metrics_tracking_VACE_VACE_GT_IDs': 29, 'Metrics_tracking_VACE_FDA': 167.70983908524877, 'Metrics_tracking_VACE_num_non_empty_timesteps': 100, 'Metrics_tracking_VACE_ATA': 0.09368620922485763, 'Metrics_tracking_VACE_SFDA': 1.6770983908524877, 'Metrics_tracking_IDEucl_IDEucl': array(0.31370591), 'Metrics_tracking_Count_Dets': 10000, 'Metrics_tracking_Count_GT_Dets': 10000, 'Metrics_tracking_Count_IDs': 140, 'Metrics_tracking_Count_GT_IDs': 29, 'Metrics_tracking_Count_Frames': 100, 'Metrics_prediction_agg_ADE': 2.2967260180201103, 'Metrics_prediction_agg_FDE': 3.6620936768204135, 'Metrics_prediction_std_ADE': 1.3727714342236799, 'Metrics_prediction_std_FDE': 2.8382214884594283, 'Metrics_prediction_n_with_truth': 1359, 'Metrics_prediction_n_objects': 1359, 'Metrics_collaborative_n_collab_detections_median': 55.0, 'Metrics_collaborative_n_collab_sensors_in_view_median': 5.0, 'Metrics_collaborative_n_collab_sensors_total_median': 39.0}\n",
      "load checkpoint from local path: /home/spencer/Documents/Projects/Research/avstack-studies/submodules/lib-avstack/third_party/mmdetection3d/work_dirs/hv_pointpillars_fpn_sbn-all_fp16_2x8_2x_carla-3d/latest.pth\n",
      "      Running dataset: CARLA, case 4\n"
     ]
    },
    {
     "name": "stderr",
     "output_type": "stream",
     "text": [
      "100%|█████████████████████████████████████████████████████████████████| 100/100 [00:22<00:00,  4.46it/s]\n",
      "100%|█████████████████████████████████████████████████████████████████| 100/100 [00:11<00:00,  8.74it/s]\n",
      "100%|█████████████████████████████████████████████████████████████████| 100/100 [00:15<00:00,  6.58it/s]\n"
     ]
    },
    {
     "name": "stdout",
     "output_type": "stream",
     "text": [
      "\n",
      "CLEAR Config:\n",
      "THRESHOLD            : 0.5                           \n",
      "PRINT_CONFIG         : True                          \n",
      "\n",
      "IDEucl Config:\n",
      "THRESHOLD            : 0.4                           \n",
      "PRINT_CONFIG         : True                          \n",
      "\n",
      "Evaluating 1 tracker(s) on 1 sequence(s) for 1 class(es) on AvstackTrackDataset dataset using the following metrics: HOTA, CLEAR, VACE, IDEucl, Count\n",
      "\n",
      "\n",
      "Evaluating box-tracker\n",
      "\n",
      "25 eval_sequence(run_2022_10_31_13:34:52, box-tracker)                    8.1644 sec\n",
      "\n",
      "All sequences for box-tracker finished in 8.16 seconds\n"
     ]
    },
    {
     "name": "stderr",
     "output_type": "stream",
     "text": [
      "100%|█████████████████████████████████████████████████████████████████| 100/100 [01:20<00:00,  1.25it/s]\n",
      "/home/spencer/Documents/Projects/Research/avstack-studies/submodules/lib-avstack/third_party/mmdetection3d/mmdet3d/models/dense_heads/anchor3d_head.py:84: UserWarning: dir_offset and dir_limit_offset will be depressed and be incorporated into box coder in the future\n",
      "  warnings.warn(\n"
     ]
    },
    {
     "name": "stdout",
     "output_type": "stream",
     "text": [
      "{'Case': 4, 'Dataset': 'CARLA', 'Trial': 0, 'Metrics_perception_object_3d_tot_TP': 803, 'Metrics_perception_object_3d_tot_FP': 0, 'Metrics_perception_object_3d_tot_FN': 321, 'Metrics_perception_object_3d_tot_T': 1124, 'Metrics_perception_object_3d_mean_precision': 1.0, 'Metrics_perception_object_3d_mean_recall': 0.7329005994005994, 'Metrics_tracking_HOTA_HOTA': array([0.70353811, 0.70353811, 0.70353811, 0.70353811, 0.70353811,\n",
      "       0.70353811, 0.70353811, 0.70353811, 0.70353811, 0.70353811,\n",
      "       0.70353811, 0.70323476, 0.70323476, 0.70323476, 0.70323476,\n",
      "       0.70300597, 0.70300597, 0.70300597, 0.70300597]), 'Metrics_tracking_HOTA_DetA': array([0.58295455, 0.58295455, 0.58295455, 0.58295455, 0.58295455,\n",
      "       0.58295455, 0.58295455, 0.58295455, 0.58295455, 0.58295455,\n",
      "       0.58295455, 0.58205565, 0.58205565, 0.58205565, 0.58205565,\n",
      "       0.58115778, 0.58115778, 0.58115778, 0.58115778]), 'Metrics_tracking_HOTA_AssA': array([0.84906426, 0.84906426, 0.84906426, 0.84906426, 0.84906426,\n",
      "       0.84906426, 0.84906426, 0.84906426, 0.84906426, 0.84906426,\n",
      "       0.84906426, 0.84964235, 0.84964235, 0.84964235, 0.84964235,\n",
      "       0.85040142, 0.85040142, 0.85040142, 0.85040142]), 'Metrics_tracking_HOTA_DetRe': array([0.69653768, 0.69653768, 0.69653768, 0.69653768, 0.69653768,\n",
      "       0.69653768, 0.69653768, 0.69653768, 0.69653768, 0.69653768,\n",
      "       0.69653768, 0.69585879, 0.69585879, 0.69585879, 0.69585879,\n",
      "       0.6951799 , 0.6951799 , 0.6951799 , 0.6951799 ]), 'Metrics_tracking_HOTA_DetPr': array([0.7814166 , 0.7814166 , 0.7814166 , 0.7814166 , 0.7814166 ,\n",
      "       0.7814166 , 0.7814166 , 0.7814166 , 0.7814166 , 0.7814166 ,\n",
      "       0.7814166 , 0.78065499, 0.78065499, 0.78065499, 0.78065499,\n",
      "       0.77989337, 0.77989337, 0.77989337, 0.77989337]), 'Metrics_tracking_HOTA_AssRe': array([0.84914853, 0.84914853, 0.84914853, 0.84914853, 0.84914853,\n",
      "       0.84914853, 0.84914853, 0.84914853, 0.84914853, 0.84914853,\n",
      "       0.84914853, 0.84973849, 0.84973849, 0.84973849, 0.84973849,\n",
      "       0.85049784, 0.85049784, 0.85049784, 0.85049784]), 'Metrics_tracking_HOTA_AssPr': array([0.99792073, 0.99792073, 0.99792073, 0.99792073, 0.99792073,\n",
      "       0.99792073, 0.99792073, 0.99792073, 0.99792073, 0.99792073,\n",
      "       0.99792073, 0.99710569, 0.99710569, 0.99710569, 0.99710569,\n",
      "       0.99671224, 0.99671224, 0.99671224, 0.99671224]), 'Metrics_tracking_HOTA_LocA': array([2.98852946, 2.98852946, 2.98852946, 2.98852946, 2.98852946,\n",
      "       2.98852946, 2.98852946, 2.98852946, 2.98852946, 2.98852946,\n",
      "       2.98852946, 2.990906  , 2.990906  , 2.990906  , 2.990906  ,\n",
      "       2.99307038, 2.99307038, 2.99307038, 2.99307038]), 'Metrics_tracking_HOTA_RHOTA': array([0.76902877, 0.76902877, 0.76902877, 0.76902877, 0.76902877,\n",
      "       0.76902877, 0.76902877, 0.76902877, 0.76902877, 0.76902877,\n",
      "       0.76902877, 0.76891553, 0.76891553, 0.76891553, 0.76891553,\n",
      "       0.76888359, 0.76888359, 0.76888359, 0.76888359]), 'Metrics_tracking_HOTA_HOTA_TP': array([1026., 1026., 1026., 1026., 1026., 1026., 1026., 1026., 1026.,\n",
      "       1026., 1026., 1025., 1025., 1025., 1025., 1024., 1024., 1024.,\n",
      "       1024.]), 'Metrics_tracking_HOTA_HOTA_FN': array([447., 447., 447., 447., 447., 447., 447., 447., 447., 447., 447.,\n",
      "       448., 448., 448., 448., 449., 449., 449., 449.]), 'Metrics_tracking_HOTA_HOTA_FP': array([287., 287., 287., 287., 287., 287., 287., 287., 287., 287., 287.,\n",
      "       288., 288., 288., 288., 289., 289., 289., 289.]), 'Metrics_tracking_HOTA_HOTA(0)': 0.7035381072116448, 'Metrics_tracking_HOTA_LocA(0)': 2.9885294620022966, 'Metrics_tracking_HOTA_HOTALocA(0)': 2.1025443610433308, 'Metrics_tracking_CLEAR_MOTA': 0.49762389680923286, 'Metrics_tracking_CLEAR_MOTP': 2.9897466427430555, 'Metrics_tracking_CLEAR_MODA': 0.5016972165648337, 'Metrics_tracking_CLEAR_CLR_Re': 0.6965376782077393, 'Metrics_tracking_CLEAR_CLR_Pr': 0.7814166031987814, 'Metrics_tracking_CLEAR_MTR': 0.27586206896551724, 'Metrics_tracking_CLEAR_PTR': 0.20689655172413793, 'Metrics_tracking_CLEAR_MLR': 0.5172413793103449, 'Metrics_tracking_CLEAR_sMOTA': 1.8835574035671248, 'Metrics_tracking_CLEAR_CLR_F1': 0.7365398420674802, 'Metrics_tracking_CLEAR_FP_per_frame': 2.87, 'Metrics_tracking_CLEAR_MOTAL': 0.5011689400879948, 'Metrics_tracking_CLEAR_MOTP_sum': 3067.480055454375, 'Metrics_tracking_CLEAR_CLR_TP': 1026, 'Metrics_tracking_CLEAR_CLR_FN': 447, 'Metrics_tracking_CLEAR_CLR_FP': 287, 'Metrics_tracking_CLEAR_IDSW': 6, 'Metrics_tracking_CLEAR_MT': 8, 'Metrics_tracking_CLEAR_PT': 6, 'Metrics_tracking_CLEAR_ML': 15, 'Metrics_tracking_CLEAR_Frag': 32.0, 'Metrics_tracking_CLEAR_CLR_Frames': 100, 'Metrics_tracking_VACE_STDA': 12.307190578873923, 'Metrics_tracking_VACE_VACE_IDs': 26, 'Metrics_tracking_VACE_VACE_GT_IDs': 29, 'Metrics_tracking_VACE_FDA': 219.9073788850039, 'Metrics_tracking_VACE_num_non_empty_timesteps': 100, 'Metrics_tracking_VACE_ATA': 0.44753420286814266, 'Metrics_tracking_VACE_SFDA': 2.199073788850039, 'Metrics_tracking_IDEucl_IDEucl': array(0.53596082), 'Metrics_tracking_Count_Dets': 10000, 'Metrics_tracking_Count_GT_Dets': 10000, 'Metrics_tracking_Count_IDs': 26, 'Metrics_tracking_Count_GT_IDs': 29, 'Metrics_tracking_Count_Frames': 100, 'Metrics_prediction_agg_ADE': 2.8491474628353313, 'Metrics_prediction_agg_FDE': 5.455108744543269, 'Metrics_prediction_std_ADE': 1.3086720023926808, 'Metrics_prediction_std_FDE': 2.6544918308664243, 'Metrics_prediction_n_with_truth': 1502, 'Metrics_prediction_n_objects': 1502, 'Metrics_collaborative_n_collab_detections_median': 20.0, 'Metrics_collaborative_n_collab_sensors_in_view_median': 2.0, 'Metrics_collaborative_n_collab_sensors_total_median': 39.0}\n",
      "load checkpoint from local path: /home/spencer/Documents/Projects/Research/avstack-studies/submodules/lib-avstack/third_party/mmdetection3d/work_dirs/hv_pointpillars_fpn_sbn-all_fp16_2x8_2x_carla-3d/latest.pth\n",
      "      Running dataset: CARLA, case 5\n"
     ]
    },
    {
     "name": "stderr",
     "output_type": "stream",
     "text": [
      "100%|█████████████████████████████████████████████████████████████████| 100/100 [00:11<00:00,  8.41it/s]\n",
      "100%|█████████████████████████████████████████████████████████████████| 100/100 [00:10<00:00,  9.54it/s]\n",
      "100%|█████████████████████████████████████████████████████████████████| 100/100 [00:09<00:00, 10.39it/s]\n"
     ]
    },
    {
     "name": "stdout",
     "output_type": "stream",
     "text": [
      "\n",
      "CLEAR Config:\n",
      "THRESHOLD            : 0.5                           \n",
      "PRINT_CONFIG         : True                          \n",
      "\n",
      "IDEucl Config:\n",
      "THRESHOLD            : 0.4                           \n",
      "PRINT_CONFIG         : True                          \n",
      "\n",
      "Evaluating 1 tracker(s) on 1 sequence(s) for 1 class(es) on AvstackTrackDataset dataset using the following metrics: HOTA, CLEAR, VACE, IDEucl, Count\n",
      "\n",
      "\n",
      "Evaluating box-tracker\n",
      "\n",
      "26 eval_sequence(run_2022_10_31_13:34:52, box-tracker)                    5.7767 sec\n",
      "\n",
      "All sequences for box-tracker finished in 5.78 seconds\n"
     ]
    },
    {
     "name": "stderr",
     "output_type": "stream",
     "text": [
      "100%|█████████████████████████████████████████████████████████████████| 100/100 [02:52<00:00,  1.73s/it]\n",
      "/home/spencer/Documents/Projects/Research/avstack-studies/submodules/lib-avstack/third_party/mmdetection3d/mmdet3d/models/dense_heads/anchor3d_head.py:84: UserWarning: dir_offset and dir_limit_offset will be depressed and be incorporated into box coder in the future\n",
      "  warnings.warn(\n"
     ]
    },
    {
     "name": "stdout",
     "output_type": "stream",
     "text": [
      "{'Case': 5, 'Dataset': 'CARLA', 'Trial': 0, 'Metrics_perception_object_3d_tot_TP': 803, 'Metrics_perception_object_3d_tot_FP': 0, 'Metrics_perception_object_3d_tot_FN': 321, 'Metrics_perception_object_3d_tot_T': 1124, 'Metrics_perception_object_3d_mean_precision': 1.0, 'Metrics_perception_object_3d_mean_recall': 0.7329005994005994, 'Metrics_tracking_HOTA_HOTA': array([0.64633356, 0.64633356, 0.64633356, 0.64633356, 0.64633356,\n",
      "       0.64633356, 0.64633356, 0.64633356, 0.64633356, 0.64633356,\n",
      "       0.64633356, 0.64633356, 0.64633356, 0.64633356, 0.64633356,\n",
      "       0.64633356, 0.64633356, 0.64633356, 0.64633356]), 'Metrics_tracking_HOTA_DetA': array([0.49966056, 0.49966056, 0.49966056, 0.49966056, 0.49966056,\n",
      "       0.49966056, 0.49966056, 0.49966056, 0.49966056, 0.49966056,\n",
      "       0.49966056, 0.49966056, 0.49966056, 0.49966056, 0.49966056,\n",
      "       0.49966056, 0.49966056, 0.49966056, 0.49966056]), 'Metrics_tracking_HOTA_AssA': array([0.83606173, 0.83606173, 0.83606173, 0.83606173, 0.83606173,\n",
      "       0.83606173, 0.83606173, 0.83606173, 0.83606173, 0.83606173,\n",
      "       0.83606173, 0.83606173, 0.83606173, 0.83606173, 0.83606173,\n",
      "       0.83606173, 0.83606173, 0.83606173, 0.83606173]), 'Metrics_tracking_HOTA_DetRe': array([0.49966056, 0.49966056, 0.49966056, 0.49966056, 0.49966056,\n",
      "       0.49966056, 0.49966056, 0.49966056, 0.49966056, 0.49966056,\n",
      "       0.49966056, 0.49966056, 0.49966056, 0.49966056, 0.49966056,\n",
      "       0.49966056, 0.49966056, 0.49966056, 0.49966056]), 'Metrics_tracking_HOTA_DetPr': array([1., 1., 1., 1., 1., 1., 1., 1., 1., 1., 1., 1., 1., 1., 1., 1., 1.,\n",
      "       1., 1.]), 'Metrics_tracking_HOTA_AssRe': array([0.83606173, 0.83606173, 0.83606173, 0.83606173, 0.83606173,\n",
      "       0.83606173, 0.83606173, 0.83606173, 0.83606173, 0.83606173,\n",
      "       0.83606173, 0.83606173, 0.83606173, 0.83606173, 0.83606173,\n",
      "       0.83606173, 0.83606173, 0.83606173, 0.83606173]), 'Metrics_tracking_HOTA_AssPr': array([1., 1., 1., 1., 1., 1., 1., 1., 1., 1., 1., 1., 1., 1., 1., 1., 1.,\n",
      "       1., 1.]), 'Metrics_tracking_HOTA_LocA': array([3.09874776, 3.09874776, 3.09874776, 3.09874776, 3.09874776,\n",
      "       3.09874776, 3.09874776, 3.09874776, 3.09874776, 3.09874776,\n",
      "       3.09874776, 3.09874776, 3.09874776, 3.09874776, 3.09874776,\n",
      "       3.09874776, 3.09874776, 3.09874776, 3.09874776]), 'Metrics_tracking_HOTA_RHOTA': array([0.64633356, 0.64633356, 0.64633356, 0.64633356, 0.64633356,\n",
      "       0.64633356, 0.64633356, 0.64633356, 0.64633356, 0.64633356,\n",
      "       0.64633356, 0.64633356, 0.64633356, 0.64633356, 0.64633356,\n",
      "       0.64633356, 0.64633356, 0.64633356, 0.64633356]), 'Metrics_tracking_HOTA_HOTA_TP': array([736., 736., 736., 736., 736., 736., 736., 736., 736., 736., 736.,\n",
      "       736., 736., 736., 736., 736., 736., 736., 736.]), 'Metrics_tracking_HOTA_HOTA_FN': array([737., 737., 737., 737., 737., 737., 737., 737., 737., 737., 737.,\n",
      "       737., 737., 737., 737., 737., 737., 737., 737.]), 'Metrics_tracking_HOTA_HOTA_FP': array([0., 0., 0., 0., 0., 0., 0., 0., 0., 0., 0., 0., 0., 0., 0., 0., 0.,\n",
      "       0., 0.]), 'Metrics_tracking_HOTA_HOTA(0)': 0.6463335586315082, 'Metrics_tracking_HOTA_LocA(0)': 3.0987477592014825, 'Metrics_tracking_HOTA_HOTALocA(0)': 2.0028246665061062, 'Metrics_tracking_CLEAR_MOTA': 0.49966055668703324, 'Metrics_tracking_CLEAR_MOTP': 3.0987477592014825, 'Metrics_tracking_CLEAR_MODA': 0.49966055668703324, 'Metrics_tracking_CLEAR_CLR_Re': 0.49966055668703324, 'Metrics_tracking_CLEAR_CLR_Pr': 1.0, 'Metrics_tracking_CLEAR_MTR': 0.1724137931034483, 'Metrics_tracking_CLEAR_PTR': 0.20689655172413793, 'Metrics_tracking_CLEAR_MLR': 0.6206896551724138, 'Metrics_tracking_CLEAR_sMOTA': 1.5483220303953098, 'Metrics_tracking_CLEAR_CLR_F1': 0.666364870982345, 'Metrics_tracking_CLEAR_FP_per_frame': 0.0, 'Metrics_tracking_CLEAR_MOTAL': 0.49966055668703324, 'Metrics_tracking_CLEAR_MOTP_sum': 2280.678350772291, 'Metrics_tracking_CLEAR_CLR_TP': 736, 'Metrics_tracking_CLEAR_CLR_FN': 737, 'Metrics_tracking_CLEAR_CLR_FP': 0, 'Metrics_tracking_CLEAR_IDSW': 0, 'Metrics_tracking_CLEAR_MT': 5, 'Metrics_tracking_CLEAR_PT': 6, 'Metrics_tracking_CLEAR_ML': 18, 'Metrics_tracking_CLEAR_Frag': 2.0, 'Metrics_tracking_CLEAR_CLR_Frames': 100, 'Metrics_tracking_VACE_STDA': 7.915373568389358, 'Metrics_tracking_VACE_VACE_IDs': 11, 'Metrics_tracking_VACE_VACE_GT_IDs': 29, 'Metrics_tracking_VACE_FDA': 206.81980022580044, 'Metrics_tracking_VACE_num_non_empty_timesteps': 100, 'Metrics_tracking_VACE_ATA': 0.3957686784194679, 'Metrics_tracking_VACE_SFDA': 2.068198002258004, 'Metrics_tracking_IDEucl_IDEucl': array(0.31292307), 'Metrics_tracking_Count_Dets': 10000, 'Metrics_tracking_Count_GT_Dets': 10000, 'Metrics_tracking_Count_IDs': 11, 'Metrics_tracking_Count_GT_IDs': 29, 'Metrics_tracking_Count_Frames': 100, 'Metrics_prediction_agg_ADE': 3.2412206302338697, 'Metrics_prediction_agg_FDE': 6.878755285767429, 'Metrics_prediction_std_ADE': 2.4182260802195885, 'Metrics_prediction_std_FDE': 6.144905073333933, 'Metrics_prediction_n_with_truth': 764, 'Metrics_prediction_n_objects': 764}\n",
      "   Running trial 1, using index 1\n",
      "load checkpoint from local path: /home/spencer/Documents/Projects/Research/avstack-studies/submodules/lib-avstack/third_party/mmdetection3d/work_dirs/hv_pointpillars_fpn_sbn-all_fp16_2x8_2x_carla-3d/latest.pth\n",
      "      Running dataset: CARLA, case 1\n"
     ]
    },
    {
     "name": "stderr",
     "output_type": "stream",
     "text": [
      "100%|█████████████████████████████████████████████████████████████████| 100/100 [00:39<00:00,  2.55it/s]\n",
      "100%|█████████████████████████████████████████████████████████████████| 100/100 [00:07<00:00, 13.98it/s]\n",
      "100%|█████████████████████████████████████████████████████████████████| 100/100 [00:22<00:00,  4.47it/s]\n"
     ]
    },
    {
     "name": "stdout",
     "output_type": "stream",
     "text": [
      "\n",
      "CLEAR Config:\n",
      "THRESHOLD            : 0.5                           \n",
      "PRINT_CONFIG         : True                          \n",
      "\n",
      "IDEucl Config:\n",
      "THRESHOLD            : 0.4                           \n",
      "PRINT_CONFIG         : True                          \n",
      "\n",
      "Evaluating 1 tracker(s) on 1 sequence(s) for 1 class(es) on AvstackTrackDataset dataset using the following metrics: HOTA, CLEAR, VACE, IDEucl, Count\n",
      "\n",
      "\n",
      "Evaluating box-tracker\n",
      "\n",
      "27 eval_sequence(run_2022_10_31_13:46:21, box-tracker)                    10.7329 sec\n",
      "\n",
      "All sequences for box-tracker finished in 10.73 seconds\n"
     ]
    },
    {
     "name": "stderr",
     "output_type": "stream",
     "text": [
      "100%|█████████████████████████████████████████████████████████████████| 100/100 [01:42<00:00,  1.02s/it]\n",
      "/home/spencer/Documents/Projects/Research/avstack-studies/submodules/lib-avstack/third_party/mmdetection3d/mmdet3d/models/dense_heads/anchor3d_head.py:84: UserWarning: dir_offset and dir_limit_offset will be depressed and be incorporated into box coder in the future\n",
      "  warnings.warn(\n"
     ]
    },
    {
     "name": "stdout",
     "output_type": "stream",
     "text": [
      "{'Case': 1, 'Dataset': 'CARLA', 'Trial': 1, 'Metrics_perception_object_3d_tot_TP': 468, 'Metrics_perception_object_3d_tot_FP': 0, 'Metrics_perception_object_3d_tot_FN': 537, 'Metrics_perception_object_3d_tot_T': 1005, 'Metrics_perception_object_3d_mean_precision': 1.0, 'Metrics_perception_object_3d_mean_recall': 0.4712002719502719, 'Metrics_tracking_HOTA_HOTA': array([0.46837854, 0.46766298, 0.46766298, 0.46766298, 0.46766298,\n",
      "       0.46766298, 0.46766298, 0.46766298, 0.46766298, 0.4671    ,\n",
      "       0.4671    , 0.4671    , 0.4671    , 0.4671    , 0.4671    ,\n",
      "       0.4671    , 0.4671    , 0.4671    , 0.46654068]), 'Metrics_tracking_HOTA_DetA': array([0.32536765, 0.32439383, 0.32439383, 0.32439383, 0.32439383,\n",
      "       0.32439383, 0.32439383, 0.32439383, 0.32439383, 0.32390746,\n",
      "       0.32390746, 0.32390746, 0.32390746, 0.32390746, 0.32390746,\n",
      "       0.32390746, 0.32390746, 0.32390746, 0.32342144]), 'Metrics_tracking_HOTA_AssA': array([0.67424791, 0.67420723, 0.67420723, 0.67420723, 0.67420723,\n",
      "       0.67420723, 0.67420723, 0.67420723, 0.67420723, 0.6735949 ,\n",
      "       0.6735949 , 0.6735949 , 0.6735949 , 0.6735949 , 0.6735949 ,\n",
      "       0.6735949 , 0.6735949 , 0.6735949 , 0.6729925 ]), 'Metrics_tracking_HOTA_DetRe': array([0.67351598, 0.67199391, 0.67199391, 0.67199391, 0.67199391,\n",
      "       0.67199391, 0.67199391, 0.67199391, 0.67199391, 0.67123288,\n",
      "       0.67123288, 0.67123288, 0.67123288, 0.67123288, 0.67123288,\n",
      "       0.67123288, 0.67123288, 0.67123288, 0.67047184]), 'Metrics_tracking_HOTA_DetPr': array([0.38629419, 0.38542121, 0.38542121, 0.38542121, 0.38542121,\n",
      "       0.38542121, 0.38542121, 0.38542121, 0.38542121, 0.38498472,\n",
      "       0.38498472, 0.38498472, 0.38498472, 0.38498472, 0.38498472,\n",
      "       0.38498472, 0.38498472, 0.38498472, 0.38454823]), 'Metrics_tracking_HOTA_AssRe': array([0.67429499, 0.67448686, 0.67448686, 0.67448686, 0.67448686,\n",
      "       0.67448686, 0.67448686, 0.67448686, 0.67448686, 0.67413609,\n",
      "       0.67413609, 0.67413609, 0.67413609, 0.67413609, 0.67413609,\n",
      "       0.67413609, 0.67413609, 0.67413609, 0.6737804 ]), 'Metrics_tracking_HOTA_AssPr': array([0.9992467 , 0.99889512, 0.99889512, 0.99889512, 0.99889512,\n",
      "       0.99889512, 0.99889512, 0.99889512, 0.99889512, 0.99779665,\n",
      "       0.99779665, 0.99779665, 0.99779665, 0.99779665, 0.99779665,\n",
      "       0.99779665, 0.99779665, 0.99779665, 0.99674213]), 'Metrics_tracking_HOTA_LocA': array([2.97469533, 2.98127567, 2.98127567, 2.98127567, 2.98127567,\n",
      "       2.98127567, 2.98127567, 2.98127567, 2.98127567, 2.98413007,\n",
      "       2.98413007, 2.98413007, 2.98413007, 2.98413007, 2.98413007,\n",
      "       2.98413007, 2.98413007, 2.98413007, 2.98647542]), 'Metrics_tracking_HOTA_RHOTA': array([0.67388185, 0.67309966, 0.67309966, 0.67309966, 0.67309966,\n",
      "       0.67309966, 0.67309966, 0.67309966, 0.67309966, 0.67241285,\n",
      "       0.67241285, 0.67241285, 0.67241285, 0.67241285, 0.67241285,\n",
      "       0.67241285, 0.67241285, 0.67241285, 0.67173099]), 'Metrics_tracking_HOTA_HOTA_TP': array([885., 883., 883., 883., 883., 883., 883., 883., 883., 882., 882.,\n",
      "       882., 882., 882., 882., 882., 882., 882., 881.]), 'Metrics_tracking_HOTA_HOTA_FN': array([429., 431., 431., 431., 431., 431., 431., 431., 431., 432., 432.,\n",
      "       432., 432., 432., 432., 432., 432., 432., 433.]), 'Metrics_tracking_HOTA_HOTA_FP': array([1406., 1408., 1408., 1408., 1408., 1408., 1408., 1408., 1408.,\n",
      "       1409., 1409., 1409., 1409., 1409., 1409., 1409., 1409., 1409.,\n",
      "       1410.]), 'Metrics_tracking_HOTA_HOTA(0)': 0.468378539641521, 'Metrics_tracking_HOTA_LocA(0)': 2.97469532630363, 'Metrics_tracking_HOTA_HOTALocA(0)': 1.393283452812552, 'Metrics_tracking_CLEAR_MOTA': -0.4041095890410959, 'Metrics_tracking_CLEAR_MOTP': 2.9841300654051404, 'Metrics_tracking_CLEAR_MODA': -0.4010654490106545, 'Metrics_tracking_CLEAR_CLR_Re': 0.6712328767123288, 'Metrics_tracking_CLEAR_CLR_Pr': 0.3849847228284592, 'Metrics_tracking_CLEAR_MTR': 0.25, 'Metrics_tracking_CLEAR_PTR': 0.5357142857142857, 'Metrics_tracking_CLEAR_MLR': 0.21428571428571427, 'Metrics_tracking_CLEAR_sMOTA': 0.9277037425322174, 'Metrics_tracking_CLEAR_CLR_F1': 0.4893203883495146, 'Metrics_tracking_CLEAR_FP_per_frame': 14.09, 'Metrics_tracking_CLEAR_MOTAL': -0.4015236377407366, 'Metrics_tracking_CLEAR_MOTP_sum': 2632.0027176873336, 'Metrics_tracking_CLEAR_CLR_TP': 882, 'Metrics_tracking_CLEAR_CLR_FN': 432, 'Metrics_tracking_CLEAR_CLR_FP': 1409, 'Metrics_tracking_CLEAR_IDSW': 4, 'Metrics_tracking_CLEAR_MT': 7, 'Metrics_tracking_CLEAR_PT': 15, 'Metrics_tracking_CLEAR_ML': 6, 'Metrics_tracking_CLEAR_Frag': 19.0, 'Metrics_tracking_CLEAR_CLR_Frames': 100, 'Metrics_tracking_VACE_STDA': 14.071442506189255, 'Metrics_tracking_VACE_VACE_IDs': 45, 'Metrics_tracking_VACE_VACE_GT_IDs': 28, 'Metrics_tracking_VACE_FDA': 156.28289942564743, 'Metrics_tracking_VACE_num_non_empty_timesteps': 100, 'Metrics_tracking_VACE_ATA': 0.38551897277230834, 'Metrics_tracking_VACE_SFDA': 1.5628289942564744, 'Metrics_tracking_IDEucl_IDEucl': array(0.55462864), 'Metrics_tracking_Count_Dets': 10000, 'Metrics_tracking_Count_GT_Dets': 10000, 'Metrics_tracking_Count_IDs': 45, 'Metrics_tracking_Count_GT_IDs': 28, 'Metrics_tracking_Count_Frames': 100, 'Metrics_prediction_agg_ADE': 3.194849950354199, 'Metrics_prediction_agg_FDE': 7.7348430263401005, 'Metrics_prediction_std_ADE': 2.239492508965099, 'Metrics_prediction_std_FDE': 7.018943775362392, 'Metrics_prediction_n_with_truth': 2754, 'Metrics_prediction_n_objects': 2754, 'Metrics_collaborative_n_collab_detections_median': 45.0, 'Metrics_collaborative_n_collab_sensors_in_view_median': 8.0, 'Metrics_collaborative_n_collab_sensors_total_median': 39.0}\n",
      "load checkpoint from local path: /home/spencer/Documents/Projects/Research/avstack-studies/submodules/lib-avstack/third_party/mmdetection3d/work_dirs/hv_pointpillars_fpn_sbn-all_fp16_2x8_2x_carla-3d/latest.pth\n",
      "      Running dataset: CARLA, case 2\n"
     ]
    },
    {
     "name": "stderr",
     "output_type": "stream",
     "text": [
      "100%|█████████████████████████████████████████████████████████████████| 100/100 [00:38<00:00,  2.62it/s]\n",
      "100%|█████████████████████████████████████████████████████████████████| 100/100 [00:07<00:00, 12.98it/s]\n",
      "100%|█████████████████████████████████████████████████████████████████| 100/100 [00:22<00:00,  4.38it/s]\n"
     ]
    },
    {
     "name": "stdout",
     "output_type": "stream",
     "text": [
      "\n",
      "CLEAR Config:\n",
      "THRESHOLD            : 0.5                           \n",
      "PRINT_CONFIG         : True                          \n",
      "\n",
      "IDEucl Config:\n",
      "THRESHOLD            : 0.4                           \n",
      "PRINT_CONFIG         : True                          \n",
      "\n",
      "Evaluating 1 tracker(s) on 1 sequence(s) for 1 class(es) on AvstackTrackDataset dataset using the following metrics: HOTA, CLEAR, VACE, IDEucl, Count\n",
      "\n",
      "\n",
      "Evaluating box-tracker\n",
      "\n",
      "28 eval_sequence(run_2022_10_31_13:46:21, box-tracker)                    10.1865 sec\n",
      "\n",
      "All sequences for box-tracker finished in 10.19 seconds\n"
     ]
    },
    {
     "name": "stderr",
     "output_type": "stream",
     "text": [
      "100%|█████████████████████████████████████████████████████████████████| 100/100 [02:10<00:00,  1.31s/it]\n",
      "/home/spencer/Documents/Projects/Research/avstack-studies/submodules/lib-avstack/third_party/mmdetection3d/mmdet3d/models/dense_heads/anchor3d_head.py:84: UserWarning: dir_offset and dir_limit_offset will be depressed and be incorporated into box coder in the future\n",
      "  warnings.warn(\n"
     ]
    },
    {
     "name": "stdout",
     "output_type": "stream",
     "text": [
      "{'Case': 2, 'Dataset': 'CARLA', 'Trial': 1, 'Metrics_perception_object_3d_tot_TP': 468, 'Metrics_perception_object_3d_tot_FP': 0, 'Metrics_perception_object_3d_tot_FN': 537, 'Metrics_perception_object_3d_tot_T': 1005, 'Metrics_perception_object_3d_mean_precision': 1.0, 'Metrics_perception_object_3d_mean_recall': 0.4712002719502719, 'Metrics_tracking_HOTA_HOTA': array([0.43460624, 0.43373653, 0.43362283, 0.43362283, 0.43362283,\n",
      "       0.43362283, 0.43352856, 0.43343023, 0.43343023, 0.43284442,\n",
      "       0.432753  , 0.432753  , 0.432753  , 0.432753  , 0.432753  ,\n",
      "       0.432753  , 0.432753  , 0.43266344, 0.43197133]), 'Metrics_tracking_HOTA_DetA': array([0.31628582, 0.31533164, 0.31485507, 0.31485507, 0.31485507,\n",
      "       0.31485507, 0.31437885, 0.31390297, 0.31390297, 0.31342743,\n",
      "       0.31295224, 0.31295224, 0.31295224, 0.31295224, 0.31295224,\n",
      "       0.31295224, 0.31295224, 0.3124774 , 0.31152873]), 'Metrics_tracking_HOTA_AssA': array([0.59718955, 0.59660166, 0.59719144, 0.59719144, 0.59719144,\n",
      "       0.59719144, 0.59783607, 0.5984708 , 0.5984708 , 0.5977597 ,\n",
      "       0.5984145 , 0.5984145 , 0.5984145 , 0.5984145 , 0.5984145 ,\n",
      "       0.5984145 , 0.5984145 , 0.59907583, 0.5989792 ]), 'Metrics_tracking_HOTA_DetRe': array([0.66362253, 0.66210046, 0.66133942, 0.66133942, 0.66133942,\n",
      "       0.66133942, 0.66057839, 0.65981735, 0.65981735, 0.65905632,\n",
      "       0.65829528, 0.65829528, 0.65829528, 0.65829528, 0.65829528,\n",
      "       0.65829528, 0.65829528, 0.65753425, 0.65601218]), 'Metrics_tracking_HOTA_DetPr': array([0.37667387, 0.37580994, 0.37537797, 0.37537797, 0.37537797,\n",
      "       0.37537797, 0.374946  , 0.37451404, 0.37451404, 0.37408207,\n",
      "       0.37365011, 0.37365011, 0.37365011, 0.37365011, 0.37365011,\n",
      "       0.37365011, 0.37365011, 0.37321814, 0.37235421]), 'Metrics_tracking_HOTA_AssRe': array([0.59984597, 0.59948642, 0.60007764, 0.60007764, 0.60007764,\n",
      "       0.60007764, 0.60072523, 0.60135403, 0.60135403, 0.60091232,\n",
      "       0.60157051, 0.60157051, 0.60157051, 0.60157051, 0.60157051,\n",
      "       0.60157051, 0.60157051, 0.60223371, 0.60239518]), 'Metrics_tracking_HOTA_AssPr': array([0.96266997, 0.96146276, 0.96141842, 0.96141842, 0.96141842,\n",
      "       0.96141842, 0.96137397, 0.96217929, 0.96217929, 0.96101813,\n",
      "       0.96097307, 0.96097307, 0.96097307, 0.96097307, 0.96097307,\n",
      "       0.96097307, 0.96097307, 0.9616995 , 0.96034208]), 'Metrics_tracking_HOTA_LocA': array([2.83045602, 2.83677849, 2.83990634, 2.83990634, 2.83990634,\n",
      "       2.83990634, 2.84279589, 2.84562979, 2.84562979, 2.84835162,\n",
      "       2.85101688, 2.85101688, 2.85101688, 2.85101688, 2.85101688,\n",
      "       2.85101688, 2.85101688, 2.85327958, 2.85777837]), 'Metrics_tracking_HOTA_RHOTA': array([0.62953033, 0.6284984 , 0.62844749, 0.62844749, 0.62844749,\n",
      "       0.62844749, 0.62842469, 0.62839591, 0.62839591, 0.62766018,\n",
      "       0.62764117, 0.62764117, 0.62764117, 0.62764117, 0.62764117,\n",
      "       0.62764117, 0.62764117, 0.62762479, 0.62684739]), 'Metrics_tracking_HOTA_HOTA_TP': array([872., 870., 869., 869., 869., 869., 868., 867., 867., 866., 865.,\n",
      "       865., 865., 865., 865., 865., 865., 864., 862.]), 'Metrics_tracking_HOTA_HOTA_FN': array([442., 444., 445., 445., 445., 445., 446., 447., 447., 448., 449.,\n",
      "       449., 449., 449., 449., 449., 449., 450., 452.]), 'Metrics_tracking_HOTA_HOTA_FP': array([1443., 1445., 1446., 1446., 1446., 1446., 1447., 1448., 1448.,\n",
      "       1449., 1450., 1450., 1450., 1450., 1450., 1450., 1450., 1451.,\n",
      "       1453.]), 'Metrics_tracking_HOTA_HOTA(0)': 0.434606241925975, 'Metrics_tracking_HOTA_LocA(0)': 2.8304560186867533, 'Metrics_tracking_HOTA_HOTALocA(0)': 1.2301338532182071, 'Metrics_tracking_CLEAR_MOTA': -0.4558599695585997, 'Metrics_tracking_CLEAR_MOTP': 2.8430672608639225, 'Metrics_tracking_CLEAR_MODA': -0.4436834094368341, 'Metrics_tracking_CLEAR_CLR_Re': 0.6590563165905632, 'Metrics_tracking_CLEAR_CLR_Pr': 0.37408207343412525, 'Metrics_tracking_CLEAR_MTR': 0.25, 'Metrics_tracking_CLEAR_PTR': 0.5, 'Metrics_tracking_CLEAR_MLR': 0.25, 'Metrics_tracking_CLEAR_sMOTA': 0.7588251506150356, 'Metrics_tracking_CLEAR_CLR_F1': 0.47726646459079636, 'Metrics_tracking_CLEAR_FP_per_frame': 14.49, 'Metrics_tracking_CLEAR_MOTAL': -0.4445997868969984, 'Metrics_tracking_CLEAR_MOTP_sum': 2462.096247908157, 'Metrics_tracking_CLEAR_CLR_TP': 866, 'Metrics_tracking_CLEAR_CLR_FN': 448, 'Metrics_tracking_CLEAR_CLR_FP': 1449, 'Metrics_tracking_CLEAR_IDSW': 16, 'Metrics_tracking_CLEAR_MT': 7, 'Metrics_tracking_CLEAR_PT': 14, 'Metrics_tracking_CLEAR_ML': 7, 'Metrics_tracking_CLEAR_Frag': 22.0, 'Metrics_tracking_CLEAR_CLR_Frames': 100, 'Metrics_tracking_VACE_STDA': 12.532791046553585, 'Metrics_tracking_VACE_VACE_IDs': 74, 'Metrics_tracking_VACE_VACE_GT_IDs': 28, 'Metrics_tracking_VACE_FDA': 143.88358700443618, 'Metrics_tracking_VACE_num_non_empty_timesteps': 100, 'Metrics_tracking_VACE_ATA': 0.2457410009128154, 'Metrics_tracking_VACE_SFDA': 1.4388358700443618, 'Metrics_tracking_IDEucl_IDEucl': array(0.46215451), 'Metrics_tracking_Count_Dets': 10000, 'Metrics_tracking_Count_GT_Dets': 10000, 'Metrics_tracking_Count_IDs': 74, 'Metrics_tracking_Count_GT_IDs': 28, 'Metrics_tracking_Count_Frames': 100, 'Metrics_prediction_agg_ADE': 3.550110028537484, 'Metrics_prediction_agg_FDE': 5.527019480879304, 'Metrics_prediction_std_ADE': 0.8587186137015917, 'Metrics_prediction_std_FDE': 4.562301490140993, 'Metrics_prediction_n_with_truth': 2756, 'Metrics_prediction_n_objects': 2756, 'Metrics_collaborative_n_collab_detections_median': 45.0, 'Metrics_collaborative_n_collab_sensors_in_view_median': 8.0, 'Metrics_collaborative_n_collab_sensors_total_median': 39.0}\n",
      "load checkpoint from local path: /home/spencer/Documents/Projects/Research/avstack-studies/submodules/lib-avstack/third_party/mmdetection3d/work_dirs/hv_pointpillars_fpn_sbn-all_fp16_2x8_2x_carla-3d/latest.pth\n",
      "      Running dataset: CARLA, case 3\n"
     ]
    },
    {
     "name": "stderr",
     "output_type": "stream",
     "text": [
      "100%|█████████████████████████████████████████████████████████████████| 100/100 [00:38<00:00,  2.58it/s]\n",
      "100%|█████████████████████████████████████████████████████████████████| 100/100 [00:07<00:00, 13.03it/s]\n",
      "100%|█████████████████████████████████████████████████████████████████| 100/100 [00:16<00:00,  6.03it/s]\n"
     ]
    },
    {
     "name": "stdout",
     "output_type": "stream",
     "text": [
      "\n",
      "CLEAR Config:\n",
      "THRESHOLD            : 0.5                           \n",
      "PRINT_CONFIG         : True                          \n",
      "\n",
      "IDEucl Config:\n",
      "THRESHOLD            : 0.4                           \n",
      "PRINT_CONFIG         : True                          \n",
      "\n",
      "Evaluating 1 tracker(s) on 1 sequence(s) for 1 class(es) on AvstackTrackDataset dataset using the following metrics: HOTA, CLEAR, VACE, IDEucl, Count\n",
      "\n",
      "\n",
      "Evaluating box-tracker\n",
      "\n",
      "29 eval_sequence(run_2022_10_31_13:46:21, box-tracker)                    9.3658 sec\n",
      "\n",
      "All sequences for box-tracker finished in 9.37 seconds\n"
     ]
    },
    {
     "name": "stderr",
     "output_type": "stream",
     "text": [
      "100%|█████████████████████████████████████████████████████████████████| 100/100 [02:10<00:00,  1.30s/it]\n",
      "/home/spencer/Documents/Projects/Research/avstack-studies/submodules/lib-avstack/third_party/mmdetection3d/mmdet3d/models/dense_heads/anchor3d_head.py:84: UserWarning: dir_offset and dir_limit_offset will be depressed and be incorporated into box coder in the future\n",
      "  warnings.warn(\n"
     ]
    },
    {
     "name": "stdout",
     "output_type": "stream",
     "text": [
      "{'Case': 3, 'Dataset': 'CARLA', 'Trial': 1, 'Metrics_perception_object_3d_tot_TP': 468, 'Metrics_perception_object_3d_tot_FP': 0, 'Metrics_perception_object_3d_tot_FN': 537, 'Metrics_perception_object_3d_tot_T': 1005, 'Metrics_perception_object_3d_mean_precision': 1.0, 'Metrics_perception_object_3d_mean_recall': 0.4712002719502719, 'Metrics_tracking_HOTA_HOTA': array([0.31809547, 0.31752527, 0.31752527, 0.31752527, 0.31752527,\n",
      "       0.31752527, 0.31752527, 0.31752527, 0.31752527, 0.31752527,\n",
      "       0.31684967, 0.31684967, 0.31684967, 0.31684967, 0.31684967,\n",
      "       0.31684967, 0.31684967, 0.31684967, 0.31630371]), 'Metrics_tracking_HOTA_DetA': array([0.15493911, 0.15454853, 0.15454853, 0.15454853, 0.15454853,\n",
      "       0.15454853, 0.15454853, 0.15454853, 0.15454853, 0.15454853,\n",
      "       0.15415822, 0.15415822, 0.15415822, 0.15415822, 0.15415822,\n",
      "       0.15415822, 0.15415822, 0.15415822, 0.15376816]), 'Metrics_tracking_HOTA_AssA': array([0.65306125, 0.65236658, 0.65236658, 0.65236658, 0.65236658,\n",
      "       0.65236658, 0.65236658, 0.65236658, 0.65236658, 0.65236658,\n",
      "       0.65123817, 0.65123817, 0.65123817, 0.65123817, 0.65123817,\n",
      "       0.65123817, 0.65123817, 0.65123817, 0.65064207]), 'Metrics_tracking_HOTA_DetRe': array([0.34855403, 0.347793  , 0.347793  , 0.347793  , 0.347793  ,\n",
      "       0.347793  , 0.347793  , 0.347793  , 0.347793  , 0.347793  ,\n",
      "       0.34703196, 0.34703196, 0.34703196, 0.34703196, 0.34703196,\n",
      "       0.34703196, 0.34703196, 0.34703196, 0.34627093]), 'Metrics_tracking_HOTA_DetPr': array([0.21809524, 0.21761905, 0.21761905, 0.21761905, 0.21761905,\n",
      "       0.21761905, 0.21761905, 0.21761905, 0.21761905, 0.21761905,\n",
      "       0.21714286, 0.21714286, 0.21714286, 0.21714286, 0.21714286,\n",
      "       0.21714286, 0.21714286, 0.21714286, 0.21666667]), 'Metrics_tracking_HOTA_AssRe': array([0.65306125, 0.65271237, 0.65271237, 0.65271237, 0.65271237,\n",
      "       0.65271237, 0.65271237, 0.65271237, 0.65271237, 0.65271237,\n",
      "       0.65205688, 0.65205688, 0.65205688, 0.65205688, 0.65205688,\n",
      "       0.65205688, 0.65205688, 0.65205688, 0.65175921]), 'Metrics_tracking_HOTA_AssPr': array([1.        , 0.99787812, 0.99787812, 0.99787812, 0.99787812,\n",
      "       0.99787812, 0.99787812, 0.99787812, 0.99787812, 0.99787812,\n",
      "       0.99575359, 0.99575359, 0.99575359, 0.99575359, 0.99575359,\n",
      "       0.99575359, 0.99575359, 0.99575359, 0.99374625]), 'Metrics_tracking_HOTA_LocA': array([2.91599723, 2.92217439, 2.92217439, 2.92217439, 2.92217439,\n",
      "       2.92217439, 2.92217439, 2.92217439, 2.92217439, 2.92217439,\n",
      "       2.92746739, 2.92746739, 2.92746739, 2.92746739, 2.92746739,\n",
      "       2.92746739, 2.92746739, 2.92746739, 2.93182957]), 'Metrics_tracking_HOTA_RHOTA': array([0.47710285, 0.47632817, 0.47632817, 0.47632817, 0.47632817,\n",
      "       0.47632817, 0.47632817, 0.47632817, 0.47632817, 0.47632817,\n",
      "       0.47539506, 0.47539506, 0.47539506, 0.47539506, 0.47539506,\n",
      "       0.47539506, 0.47539506, 0.47539506, 0.47465612]), 'Metrics_tracking_HOTA_HOTA_TP': array([458., 457., 457., 457., 457., 457., 457., 457., 457., 457., 456.,\n",
      "       456., 456., 456., 456., 456., 456., 456., 455.]), 'Metrics_tracking_HOTA_HOTA_FN': array([856., 857., 857., 857., 857., 857., 857., 857., 857., 857., 858.,\n",
      "       858., 858., 858., 858., 858., 858., 858., 859.]), 'Metrics_tracking_HOTA_HOTA_FP': array([1642., 1643., 1643., 1643., 1643., 1643., 1643., 1643., 1643.,\n",
      "       1643., 1644., 1644., 1644., 1644., 1644., 1644., 1644., 1644.,\n",
      "       1645.]), 'Metrics_tracking_HOTA_HOTA(0)': 0.3180954679344997, 'Metrics_tracking_HOTA_LocA(0)': 2.9159972308232285, 'Metrics_tracking_HOTA_HOTALocA(0)': 0.9275655036344203, 'Metrics_tracking_CLEAR_MOTA': -0.9025875190258752, 'Metrics_tracking_CLEAR_MOTP': 2.922174392241865, 'Metrics_tracking_CLEAR_MODA': -0.9025875190258752, 'Metrics_tracking_CLEAR_CLR_Re': 0.34779299847793, 'Metrics_tracking_CLEAR_CLR_Pr': 0.21761904761904763, 'Metrics_tracking_CLEAR_MTR': 0.07142857142857142, 'Metrics_tracking_CLEAR_PTR': 0.32142857142857145, 'Metrics_tracking_CLEAR_MLR': 0.6071428571428571, 'Metrics_tracking_CLEAR_sMOTA': -0.23406872355058428, 'Metrics_tracking_CLEAR_CLR_F1': 0.2677211482132396, 'Metrics_tracking_CLEAR_FP_per_frame': 16.43, 'Metrics_tracking_CLEAR_MOTAL': -0.9025875190258752, 'Metrics_tracking_CLEAR_MOTP_sum': 1335.4336972545323, 'Metrics_tracking_CLEAR_CLR_TP': 457, 'Metrics_tracking_CLEAR_CLR_FN': 857, 'Metrics_tracking_CLEAR_CLR_FP': 1643, 'Metrics_tracking_CLEAR_IDSW': 0, 'Metrics_tracking_CLEAR_MT': 2, 'Metrics_tracking_CLEAR_PT': 9, 'Metrics_tracking_CLEAR_ML': 17, 'Metrics_tracking_CLEAR_Frag': 0.0, 'Metrics_tracking_CLEAR_CLR_Frames': 100, 'Metrics_tracking_VACE_STDA': 5.5417347793863545, 'Metrics_tracking_VACE_VACE_IDs': 172, 'Metrics_tracking_VACE_VACE_GT_IDs': 28, 'Metrics_tracking_VACE_FDA': 85.68942483967886, 'Metrics_tracking_VACE_num_non_empty_timesteps': 100, 'Metrics_tracking_VACE_ATA': 0.05541734779386354, 'Metrics_tracking_VACE_SFDA': 0.8568942483967886, 'Metrics_tracking_IDEucl_IDEucl': array(0.27557468), 'Metrics_tracking_Count_Dets': 10000, 'Metrics_tracking_Count_GT_Dets': 10000, 'Metrics_tracking_Count_IDs': 172, 'Metrics_tracking_Count_GT_IDs': 28, 'Metrics_tracking_Count_Frames': 100, 'Metrics_prediction_agg_ADE': 2.1699883621227416, 'Metrics_prediction_agg_FDE': 3.7411936214787507, 'Metrics_prediction_std_ADE': 1.4084358128243968, 'Metrics_prediction_std_FDE': 3.928628097086199, 'Metrics_prediction_n_with_truth': 2116, 'Metrics_prediction_n_objects': 2116, 'Metrics_collaborative_n_collab_detections_median': 26.0, 'Metrics_collaborative_n_collab_sensors_in_view_median': 2.0, 'Metrics_collaborative_n_collab_sensors_total_median': 39.0}\n",
      "load checkpoint from local path: /home/spencer/Documents/Projects/Research/avstack-studies/submodules/lib-avstack/third_party/mmdetection3d/work_dirs/hv_pointpillars_fpn_sbn-all_fp16_2x8_2x_carla-3d/latest.pth\n",
      "      Running dataset: CARLA, case 4\n"
     ]
    },
    {
     "name": "stderr",
     "output_type": "stream",
     "text": [
      "100%|█████████████████████████████████████████████████████████████████| 100/100 [00:18<00:00,  5.42it/s]\n",
      "100%|█████████████████████████████████████████████████████████████████| 100/100 [00:07<00:00, 12.96it/s]\n",
      "100%|█████████████████████████████████████████████████████████████████| 100/100 [00:14<00:00,  7.00it/s]\n"
     ]
    },
    {
     "name": "stdout",
     "output_type": "stream",
     "text": [
      "\n",
      "CLEAR Config:\n",
      "THRESHOLD            : 0.5                           \n",
      "PRINT_CONFIG         : True                          \n",
      "\n",
      "IDEucl Config:\n",
      "THRESHOLD            : 0.4                           \n",
      "PRINT_CONFIG         : True                          \n",
      "\n",
      "Evaluating 1 tracker(s) on 1 sequence(s) for 1 class(es) on AvstackTrackDataset dataset using the following metrics: HOTA, CLEAR, VACE, IDEucl, Count\n",
      "\n",
      "\n",
      "Evaluating box-tracker\n",
      "\n",
      "30 eval_sequence(run_2022_10_31_13:46:21, box-tracker)                    7.0002 sec\n",
      "\n",
      "All sequences for box-tracker finished in 7.00 seconds\n"
     ]
    },
    {
     "name": "stderr",
     "output_type": "stream",
     "text": [
      "100%|█████████████████████████████████████████████████████████████████| 100/100 [01:18<00:00,  1.28it/s]\n",
      "/home/spencer/Documents/Projects/Research/avstack-studies/submodules/lib-avstack/third_party/mmdetection3d/mmdet3d/models/dense_heads/anchor3d_head.py:84: UserWarning: dir_offset and dir_limit_offset will be depressed and be incorporated into box coder in the future\n",
      "  warnings.warn(\n"
     ]
    },
    {
     "name": "stdout",
     "output_type": "stream",
     "text": [
      "{'Case': 4, 'Dataset': 'CARLA', 'Trial': 1, 'Metrics_perception_object_3d_tot_TP': 468, 'Metrics_perception_object_3d_tot_FP': 0, 'Metrics_perception_object_3d_tot_FN': 537, 'Metrics_perception_object_3d_tot_T': 1005, 'Metrics_perception_object_3d_mean_precision': 1.0, 'Metrics_perception_object_3d_mean_recall': 0.4712002719502719, 'Metrics_tracking_HOTA_HOTA': array([0.41881052, 0.41881052, 0.41819326, 0.41819326, 0.41819326,\n",
      "       0.41819326, 0.41819326, 0.41819326, 0.41819326, 0.41819326,\n",
      "       0.41746965, 0.41746965, 0.41662976, 0.41662976, 0.41662976,\n",
      "       0.41662976, 0.41662976, 0.41662976, 0.41662976]), 'Metrics_tracking_HOTA_DetA': array([0.26657645, 0.26657645, 0.26600541, 0.26600541, 0.26600541,\n",
      "       0.26600541, 0.26600541, 0.26600541, 0.26600541, 0.26600541,\n",
      "       0.26543488, 0.26543488, 0.26486486, 0.26486486, 0.26486486,\n",
      "       0.26486486, 0.26486486, 0.26486486, 0.26486486]), 'Metrics_tracking_HOTA_AssA': array([0.65798102, 0.65798102, 0.65745129, 0.65745129, 0.65745129,\n",
      "       0.65745129, 0.65745129, 0.65745129, 0.65745129, 0.65745129,\n",
      "       0.65658631, 0.65658631, 0.6553544 , 0.6553544 , 0.6553544 ,\n",
      "       0.6553544 , 0.6553544 , 0.6553544 , 0.6553544 ]), 'Metrics_tracking_HOTA_DetRe': array([0.44977169, 0.44977169, 0.44901065, 0.44901065, 0.44901065,\n",
      "       0.44901065, 0.44901065, 0.44901065, 0.44901065, 0.44901065,\n",
      "       0.44824962, 0.44824962, 0.44748858, 0.44748858, 0.44748858,\n",
      "       0.44748858, 0.44748858, 0.44748858, 0.44748858]), 'Metrics_tracking_HOTA_DetPr': array([0.39558233, 0.39558233, 0.39491299, 0.39491299, 0.39491299,\n",
      "       0.39491299, 0.39491299, 0.39491299, 0.39491299, 0.39491299,\n",
      "       0.39424364, 0.39424364, 0.3935743 , 0.3935743 , 0.3935743 ,\n",
      "       0.3935743 , 0.3935743 , 0.3935743 , 0.3935743 ]), 'Metrics_tracking_HOTA_AssRe': array([0.65798102, 0.65798102, 0.65771913, 0.65771913, 0.65771913,\n",
      "       0.65771913, 0.65771913, 0.65771913, 0.65771913, 0.65771913,\n",
      "       0.65722016, 0.65722016, 0.65635375, 0.65635375, 0.65635375,\n",
      "       0.65635375, 0.65635375, 0.65635375, 0.65635375]), 'Metrics_tracking_HOTA_AssPr': array([1.        , 1.        , 0.99835645, 0.99835645, 0.99835645,\n",
      "       0.99835645, 0.99835645, 0.99835645, 0.99835645, 0.99835645,\n",
      "       0.99671246, 0.99671246, 0.99543135, 0.99543135, 0.99543135,\n",
      "       0.99543135, 0.99543135, 0.99543135, 0.99543135]), 'Metrics_tracking_HOTA_LocA': array([2.89454121, 2.89454121, 2.89925525, 2.89925525, 2.89925525,\n",
      "       2.89925525, 2.89925525, 2.89925525, 2.89925525, 2.89925525,\n",
      "       2.90331415, 2.90331415, 2.90719402, 2.90719402, 2.90719402,\n",
      "       2.90719402, 2.90719402, 2.90719402, 2.90719402]), 'Metrics_tracking_HOTA_RHOTA': array([0.54400481, 0.54400481, 0.54332553, 0.54332553, 0.54332553,\n",
      "       0.54332553, 0.54332553, 0.54332553, 0.54332553, 0.54332553,\n",
      "       0.54250766, 0.54250766, 0.54153819, 0.54153819, 0.54153819,\n",
      "       0.54153819, 0.54153819, 0.54153819, 0.54153819]), 'Metrics_tracking_HOTA_HOTA_TP': array([591., 591., 590., 590., 590., 590., 590., 590., 590., 590., 589.,\n",
      "       589., 588., 588., 588., 588., 588., 588., 588.]), 'Metrics_tracking_HOTA_HOTA_FN': array([723., 723., 724., 724., 724., 724., 724., 724., 724., 724., 725.,\n",
      "       725., 726., 726., 726., 726., 726., 726., 726.]), 'Metrics_tracking_HOTA_HOTA_FP': array([903., 903., 904., 904., 904., 904., 904., 904., 904., 904., 905.,\n",
      "       905., 906., 906., 906., 906., 906., 906., 906.]), 'Metrics_tracking_HOTA_HOTA(0)': 0.4188105159696387, 'Metrics_tracking_HOTA_LocA(0)': 2.894541211815946, 'Metrics_tracking_HOTA_HOTALocA(0)': 1.2122642984160195, 'Metrics_tracking_CLEAR_MOTA': -0.2404870624048706, 'Metrics_tracking_CLEAR_MOTP': 2.899686968290424, 'Metrics_tracking_CLEAR_MODA': -0.2389649923896499, 'Metrics_tracking_CLEAR_CLR_Re': 0.4490106544901065, 'Metrics_tracking_CLEAR_CLR_Pr': 0.3949129852744311, 'Metrics_tracking_CLEAR_MTR': 0.07142857142857142, 'Metrics_tracking_CLEAR_PTR': 0.42857142857142855, 'Metrics_tracking_CLEAR_MLR': 0.5, 'Metrics_tracking_CLEAR_sMOTA': 0.6124926265535389, 'Metrics_tracking_CLEAR_CLR_F1': 0.4202279202279202, 'Metrics_tracking_CLEAR_FP_per_frame': 9.04, 'Metrics_tracking_CLEAR_MOTAL': -0.23919408675469098, 'Metrics_tracking_CLEAR_MOTP_sum': 1710.81531129135, 'Metrics_tracking_CLEAR_CLR_TP': 590, 'Metrics_tracking_CLEAR_CLR_FN': 724, 'Metrics_tracking_CLEAR_CLR_FP': 904, 'Metrics_tracking_CLEAR_IDSW': 2, 'Metrics_tracking_CLEAR_MT': 2, 'Metrics_tracking_CLEAR_PT': 12, 'Metrics_tracking_CLEAR_ML': 14, 'Metrics_tracking_CLEAR_Frag': 2.0, 'Metrics_tracking_CLEAR_CLR_Frames': 100, 'Metrics_tracking_VACE_STDA': 7.754644018344894, 'Metrics_tracking_VACE_VACE_IDs': 35, 'Metrics_tracking_VACE_VACE_GT_IDs': 28, 'Metrics_tracking_VACE_FDA': 133.3768152323861, 'Metrics_tracking_VACE_num_non_empty_timesteps': 100, 'Metrics_tracking_VACE_ATA': 0.2461791751855522, 'Metrics_tracking_VACE_SFDA': 1.333768152323861, 'Metrics_tracking_IDEucl_IDEucl': array(0.35452809), 'Metrics_tracking_Count_Dets': 10000, 'Metrics_tracking_Count_GT_Dets': 10000, 'Metrics_tracking_Count_IDs': 35, 'Metrics_tracking_Count_GT_IDs': 28, 'Metrics_tracking_Count_Frames': 100, 'Metrics_prediction_agg_ADE': 3.0451930185482237, 'Metrics_prediction_agg_FDE': 5.450565405412867, 'Metrics_prediction_std_ADE': 1.0670777968768275, 'Metrics_prediction_std_FDE': 4.159898369622116, 'Metrics_prediction_n_with_truth': 1517, 'Metrics_prediction_n_objects': 1517, 'Metrics_collaborative_n_collab_detections_median': 19.0, 'Metrics_collaborative_n_collab_sensors_in_view_median': 2.0, 'Metrics_collaborative_n_collab_sensors_total_median': 39.0}\n",
      "load checkpoint from local path: /home/spencer/Documents/Projects/Research/avstack-studies/submodules/lib-avstack/third_party/mmdetection3d/work_dirs/hv_pointpillars_fpn_sbn-all_fp16_2x8_2x_carla-3d/latest.pth\n",
      "      Running dataset: CARLA, case 5\n"
     ]
    },
    {
     "name": "stderr",
     "output_type": "stream",
     "text": [
      "100%|█████████████████████████████████████████████████████████████████| 100/100 [00:12<00:00,  8.32it/s]\n",
      "100%|█████████████████████████████████████████████████████████████████| 100/100 [00:08<00:00, 11.73it/s]\n",
      "100%|█████████████████████████████████████████████████████████████████| 100/100 [00:08<00:00, 12.05it/s]\n"
     ]
    },
    {
     "name": "stdout",
     "output_type": "stream",
     "text": [
      "\n",
      "CLEAR Config:\n",
      "THRESHOLD            : 0.5                           \n",
      "PRINT_CONFIG         : True                          \n",
      "\n",
      "IDEucl Config:\n",
      "THRESHOLD            : 0.4                           \n",
      "PRINT_CONFIG         : True                          \n",
      "\n",
      "Evaluating 1 tracker(s) on 1 sequence(s) for 1 class(es) on AvstackTrackDataset dataset using the following metrics: HOTA, CLEAR, VACE, IDEucl, Count\n",
      "\n",
      "\n",
      "Evaluating box-tracker\n",
      "\n",
      "31 eval_sequence(run_2022_10_31_13:46:21, box-tracker)                    5.5381 sec\n",
      "\n",
      "All sequences for box-tracker finished in 5.54 seconds\n"
     ]
    },
    {
     "name": "stderr",
     "output_type": "stream",
     "text": [
      "100%|█████████████████████████████████████████████████████████████████| 100/100 [02:19<00:00,  1.39s/it]\n",
      "/home/spencer/Documents/Projects/Research/avstack-studies/submodules/lib-avstack/third_party/mmdetection3d/mmdet3d/models/dense_heads/anchor3d_head.py:84: UserWarning: dir_offset and dir_limit_offset will be depressed and be incorporated into box coder in the future\n",
      "  warnings.warn(\n"
     ]
    },
    {
     "name": "stdout",
     "output_type": "stream",
     "text": [
      "{'Case': 5, 'Dataset': 'CARLA', 'Trial': 1, 'Metrics_perception_object_3d_tot_TP': 468, 'Metrics_perception_object_3d_tot_FP': 0, 'Metrics_perception_object_3d_tot_FN': 537, 'Metrics_perception_object_3d_tot_T': 1005, 'Metrics_perception_object_3d_mean_precision': 1.0, 'Metrics_perception_object_3d_mean_recall': 0.4712002719502719, 'Metrics_tracking_HOTA_HOTA': array([0.47588403, 0.47588403, 0.47492668, 0.47492668, 0.47492668,\n",
      "       0.47492668, 0.47492668, 0.47492668, 0.47492668, 0.47492668,\n",
      "       0.47381139, 0.47381139, 0.47381139, 0.47381139, 0.47381139,\n",
      "       0.47381139, 0.47381139, 0.47381139, 0.47381139]), 'Metrics_tracking_HOTA_DetA': array([0.34398782, 0.34398782, 0.34296578, 0.34296578, 0.34296578,\n",
      "       0.34296578, 0.34296578, 0.34296578, 0.34296578, 0.34296578,\n",
      "       0.34194529, 0.34194529, 0.34194529, 0.34194529, 0.34194529,\n",
      "       0.34194529, 0.34194529, 0.34194529, 0.34194529]), 'Metrics_tracking_HOTA_AssA': array([0.65835357, 0.65835357, 0.65766139, 0.65766139, 0.65766139,\n",
      "       0.65766139, 0.65766139, 0.65766139, 0.65766139, 0.65766139,\n",
      "       0.6565297 , 0.6565297 , 0.6565297 , 0.6565297 , 0.6565297 ,\n",
      "       0.6565297 , 0.6565297 , 0.6565297 , 0.6565297 ]), 'Metrics_tracking_HOTA_DetRe': array([0.34398782, 0.34398782, 0.34322679, 0.34322679, 0.34322679,\n",
      "       0.34322679, 0.34322679, 0.34322679, 0.34322679, 0.34322679,\n",
      "       0.34246575, 0.34246575, 0.34246575, 0.34246575, 0.34246575,\n",
      "       0.34246575, 0.34246575, 0.34246575, 0.34246575]), 'Metrics_tracking_HOTA_DetPr': array([1.        , 1.        , 0.99778761, 0.99778761, 0.99778761,\n",
      "       0.99778761, 0.99778761, 0.99778761, 0.99778761, 0.99778761,\n",
      "       0.99557522, 0.99557522, 0.99557522, 0.99557522, 0.99557522,\n",
      "       0.99557522, 0.99557522, 0.99557522, 0.99557522]), 'Metrics_tracking_HOTA_AssRe': array([0.65835357, 0.65835357, 0.65801178, 0.65801178, 0.65801178,\n",
      "       0.65801178, 0.65801178, 0.65801178, 0.65801178, 0.65801178,\n",
      "       0.65735933, 0.65735933, 0.65735933, 0.65735933, 0.65735933,\n",
      "       0.65735933, 0.65735933, 0.65735933, 0.65735933]), 'Metrics_tracking_HOTA_AssPr': array([1.        , 1.        , 0.9978499 , 0.9978499 , 0.9978499 ,\n",
      "       0.9978499 , 0.9978499 , 0.9978499 , 0.9978499 , 0.9978499 ,\n",
      "       0.99569697, 0.99569697, 0.99569697, 0.99569697, 0.99569697,\n",
      "       0.99569697, 0.99569697, 0.99569697, 0.99569697]), 'Metrics_tracking_HOTA_LocA': array([2.92144138, 2.92144138, 2.92766796, 2.92766796, 2.92766796,\n",
      "       2.92766796, 2.92766796, 2.92766796, 2.92766796, 2.92766796,\n",
      "       2.93304374, 2.93304374, 2.93304374, 2.93304374, 2.93304374,\n",
      "       2.93304374, 2.93304374, 2.93304374, 2.93304374]), 'Metrics_tracking_HOTA_RHOTA': array([0.47588403, 0.47588403, 0.47510736, 0.47510736, 0.47510736,\n",
      "       0.47510736, 0.47510736, 0.47510736, 0.47510736, 0.47510736,\n",
      "       0.47417184, 0.47417184, 0.47417184, 0.47417184, 0.47417184,\n",
      "       0.47417184, 0.47417184, 0.47417184, 0.47417184]), 'Metrics_tracking_HOTA_HOTA_TP': array([452., 452., 451., 451., 451., 451., 451., 451., 451., 451., 450.,\n",
      "       450., 450., 450., 450., 450., 450., 450., 450.]), 'Metrics_tracking_HOTA_HOTA_FN': array([862., 862., 863., 863., 863., 863., 863., 863., 863., 863., 864.,\n",
      "       864., 864., 864., 864., 864., 864., 864., 864.]), 'Metrics_tracking_HOTA_HOTA_FP': array([0., 0., 1., 1., 1., 1., 1., 1., 1., 1., 2., 2., 2., 2., 2., 2., 2.,\n",
      "       2., 2.]), 'Metrics_tracking_HOTA_HOTA(0)': 0.4758840306331206, 'Metrics_tracking_HOTA_LocA(0)': 2.921441382972266, 'Metrics_tracking_HOTA_HOTALocA(0)': 1.3902673005872401, 'Metrics_tracking_CLEAR_MOTA': 0.3424657534246575, 'Metrics_tracking_CLEAR_MOTP': 2.927667958179016, 'Metrics_tracking_CLEAR_MODA': 0.3424657534246575, 'Metrics_tracking_CLEAR_CLR_Re': 0.3432267884322679, 'Metrics_tracking_CLEAR_CLR_Pr': 0.9977876106194691, 'Metrics_tracking_CLEAR_MTR': 0.07142857142857142, 'Metrics_tracking_CLEAR_PTR': 0.2857142857142857, 'Metrics_tracking_CLEAR_MLR': 0.6428571428571429, 'Metrics_tracking_CLEAR_sMOTA': 1.0040930358742286, 'Metrics_tracking_CLEAR_CLR_F1': 0.5107587768969423, 'Metrics_tracking_CLEAR_FP_per_frame': 0.01, 'Metrics_tracking_CLEAR_MOTAL': 0.3424657534246575, 'Metrics_tracking_CLEAR_MOTP_sum': 1320.3782491387362, 'Metrics_tracking_CLEAR_CLR_TP': 451, 'Metrics_tracking_CLEAR_CLR_FN': 863, 'Metrics_tracking_CLEAR_CLR_FP': 1, 'Metrics_tracking_CLEAR_IDSW': 0, 'Metrics_tracking_CLEAR_MT': 2, 'Metrics_tracking_CLEAR_PT': 8, 'Metrics_tracking_CLEAR_ML': 18, 'Metrics_tracking_CLEAR_Frag': 0.0, 'Metrics_tracking_CLEAR_CLR_Frames': 100, 'Metrics_tracking_VACE_STDA': 5.2630076585539705, 'Metrics_tracking_VACE_VACE_IDs': 10, 'Metrics_tracking_VACE_VACE_GT_IDs': 28, 'Metrics_tracking_VACE_FDA': 147.56079774993606, 'Metrics_tracking_VACE_num_non_empty_timesteps': 100, 'Metrics_tracking_VACE_ATA': 0.2770004030817879, 'Metrics_tracking_VACE_SFDA': 1.4756079774993607, 'Metrics_tracking_IDEucl_IDEucl': array(0.27298971), 'Metrics_tracking_Count_Dets': 10000, 'Metrics_tracking_Count_GT_Dets': 10000, 'Metrics_tracking_Count_IDs': 10, 'Metrics_tracking_Count_GT_IDs': 28, 'Metrics_tracking_Count_Frames': 100, 'Metrics_prediction_agg_ADE': 4.584811832748019, 'Metrics_prediction_agg_FDE': 9.028196783398343, 'Metrics_prediction_std_ADE': 6.382296364856581, 'Metrics_prediction_std_FDE': 13.177831145399514, 'Metrics_prediction_n_with_truth': 464, 'Metrics_prediction_n_objects': 464}\n",
      "   Running trial 2, using index 2\n",
      "load checkpoint from local path: /home/spencer/Documents/Projects/Research/avstack-studies/submodules/lib-avstack/third_party/mmdetection3d/work_dirs/hv_pointpillars_fpn_sbn-all_fp16_2x8_2x_carla-3d/latest.pth\n",
      "      Running dataset: CARLA, case 1\n"
     ]
    },
    {
     "name": "stderr",
     "output_type": "stream",
     "text": [
      "100%|█████████████████████████████████████████████████████████████████| 100/100 [02:47<00:00,  1.68s/it]\n",
      "100%|█████████████████████████████████████████████████████████████████| 100/100 [00:12<00:00,  8.29it/s]\n",
      "100%|█████████████████████████████████████████████████████████████████| 100/100 [01:02<00:00,  1.60it/s]\n"
     ]
    },
    {
     "name": "stdout",
     "output_type": "stream",
     "text": [
      "\n",
      "CLEAR Config:\n",
      "THRESHOLD            : 0.5                           \n",
      "PRINT_CONFIG         : True                          \n",
      "\n",
      "IDEucl Config:\n",
      "THRESHOLD            : 0.4                           \n",
      "PRINT_CONFIG         : True                          \n",
      "\n",
      "Evaluating 1 tracker(s) on 1 sequence(s) for 1 class(es) on AvstackTrackDataset dataset using the following metrics: HOTA, CLEAR, VACE, IDEucl, Count\n",
      "\n",
      "\n",
      "Evaluating box-tracker\n",
      "\n",
      "32 eval_sequence(run_2022_10_31_13:57:59, box-tracker)                    22.8662 sec\n",
      "\n",
      "All sequences for box-tracker finished in 22.87 seconds\n"
     ]
    },
    {
     "name": "stderr",
     "output_type": "stream",
     "text": [
      "100%|█████████████████████████████████████████████████████████████████| 100/100 [01:22<00:00,  1.21it/s]\n",
      "/home/spencer/Documents/Projects/Research/avstack-studies/submodules/lib-avstack/third_party/mmdetection3d/mmdet3d/models/dense_heads/anchor3d_head.py:84: UserWarning: dir_offset and dir_limit_offset will be depressed and be incorporated into box coder in the future\n",
      "  warnings.warn(\n"
     ]
    },
    {
     "name": "stdout",
     "output_type": "stream",
     "text": [
      "{'Case': 1, 'Dataset': 'CARLA', 'Trial': 2, 'Metrics_perception_object_3d_tot_TP': 638, 'Metrics_perception_object_3d_tot_FP': 0, 'Metrics_perception_object_3d_tot_FN': 587, 'Metrics_perception_object_3d_tot_T': 1225, 'Metrics_perception_object_3d_mean_precision': 1.0, 'Metrics_perception_object_3d_mean_recall': 0.5203768168106404, 'Metrics_tracking_HOTA_HOTA': array([0.55382742, 0.55382742, 0.55382742, 0.55364006, 0.55357927,\n",
      "       0.55357927, 0.55357927, 0.55357927, 0.55357927, 0.55357927,\n",
      "       0.55357927, 0.55357927, 0.55357927, 0.55357927, 0.55357927,\n",
      "       0.55357927, 0.55357927, 0.55357927, 0.55357927]), 'Metrics_tracking_HOTA_DetA': array([0.33268859, 0.33268859, 0.33268859, 0.3318299 , 0.33154391,\n",
      "       0.33154391, 0.33154391, 0.33154391, 0.33154391, 0.33154391,\n",
      "       0.33154391, 0.33154391, 0.33154391, 0.33154391, 0.33154391,\n",
      "       0.33154391, 0.33154391, 0.33154391, 0.33154391]), 'Metrics_tracking_HOTA_AssA': array([0.92195771, 0.92195771, 0.92195771, 0.9237182 , 0.92431196,\n",
      "       0.92431196, 0.92431196, 0.92431196, 0.92431196, 0.92431196,\n",
      "       0.92431196, 0.92431196, 0.92431196, 0.92431196, 0.92431196,\n",
      "       0.92431196, 0.92431196, 0.92431196, 0.92431196]), 'Metrics_tracking_HOTA_DetRe': array([0.88710602, 0.88710602, 0.88710602, 0.88538682, 0.88481375,\n",
      "       0.88481375, 0.88481375, 0.88481375, 0.88481375, 0.88481375,\n",
      "       0.88481375, 0.88481375, 0.88481375, 0.88481375, 0.88481375,\n",
      "       0.88481375, 0.88481375, 0.88481375, 0.88481375]), 'Metrics_tracking_HOTA_DetPr': array([0.34739677, 0.34739677, 0.34739677, 0.34672352, 0.3464991 ,\n",
      "       0.3464991 , 0.3464991 , 0.3464991 , 0.3464991 , 0.3464991 ,\n",
      "       0.3464991 , 0.3464991 , 0.3464991 , 0.3464991 , 0.3464991 ,\n",
      "       0.3464991 , 0.3464991 , 0.3464991 , 0.3464991 ]), 'Metrics_tracking_HOTA_AssRe': array([0.92198816, 0.92198816, 0.92198816, 0.92372017, 0.92431196,\n",
      "       0.92431196, 0.92431196, 0.92431196, 0.92431196, 0.92431196,\n",
      "       0.92431196, 0.92431196, 0.92431196, 0.92431196, 0.92431196,\n",
      "       0.92431196, 0.92431196, 0.92431196, 0.92431196]), 'Metrics_tracking_HOTA_AssPr': array([0.9974891 , 0.9974891 , 0.9974891 , 0.99936713, 1.        ,\n",
      "       1.        , 1.        , 1.        , 1.        , 1.        ,\n",
      "       1.        , 1.        , 1.        , 1.        , 1.        ,\n",
      "       1.        , 1.        , 1.        , 1.        ]), 'Metrics_tracking_HOTA_LocA': array([3.17745507, 3.17745507, 3.17745507, 3.18327438, 3.18519699,\n",
      "       3.18519699, 3.18519699, 3.18519699, 3.18519699, 3.18519699,\n",
      "       3.18519699, 3.18519699, 3.18519699, 3.18519699, 3.18519699,\n",
      "       3.18519699, 3.18519699, 3.18519699, 3.18519699]), 'Metrics_tracking_HOTA_RHOTA': array([0.90436399, 0.90436399, 0.90436399, 0.90434944, 0.90434724,\n",
      "       0.90434724, 0.90434724, 0.90434724, 0.90434724, 0.90434724,\n",
      "       0.90434724, 0.90434724, 0.90434724, 0.90434724, 0.90434724,\n",
      "       0.90434724, 0.90434724, 0.90434724, 0.90434724]), 'Metrics_tracking_HOTA_HOTA_TP': array([1548., 1548., 1548., 1545., 1544., 1544., 1544., 1544., 1544.,\n",
      "       1544., 1544., 1544., 1544., 1544., 1544., 1544., 1544., 1544.,\n",
      "       1544.]), 'Metrics_tracking_HOTA_HOTA_FN': array([197., 197., 197., 200., 201., 201., 201., 201., 201., 201., 201.,\n",
      "       201., 201., 201., 201., 201., 201., 201., 201.]), 'Metrics_tracking_HOTA_HOTA_FP': array([2908., 2908., 2908., 2911., 2912., 2912., 2912., 2912., 2912.,\n",
      "       2912., 2912., 2912., 2912., 2912., 2912., 2912., 2912., 2912.,\n",
      "       2912.]), 'Metrics_tracking_HOTA_HOTA(0)': 0.5538274172754837, 'Metrics_tracking_HOTA_LocA(0)': 3.1774550739373573, 'Metrics_tracking_HOTA_HOTALocA(0)': 1.7597617371076075, 'Metrics_tracking_CLEAR_MOTA': -0.7845272206303725, 'Metrics_tracking_CLEAR_MOTP': 3.1851969876267394, 'Metrics_tracking_CLEAR_MODA': -0.7839541547277937, 'Metrics_tracking_CLEAR_CLR_Re': 0.8848137535816619, 'Metrics_tracking_CLEAR_CLR_Pr': 0.3464991023339318, 'Metrics_tracking_CLEAR_MTR': 0.6666666666666666, 'Metrics_tracking_CLEAR_PTR': 0.19444444444444445, 'Metrics_tracking_CLEAR_MLR': 0.1388888888888889, 'Metrics_tracking_CLEAR_sMOTA': 1.148965128306983, 'Metrics_tracking_CLEAR_CLR_F1': 0.49798419609740363, 'Metrics_tracking_CLEAR_FP_per_frame': 29.12, 'Metrics_tracking_CLEAR_MOTAL': -0.7839541547277937, 'Metrics_tracking_CLEAR_MOTP_sum': 4917.944148895685, 'Metrics_tracking_CLEAR_CLR_TP': 1544, 'Metrics_tracking_CLEAR_CLR_FN': 201, 'Metrics_tracking_CLEAR_CLR_FP': 2912, 'Metrics_tracking_CLEAR_IDSW': 1, 'Metrics_tracking_CLEAR_MT': 24, 'Metrics_tracking_CLEAR_PT': 7, 'Metrics_tracking_CLEAR_ML': 5, 'Metrics_tracking_CLEAR_Frag': 71.0, 'Metrics_tracking_CLEAR_CLR_Frames': 100, 'Metrics_tracking_VACE_STDA': 27.320959041932937, 'Metrics_tracking_VACE_VACE_IDs': 70, 'Metrics_tracking_VACE_VACE_GT_IDs': 36, 'Metrics_tracking_VACE_FDA': 161.29372946857714, 'Metrics_tracking_VACE_num_non_empty_timesteps': 100, 'Metrics_tracking_VACE_ATA': 0.5154897932440177, 'Metrics_tracking_VACE_SFDA': 1.6129372946857714, 'Metrics_tracking_IDEucl_IDEucl': array(0.8382336), 'Metrics_tracking_Count_Dets': 10000, 'Metrics_tracking_Count_GT_Dets': 10000, 'Metrics_tracking_Count_IDs': 70, 'Metrics_tracking_Count_GT_IDs': 36, 'Metrics_tracking_Count_Frames': 100, 'Metrics_prediction_agg_ADE': 3.0213369171783047, 'Metrics_prediction_agg_FDE': 6.527956331054715, 'Metrics_prediction_std_ADE': 1.1935189229000283, 'Metrics_prediction_std_FDE': 2.9442950711308757, 'Metrics_prediction_n_with_truth': 2977, 'Metrics_prediction_n_objects': 2977, 'Metrics_collaborative_n_collab_detections_median': 201.0, 'Metrics_collaborative_n_collab_sensors_in_view_median': 16.0, 'Metrics_collaborative_n_collab_sensors_total_median': 39.0}\n",
      "load checkpoint from local path: /home/spencer/Documents/Projects/Research/avstack-studies/submodules/lib-avstack/third_party/mmdetection3d/work_dirs/hv_pointpillars_fpn_sbn-all_fp16_2x8_2x_carla-3d/latest.pth\n",
      "      Running dataset: CARLA, case 2\n"
     ]
    },
    {
     "name": "stderr",
     "output_type": "stream",
     "text": [
      "100%|█████████████████████████████████████████████████████████████████| 100/100 [03:04<00:00,  1.84s/it]\n",
      "100%|█████████████████████████████████████████████████████████████████| 100/100 [00:12<00:00,  7.79it/s]\n",
      "100%|█████████████████████████████████████████████████████████████████| 100/100 [01:00<00:00,  1.64it/s]\n"
     ]
    },
    {
     "name": "stdout",
     "output_type": "stream",
     "text": [
      "\n",
      "CLEAR Config:\n",
      "THRESHOLD            : 0.5                           \n",
      "PRINT_CONFIG         : True                          \n",
      "\n",
      "IDEucl Config:\n",
      "THRESHOLD            : 0.4                           \n",
      "PRINT_CONFIG         : True                          \n",
      "\n",
      "Evaluating 1 tracker(s) on 1 sequence(s) for 1 class(es) on AvstackTrackDataset dataset using the following metrics: HOTA, CLEAR, VACE, IDEucl, Count\n",
      "\n",
      "\n",
      "Evaluating box-tracker\n",
      "\n",
      "33 eval_sequence(run_2022_10_31_13:57:59, box-tracker)                    23.0690 sec\n",
      "\n",
      "All sequences for box-tracker finished in 23.07 seconds\n"
     ]
    },
    {
     "name": "stderr",
     "output_type": "stream",
     "text": [
      "100%|█████████████████████████████████████████████████████████████████| 100/100 [01:20<00:00,  1.24it/s]\n",
      "/home/spencer/Documents/Projects/Research/avstack-studies/submodules/lib-avstack/third_party/mmdetection3d/mmdet3d/models/dense_heads/anchor3d_head.py:84: UserWarning: dir_offset and dir_limit_offset will be depressed and be incorporated into box coder in the future\n",
      "  warnings.warn(\n"
     ]
    },
    {
     "name": "stdout",
     "output_type": "stream",
     "text": [
      "{'Case': 2, 'Dataset': 'CARLA', 'Trial': 2, 'Metrics_perception_object_3d_tot_TP': 638, 'Metrics_perception_object_3d_tot_FP': 0, 'Metrics_perception_object_3d_tot_FN': 587, 'Metrics_perception_object_3d_tot_T': 1225, 'Metrics_perception_object_3d_mean_precision': 1.0, 'Metrics_perception_object_3d_mean_recall': 0.5203768168106404, 'Metrics_tracking_HOTA_HOTA': array([0.51726734, 0.51726734, 0.51700348, 0.51700348, 0.51700348,\n",
      "       0.51700348, 0.51700348, 0.51693329, 0.51693329, 0.51693329,\n",
      "       0.51693329, 0.51693329, 0.51693329, 0.51688005, 0.51636817,\n",
      "       0.51630622, 0.51605032, 0.51605032, 0.51605032]), 'Metrics_tracking_HOTA_DetA': array([0.32227392, 0.32227392, 0.32200647, 0.32200647, 0.32200647,\n",
      "       0.32200647, 0.32200647, 0.32173913, 0.32173913, 0.32173913,\n",
      "       0.32173913, 0.32173913, 0.32173913, 0.3214719 , 0.32120477,\n",
      "       0.32093775, 0.32067084, 0.32067084, 0.32067084]), 'Metrics_tracking_HOTA_AssA': array([0.83024249, 0.83024249, 0.83008455, 0.83008455, 0.83008455,\n",
      "       0.83008455, 0.83008455, 0.83054873, 0.83054873, 0.83054873,\n",
      "       0.83054873, 0.83054873, 0.83054873, 0.83106792, 0.83011247,\n",
      "       0.83060379, 0.8304713 , 0.8304713 , 0.8304713 ]), 'Metrics_tracking_HOTA_DetRe': array([0.91289398, 0.91289398, 0.91232092, 0.91232092, 0.91232092,\n",
      "       0.91232092, 0.91232092, 0.91174785, 0.91174785, 0.91174785,\n",
      "       0.91174785, 0.91174785, 0.91174785, 0.91117479, 0.91060172,\n",
      "       0.91002865, 0.90945559, 0.90945559, 0.90945559]), 'Metrics_tracking_HOTA_DetPr': array([0.33249843, 0.33249843, 0.33228971, 0.33228971, 0.33228971,\n",
      "       0.33228971, 0.33228971, 0.33208099, 0.33208099, 0.33208099,\n",
      "       0.33208099, 0.33208099, 0.33208099, 0.33187226, 0.33166354,\n",
      "       0.33145481, 0.33124609, 0.33124609, 0.33124609]), 'Metrics_tracking_HOTA_AssRe': array([0.84126676, 0.84126676, 0.84120673, 0.84120673, 0.84120673,\n",
      "       0.84120673, 0.84120673, 0.84167889, 0.84167889, 0.84167889,\n",
      "       0.84167889, 0.84167889, 0.84167889, 0.84220196, 0.84168034,\n",
      "       0.84217888, 0.8421325 , 0.8421325 , 0.8421325 ]), 'Metrics_tracking_HOTA_AssPr': array([0.95948969, 0.95948969, 0.95897429, 0.95897429, 0.95897429,\n",
      "       0.95897429, 0.95897429, 0.95844568, 0.95844568, 0.95844568,\n",
      "       0.95844568, 0.95844568, 0.95844568, 0.95904218, 0.95839691,\n",
      "       0.95821328, 0.95772066, 0.95772066, 0.95772066]), 'Metrics_tracking_HOTA_LocA': array([3.00612807, 3.00612807, 3.00795038, 3.00795038, 3.00795038,\n",
      "       3.00795038, 3.00795038, 3.00960004, 3.00960004, 3.00960004,\n",
      "       3.00960004, 3.00960004, 3.00960004, 3.01105742, 3.0124899 ,\n",
      "       3.0138971 , 3.01528619, 3.01528619, 3.01528619]), 'Metrics_tracking_HOTA_RHOTA': array([0.87058795, 0.87058795, 0.87023187, 0.87023187, 0.87023187,\n",
      "       0.87023187, 0.87023187, 0.87020171, 0.87020171, 0.87020171,\n",
      "       0.87020171, 0.87020171, 0.87020171, 0.87020006, 0.86942616,\n",
      "       0.86940971, 0.86906661, 0.86906661, 0.86906661]), 'Metrics_tracking_HOTA_HOTA_TP': array([1593., 1593., 1592., 1592., 1592., 1592., 1592., 1591., 1591.,\n",
      "       1591., 1591., 1591., 1591., 1590., 1589., 1588., 1587., 1587.,\n",
      "       1587.]), 'Metrics_tracking_HOTA_HOTA_FN': array([152., 152., 153., 153., 153., 153., 153., 154., 154., 154., 154.,\n",
      "       154., 154., 155., 156., 157., 158., 158., 158.]), 'Metrics_tracking_HOTA_HOTA_FP': array([3198., 3198., 3199., 3199., 3199., 3199., 3199., 3200., 3200.,\n",
      "       3200., 3200., 3200., 3200., 3201., 3202., 3203., 3204., 3204.,\n",
      "       3204.]), 'Metrics_tracking_HOTA_HOTA(0)': 0.5172673434632892, 'Metrics_tracking_HOTA_LocA(0)': 3.0061280674614337, 'Metrics_tracking_HOTA_HOTALocA(0)': 1.554971879566207, 'Metrics_tracking_CLEAR_MOTA': -0.9329512893982808, 'Metrics_tracking_CLEAR_MOTP': 2.995566716280568, 'Metrics_tracking_CLEAR_MODA': -0.9220630372492836, 'Metrics_tracking_CLEAR_CLR_Re': 0.9117478510028654, 'Metrics_tracking_CLEAR_CLR_Pr': 0.33208098518054685, 'Metrics_tracking_CLEAR_MTR': 0.6666666666666666, 'Metrics_tracking_CLEAR_PTR': 0.19444444444444445, 'Metrics_tracking_CLEAR_MLR': 0.1388888888888889, 'Metrics_tracking_CLEAR_sMOTA': 0.8865023757033718, 'Metrics_tracking_CLEAR_CLR_F1': 0.4868421052631579, 'Metrics_tracking_CLEAR_FP_per_frame': 32.0, 'Metrics_tracking_CLEAR_MOTAL': -0.9227958473357896, 'Metrics_tracking_CLEAR_MOTP_sum': 4765.946645602384, 'Metrics_tracking_CLEAR_CLR_TP': 1591, 'Metrics_tracking_CLEAR_CLR_FN': 154, 'Metrics_tracking_CLEAR_CLR_FP': 3200, 'Metrics_tracking_CLEAR_IDSW': 19, 'Metrics_tracking_CLEAR_MT': 24, 'Metrics_tracking_CLEAR_PT': 7, 'Metrics_tracking_CLEAR_ML': 5, 'Metrics_tracking_CLEAR_Frag': 83.0, 'Metrics_tracking_CLEAR_CLR_Frames': 100, 'Metrics_tracking_VACE_STDA': 25.46794903843126, 'Metrics_tracking_VACE_VACE_IDs': 102, 'Metrics_tracking_VACE_VACE_GT_IDs': 36, 'Metrics_tracking_VACE_FDA': 148.19233518398858, 'Metrics_tracking_VACE_num_non_empty_timesteps': 100, 'Metrics_tracking_VACE_ATA': 0.3691007107019023, 'Metrics_tracking_VACE_SFDA': 1.4819233518398858, 'Metrics_tracking_IDEucl_IDEucl': array(0.79933744), 'Metrics_tracking_Count_Dets': 10000, 'Metrics_tracking_Count_GT_Dets': 10000, 'Metrics_tracking_Count_IDs': 102, 'Metrics_tracking_Count_GT_IDs': 36, 'Metrics_tracking_Count_Frames': 100, 'Metrics_prediction_agg_ADE': 2.7687812811695056, 'Metrics_prediction_agg_FDE': 4.217628871026463, 'Metrics_prediction_std_ADE': 0.4233220148851658, 'Metrics_prediction_std_FDE': 1.5925211789132117, 'Metrics_prediction_n_with_truth': 2982, 'Metrics_prediction_n_objects': 2982, 'Metrics_collaborative_n_collab_detections_median': 201.0, 'Metrics_collaborative_n_collab_sensors_in_view_median': 16.0, 'Metrics_collaborative_n_collab_sensors_total_median': 39.0}\n",
      "load checkpoint from local path: /home/spencer/Documents/Projects/Research/avstack-studies/submodules/lib-avstack/third_party/mmdetection3d/work_dirs/hv_pointpillars_fpn_sbn-all_fp16_2x8_2x_carla-3d/latest.pth\n",
      "      Running dataset: CARLA, case 3\n"
     ]
    },
    {
     "name": "stderr",
     "output_type": "stream",
     "text": [
      "100%|█████████████████████████████████████████████████████████████████| 100/100 [07:13<00:00,  4.33s/it]\n",
      "100%|█████████████████████████████████████████████████████████████████| 100/100 [00:11<00:00,  8.39it/s]\n",
      "100%|█████████████████████████████████████████████████████████████████| 100/100 [01:13<00:00,  1.37it/s]\n"
     ]
    },
    {
     "name": "stdout",
     "output_type": "stream",
     "text": [
      "\n",
      "CLEAR Config:\n",
      "THRESHOLD            : 0.5                           \n",
      "PRINT_CONFIG         : True                          \n",
      "\n",
      "IDEucl Config:\n",
      "THRESHOLD            : 0.4                           \n",
      "PRINT_CONFIG         : True                          \n",
      "\n",
      "Evaluating 1 tracker(s) on 1 sequence(s) for 1 class(es) on AvstackTrackDataset dataset using the following metrics: HOTA, CLEAR, VACE, IDEucl, Count\n",
      "\n",
      "\n",
      "Evaluating box-tracker\n",
      "\n",
      "34 eval_sequence(run_2022_10_31_13:57:59, box-tracker)                    27.1305 sec\n",
      "\n",
      "All sequences for box-tracker finished in 27.13 seconds\n"
     ]
    },
    {
     "name": "stderr",
     "output_type": "stream",
     "text": [
      "100%|█████████████████████████████████████████████████████████████████| 100/100 [02:23<00:00,  1.43s/it]\n",
      "/home/spencer/Documents/Projects/Research/avstack-studies/submodules/lib-avstack/third_party/mmdetection3d/mmdet3d/models/dense_heads/anchor3d_head.py:84: UserWarning: dir_offset and dir_limit_offset will be depressed and be incorporated into box coder in the future\n",
      "  warnings.warn(\n"
     ]
    },
    {
     "name": "stdout",
     "output_type": "stream",
     "text": [
      "{'Case': 3, 'Dataset': 'CARLA', 'Trial': 2, 'Metrics_perception_object_3d_tot_TP': 638, 'Metrics_perception_object_3d_tot_FP': 0, 'Metrics_perception_object_3d_tot_FN': 587, 'Metrics_perception_object_3d_tot_T': 1225, 'Metrics_perception_object_3d_mean_precision': 1.0, 'Metrics_perception_object_3d_mean_recall': 0.5203768168106404, 'Metrics_tracking_HOTA_HOTA': array([0.21572001, 0.21540599, 0.21536791, 0.21535277, 0.21530436,\n",
      "       0.21526978, 0.21526978, 0.21526978, 0.21526978, 0.21519452,\n",
      "       0.21512847, 0.2151081 , 0.2151081 , 0.21477893, 0.21473919,\n",
      "       0.21473919, 0.21467652, 0.21464592, 0.2145312 ]), 'Metrics_tracking_HOTA_DetA': array([0.08689078, 0.08651163, 0.08625901, 0.08613274, 0.0858803 ,\n",
      "       0.08575413, 0.08575413, 0.08575413, 0.08575413, 0.08537577,\n",
      "       0.08487171, 0.08474576, 0.08474576, 0.08436811, 0.08411649,\n",
      "       0.08411649, 0.08386498, 0.08373927, 0.08336232]), 'Metrics_tracking_HOTA_AssA': array([0.53555884, 0.53634109, 0.53772163, 0.5384342 , 0.53977417,\n",
      "       0.54039474, 0.54039474, 0.54039474, 0.54039474, 0.5424101 ,\n",
      "       0.54529669, 0.54600365, 0.54600365, 0.54677047, 0.5482031 ,\n",
      "       0.5482031 , 0.54952622, 0.55019434, 0.55209161]), 'Metrics_tracking_HOTA_DetRe': array([0.42808023, 0.42636103, 0.4252149 , 0.42464183, 0.4234957 ,\n",
      "       0.42292264, 0.42292264, 0.42292264, 0.42292264, 0.42120344,\n",
      "       0.41891117, 0.41833811, 0.41833811, 0.41661891, 0.41547278,\n",
      "       0.41547278, 0.41432665, 0.41375358, 0.41203438]), 'Metrics_tracking_HOTA_DetPr': array([0.09830241, 0.09790762, 0.09764443, 0.09751283, 0.09724964,\n",
      "       0.09711804, 0.09711804, 0.09711804, 0.09711804, 0.09672325,\n",
      "       0.09619687, 0.09606527, 0.09606527, 0.09567048, 0.09540729,\n",
      "       0.09540729, 0.0951441 , 0.0950125 , 0.09461771]), 'Metrics_tracking_HOTA_AssRe': array([0.53630323, 0.53724594, 0.53862769, 0.53934038, 0.54063587,\n",
      "       0.54125552, 0.54125552, 0.54125552, 0.54125552, 0.54327269,\n",
      "       0.5461625 , 0.54686957, 0.54686957, 0.54774476, 0.5491769 ,\n",
      "       0.5491769 , 0.55050569, 0.55117373, 0.55308211]), 'Metrics_tracking_HOTA_AssPr': array([0.96544813, 0.96402073, 0.96482222, 0.96597433, 0.96809244,\n",
      "       0.9680492 , 0.9680492 , 0.9680492 , 0.9680492 , 0.9683723 ,\n",
      "       0.97116322, 0.97167166, 0.97167166, 0.97168085, 0.97321192,\n",
      "       0.97321192, 0.97140891, 0.97136931, 0.96835231]), 'Metrics_tracking_HOTA_LocA': array([2.86402608, 2.87525318, 2.8826532 , 2.8863156 , 2.89352385,\n",
      "       2.89707172, 2.89707172, 2.89707172, 2.89707172, 2.90694689,\n",
      "       2.92002223, 2.92320599, 2.92320599, 2.93254059, 2.938634  ,\n",
      "       2.938634  , 2.94449385, 2.94733425, 2.95577893]), 'Metrics_tracking_HOTA_RHOTA': array([0.47881328, 0.47819969, 0.47817073, 0.47816492, 0.478113  ,\n",
      "       0.47806398, 0.47806398, 0.47806398, 0.47806398, 0.47798013,\n",
      "       0.47794443, 0.47792691, 0.47792691, 0.47727866, 0.47724571,\n",
      "       0.47724571, 0.47716177, 0.47712145, 0.47694939]), 'Metrics_tracking_HOTA_HOTA_TP': array([747., 744., 742., 741., 739., 738., 738., 738., 738., 735., 731.,\n",
      "       730., 730., 727., 725., 725., 723., 722., 719.]), 'Metrics_tracking_HOTA_HOTA_FN': array([ 998., 1001., 1003., 1004., 1006., 1007., 1007., 1007., 1007.,\n",
      "       1010., 1014., 1015., 1015., 1018., 1020., 1020., 1022., 1023.,\n",
      "       1026.]), 'Metrics_tracking_HOTA_HOTA_FP': array([6852., 6855., 6857., 6858., 6860., 6861., 6861., 6861., 6861.,\n",
      "       6864., 6868., 6869., 6869., 6872., 6874., 6874., 6876., 6877.,\n",
      "       6880.]), 'Metrics_tracking_HOTA_HOTA(0)': 0.21572001157680448, 'Metrics_tracking_HOTA_LocA(0)': 2.864026083803328, 'Metrics_tracking_HOTA_HOTALocA(0)': 0.6178277399543238, 'Metrics_tracking_CLEAR_MOTA': -3.5306590257879655, 'Metrics_tracking_CLEAR_MOTP': 2.9040887565256166, 'Metrics_tracking_CLEAR_MODA': -3.5111747851002866, 'Metrics_tracking_CLEAR_CLR_Re': 0.4217765042979943, 'Metrics_tracking_CLEAR_CLR_Pr': 0.09685484932227925, 'Metrics_tracking_CLEAR_MTR': 0.05555555555555555, 'Metrics_tracking_CLEAR_PTR': 0.4722222222222222, 'Metrics_tracking_CLEAR_MLR': 0.4722222222222222, 'Metrics_tracking_CLEAR_sMOTA': -2.7275591261874763, 'Metrics_tracking_CLEAR_CLR_F1': 0.15753424657534246, 'Metrics_tracking_CLEAR_FP_per_frame': 68.63, 'Metrics_tracking_CLEAR_MOTAL': -3.512052423448162, 'Metrics_tracking_CLEAR_MOTP_sum': 2137.409324802854, 'Metrics_tracking_CLEAR_CLR_TP': 736, 'Metrics_tracking_CLEAR_CLR_FN': 1009, 'Metrics_tracking_CLEAR_CLR_FP': 6863, 'Metrics_tracking_CLEAR_IDSW': 34, 'Metrics_tracking_CLEAR_MT': 2, 'Metrics_tracking_CLEAR_PT': 17, 'Metrics_tracking_CLEAR_ML': 17, 'Metrics_tracking_CLEAR_Frag': 40.0, 'Metrics_tracking_CLEAR_CLR_Frames': 100, 'Metrics_tracking_VACE_STDA': 9.287569020805124, 'Metrics_tracking_VACE_VACE_IDs': 837, 'Metrics_tracking_VACE_VACE_GT_IDs': 36, 'Metrics_tracking_VACE_FDA': 46.83392942529827, 'Metrics_tracking_VACE_num_non_empty_timesteps': 100, 'Metrics_tracking_VACE_ATA': 0.021277363163356527, 'Metrics_tracking_VACE_SFDA': 0.4683392942529827, 'Metrics_tracking_IDEucl_IDEucl': array(0.26065416), 'Metrics_tracking_Count_Dets': 10000, 'Metrics_tracking_Count_GT_Dets': 10000, 'Metrics_tracking_Count_IDs': 837, 'Metrics_tracking_Count_GT_IDs': 36, 'Metrics_tracking_Count_Frames': 100, 'Metrics_prediction_agg_ADE': 2.66261795775481, 'Metrics_prediction_agg_FDE': 5.2181827089024955, 'Metrics_prediction_std_ADE': 1.6809767308689554, 'Metrics_prediction_std_FDE': 3.640234010195376, 'Metrics_prediction_n_with_truth': 2958, 'Metrics_prediction_n_objects': 2958, 'Metrics_collaborative_n_collab_detections_median': 112.0, 'Metrics_collaborative_n_collab_sensors_in_view_median': 8.0, 'Metrics_collaborative_n_collab_sensors_total_median': 39.0}\n",
      "load checkpoint from local path: /home/spencer/Documents/Projects/Research/avstack-studies/submodules/lib-avstack/third_party/mmdetection3d/work_dirs/hv_pointpillars_fpn_sbn-all_fp16_2x8_2x_carla-3d/latest.pth\n",
      "      Running dataset: CARLA, case 4\n"
     ]
    },
    {
     "name": "stderr",
     "output_type": "stream",
     "text": [
      "100%|█████████████████████████████████████████████████████████████████| 100/100 [01:44<00:00,  1.05s/it]\n",
      "100%|█████████████████████████████████████████████████████████████████| 100/100 [00:11<00:00,  9.01it/s]\n",
      "100%|█████████████████████████████████████████████████████████████████| 100/100 [00:45<00:00,  2.20it/s]\n"
     ]
    },
    {
     "name": "stdout",
     "output_type": "stream",
     "text": [
      "\n",
      "CLEAR Config:\n",
      "THRESHOLD            : 0.5                           \n",
      "PRINT_CONFIG         : True                          \n",
      "\n",
      "IDEucl Config:\n",
      "THRESHOLD            : 0.4                           \n",
      "PRINT_CONFIG         : True                          \n",
      "\n",
      "Evaluating 1 tracker(s) on 1 sequence(s) for 1 class(es) on AvstackTrackDataset dataset using the following metrics: HOTA, CLEAR, VACE, IDEucl, Count\n",
      "\n",
      "\n",
      "Evaluating box-tracker\n",
      "\n",
      "35 eval_sequence(run_2022_10_31_13:57:59, box-tracker)                    18.2688 sec\n",
      "\n",
      "All sequences for box-tracker finished in 18.27 seconds\n"
     ]
    },
    {
     "name": "stderr",
     "output_type": "stream",
     "text": [
      "100%|█████████████████████████████████████████████████████████████████| 100/100 [01:33<00:00,  1.07it/s]\n",
      "/home/spencer/Documents/Projects/Research/avstack-studies/submodules/lib-avstack/third_party/mmdetection3d/mmdet3d/models/dense_heads/anchor3d_head.py:84: UserWarning: dir_offset and dir_limit_offset will be depressed and be incorporated into box coder in the future\n",
      "  warnings.warn(\n"
     ]
    },
    {
     "name": "stdout",
     "output_type": "stream",
     "text": [
      "{'Case': 4, 'Dataset': 'CARLA', 'Trial': 2, 'Metrics_perception_object_3d_tot_TP': 638, 'Metrics_perception_object_3d_tot_FP': 0, 'Metrics_perception_object_3d_tot_FN': 587, 'Metrics_perception_object_3d_tot_T': 1225, 'Metrics_perception_object_3d_mean_precision': 1.0, 'Metrics_perception_object_3d_mean_recall': 0.5203768168106404, 'Metrics_tracking_HOTA_HOTA': array([0.54292189, 0.54292189, 0.54292189, 0.54292189, 0.54292189,\n",
      "       0.54292189, 0.54292189, 0.54282767, 0.54282767, 0.54282767,\n",
      "       0.54282767, 0.54282767, 0.54282767, 0.54282767, 0.54282767,\n",
      "       0.54282767, 0.54282767, 0.54282767, 0.54274242]), 'Metrics_tracking_HOTA_DetA': array([0.33668224, 0.33668224, 0.33668224, 0.33668224, 0.33668224,\n",
      "       0.33668224, 0.33668224, 0.33637001, 0.33637001, 0.33637001,\n",
      "       0.33637001, 0.33637001, 0.33637001, 0.33637001, 0.33637001,\n",
      "       0.33637001, 0.33637001, 0.33637001, 0.33605792]), 'Metrics_tracking_HOTA_AssA': array([0.87549667, 0.87549667, 0.87549667, 0.87549667, 0.87549667,\n",
      "       0.87549667, 0.87549667, 0.87600521, 0.87600521, 0.87600521,\n",
      "       0.87600521, 0.87600521, 0.87600521, 0.87600521, 0.87600521,\n",
      "       0.87600521, 0.87600521, 0.87600521, 0.87654337]), 'Metrics_tracking_HOTA_DetRe': array([0.82578797, 0.82578797, 0.82578797, 0.82578797, 0.82578797,\n",
      "       0.82578797, 0.82578797, 0.8252149 , 0.8252149 , 0.8252149 ,\n",
      "       0.8252149 , 0.8252149 , 0.8252149 , 0.8252149 , 0.8252149 ,\n",
      "       0.8252149 , 0.8252149 , 0.8252149 , 0.82464183]), 'Metrics_tracking_HOTA_DetPr': array([0.36242455, 0.36242455, 0.36242455, 0.36242455, 0.36242455,\n",
      "       0.36242455, 0.36242455, 0.36217304, 0.36217304, 0.36217304,\n",
      "       0.36217304, 0.36217304, 0.36217304, 0.36217304, 0.36217304,\n",
      "       0.36217304, 0.36217304, 0.36217304, 0.36192153]), 'Metrics_tracking_HOTA_AssRe': array([0.88334014, 0.88334014, 0.88334014, 0.88334014, 0.88334014,\n",
      "       0.88334014, 0.88334014, 0.88385688, 0.88385688, 0.88385688,\n",
      "       0.88385688, 0.88385688, 0.88385688, 0.88385688, 0.88385688,\n",
      "       0.88385688, 0.88385688, 0.88385688, 0.88435296]), 'Metrics_tracking_HOTA_AssPr': array([0.96925638, 0.96925638, 0.96925638, 0.96925638, 0.96925638,\n",
      "       0.96925638, 0.96925638, 0.96865633, 0.96865633, 0.96865633,\n",
      "       0.96865633, 0.96865633, 0.96865633, 0.96865633, 0.96865633,\n",
      "       0.96865633, 0.96865633, 0.96865633, 0.9691818 ]), 'Metrics_tracking_HOTA_LocA': array([3.01570462, 3.01570462, 3.01570462, 3.01570462, 3.01570462,\n",
      "       3.01570462, 3.01570462, 3.0175502 , 3.0175502 , 3.0175502 ,\n",
      "       3.0175502 , 3.0175502 , 3.0175502 , 3.0175502 , 3.0175502 ,\n",
      "       3.0175502 , 3.0175502 , 3.0175502 , 3.01898768]), 'Metrics_tracking_HOTA_RHOTA': array([0.85027914, 0.85027914, 0.85027914, 0.85027914, 0.85027914,\n",
      "       0.85027914, 0.85027914, 0.85023088, 0.85023088, 0.85023088,\n",
      "       0.85023088, 0.85023088, 0.85023088, 0.85023088, 0.85023088,\n",
      "       0.85023088, 0.85023088, 0.85023088, 0.85019664]), 'Metrics_tracking_HOTA_HOTA_TP': array([1441., 1441., 1441., 1441., 1441., 1441., 1441., 1440., 1440.,\n",
      "       1440., 1440., 1440., 1440., 1440., 1440., 1440., 1440., 1440.,\n",
      "       1439.]), 'Metrics_tracking_HOTA_HOTA_FN': array([304., 304., 304., 304., 304., 304., 304., 305., 305., 305., 305.,\n",
      "       305., 305., 305., 305., 305., 305., 305., 306.]), 'Metrics_tracking_HOTA_HOTA_FP': array([2535., 2535., 2535., 2535., 2535., 2535., 2535., 2536., 2536.,\n",
      "       2536., 2536., 2536., 2536., 2536., 2536., 2536., 2536., 2536.,\n",
      "       2537.]), 'Metrics_tracking_HOTA_HOTA(0)': 0.5429218926952831, 'Metrics_tracking_HOTA_LocA(0)': 3.015704616073495, 'Metrics_tracking_HOTA_HOTALocA(0)': 1.637292057968524, 'Metrics_tracking_CLEAR_MOTA': -0.633810888252149, 'Metrics_tracking_CLEAR_MOTP': 3.002686816683194, 'Metrics_tracking_CLEAR_MODA': -0.6280802292263611, 'Metrics_tracking_CLEAR_CLR_Re': 0.8252148997134671, 'Metrics_tracking_CLEAR_CLR_Pr': 0.36217303822937624, 'Metrics_tracking_CLEAR_MTR': 0.6388888888888888, 'Metrics_tracking_CLEAR_PTR': 0.1111111111111111, 'Metrics_tracking_CLEAR_MLR': 0.25, 'Metrics_tracking_CLEAR_sMOTA': 1.0188361123345555, 'Metrics_tracking_CLEAR_CLR_F1': 0.5034084950183534, 'Metrics_tracking_CLEAR_FP_per_frame': 25.36, 'Metrics_tracking_CLEAR_MOTAL': -0.6286532951289399, 'Metrics_tracking_CLEAR_MOTP_sum': 4323.869016023799, 'Metrics_tracking_CLEAR_CLR_TP': 1440, 'Metrics_tracking_CLEAR_CLR_FN': 305, 'Metrics_tracking_CLEAR_CLR_FP': 2536, 'Metrics_tracking_CLEAR_IDSW': 10, 'Metrics_tracking_CLEAR_MT': 23, 'Metrics_tracking_CLEAR_PT': 4, 'Metrics_tracking_CLEAR_ML': 9, 'Metrics_tracking_CLEAR_Frag': 64.0, 'Metrics_tracking_CLEAR_CLR_Frames': 100, 'Metrics_tracking_VACE_STDA': 23.6571421554, 'Metrics_tracking_VACE_VACE_IDs': 70, 'Metrics_tracking_VACE_VACE_GT_IDs': 36, 'Metrics_tracking_VACE_FDA': 163.31750756981336, 'Metrics_tracking_VACE_num_non_empty_timesteps': 100, 'Metrics_tracking_VACE_ATA': 0.4463611727433962, 'Metrics_tracking_VACE_SFDA': 1.6331750756981336, 'Metrics_tracking_IDEucl_IDEucl': array(0.78747672), 'Metrics_tracking_Count_Dets': 10000, 'Metrics_tracking_Count_GT_Dets': 10000, 'Metrics_tracking_Count_IDs': 70, 'Metrics_tracking_Count_GT_IDs': 36, 'Metrics_tracking_Count_Frames': 100, 'Metrics_prediction_agg_ADE': 3.1185643569583443, 'Metrics_prediction_agg_FDE': 5.3383731854891, 'Metrics_prediction_std_ADE': 0.7335084385053489, 'Metrics_prediction_std_FDE': 2.4953481554300283, 'Metrics_prediction_n_with_truth': 2872, 'Metrics_prediction_n_objects': 2872, 'Metrics_collaborative_n_collab_detections_median': 108.5, 'Metrics_collaborative_n_collab_sensors_in_view_median': 6.0, 'Metrics_collaborative_n_collab_sensors_total_median': 39.0}\n",
      "load checkpoint from local path: /home/spencer/Documents/Projects/Research/avstack-studies/submodules/lib-avstack/third_party/mmdetection3d/work_dirs/hv_pointpillars_fpn_sbn-all_fp16_2x8_2x_carla-3d/latest.pth\n",
      "      Running dataset: CARLA, case 5\n"
     ]
    },
    {
     "name": "stderr",
     "output_type": "stream",
     "text": [
      "100%|█████████████████████████████████████████████████████████████████| 100/100 [00:11<00:00,  8.57it/s]\n",
      "100%|█████████████████████████████████████████████████████████████████| 100/100 [00:11<00:00,  8.59it/s]\n",
      "100%|█████████████████████████████████████████████████████████████████| 100/100 [00:10<00:00,  9.68it/s]\n"
     ]
    },
    {
     "name": "stdout",
     "output_type": "stream",
     "text": [
      "\n",
      "CLEAR Config:\n",
      "THRESHOLD            : 0.5                           \n",
      "PRINT_CONFIG         : True                          \n",
      "\n",
      "IDEucl Config:\n",
      "THRESHOLD            : 0.4                           \n",
      "PRINT_CONFIG         : True                          \n",
      "\n",
      "Evaluating 1 tracker(s) on 1 sequence(s) for 1 class(es) on AvstackTrackDataset dataset using the following metrics: HOTA, CLEAR, VACE, IDEucl, Count\n",
      "\n",
      "\n",
      "Evaluating box-tracker\n",
      "\n",
      "36 eval_sequence(run_2022_10_31_13:57:59, box-tracker)                    6.0364 sec\n",
      "\n",
      "All sequences for box-tracker finished in 6.04 seconds\n"
     ]
    },
    {
     "name": "stderr",
     "output_type": "stream",
     "text": [
      "100%|█████████████████████████████████████████████████████████████████| 100/100 [02:34<00:00,  1.55s/it]"
     ]
    },
    {
     "name": "stdout",
     "output_type": "stream",
     "text": [
      "{'Case': 5, 'Dataset': 'CARLA', 'Trial': 2, 'Metrics_perception_object_3d_tot_TP': 638, 'Metrics_perception_object_3d_tot_FP': 0, 'Metrics_perception_object_3d_tot_FN': 587, 'Metrics_perception_object_3d_tot_T': 1225, 'Metrics_perception_object_3d_mean_precision': 1.0, 'Metrics_perception_object_3d_mean_recall': 0.5203768168106404, 'Metrics_tracking_HOTA_HOTA': array([0.45414221, 0.45414221, 0.45414221, 0.45414221, 0.45414221,\n",
      "       0.45414221, 0.45414221, 0.45414221, 0.45414221, 0.45414221,\n",
      "       0.45414221, 0.45414221, 0.45414221, 0.45414221, 0.45414221,\n",
      "       0.45414221, 0.45414221, 0.45414221, 0.45414221]), 'Metrics_tracking_HOTA_DetA': array([0.35014327, 0.35014327, 0.35014327, 0.35014327, 0.35014327,\n",
      "       0.35014327, 0.35014327, 0.35014327, 0.35014327, 0.35014327,\n",
      "       0.35014327, 0.35014327, 0.35014327, 0.35014327, 0.35014327,\n",
      "       0.35014327, 0.35014327, 0.35014327, 0.35014327]), 'Metrics_tracking_HOTA_AssA': array([0.58903074, 0.58903074, 0.58903074, 0.58903074, 0.58903074,\n",
      "       0.58903074, 0.58903074, 0.58903074, 0.58903074, 0.58903074,\n",
      "       0.58903074, 0.58903074, 0.58903074, 0.58903074, 0.58903074,\n",
      "       0.58903074, 0.58903074, 0.58903074, 0.58903074]), 'Metrics_tracking_HOTA_DetRe': array([0.35014327, 0.35014327, 0.35014327, 0.35014327, 0.35014327,\n",
      "       0.35014327, 0.35014327, 0.35014327, 0.35014327, 0.35014327,\n",
      "       0.35014327, 0.35014327, 0.35014327, 0.35014327, 0.35014327,\n",
      "       0.35014327, 0.35014327, 0.35014327, 0.35014327]), 'Metrics_tracking_HOTA_DetPr': array([1., 1., 1., 1., 1., 1., 1., 1., 1., 1., 1., 1., 1., 1., 1., 1., 1.,\n",
      "       1., 1.]), 'Metrics_tracking_HOTA_AssRe': array([0.58903074, 0.58903074, 0.58903074, 0.58903074, 0.58903074,\n",
      "       0.58903074, 0.58903074, 0.58903074, 0.58903074, 0.58903074,\n",
      "       0.58903074, 0.58903074, 0.58903074, 0.58903074, 0.58903074,\n",
      "       0.58903074, 0.58903074, 0.58903074, 0.58903074]), 'Metrics_tracking_HOTA_AssPr': array([1., 1., 1., 1., 1., 1., 1., 1., 1., 1., 1., 1., 1., 1., 1., 1., 1.,\n",
      "       1., 1.]), 'Metrics_tracking_HOTA_LocA': array([3.17232147, 3.17232147, 3.17232147, 3.17232147, 3.17232147,\n",
      "       3.17232147, 3.17232147, 3.17232147, 3.17232147, 3.17232147,\n",
      "       3.17232147, 3.17232147, 3.17232147, 3.17232147, 3.17232147,\n",
      "       3.17232147, 3.17232147, 3.17232147, 3.17232147]), 'Metrics_tracking_HOTA_RHOTA': array([0.45414221, 0.45414221, 0.45414221, 0.45414221, 0.45414221,\n",
      "       0.45414221, 0.45414221, 0.45414221, 0.45414221, 0.45414221,\n",
      "       0.45414221, 0.45414221, 0.45414221, 0.45414221, 0.45414221,\n",
      "       0.45414221, 0.45414221, 0.45414221, 0.45414221]), 'Metrics_tracking_HOTA_HOTA_TP': array([611., 611., 611., 611., 611., 611., 611., 611., 611., 611., 611.,\n",
      "       611., 611., 611., 611., 611., 611., 611., 611.]), 'Metrics_tracking_HOTA_HOTA_FN': array([1134., 1134., 1134., 1134., 1134., 1134., 1134., 1134., 1134.,\n",
      "       1134., 1134., 1134., 1134., 1134., 1134., 1134., 1134., 1134.,\n",
      "       1134.]), 'Metrics_tracking_HOTA_HOTA_FP': array([0., 0., 0., 0., 0., 0., 0., 0., 0., 0., 0., 0., 0., 0., 0., 0., 0.,\n",
      "       0., 0.]), 'Metrics_tracking_HOTA_HOTA(0)': 0.4541422118016948, 'Metrics_tracking_HOTA_LocA(0)': 3.172321465333276, 'Metrics_tracking_HOTA_HOTALocA(0)': 1.4406850868124474, 'Metrics_tracking_CLEAR_MOTA': 0.3484240687679083, 'Metrics_tracking_CLEAR_MOTP': 3.172321465333276, 'Metrics_tracking_CLEAR_MODA': 0.3501432664756447, 'Metrics_tracking_CLEAR_CLR_Re': 0.3501432664756447, 'Metrics_tracking_CLEAR_CLR_Pr': 1.0, 'Metrics_tracking_CLEAR_MTR': 0.05555555555555555, 'Metrics_tracking_CLEAR_PTR': 0.3611111111111111, 'Metrics_tracking_CLEAR_MLR': 0.5833333333333334, 'Metrics_tracking_CLEAR_sMOTA': 1.1090478024748605, 'Metrics_tracking_CLEAR_CLR_F1': 0.5186757215619694, 'Metrics_tracking_CLEAR_FP_per_frame': 0.0, 'Metrics_tracking_CLEAR_MOTAL': 0.3498698445531692, 'Metrics_tracking_CLEAR_MOTP_sum': 1938.2884153186317, 'Metrics_tracking_CLEAR_CLR_TP': 611, 'Metrics_tracking_CLEAR_CLR_FN': 1134, 'Metrics_tracking_CLEAR_CLR_FP': 0, 'Metrics_tracking_CLEAR_IDSW': 3, 'Metrics_tracking_CLEAR_MT': 2, 'Metrics_tracking_CLEAR_PT': 13, 'Metrics_tracking_CLEAR_ML': 21, 'Metrics_tracking_CLEAR_Frag': 13.0, 'Metrics_tracking_CLEAR_CLR_Frames': 100, 'Metrics_tracking_VACE_STDA': 8.21504041479647, 'Metrics_tracking_VACE_VACE_IDs': 22, 'Metrics_tracking_VACE_VACE_GT_IDs': 36, 'Metrics_tracking_VACE_FDA': 161.66921802425344, 'Metrics_tracking_VACE_num_non_empty_timesteps': 100, 'Metrics_tracking_VACE_ATA': 0.2832772556826369, 'Metrics_tracking_VACE_SFDA': 1.6166921802425345, 'Metrics_tracking_IDEucl_IDEucl': array(0.23910122), 'Metrics_tracking_Count_Dets': 10000, 'Metrics_tracking_Count_GT_Dets': 10000, 'Metrics_tracking_Count_IDs': 22, 'Metrics_tracking_Count_GT_IDs': 36, 'Metrics_tracking_Count_Frames': 100, 'Metrics_prediction_agg_ADE': 3.764901417671652, 'Metrics_prediction_agg_FDE': 10.565339151351003, 'Metrics_prediction_std_ADE': 1.9279280839211457, 'Metrics_prediction_std_FDE': 6.398255051732407, 'Metrics_prediction_n_with_truth': 692, 'Metrics_prediction_n_objects': 692}\n"
     ]
    },
    {
     "name": "stderr",
     "output_type": "stream",
     "text": [
      "\n"
     ]
    },
    {
     "data": {
      "text/plain": [
       "<Figure size 640x480 with 0 Axes>"
      ]
     },
     "metadata": {},
     "output_type": "display_data"
    }
   ],
   "source": [
    "save_file_base = 'study-3-collaborative-{}-seq-res.p'\n",
    "frame_res_all, seq_res_all = avapi.evaluation.run_trades(SMs, AVs, li_perception, ca_perception, tracking,\n",
    "                            max_dist=100, max_lidar_range=max_lidar_range, max_framerate=max_framerate,\n",
    "                            trade_type=trade_types, sensor_eval=sensor_eval, sensor_eval_super=sensor_eval_super,\n",
    "                            collaborative_sensors=collab_sensors, n_cases_max=5,\n",
    "                            collaborative_range=collab_range, collaborative_noise=collab_noise,\n",
    "                            collaborative_source=collab_source, collaborative_rate=collab_rate,\n",
    "                            n_trials_max=3, frame_start=100, max_frames=100, filter_front=filter_front,\n",
    "                            save_file_base=save_file_base)"
   ]
  },
  {
   "cell_type": "code",
   "execution_count": 57,
   "id": "5f57b3d2",
   "metadata": {},
   "outputs": [
    {
     "data": {
      "image/png": "[encoded data removed]",
      "text/plain": [
       "<Figure size 1000x1000 with 1 Axes>"
      ]
     },
     "metadata": {},
     "output_type": "display_data"
    }
   ],
   "source": [
    "idx_frame = 17\n",
    "i_case = 2\n",
    "x_dets = np.array([obj.box.t.vector for obj in frame_res_all[0][i_case-1][idx_frame]['Result_tracking'].get_objects_of('detections')])\n",
    "x_trus = np.array([obj.box.t.vector for obj in frame_res_all[0][i_case-1][idx_frame]['Result_tracking'].get_objects_of('truths')])\n",
    "x_igns = np.array([obj.box.t.vector for obj in frame_res_all[0][i_case-1][idx_frame]['Result_tracking'].truths_dontcare])\n",
    "\n",
    "\n",
    "import matplotlib.pyplot as plt\n",
    "fig = plt.figure(figsize=(10,10))\n",
    "plt.scatter(x_trus[:,0], x_trus[:,1], c='blue', marker='o')\n",
    "plt.scatter(x_dets[:,0], x_dets[:,1], c='green', marker='x')\n",
    "plt.scatter(x_igns[:,0], x_igns[:,1], c='red', marker='.')\n",
    "plt.show()"
   ]
  },
  {
   "cell_type": "markdown",
   "id": "f84f3116",
   "metadata": {},
   "source": [
    "# Trade Study 2: Using real detections at different distances"
   ]
  },
  {
   "cell_type": "code",
   "execution_count": 76,
   "id": "ee3920f7",
   "metadata": {},
   "outputs": [],
   "source": [
    "# constants over all experiments\n",
    "li_perception = 'pointpillars'\n",
    "ca_perception = None\n",
    "tracking = 'basic-box-tracker'\n",
    "sensor_eval = 'main_lidar'\n",
    "sensor_eval_super = 'ego'  # to filter out ones from collabs that are behind buildings\n",
    "filter_front = False\n",
    "max_lidar_range = 25\n",
    "max_framerate = 10\n",
    "\n",
    "# communication range in units of meters\n",
    "collab_range = {1:70,\n",
    "                2:70,\n",
    "                3:70,\n",
    "                4:None}\n",
    "\n",
    "# collaborative detection noise (variance) on [h, w, l, x, y, z]\n",
    "collab_noise = {1:None,\n",
    "                2:[s**2 for s in [0.2, 0.2, 0.2, 1, 1, 1]],\n",
    "                3:[s**s for s in [0.05, 0.05, 0.05, 0.1, 0.1, 0.1]],\n",
    "                4:None}\n",
    "\n",
    "# communication rates in Hz\n",
    "collab_rate = {1:10,\n",
    "               2:10,\n",
    "               3:5,\n",
    "               4:None}\n",
    "\n",
    "# source of the collaborative sensing\n",
    "collab_source = {1:'ground_truth',\n",
    "                 2:'ground_truth',\n",
    "                 3:'ground_truth',\n",
    "                 4:None}\n",
    "\n",
    "# sensors to use from our dataset\n",
    "all_collab_sensors = [f'LIDAR_INFRASTRUCTURE_{d:03d}' for d in range(1,40,1)]\n",
    "collab_sensors = {1:all_collab_sensors,\n",
    "                  2:all_collab_sensors,\n",
    "                  3:all_collab_sensors,\n",
    "                  4:None}\n",
    "\n",
    "# trade study type\n",
    "trade_types = {1:'collaborative',\n",
    "               2:'collaborative',\n",
    "               3:'collaborative',\n",
    "               4:'standard'}\n",
    "\n",
    "# AV configurations\n",
    "vs = avstack.ego.vehicle\n",
    "AVs = {1:vs.LidarCollabPerceptionAndTrackingVehicle,\n",
    "       2:vs.LidarCollabPerceptionAndTrackingVehicle,\n",
    "       3:vs.LidarCollabPerceptionAndTrackingVehicle,\n",
    "       4:vs.LidarPerceptionAndTrackingVehicle}\n",
    "SMs = [CSM]"
   ]
  },
  {
   "cell_type": "code",
   "execution_count": 81,
   "id": "7e9e5d2b",
   "metadata": {
    "scrolled": true
   },
   "outputs": [
    {
     "name": "stdout",
     "output_type": "stream",
     "text": [
      "Running dataset CARLA over 2 trials\n",
      "   Running trial 0, using index 0\n",
      "load checkpoint from local path: /home/spencer/Documents/Projects/Research/avstack-studies/submodules/lib-avstack/third_party/mmdetection3d/work_dirs/hv_pointpillars_fpn_sbn-all_fp16_2x8_2x_carla-3d/latest.pth\n",
      "      Running dataset: CARLA, case 1\n"
     ]
    },
    {
     "name": "stderr",
     "output_type": "stream",
     "text": [
      "100%|███████████████████████████████████████████████████████████████████| 50/50 [00:14<00:00,  3.54it/s]\n",
      "100%|███████████████████████████████████████████████████████████████████| 50/50 [00:04<00:00, 11.76it/s]\n",
      "100%|███████████████████████████████████████████████████████████████████| 50/50 [00:06<00:00,  7.26it/s]\n"
     ]
    },
    {
     "name": "stdout",
     "output_type": "stream",
     "text": [
      "\n",
      "CLEAR Config:\n",
      "THRESHOLD            : 0.5                           \n",
      "PRINT_CONFIG         : True                          \n",
      "\n",
      "IDEucl Config:\n",
      "THRESHOLD            : 0.4                           \n",
      "PRINT_CONFIG         : True                          \n",
      "\n",
      "Evaluating 1 tracker(s) on 1 sequence(s) for 1 class(es) on AvstackTrackDataset dataset using the following metrics: HOTA, CLEAR, VACE, IDEucl, Count\n",
      "\n",
      "\n",
      "Evaluating box-tracker\n",
      "\n",
      "39 eval_sequence(run_2022_10_31_13:34:52, box-tracker)                    3.3380 sec\n",
      "\n",
      "All sequences for box-tracker finished in 3.34 seconds\n"
     ]
    },
    {
     "name": "stderr",
     "output_type": "stream",
     "text": [
      "100%|███████████████████████████████████████████████████████████████████| 50/50 [00:41<00:00,  1.21it/s]\n",
      "/home/spencer/Documents/Projects/Research/avstack-studies/submodules/lib-avstack/third_party/mmdetection3d/mmdet3d/models/dense_heads/anchor3d_head.py:84: UserWarning: dir_offset and dir_limit_offset will be depressed and be incorporated into box coder in the future\n",
      "  warnings.warn(\n"
     ]
    },
    {
     "name": "stdout",
     "output_type": "stream",
     "text": [
      "{'Case': 1, 'Dataset': 'CARLA', 'Trial': 0, 'Metrics_perception_object_3d_tot_TP': 405, 'Metrics_perception_object_3d_tot_FP': 0, 'Metrics_perception_object_3d_tot_FN': 155, 'Metrics_perception_object_3d_tot_T': 560, 'Metrics_perception_object_3d_mean_precision': 1.0, 'Metrics_perception_object_3d_mean_recall': 0.7287832167832168, 'Metrics_tracking_HOTA_HOTA': array([0.80039242, 0.80039242, 0.80039242, 0.80039242, 0.80039242,\n",
      "       0.80039242, 0.80039242, 0.80039242, 0.80039242, 0.80039242,\n",
      "       0.80039242, 0.80039242, 0.80039242, 0.80039242, 0.80039242,\n",
      "       0.80039242, 0.80039242, 0.80039242, 0.80039242]), 'Metrics_tracking_HOTA_DetA': array([0.70079787, 0.70079787, 0.70079787, 0.70079787, 0.70079787,\n",
      "       0.70079787, 0.70079787, 0.70079787, 0.70079787, 0.70079787,\n",
      "       0.70079787, 0.70079787, 0.70079787, 0.70079787, 0.70079787,\n",
      "       0.70079787, 0.70079787, 0.70079787, 0.70079787]), 'Metrics_tracking_HOTA_AssA': array([0.91414094, 0.91414094, 0.91414094, 0.91414094, 0.91414094,\n",
      "       0.91414094, 0.91414094, 0.91414094, 0.91414094, 0.91414094,\n",
      "       0.91414094, 0.91414094, 0.91414094, 0.91414094, 0.91414094,\n",
      "       0.91414094, 0.91414094, 0.91414094, 0.91414094]), 'Metrics_tracking_HOTA_DetRe': array([0.86677632, 0.86677632, 0.86677632, 0.86677632, 0.86677632,\n",
      "       0.86677632, 0.86677632, 0.86677632, 0.86677632, 0.86677632,\n",
      "       0.86677632, 0.86677632, 0.86677632, 0.86677632, 0.86677632,\n",
      "       0.86677632, 0.86677632, 0.86677632, 0.86677632]), 'Metrics_tracking_HOTA_DetPr': array([0.78539493, 0.78539493, 0.78539493, 0.78539493, 0.78539493,\n",
      "       0.78539493, 0.78539493, 0.78539493, 0.78539493, 0.78539493,\n",
      "       0.78539493, 0.78539493, 0.78539493, 0.78539493, 0.78539493,\n",
      "       0.78539493, 0.78539493, 0.78539493, 0.78539493]), 'Metrics_tracking_HOTA_AssRe': array([0.91414094, 0.91414094, 0.91414094, 0.91414094, 0.91414094,\n",
      "       0.91414094, 0.91414094, 0.91414094, 0.91414094, 0.91414094,\n",
      "       0.91414094, 0.91414094, 0.91414094, 0.91414094, 0.91414094,\n",
      "       0.91414094, 0.91414094, 0.91414094, 0.91414094]), 'Metrics_tracking_HOTA_AssPr': array([1., 1., 1., 1., 1., 1., 1., 1., 1., 1., 1., 1., 1., 1., 1., 1., 1.,\n",
      "       1., 1.]), 'Metrics_tracking_HOTA_LocA': array([3.11566787, 3.11566787, 3.11566787, 3.11566787, 3.11566787,\n",
      "       3.11566787, 3.11566787, 3.11566787, 3.11566787, 3.11566787,\n",
      "       3.11566787, 3.11566787, 3.11566787, 3.11566787, 3.11566787,\n",
      "       3.11566787, 3.11566787, 3.11566787, 3.11566787]), 'Metrics_tracking_HOTA_RHOTA': array([0.89014365, 0.89014365, 0.89014365, 0.89014365, 0.89014365,\n",
      "       0.89014365, 0.89014365, 0.89014365, 0.89014365, 0.89014365,\n",
      "       0.89014365, 0.89014365, 0.89014365, 0.89014365, 0.89014365,\n",
      "       0.89014365, 0.89014365, 0.89014365, 0.89014365]), 'Metrics_tracking_HOTA_HOTA_TP': array([527., 527., 527., 527., 527., 527., 527., 527., 527., 527., 527.,\n",
      "       527., 527., 527., 527., 527., 527., 527., 527.]), 'Metrics_tracking_HOTA_HOTA_FN': array([81., 81., 81., 81., 81., 81., 81., 81., 81., 81., 81., 81., 81.,\n",
      "       81., 81., 81., 81., 81., 81.]), 'Metrics_tracking_HOTA_HOTA_FP': array([144., 144., 144., 144., 144., 144., 144., 144., 144., 144., 144.,\n",
      "       144., 144., 144., 144., 144., 144., 144., 144.]), 'Metrics_tracking_HOTA_HOTA(0)': 0.8003924183032426, 'Metrics_tracking_HOTA_LocA(0)': 3.115667867917653, 'Metrics_tracking_HOTA_HOTALocA(0)': 2.493756939432318, 'Metrics_tracking_CLEAR_MOTA': 0.6266447368421053, 'Metrics_tracking_CLEAR_MOTP': 3.115667867917653, 'Metrics_tracking_CLEAR_MODA': 0.6299342105263158, 'Metrics_tracking_CLEAR_CLR_Re': 0.8667763157894737, 'Metrics_tracking_CLEAR_CLR_Pr': 0.7853949329359166, 'Metrics_tracking_CLEAR_MTR': 0.7333333333333333, 'Metrics_tracking_CLEAR_PTR': 0.06666666666666667, 'Metrics_tracking_CLEAR_MLR': 0.2, 'Metrics_tracking_CLEAR_sMOTA': 2.4604555368299392, 'Metrics_tracking_CLEAR_CLR_F1': 0.8240813135261923, 'Metrics_tracking_CLEAR_FP_per_frame': 2.88, 'Metrics_tracking_CLEAR_MOTAL': 0.6294390954018685, 'Metrics_tracking_CLEAR_MOTP_sum': 1641.9569663926031, 'Metrics_tracking_CLEAR_CLR_TP': 527, 'Metrics_tracking_CLEAR_CLR_FN': 81, 'Metrics_tracking_CLEAR_CLR_FP': 144, 'Metrics_tracking_CLEAR_IDSW': 2, 'Metrics_tracking_CLEAR_MT': 11, 'Metrics_tracking_CLEAR_PT': 1, 'Metrics_tracking_CLEAR_ML': 3, 'Metrics_tracking_CLEAR_Frag': 7.0, 'Metrics_tracking_CLEAR_CLR_Frames': 50, 'Metrics_tracking_VACE_STDA': 11.156328348464122, 'Metrics_tracking_VACE_VACE_IDs': 19, 'Metrics_tracking_VACE_VACE_GT_IDs': 15, 'Metrics_tracking_VACE_FDA': 126.88503567229914, 'Metrics_tracking_VACE_num_non_empty_timesteps': 50, 'Metrics_tracking_VACE_ATA': 0.6562546087331836, 'Metrics_tracking_VACE_SFDA': 2.537700713445983, 'Metrics_tracking_IDEucl_IDEucl': array(0.74487918), 'Metrics_tracking_Count_Dets': 2500, 'Metrics_tracking_Count_GT_Dets': 2500, 'Metrics_tracking_Count_IDs': 19, 'Metrics_tracking_Count_GT_IDs': 15, 'Metrics_tracking_Count_Frames': 50, 'Metrics_prediction_agg_ADE': 4.058052801515786, 'Metrics_prediction_agg_FDE': 8.993276094906214, 'Metrics_prediction_std_ADE': 0.9123025267904492, 'Metrics_prediction_std_FDE': 2.049654490442236, 'Metrics_prediction_n_with_truth': 1074, 'Metrics_prediction_n_objects': 1074, 'Metrics_collaborative_n_collab_detections_median': 54.0, 'Metrics_collaborative_n_collab_sensors_in_view_median': 5.0, 'Metrics_collaborative_n_collab_sensors_total_median': 39.0}\n",
      "load checkpoint from local path: /home/spencer/Documents/Projects/Research/avstack-studies/submodules/lib-avstack/third_party/mmdetection3d/work_dirs/hv_pointpillars_fpn_sbn-all_fp16_2x8_2x_carla-3d/latest.pth\n",
      "      Running dataset: CARLA, case 2\n"
     ]
    },
    {
     "name": "stderr",
     "output_type": "stream",
     "text": [
      "100%|███████████████████████████████████████████████████████████████████| 50/50 [00:14<00:00,  3.41it/s]\n",
      "100%|███████████████████████████████████████████████████████████████████| 50/50 [00:04<00:00, 11.73it/s]\n",
      "100%|███████████████████████████████████████████████████████████████████| 50/50 [00:07<00:00,  7.03it/s]\n"
     ]
    },
    {
     "name": "stdout",
     "output_type": "stream",
     "text": [
      "\n",
      "CLEAR Config:\n",
      "THRESHOLD            : 0.5                           \n",
      "PRINT_CONFIG         : True                          \n",
      "\n",
      "IDEucl Config:\n",
      "THRESHOLD            : 0.4                           \n",
      "PRINT_CONFIG         : True                          \n",
      "\n",
      "Evaluating 1 tracker(s) on 1 sequence(s) for 1 class(es) on AvstackTrackDataset dataset using the following metrics: HOTA, CLEAR, VACE, IDEucl, Count\n",
      "\n",
      "\n",
      "Evaluating box-tracker\n",
      "\n",
      "40 eval_sequence(run_2022_10_31_13:34:52, box-tracker)                    3.3028 sec\n",
      "\n",
      "All sequences for box-tracker finished in 3.30 seconds\n"
     ]
    },
    {
     "name": "stderr",
     "output_type": "stream",
     "text": [
      "100%|███████████████████████████████████████████████████████████████████| 50/50 [00:51<00:00,  1.04s/it]\n",
      "/home/spencer/Documents/Projects/Research/avstack-studies/submodules/lib-avstack/third_party/mmdetection3d/mmdet3d/models/dense_heads/anchor3d_head.py:84: UserWarning: dir_offset and dir_limit_offset will be depressed and be incorporated into box coder in the future\n",
      "  warnings.warn(\n"
     ]
    },
    {
     "name": "stdout",
     "output_type": "stream",
     "text": [
      "{'Case': 2, 'Dataset': 'CARLA', 'Trial': 0, 'Metrics_perception_object_3d_tot_TP': 405, 'Metrics_perception_object_3d_tot_FP': 0, 'Metrics_perception_object_3d_tot_FN': 155, 'Metrics_perception_object_3d_tot_T': 560, 'Metrics_perception_object_3d_mean_precision': 1.0, 'Metrics_perception_object_3d_mean_recall': 0.7287832167832168, 'Metrics_tracking_HOTA_HOTA': array([0.79048602, 0.79048602, 0.79048602, 0.79048602, 0.79048602,\n",
      "       0.79048602, 0.78968171, 0.78968171, 0.78968171, 0.78968171,\n",
      "       0.78968171, 0.78968171, 0.78968171, 0.78968171, 0.78968171,\n",
      "       0.78968171, 0.78968171, 0.78968171, 0.78968171]), 'Metrics_tracking_HOTA_DetA': array([0.69668874, 0.69668874, 0.69668874, 0.69668874, 0.69668874,\n",
      "       0.69668874, 0.69444444, 0.69444444, 0.69444444, 0.69444444,\n",
      "       0.69444444, 0.69444444, 0.69444444, 0.69444444, 0.69444444,\n",
      "       0.69444444, 0.69444444, 0.69444444, 0.69444444]), 'Metrics_tracking_HOTA_AssA': array([0.89691151, 0.89691151, 0.89691151, 0.89691151, 0.89691151,\n",
      "       0.89691151, 0.89797998, 0.89797998, 0.89797998, 0.89797998,\n",
      "       0.89797998, 0.89797998, 0.89797998, 0.89797998, 0.89797998,\n",
      "       0.89797998, 0.89797998, 0.89797998, 0.89797998]), 'Metrics_tracking_HOTA_DetRe': array([0.86513158, 0.86513158, 0.86513158, 0.86513158, 0.86513158,\n",
      "       0.86513158, 0.86348684, 0.86348684, 0.86348684, 0.86348684,\n",
      "       0.86348684, 0.86348684, 0.86348684, 0.86348684, 0.86348684,\n",
      "       0.86348684, 0.86348684, 0.86348684, 0.86348684]), 'Metrics_tracking_HOTA_DetPr': array([0.78157504, 0.78157504, 0.78157504, 0.78157504, 0.78157504,\n",
      "       0.78157504, 0.78008915, 0.78008915, 0.78008915, 0.78008915,\n",
      "       0.78008915, 0.78008915, 0.78008915, 0.78008915, 0.78008915,\n",
      "       0.78008915, 0.78008915, 0.78008915, 0.78008915]), 'Metrics_tracking_HOTA_AssRe': array([0.89691151, 0.89691151, 0.89691151, 0.89691151, 0.89691151,\n",
      "       0.89691151, 0.89801385, 0.89801385, 0.89801385, 0.89801385,\n",
      "       0.89801385, 0.89801385, 0.89801385, 0.89801385, 0.89801385,\n",
      "       0.89801385, 0.89801385, 0.89801385, 0.89801385]), 'Metrics_tracking_HOTA_AssPr': array([1.        , 1.        , 1.        , 1.        , 1.        ,\n",
      "       1.        , 0.99857143, 0.99857143, 0.99857143, 0.99857143,\n",
      "       0.99857143, 0.99857143, 0.99857143, 0.99857143, 0.99857143,\n",
      "       0.99857143, 0.99857143, 0.99857143, 0.99857143]), 'Metrics_tracking_HOTA_LocA': array([2.96501696, 2.96501696, 2.96501696, 2.96501696, 2.96501696,\n",
      "       2.96501696, 2.97000061, 2.97000061, 2.97000061, 2.97000061,\n",
      "       2.97000061, 2.97000061, 2.97000061, 2.97000061, 2.97000061,\n",
      "       2.97000061, 2.97000061, 2.97000061, 2.97000061]), 'Metrics_tracking_HOTA_RHOTA': array([0.88087824, 0.88087824, 0.88087824, 0.88087824, 0.88087824,\n",
      "       0.88087824, 0.88056453, 0.88056453, 0.88056453, 0.88056453,\n",
      "       0.88056453, 0.88056453, 0.88056453, 0.88056453, 0.88056453,\n",
      "       0.88056453, 0.88056453, 0.88056453, 0.88056453]), 'Metrics_tracking_HOTA_HOTA_TP': array([526., 526., 526., 526., 526., 526., 525., 525., 525., 525., 525.,\n",
      "       525., 525., 525., 525., 525., 525., 525., 525.]), 'Metrics_tracking_HOTA_HOTA_FN': array([82., 82., 82., 82., 82., 82., 83., 83., 83., 83., 83., 83., 83.,\n",
      "       83., 83., 83., 83., 83., 83.]), 'Metrics_tracking_HOTA_HOTA_FP': array([147., 147., 147., 147., 147., 147., 148., 148., 148., 148., 148.,\n",
      "       148., 148., 148., 148., 148., 148., 148., 148.]), 'Metrics_tracking_HOTA_HOTA(0)': 0.7904860231182623, 'Metrics_tracking_HOTA_LocA(0)': 2.965016962555097, 'Metrics_tracking_HOTA_HOTALocA(0)': 2.3438044672083684, 'Metrics_tracking_CLEAR_MOTA': 0.6151315789473685, 'Metrics_tracking_CLEAR_MOTP': 2.970000605462865, 'Metrics_tracking_CLEAR_MODA': 0.6200657894736842, 'Metrics_tracking_CLEAR_CLR_Re': 0.8634868421052632, 'Metrics_tracking_CLEAR_CLR_Pr': 0.7800891530460624, 'Metrics_tracking_CLEAR_MTR': 0.7333333333333333, 'Metrics_tracking_CLEAR_PTR': 0.06666666666666667, 'Metrics_tracking_CLEAR_MLR': 0.2, 'Metrics_tracking_CLEAR_sMOTA': 2.316201180703954, 'Metrics_tracking_CLEAR_CLR_F1': 0.819672131147541, 'Metrics_tracking_CLEAR_FP_per_frame': 2.96, 'Metrics_tracking_CLEAR_MOTAL': 0.6192810505678953, 'Metrics_tracking_CLEAR_MOTP_sum': 1559.250317868004, 'Metrics_tracking_CLEAR_CLR_TP': 525, 'Metrics_tracking_CLEAR_CLR_FN': 83, 'Metrics_tracking_CLEAR_CLR_FP': 148, 'Metrics_tracking_CLEAR_IDSW': 3, 'Metrics_tracking_CLEAR_MT': 11, 'Metrics_tracking_CLEAR_PT': 1, 'Metrics_tracking_CLEAR_ML': 3, 'Metrics_tracking_CLEAR_Frag': 7.0, 'Metrics_tracking_CLEAR_CLR_Frames': 50, 'Metrics_tracking_VACE_STDA': 11.011328348464122, 'Metrics_tracking_VACE_VACE_IDs': 21, 'Metrics_tracking_VACE_VACE_GT_IDs': 15, 'Metrics_tracking_VACE_FDA': 120.31946165864323, 'Metrics_tracking_VACE_num_non_empty_timesteps': 50, 'Metrics_tracking_VACE_ATA': 0.6117404638035624, 'Metrics_tracking_VACE_SFDA': 2.406389233172865, 'Metrics_tracking_IDEucl_IDEucl': array(0.71558728), 'Metrics_tracking_Count_Dets': 2500, 'Metrics_tracking_Count_GT_Dets': 2500, 'Metrics_tracking_Count_IDs': 21, 'Metrics_tracking_Count_GT_IDs': 15, 'Metrics_tracking_Count_Frames': 50, 'Metrics_prediction_agg_ADE': 3.9862092645759843, 'Metrics_prediction_agg_FDE': 9.069929147282888, 'Metrics_prediction_std_ADE': 0.834005752630816, 'Metrics_prediction_std_FDE': 1.627569638030797, 'Metrics_prediction_n_with_truth': 1134, 'Metrics_prediction_n_objects': 1134, 'Metrics_collaborative_n_collab_detections_median': 54.0, 'Metrics_collaborative_n_collab_sensors_in_view_median': 5.0, 'Metrics_collaborative_n_collab_sensors_total_median': 39.0}\n",
      "load checkpoint from local path: /home/spencer/Documents/Projects/Research/avstack-studies/submodules/lib-avstack/third_party/mmdetection3d/work_dirs/hv_pointpillars_fpn_sbn-all_fp16_2x8_2x_carla-3d/latest.pth\n",
      "      Running dataset: CARLA, case 3\n"
     ]
    },
    {
     "name": "stderr",
     "output_type": "stream",
     "text": [
      "100%|███████████████████████████████████████████████████████████████████| 50/50 [00:10<00:00,  4.86it/s]\n",
      "100%|███████████████████████████████████████████████████████████████████| 50/50 [00:04<00:00, 11.82it/s]\n",
      "100%|███████████████████████████████████████████████████████████████████| 50/50 [00:06<00:00,  7.58it/s]\n"
     ]
    },
    {
     "name": "stdout",
     "output_type": "stream",
     "text": [
      "\n",
      "CLEAR Config:\n",
      "THRESHOLD            : 0.5                           \n",
      "PRINT_CONFIG         : True                          \n",
      "\n",
      "IDEucl Config:\n",
      "THRESHOLD            : 0.4                           \n",
      "PRINT_CONFIG         : True                          \n",
      "\n",
      "Evaluating 1 tracker(s) on 1 sequence(s) for 1 class(es) on AvstackTrackDataset dataset using the following metrics: HOTA, CLEAR, VACE, IDEucl, Count\n",
      "\n",
      "\n",
      "Evaluating box-tracker\n",
      "\n",
      "41 eval_sequence(run_2022_10_31_13:34:52, box-tracker)                    3.2436 sec\n",
      "\n",
      "All sequences for box-tracker finished in 3.24 seconds\n"
     ]
    },
    {
     "name": "stderr",
     "output_type": "stream",
     "text": [
      "100%|███████████████████████████████████████████████████████████████████| 50/50 [00:43<00:00,  1.16it/s]\n",
      "/home/spencer/Documents/Projects/Research/avstack-studies/submodules/lib-avstack/third_party/mmdetection3d/mmdet3d/models/dense_heads/anchor3d_head.py:84: UserWarning: dir_offset and dir_limit_offset will be depressed and be incorporated into box coder in the future\n",
      "  warnings.warn(\n"
     ]
    },
    {
     "name": "stdout",
     "output_type": "stream",
     "text": [
      "{'Case': 3, 'Dataset': 'CARLA', 'Trial': 0, 'Metrics_perception_object_3d_tot_TP': 405, 'Metrics_perception_object_3d_tot_FP': 0, 'Metrics_perception_object_3d_tot_FN': 155, 'Metrics_perception_object_3d_tot_T': 560, 'Metrics_perception_object_3d_mean_precision': 1.0, 'Metrics_perception_object_3d_mean_recall': 0.7287832167832168, 'Metrics_tracking_HOTA_HOTA': array([0.77448932, 0.77448932, 0.77448932, 0.77448932, 0.77448932,\n",
      "       0.77448932, 0.77448932, 0.77448932, 0.77448932, 0.77448932,\n",
      "       0.77448932, 0.77448932, 0.77376733, 0.77376733, 0.77376733,\n",
      "       0.77376733, 0.77376733, 0.77376733, 0.77376733]), 'Metrics_tracking_HOTA_DetA': array([0.66353887, 0.66353887, 0.66353887, 0.66353887, 0.66353887,\n",
      "       0.66353887, 0.66353887, 0.66353887, 0.66353887, 0.66353887,\n",
      "       0.66353887, 0.66353887, 0.66131191, 0.66131191, 0.66131191,\n",
      "       0.66131191, 0.66131191, 0.66131191, 0.66131191]), 'Metrics_tracking_HOTA_AssA': array([0.9039918 , 0.9039918 , 0.9039918 , 0.9039918 , 0.9039918 ,\n",
      "       0.9039918 , 0.9039918 , 0.9039918 , 0.9039918 , 0.9039918 ,\n",
      "       0.9039918 , 0.9039918 , 0.90534567, 0.90534567, 0.90534567,\n",
      "       0.90534567, 0.90534567, 0.90534567, 0.90534567]), 'Metrics_tracking_HOTA_DetRe': array([0.81414474, 0.81414474, 0.81414474, 0.81414474, 0.81414474,\n",
      "       0.81414474, 0.81414474, 0.81414474, 0.81414474, 0.81414474,\n",
      "       0.81414474, 0.81414474, 0.8125    , 0.8125    , 0.8125    ,\n",
      "       0.8125    , 0.8125    , 0.8125    , 0.8125    ]), 'Metrics_tracking_HOTA_DetPr': array([0.78199052, 0.78199052, 0.78199052, 0.78199052, 0.78199052,\n",
      "       0.78199052, 0.78199052, 0.78199052, 0.78199052, 0.78199052,\n",
      "       0.78199052, 0.78199052, 0.78041074, 0.78041074, 0.78041074,\n",
      "       0.78041074, 0.78041074, 0.78041074, 0.78041074]), 'Metrics_tracking_HOTA_AssRe': array([0.90400282, 0.90400282, 0.90400282, 0.90400282, 0.90400282,\n",
      "       0.90400282, 0.90400282, 0.90400282, 0.90400282, 0.90400282,\n",
      "       0.90400282, 0.90400282, 0.90537272, 0.90537272, 0.90537272,\n",
      "       0.90537272, 0.90537272, 0.90537272, 0.90537272]), 'Metrics_tracking_HOTA_AssPr': array([0.99848485, 0.99848485, 0.99848485, 0.99848485, 0.99848485,\n",
      "       0.99848485, 0.99848485, 0.99848485, 0.99848485, 0.99848485,\n",
      "       0.99848485, 0.99848485, 0.99713225, 0.99713225, 0.99713225,\n",
      "       0.99713225, 0.99713225, 0.99713225, 0.99713225]), 'Metrics_tracking_HOTA_LocA': array([2.94579709, 2.94579709, 2.94579709, 2.94579709, 2.94579709,\n",
      "       2.94579709, 2.94579709, 2.94579709, 2.94579709, 2.94579709,\n",
      "       2.94579709, 2.94579709, 2.95046865, 2.95046865, 2.95046865,\n",
      "       2.95046865, 2.95046865, 2.95046865, 2.95046865]), 'Metrics_tracking_HOTA_RHOTA': array([0.85789286, 0.85789286, 0.85789286, 0.85789286, 0.85789286,\n",
      "       0.85789286, 0.85789286, 0.85789286, 0.85789286, 0.85789286,\n",
      "       0.85789286, 0.85789286, 0.85766739, 0.85766739, 0.85766739,\n",
      "       0.85766739, 0.85766739, 0.85766739, 0.85766739]), 'Metrics_tracking_HOTA_HOTA_TP': array([495., 495., 495., 495., 495., 495., 495., 495., 495., 495., 495.,\n",
      "       495., 494., 494., 494., 494., 494., 494., 494.]), 'Metrics_tracking_HOTA_HOTA_FN': array([113., 113., 113., 113., 113., 113., 113., 113., 113., 113., 113.,\n",
      "       113., 114., 114., 114., 114., 114., 114., 114.]), 'Metrics_tracking_HOTA_HOTA_FP': array([138., 138., 138., 138., 138., 138., 138., 138., 138., 138., 138.,\n",
      "       138., 139., 139., 139., 139., 139., 139., 139.]), 'Metrics_tracking_HOTA_HOTA(0)': 0.7744893161360097, 'Metrics_tracking_HOTA_LocA(0)': 2.945797092931689, 'Metrics_tracking_HOTA_HOTALocA(0)': 2.2814883759801092, 'Metrics_tracking_CLEAR_MOTA': 0.5822368421052632, 'Metrics_tracking_CLEAR_MOTP': 2.945797092931689, 'Metrics_tracking_CLEAR_MODA': 0.587171052631579, 'Metrics_tracking_CLEAR_CLR_Re': 0.8141447368421053, 'Metrics_tracking_CLEAR_CLR_Pr': 0.7819905213270142, 'Metrics_tracking_CLEAR_MTR': 0.6666666666666666, 'Metrics_tracking_CLEAR_PTR': 0.13333333333333333, 'Metrics_tracking_CLEAR_MLR': 0.2, 'Metrics_tracking_CLEAR_sMOTA': 2.1663973042782665, 'Metrics_tracking_CLEAR_CLR_F1': 0.797743755036261, 'Metrics_tracking_CLEAR_FP_per_frame': 2.76, 'Metrics_tracking_CLEAR_MOTAL': 0.5863863137257901, 'Metrics_tracking_CLEAR_MOTP_sum': 1458.169561001186, 'Metrics_tracking_CLEAR_CLR_TP': 495, 'Metrics_tracking_CLEAR_CLR_FN': 113, 'Metrics_tracking_CLEAR_CLR_FP': 138, 'Metrics_tracking_CLEAR_IDSW': 3, 'Metrics_tracking_CLEAR_MT': 10, 'Metrics_tracking_CLEAR_PT': 2, 'Metrics_tracking_CLEAR_ML': 3, 'Metrics_tracking_CLEAR_Frag': 6.0, 'Metrics_tracking_CLEAR_CLR_Frames': 50, 'Metrics_tracking_VACE_STDA': 10.330084566596195, 'Metrics_tracking_VACE_VACE_IDs': 19, 'Metrics_tracking_VACE_VACE_GT_IDs': 15, 'Metrics_tracking_VACE_FDA': 116.08346512314495, 'Metrics_tracking_VACE_num_non_empty_timesteps': 50, 'Metrics_tracking_VACE_ATA': 0.6076520333291879, 'Metrics_tracking_VACE_SFDA': 2.321669302462899, 'Metrics_tracking_IDEucl_IDEucl': array(0.6667875), 'Metrics_tracking_Count_Dets': 2500, 'Metrics_tracking_Count_GT_Dets': 2500, 'Metrics_tracking_Count_IDs': 19, 'Metrics_tracking_Count_GT_IDs': 15, 'Metrics_tracking_Count_Frames': 50, 'Metrics_prediction_agg_ADE': 4.096320010999584, 'Metrics_prediction_agg_FDE': 8.868105218990047, 'Metrics_prediction_std_ADE': 0.9285157266146714, 'Metrics_prediction_std_FDE': 1.920644053473752, 'Metrics_prediction_n_with_truth': 1010, 'Metrics_prediction_n_objects': 1010, 'Metrics_collaborative_n_collab_detections_median': 24.5, 'Metrics_collaborative_n_collab_sensors_in_view_median': 5.0, 'Metrics_collaborative_n_collab_sensors_total_median': 39.0}\n",
      "load checkpoint from local path: /home/spencer/Documents/Projects/Research/avstack-studies/submodules/lib-avstack/third_party/mmdetection3d/work_dirs/hv_pointpillars_fpn_sbn-all_fp16_2x8_2x_carla-3d/latest.pth\n",
      "      Running dataset: CARLA, case 4\n"
     ]
    },
    {
     "name": "stderr",
     "output_type": "stream",
     "text": [
      "100%|███████████████████████████████████████████████████████████████████| 50/50 [00:05<00:00,  8.93it/s]\n",
      "100%|███████████████████████████████████████████████████████████████████| 50/50 [00:04<00:00, 12.23it/s]\n",
      "100%|███████████████████████████████████████████████████████████████████| 50/50 [00:04<00:00, 10.53it/s]\n"
     ]
    },
    {
     "name": "stdout",
     "output_type": "stream",
     "text": [
      "\n",
      "CLEAR Config:\n",
      "THRESHOLD            : 0.5                           \n",
      "PRINT_CONFIG         : True                          \n",
      "\n",
      "IDEucl Config:\n",
      "THRESHOLD            : 0.4                           \n",
      "PRINT_CONFIG         : True                          \n",
      "\n",
      "Evaluating 1 tracker(s) on 1 sequence(s) for 1 class(es) on AvstackTrackDataset dataset using the following metrics: HOTA, CLEAR, VACE, IDEucl, Count\n",
      "\n",
      "\n",
      "Evaluating box-tracker\n",
      "\n",
      "42 eval_sequence(run_2022_10_31_13:34:52, box-tracker)                    2.5386 sec\n",
      "\n",
      "All sequences for box-tracker finished in 2.54 seconds\n"
     ]
    },
    {
     "name": "stderr",
     "output_type": "stream",
     "text": [
      "100%|███████████████████████████████████████████████████████████████████| 50/50 [00:55<00:00,  1.12s/it]\n",
      "/home/spencer/Documents/Projects/Research/avstack-studies/submodules/lib-avstack/third_party/mmdetection3d/mmdet3d/models/dense_heads/anchor3d_head.py:84: UserWarning: dir_offset and dir_limit_offset will be depressed and be incorporated into box coder in the future\n",
      "  warnings.warn(\n"
     ]
    },
    {
     "name": "stdout",
     "output_type": "stream",
     "text": [
      "{'Case': 4, 'Dataset': 'CARLA', 'Trial': 0, 'Metrics_perception_object_3d_tot_TP': 405, 'Metrics_perception_object_3d_tot_FP': 0, 'Metrics_perception_object_3d_tot_FN': 155, 'Metrics_perception_object_3d_tot_T': 560, 'Metrics_perception_object_3d_mean_precision': 1.0, 'Metrics_perception_object_3d_mean_recall': 0.7287832167832168, 'Metrics_tracking_HOTA_HOTA': array([0.7363959, 0.7363959, 0.7363959, 0.7363959, 0.7363959, 0.7363959,\n",
      "       0.7363959, 0.7363959, 0.7363959, 0.7363959, 0.7363959, 0.7363959,\n",
      "       0.7363959, 0.7363959, 0.7363959, 0.7363959, 0.7363959, 0.7363959,\n",
      "       0.7363959]), 'Metrics_tracking_HOTA_DetA': array([0.60197368, 0.60197368, 0.60197368, 0.60197368, 0.60197368,\n",
      "       0.60197368, 0.60197368, 0.60197368, 0.60197368, 0.60197368,\n",
      "       0.60197368, 0.60197368, 0.60197368, 0.60197368, 0.60197368,\n",
      "       0.60197368, 0.60197368, 0.60197368, 0.60197368]), 'Metrics_tracking_HOTA_AssA': array([0.90083492, 0.90083492, 0.90083492, 0.90083492, 0.90083492,\n",
      "       0.90083492, 0.90083492, 0.90083492, 0.90083492, 0.90083492,\n",
      "       0.90083492, 0.90083492, 0.90083492, 0.90083492, 0.90083492,\n",
      "       0.90083492, 0.90083492, 0.90083492, 0.90083492]), 'Metrics_tracking_HOTA_DetRe': array([0.60197368, 0.60197368, 0.60197368, 0.60197368, 0.60197368,\n",
      "       0.60197368, 0.60197368, 0.60197368, 0.60197368, 0.60197368,\n",
      "       0.60197368, 0.60197368, 0.60197368, 0.60197368, 0.60197368,\n",
      "       0.60197368, 0.60197368, 0.60197368, 0.60197368]), 'Metrics_tracking_HOTA_DetPr': array([1., 1., 1., 1., 1., 1., 1., 1., 1., 1., 1., 1., 1., 1., 1., 1., 1.,\n",
      "       1., 1.]), 'Metrics_tracking_HOTA_AssRe': array([0.90083492, 0.90083492, 0.90083492, 0.90083492, 0.90083492,\n",
      "       0.90083492, 0.90083492, 0.90083492, 0.90083492, 0.90083492,\n",
      "       0.90083492, 0.90083492, 0.90083492, 0.90083492, 0.90083492,\n",
      "       0.90083492, 0.90083492, 0.90083492, 0.90083492]), 'Metrics_tracking_HOTA_AssPr': array([1., 1., 1., 1., 1., 1., 1., 1., 1., 1., 1., 1., 1., 1., 1., 1., 1.,\n",
      "       1., 1.]), 'Metrics_tracking_HOTA_LocA': array([3.11804552, 3.11804552, 3.11804552, 3.11804552, 3.11804552,\n",
      "       3.11804552, 3.11804552, 3.11804552, 3.11804552, 3.11804552,\n",
      "       3.11804552, 3.11804552, 3.11804552, 3.11804552, 3.11804552,\n",
      "       3.11804552, 3.11804552, 3.11804552, 3.11804552]), 'Metrics_tracking_HOTA_RHOTA': array([0.7363959, 0.7363959, 0.7363959, 0.7363959, 0.7363959, 0.7363959,\n",
      "       0.7363959, 0.7363959, 0.7363959, 0.7363959, 0.7363959, 0.7363959,\n",
      "       0.7363959, 0.7363959, 0.7363959, 0.7363959, 0.7363959, 0.7363959,\n",
      "       0.7363959]), 'Metrics_tracking_HOTA_HOTA_TP': array([366., 366., 366., 366., 366., 366., 366., 366., 366., 366., 366.,\n",
      "       366., 366., 366., 366., 366., 366., 366., 366.]), 'Metrics_tracking_HOTA_HOTA_FN': array([242., 242., 242., 242., 242., 242., 242., 242., 242., 242., 242.,\n",
      "       242., 242., 242., 242., 242., 242., 242., 242.]), 'Metrics_tracking_HOTA_HOTA_FP': array([0., 0., 0., 0., 0., 0., 0., 0., 0., 0., 0., 0., 0., 0., 0., 0., 0.,\n",
      "       0., 0.]), 'Metrics_tracking_HOTA_HOTA(0)': 0.7363958967625132, 'Metrics_tracking_HOTA_LocA(0)': 3.1180455235333873, 'Metrics_tracking_HOTA_HOTALocA(0)': 2.2961159294487086, 'Metrics_tracking_CLEAR_MOTA': 0.6019736842105263, 'Metrics_tracking_CLEAR_MOTP': 3.1180455235333873, 'Metrics_tracking_CLEAR_MODA': 0.6019736842105263, 'Metrics_tracking_CLEAR_CLR_Re': 0.6019736842105263, 'Metrics_tracking_CLEAR_CLR_Pr': 1.0, 'Metrics_tracking_CLEAR_MTR': 0.4666666666666667, 'Metrics_tracking_CLEAR_PTR': 0.13333333333333333, 'Metrics_tracking_CLEAR_MLR': 0.4, 'Metrics_tracking_CLEAR_sMOTA': 1.8769813513375324, 'Metrics_tracking_CLEAR_CLR_F1': 0.7515400410677618, 'Metrics_tracking_CLEAR_FP_per_frame': 0.0, 'Metrics_tracking_CLEAR_MOTAL': 0.6019736842105263, 'Metrics_tracking_CLEAR_MOTP_sum': 1141.2046616132197, 'Metrics_tracking_CLEAR_CLR_TP': 366, 'Metrics_tracking_CLEAR_CLR_FN': 242, 'Metrics_tracking_CLEAR_CLR_FP': 0, 'Metrics_tracking_CLEAR_IDSW': 0, 'Metrics_tracking_CLEAR_MT': 7, 'Metrics_tracking_CLEAR_PT': 2, 'Metrics_tracking_CLEAR_ML': 6, 'Metrics_tracking_CLEAR_Frag': 0.0, 'Metrics_tracking_CLEAR_CLR_Frames': 50, 'Metrics_tracking_VACE_STDA': 7.462558139534884, 'Metrics_tracking_VACE_VACE_IDs': 10, 'Metrics_tracking_VACE_VACE_GT_IDs': 15, 'Metrics_tracking_VACE_FDA': 115.50153709650871, 'Metrics_tracking_VACE_num_non_empty_timesteps': 50, 'Metrics_tracking_VACE_ATA': 0.5970046511627907, 'Metrics_tracking_VACE_SFDA': 2.3100307419301744, 'Metrics_tracking_IDEucl_IDEucl': array(0.4232628), 'Metrics_tracking_Count_Dets': 2500, 'Metrics_tracking_Count_GT_Dets': 2500, 'Metrics_tracking_Count_IDs': 10, 'Metrics_tracking_Count_GT_IDs': 15, 'Metrics_tracking_Count_Frames': 50, 'Metrics_prediction_agg_ADE': 3.065523317351596, 'Metrics_prediction_agg_FDE': 5.87267355186704, 'Metrics_prediction_std_ADE': 2.160766106365105, 'Metrics_prediction_std_FDE': 4.997837092505209, 'Metrics_prediction_n_with_truth': 368, 'Metrics_prediction_n_objects': 368}\n",
      "   Running trial 1, using index 1\n",
      "load checkpoint from local path: /home/spencer/Documents/Projects/Research/avstack-studies/submodules/lib-avstack/third_party/mmdetection3d/work_dirs/hv_pointpillars_fpn_sbn-all_fp16_2x8_2x_carla-3d/latest.pth\n",
      "      Running dataset: CARLA, case 1\n"
     ]
    },
    {
     "name": "stderr",
     "output_type": "stream",
     "text": [
      "100%|███████████████████████████████████████████████████████████████████| 50/50 [00:12<00:00,  4.13it/s]\n",
      "100%|███████████████████████████████████████████████████████████████████| 50/50 [00:03<00:00, 15.64it/s]\n",
      "100%|███████████████████████████████████████████████████████████████████| 50/50 [00:06<00:00,  7.97it/s]\n"
     ]
    },
    {
     "name": "stdout",
     "output_type": "stream",
     "text": [
      "\n",
      "CLEAR Config:\n",
      "THRESHOLD            : 0.5                           \n",
      "PRINT_CONFIG         : True                          \n",
      "\n",
      "IDEucl Config:\n",
      "THRESHOLD            : 0.4                           \n",
      "PRINT_CONFIG         : True                          \n",
      "\n",
      "Evaluating 1 tracker(s) on 1 sequence(s) for 1 class(es) on AvstackTrackDataset dataset using the following metrics: HOTA, CLEAR, VACE, IDEucl, Count\n",
      "\n",
      "\n",
      "Evaluating box-tracker\n",
      "\n",
      "43 eval_sequence(run_2022_10_31_13:46:21, box-tracker)                    3.5055 sec\n",
      "\n",
      "All sequences for box-tracker finished in 3.51 seconds\n"
     ]
    },
    {
     "name": "stderr",
     "output_type": "stream",
     "text": [
      "100%|███████████████████████████████████████████████████████████████████| 50/50 [00:40<00:00,  1.23it/s]\n",
      "/home/spencer/Documents/Projects/Research/avstack-studies/submodules/lib-avstack/third_party/mmdetection3d/mmdet3d/models/dense_heads/anchor3d_head.py:84: UserWarning: dir_offset and dir_limit_offset will be depressed and be incorporated into box coder in the future\n",
      "  warnings.warn(\n"
     ]
    },
    {
     "name": "stdout",
     "output_type": "stream",
     "text": [
      "{'Case': 1, 'Dataset': 'CARLA', 'Trial': 1, 'Metrics_perception_object_3d_tot_TP': 296, 'Metrics_perception_object_3d_tot_FP': 0, 'Metrics_perception_object_3d_tot_FN': 256, 'Metrics_perception_object_3d_tot_T': 552, 'Metrics_perception_object_3d_mean_precision': 1.0, 'Metrics_perception_object_3d_mean_recall': 0.5462556332556332, 'Metrics_tracking_HOTA_HOTA': array([0.46364566, 0.46364566, 0.46364566, 0.46364566, 0.46364566,\n",
      "       0.46364566, 0.46364566, 0.46364566, 0.46364566, 0.46364566,\n",
      "       0.46364566, 0.46364566, 0.46364566, 0.46364566, 0.46269675,\n",
      "       0.46269675, 0.46269675, 0.46269675, 0.46269675]), 'Metrics_tracking_HOTA_DetA': array([0.28116531, 0.28116531, 0.28116531, 0.28116531, 0.28116531,\n",
      "       0.28116531, 0.28116531, 0.28116531, 0.28116531, 0.28116531,\n",
      "       0.28116531, 0.28116531, 0.28116531, 0.28116531, 0.2802979 ,\n",
      "       0.2802979 , 0.2802979 , 0.2802979 , 0.2802979 ]), 'Metrics_tracking_HOTA_AssA': array([0.76455838, 0.76455838, 0.76455838, 0.76455838, 0.76455838,\n",
      "       0.76455838, 0.76455838, 0.76455838, 0.76455838, 0.76455838,\n",
      "       0.76455838, 0.76455838, 0.76455838, 0.76455838, 0.7637884 ,\n",
      "       0.7637884 , 0.7637884 , 0.7637884 , 0.7637884 ]), 'Metrics_tracking_HOTA_DetRe': array([0.67810458, 0.67810458, 0.67810458, 0.67810458, 0.67810458,\n",
      "       0.67810458, 0.67810458, 0.67810458, 0.67810458, 0.67810458,\n",
      "       0.67810458, 0.67810458, 0.67810458, 0.67810458, 0.67647059,\n",
      "       0.67647059, 0.67647059, 0.67647059, 0.67647059]), 'Metrics_tracking_HOTA_DetPr': array([0.32447224, 0.32447224, 0.32447224, 0.32447224, 0.32447224,\n",
      "       0.32447224, 0.32447224, 0.32447224, 0.32447224, 0.32447224,\n",
      "       0.32447224, 0.32447224, 0.32447224, 0.32447224, 0.32369038,\n",
      "       0.32369038, 0.32369038, 0.32369038, 0.32369038]), 'Metrics_tracking_HOTA_AssRe': array([0.76455838, 0.76455838, 0.76455838, 0.76455838, 0.76455838,\n",
      "       0.76455838, 0.76455838, 0.76455838, 0.76455838, 0.76455838,\n",
      "       0.76455838, 0.76455838, 0.76455838, 0.76455838, 0.76424129,\n",
      "       0.76424129, 0.76424129, 0.76424129, 0.76424129]), 'Metrics_tracking_HOTA_AssPr': array([1.        , 1.        , 1.        , 1.        , 1.        ,\n",
      "       1.        , 1.        , 1.        , 1.        , 1.        ,\n",
      "       1.        , 1.        , 1.        , 1.        , 0.99769433,\n",
      "       0.99769433, 0.99769433, 0.99769433, 0.99769433]), 'Metrics_tracking_HOTA_LocA': array([2.9665419 , 2.9665419 , 2.9665419 , 2.9665419 , 2.9665419 ,\n",
      "       2.9665419 , 2.9665419 , 2.9665419 , 2.9665419 , 2.9665419 ,\n",
      "       2.9665419 , 2.9665419 , 2.9665419 , 2.9665419 , 2.97198607,\n",
      "       2.97198607, 2.97198607, 2.97198607, 2.97198607]), 'Metrics_tracking_HOTA_RHOTA': array([0.7200351 , 0.7200351 , 0.7200351 , 0.7200351 , 0.7200351 ,\n",
      "       0.7200351 , 0.7200351 , 0.7200351 , 0.7200351 , 0.7200351 ,\n",
      "       0.7200351 , 0.7200351 , 0.7200351 , 0.7200351 , 0.71880483,\n",
      "       0.71880483, 0.71880483, 0.71880483, 0.71880483]), 'Metrics_tracking_HOTA_HOTA_TP': array([415., 415., 415., 415., 415., 415., 415., 415., 415., 415., 415.,\n",
      "       415., 415., 415., 414., 414., 414., 414., 414.]), 'Metrics_tracking_HOTA_HOTA_FN': array([197., 197., 197., 197., 197., 197., 197., 197., 197., 197., 197.,\n",
      "       197., 197., 197., 198., 198., 198., 198., 198.]), 'Metrics_tracking_HOTA_HOTA_FP': array([864., 864., 864., 864., 864., 864., 864., 864., 864., 864., 864.,\n",
      "       864., 864., 864., 865., 865., 865., 865., 865.]), 'Metrics_tracking_HOTA_HOTA(0)': 0.4636456581018891, 'Metrics_tracking_HOTA_LocA(0)': 2.9665418976615094, 'Metrics_tracking_HOTA_HOTALocA(0)': 1.3754242704280977, 'Metrics_tracking_CLEAR_MOTA': -0.738562091503268, 'Metrics_tracking_CLEAR_MOTP': 2.9665418976615094, 'Metrics_tracking_CLEAR_MODA': -0.7336601307189542, 'Metrics_tracking_CLEAR_CLR_Re': 0.6781045751633987, 'Metrics_tracking_CLEAR_CLR_Pr': 0.32447224394057855, 'Metrics_tracking_CLEAR_MTR': 0.42857142857142855, 'Metrics_tracking_CLEAR_PTR': 0.5, 'Metrics_tracking_CLEAR_MLR': 0.07142857142857142, 'Metrics_tracking_CLEAR_sMOTA': 0.5949589665515137, 'Metrics_tracking_CLEAR_CLR_F1': 0.43892120571126386, 'Metrics_tracking_CLEAR_FP_per_frame': 17.28, 'Metrics_tracking_CLEAR_MOTAL': -0.734439740612287, 'Metrics_tracking_CLEAR_MOTP_sum': 1231.1148875295264, 'Metrics_tracking_CLEAR_CLR_TP': 415, 'Metrics_tracking_CLEAR_CLR_FN': 197, 'Metrics_tracking_CLEAR_CLR_FP': 864, 'Metrics_tracking_CLEAR_IDSW': 3, 'Metrics_tracking_CLEAR_MT': 6, 'Metrics_tracking_CLEAR_PT': 7, 'Metrics_tracking_CLEAR_ML': 1, 'Metrics_tracking_CLEAR_Frag': 4.0, 'Metrics_tracking_CLEAR_CLR_Frames': 50, 'Metrics_tracking_VACE_STDA': 8.839607306920165, 'Metrics_tracking_VACE_VACE_IDs': 34, 'Metrics_tracking_VACE_VACE_GT_IDs': 14, 'Metrics_tracking_VACE_FDA': 64.33222176486764, 'Metrics_tracking_VACE_num_non_empty_timesteps': 50, 'Metrics_tracking_VACE_ATA': 0.36831697112167355, 'Metrics_tracking_VACE_SFDA': 1.2866444352973527, 'Metrics_tracking_IDEucl_IDEucl': array(0.62075678), 'Metrics_tracking_Count_Dets': 2500, 'Metrics_tracking_Count_GT_Dets': 2500, 'Metrics_tracking_Count_IDs': 34, 'Metrics_tracking_Count_GT_IDs': 14, 'Metrics_tracking_Count_Frames': 50, 'Metrics_prediction_agg_ADE': 2.60368178669096, 'Metrics_prediction_agg_FDE': 6.12211193405467, 'Metrics_prediction_std_ADE': 1.8043169989936367, 'Metrics_prediction_std_FDE': 4.6635897413097265, 'Metrics_prediction_n_with_truth': 1320, 'Metrics_prediction_n_objects': 1320, 'Metrics_collaborative_n_collab_detections_median': 26.5, 'Metrics_collaborative_n_collab_sensors_in_view_median': 2.0, 'Metrics_collaborative_n_collab_sensors_total_median': 39.0}\n",
      "load checkpoint from local path: /home/spencer/Documents/Projects/Research/avstack-studies/submodules/lib-avstack/third_party/mmdetection3d/work_dirs/hv_pointpillars_fpn_sbn-all_fp16_2x8_2x_carla-3d/latest.pth\n",
      "      Running dataset: CARLA, case 2\n"
     ]
    },
    {
     "name": "stderr",
     "output_type": "stream",
     "text": [
      "100%|███████████████████████████████████████████████████████████████████| 50/50 [00:12<00:00,  4.11it/s]\n",
      "100%|███████████████████████████████████████████████████████████████████| 50/50 [00:03<00:00, 15.27it/s]\n",
      "100%|███████████████████████████████████████████████████████████████████| 50/50 [00:06<00:00,  7.88it/s]\n"
     ]
    },
    {
     "name": "stdout",
     "output_type": "stream",
     "text": [
      "\n",
      "CLEAR Config:\n",
      "THRESHOLD            : 0.5                           \n",
      "PRINT_CONFIG         : True                          \n",
      "\n",
      "IDEucl Config:\n",
      "THRESHOLD            : 0.4                           \n",
      "PRINT_CONFIG         : True                          \n",
      "\n",
      "Evaluating 1 tracker(s) on 1 sequence(s) for 1 class(es) on AvstackTrackDataset dataset using the following metrics: HOTA, CLEAR, VACE, IDEucl, Count\n",
      "\n",
      "\n",
      "Evaluating box-tracker\n",
      "\n",
      "44 eval_sequence(run_2022_10_31_13:46:21, box-tracker)                    3.5102 sec\n",
      "\n",
      "All sequences for box-tracker finished in 3.51 seconds\n"
     ]
    },
    {
     "name": "stderr",
     "output_type": "stream",
     "text": [
      "100%|███████████████████████████████████████████████████████████████████| 50/50 [00:47<00:00,  1.04it/s]\n",
      "/home/spencer/Documents/Projects/Research/avstack-studies/submodules/lib-avstack/third_party/mmdetection3d/mmdet3d/models/dense_heads/anchor3d_head.py:84: UserWarning: dir_offset and dir_limit_offset will be depressed and be incorporated into box coder in the future\n",
      "  warnings.warn(\n"
     ]
    },
    {
     "name": "stdout",
     "output_type": "stream",
     "text": [
      "{'Case': 2, 'Dataset': 'CARLA', 'Trial': 1, 'Metrics_perception_object_3d_tot_TP': 296, 'Metrics_perception_object_3d_tot_FP': 0, 'Metrics_perception_object_3d_tot_FN': 256, 'Metrics_perception_object_3d_tot_T': 552, 'Metrics_perception_object_3d_mean_precision': 1.0, 'Metrics_perception_object_3d_mean_recall': 0.5462556332556332, 'Metrics_tracking_HOTA_HOTA': array([0.42298749, 0.42298749, 0.42298749, 0.42298749, 0.42298749,\n",
      "       0.42298749, 0.42298749, 0.42298749, 0.42298749, 0.42282027,\n",
      "       0.42282027, 0.42282027, 0.42282027, 0.42282027, 0.42181741,\n",
      "       0.42181741, 0.42181741, 0.42181741, 0.42181741]), 'Metrics_tracking_HOTA_DetA': array([0.27822581, 0.27822581, 0.27822581, 0.27822581, 0.27822581,\n",
      "       0.27822581, 0.27822581, 0.27822581, 0.27822581, 0.27736736,\n",
      "       0.27736736, 0.27736736, 0.27736736, 0.27736736, 0.27651007,\n",
      "       0.27651007, 0.27651007, 0.27651007, 0.27651007]), 'Metrics_tracking_HOTA_AssA': array([0.64306911, 0.64306911, 0.64306911, 0.64306911, 0.64306911,\n",
      "       0.64306911, 0.64306911, 0.64306911, 0.64306911, 0.64454945,\n",
      "       0.64454945, 0.64454945, 0.64454945, 0.64454945, 0.64348444,\n",
      "       0.64348444, 0.64348444, 0.64348444, 0.64348444]), 'Metrics_tracking_HOTA_DetRe': array([0.67647059, 0.67647059, 0.67647059, 0.67647059, 0.67647059,\n",
      "       0.67647059, 0.67647059, 0.67647059, 0.67647059, 0.6748366 ,\n",
      "       0.6748366 , 0.6748366 , 0.6748366 , 0.6748366 , 0.67320261,\n",
      "       0.67320261, 0.67320261, 0.67320261, 0.67320261]), 'Metrics_tracking_HOTA_DetPr': array([0.32093023, 0.32093023, 0.32093023, 0.32093023, 0.32093023,\n",
      "       0.32093023, 0.32093023, 0.32093023, 0.32093023, 0.32015504,\n",
      "       0.32015504, 0.32015504, 0.32015504, 0.32015504, 0.31937984,\n",
      "       0.31937984, 0.31937984, 0.31937984, 0.31937984]), 'Metrics_tracking_HOTA_AssRe': array([0.64809379, 0.64809379, 0.64809379, 0.64809379, 0.64809379,\n",
      "       0.64809379, 0.64809379, 0.64809379, 0.64809379, 0.64951478,\n",
      "       0.64951478, 0.64951478, 0.64951478, 0.64951478, 0.64891692,\n",
      "       0.64891692, 0.64891692, 0.64891692, 0.64891692]), 'Metrics_tracking_HOTA_AssPr': array([0.95285542, 0.95285542, 0.95285542, 0.95285542, 0.95285542,\n",
      "       0.95285542, 0.95285542, 0.95285542, 0.95285542, 0.95501124,\n",
      "       0.95501124, 0.95501124, 0.95501124, 0.95501124, 0.95258519,\n",
      "       0.95258519, 0.95258519, 0.95258519, 0.95258519]), 'Metrics_tracking_HOTA_LocA': array([2.84171328, 2.84171328, 2.84171328, 2.84171328, 2.84171328,\n",
      "       2.84171328, 2.84171328, 2.84171328, 2.84171328, 2.8474348 ,\n",
      "       2.8474348 , 2.8474348 , 2.8474348 , 2.8474348 , 2.85260582,\n",
      "       2.85260582, 2.85260582, 2.85260582, 2.85260582]), 'Metrics_tracking_HOTA_RHOTA': array([0.65955844, 0.65955844, 0.65955844, 0.65955844, 0.65955844,\n",
      "       0.65955844, 0.65955844, 0.65955844, 0.65955844, 0.65951919,\n",
      "       0.65951919, 0.65951919, 0.65951919, 0.65951919, 0.65817582,\n",
      "       0.65817582, 0.65817582, 0.65817582, 0.65817582]), 'Metrics_tracking_HOTA_HOTA_TP': array([414., 414., 414., 414., 414., 414., 414., 414., 414., 413., 413.,\n",
      "       413., 413., 413., 412., 412., 412., 412., 412.]), 'Metrics_tracking_HOTA_HOTA_FN': array([198., 198., 198., 198., 198., 198., 198., 198., 198., 199., 199.,\n",
      "       199., 199., 199., 200., 200., 200., 200., 200.]), 'Metrics_tracking_HOTA_HOTA_FP': array([876., 876., 876., 876., 876., 876., 876., 876., 876., 877., 877.,\n",
      "       877., 877., 877., 878., 878., 878., 878., 878.]), 'Metrics_tracking_HOTA_HOTA(0)': 0.4229874944222791, 'Metrics_tracking_HOTA_LocA(0)': 2.841713281829305, 'Metrics_tracking_HOTA_HOTALocA(0)': 1.2020091809474898, 'Metrics_tracking_CLEAR_MOTA': -0.7745098039215687, 'Metrics_tracking_CLEAR_MOTP': 2.820101984620287, 'Metrics_tracking_CLEAR_MODA': -0.7581699346405228, 'Metrics_tracking_CLEAR_CLR_Re': 0.6748366013071896, 'Metrics_tracking_CLEAR_CLR_Pr': 0.3201550387596899, 'Metrics_tracking_CLEAR_MTR': 0.42857142857142855, 'Metrics_tracking_CLEAR_PTR': 0.5, 'Metrics_tracking_CLEAR_MLR': 0.07142857142857142, 'Metrics_tracking_CLEAR_sMOTA': 0.4537616334120564, 'Metrics_tracking_CLEAR_CLR_F1': 0.434279705573081, 'Metrics_tracking_CLEAR_FP_per_frame': 17.54, 'Metrics_tracking_CLEAR_MOTAL': -0.7598039215686274, 'Metrics_tracking_CLEAR_MOTP_sum': 1164.7021196481785, 'Metrics_tracking_CLEAR_CLR_TP': 413, 'Metrics_tracking_CLEAR_CLR_FN': 199, 'Metrics_tracking_CLEAR_CLR_FP': 877, 'Metrics_tracking_CLEAR_IDSW': 10, 'Metrics_tracking_CLEAR_MT': 6, 'Metrics_tracking_CLEAR_PT': 7, 'Metrics_tracking_CLEAR_ML': 1, 'Metrics_tracking_CLEAR_Frag': 5.0, 'Metrics_tracking_CLEAR_CLR_Frames': 50, 'Metrics_tracking_VACE_STDA': 7.7039054636435695, 'Metrics_tracking_VACE_VACE_IDs': 40, 'Metrics_tracking_VACE_VACE_GT_IDs': 14, 'Metrics_tracking_VACE_FDA': 61.37636247120794, 'Metrics_tracking_VACE_num_non_empty_timesteps': 50, 'Metrics_tracking_VACE_ATA': 0.2853298319867989, 'Metrics_tracking_VACE_SFDA': 1.227527249424159, 'Metrics_tracking_IDEucl_IDEucl': array(0.49987825), 'Metrics_tracking_Count_Dets': 2500, 'Metrics_tracking_Count_GT_Dets': 2500, 'Metrics_tracking_Count_IDs': 40, 'Metrics_tracking_Count_GT_IDs': 14, 'Metrics_tracking_Count_Frames': 50, 'Metrics_prediction_agg_ADE': 2.8958976511317984, 'Metrics_prediction_agg_FDE': 3.6738748187341037, 'Metrics_prediction_std_ADE': 1.1238159783695125, 'Metrics_prediction_std_FDE': 2.8289363493462467, 'Metrics_prediction_n_with_truth': 1329, 'Metrics_prediction_n_objects': 1329, 'Metrics_collaborative_n_collab_detections_median': 26.5, 'Metrics_collaborative_n_collab_sensors_in_view_median': 2.0, 'Metrics_collaborative_n_collab_sensors_total_median': 39.0}\n",
      "load checkpoint from local path: /home/spencer/Documents/Projects/Research/avstack-studies/submodules/lib-avstack/third_party/mmdetection3d/work_dirs/hv_pointpillars_fpn_sbn-all_fp16_2x8_2x_carla-3d/latest.pth\n",
      "      Running dataset: CARLA, case 3\n"
     ]
    },
    {
     "name": "stderr",
     "output_type": "stream",
     "text": [
      "100%|███████████████████████████████████████████████████████████████████| 50/50 [00:08<00:00,  5.70it/s]\n",
      "100%|███████████████████████████████████████████████████████████████████| 50/50 [00:03<00:00, 15.72it/s]\n",
      "100%|███████████████████████████████████████████████████████████████████| 50/50 [00:05<00:00,  8.49it/s]\n"
     ]
    },
    {
     "name": "stdout",
     "output_type": "stream",
     "text": [
      "\n",
      "CLEAR Config:\n",
      "THRESHOLD            : 0.5                           \n",
      "PRINT_CONFIG         : True                          \n",
      "\n",
      "IDEucl Config:\n",
      "THRESHOLD            : 0.4                           \n",
      "PRINT_CONFIG         : True                          \n",
      "\n",
      "Evaluating 1 tracker(s) on 1 sequence(s) for 1 class(es) on AvstackTrackDataset dataset using the following metrics: HOTA, CLEAR, VACE, IDEucl, Count\n",
      "\n",
      "\n",
      "Evaluating box-tracker\n",
      "\n",
      "45 eval_sequence(run_2022_10_31_13:46:21, box-tracker)                    3.3518 sec\n",
      "\n",
      "All sequences for box-tracker finished in 3.35 seconds\n"
     ]
    },
    {
     "name": "stderr",
     "output_type": "stream",
     "text": [
      "100%|███████████████████████████████████████████████████████████████████| 50/50 [00:42<00:00,  1.17it/s]\n",
      "/home/spencer/Documents/Projects/Research/avstack-studies/submodules/lib-avstack/third_party/mmdetection3d/mmdet3d/models/dense_heads/anchor3d_head.py:84: UserWarning: dir_offset and dir_limit_offset will be depressed and be incorporated into box coder in the future\n",
      "  warnings.warn(\n"
     ]
    },
    {
     "name": "stdout",
     "output_type": "stream",
     "text": [
      "{'Case': 3, 'Dataset': 'CARLA', 'Trial': 1, 'Metrics_perception_object_3d_tot_TP': 296, 'Metrics_perception_object_3d_tot_FP': 0, 'Metrics_perception_object_3d_tot_FN': 256, 'Metrics_perception_object_3d_tot_T': 552, 'Metrics_perception_object_3d_mean_precision': 1.0, 'Metrics_perception_object_3d_mean_recall': 0.5462556332556332, 'Metrics_tracking_HOTA_HOTA': array([0.42186525, 0.42186525, 0.42166261, 0.42166261, 0.42166261,\n",
      "       0.42166261, 0.42166261, 0.42166261, 0.42166261, 0.42146488,\n",
      "       0.42146488, 0.42146488, 0.42146488, 0.42146488, 0.42042836,\n",
      "       0.42042836, 0.41986525, 0.41986525, 0.41925098]), 'Metrics_tracking_HOTA_DetA': array([0.26005548, 0.26005548, 0.25918226, 0.25918226, 0.25918226,\n",
      "       0.25918226, 0.25918226, 0.25918226, 0.25918226, 0.25831025,\n",
      "       0.25831025, 0.25831025, 0.25831025, 0.25831025, 0.25743945,\n",
      "       0.25743945, 0.25656985, 0.25656985, 0.25570145]), 'Metrics_tracking_HOTA_AssA': array([0.68435508, 0.68435508, 0.68600125, 0.68600125, 0.68600125,\n",
      "       0.68600125, 0.68600125, 0.68600125, 0.68600125, 0.68767169,\n",
      "       0.68767169, 0.68767169, 0.68767169, 0.68767169, 0.68660809,\n",
      "       0.68660809, 0.68709099, 0.68709099, 0.68740863]), 'Metrics_tracking_HOTA_DetRe': array([0.6127451 , 0.6127451 , 0.61111111, 0.61111111, 0.61111111,\n",
      "       0.61111111, 0.61111111, 0.61111111, 0.61111111, 0.60947712,\n",
      "       0.60947712, 0.60947712, 0.60947712, 0.60947712, 0.60784314,\n",
      "       0.60784314, 0.60620915, 0.60620915, 0.60457516]), 'Metrics_tracking_HOTA_DetPr': array([0.31120332, 0.31120332, 0.31037344, 0.31037344, 0.31037344,\n",
      "       0.31037344, 0.31037344, 0.31037344, 0.31037344, 0.30954357,\n",
      "       0.30954357, 0.30954357, 0.30954357, 0.30954357, 0.30871369,\n",
      "       0.30871369, 0.30788382, 0.30788382, 0.30705394]), 'Metrics_tracking_HOTA_AssRe': array([0.68444102, 0.68444102, 0.68608454, 0.68608454, 0.68608454,\n",
      "       0.68608454, 0.68608454, 0.68608454, 0.68608454, 0.68773686,\n",
      "       0.68773686, 0.68773686, 0.68773686, 0.68773686, 0.68717746,\n",
      "       0.68717746, 0.6877898 , 0.6877898 , 0.68826731]), 'Metrics_tracking_HOTA_AssPr': array([0.98984127, 0.98984127, 0.98981411, 0.98981411, 0.98981411,\n",
      "       0.98981411, 0.98981411, 0.98981411, 0.98981411, 0.99131878,\n",
      "       0.99131878, 0.99131878, 0.99131878, 0.99131878, 0.98872946,\n",
      "       0.98872946, 0.98622828, 0.98622828, 0.98371358]), 'Metrics_tracking_HOTA_LocA': array([2.80756949, 2.80756949, 2.81480478, 2.81480478, 2.81480478,\n",
      "       2.81480478, 2.81480478, 2.81480478, 2.81480478, 2.82111785,\n",
      "       2.82111785, 2.82111785, 2.82111785, 2.82111785, 2.82671491,\n",
      "       2.82671491, 2.83215658, 2.83215658, 2.83734523]), 'Metrics_tracking_HOTA_RHOTA': array([0.64756098, 0.64756098, 0.64747431, 0.64747431, 0.64747431,\n",
      "       0.64747431, 0.64747431, 0.64747431, 0.64747431, 0.64739491,\n",
      "       0.64739491, 0.64739491, 0.64739491, 0.64739491, 0.64602633,\n",
      "       0.64602633, 0.64538426, 0.64538426, 0.64466285]), 'Metrics_tracking_HOTA_HOTA_TP': array([375., 375., 374., 374., 374., 374., 374., 374., 374., 373., 373.,\n",
      "       373., 373., 373., 372., 372., 371., 371., 370.]), 'Metrics_tracking_HOTA_HOTA_FN': array([237., 237., 238., 238., 238., 238., 238., 238., 238., 239., 239.,\n",
      "       239., 239., 239., 240., 240., 241., 241., 242.]), 'Metrics_tracking_HOTA_HOTA_FP': array([830., 830., 831., 831., 831., 831., 831., 831., 831., 832., 832.,\n",
      "       832., 832., 832., 833., 833., 834., 834., 835.]), 'Metrics_tracking_HOTA_HOTA(0)': 0.42186524768702655, 'Metrics_tracking_HOTA_LocA(0)': 2.8075694867619148, 'Metrics_tracking_HOTA_HOTALocA(0)': 1.1844159969313532, 'Metrics_tracking_CLEAR_MOTA': -0.7581699346405228, 'Metrics_tracking_CLEAR_MOTP': 2.82111784692294, 'Metrics_tracking_CLEAR_MODA': -0.75, 'Metrics_tracking_CLEAR_CLR_Re': 0.6094771241830066, 'Metrics_tracking_CLEAR_CLR_Pr': 0.3095435684647303, 'Metrics_tracking_CLEAR_MTR': 0.2857142857142857, 'Metrics_tracking_CLEAR_PTR': 0.6428571428571429, 'Metrics_tracking_CLEAR_MLR': 0.07142857142857142, 'Metrics_tracking_CLEAR_sMOTA': 0.35175973350041934, 'Metrics_tracking_CLEAR_CLR_F1': 0.4105668684645019, 'Metrics_tracking_CLEAR_FP_per_frame': 16.64, 'Metrics_tracking_CLEAR_MOTAL': -0.7511421078502223, 'Metrics_tracking_CLEAR_MOTP_sum': 1052.2769569022566, 'Metrics_tracking_CLEAR_CLR_TP': 373, 'Metrics_tracking_CLEAR_CLR_FN': 239, 'Metrics_tracking_CLEAR_CLR_FP': 832, 'Metrics_tracking_CLEAR_IDSW': 5, 'Metrics_tracking_CLEAR_MT': 4, 'Metrics_tracking_CLEAR_PT': 9, 'Metrics_tracking_CLEAR_ML': 1, 'Metrics_tracking_CLEAR_Frag': 5.0, 'Metrics_tracking_CLEAR_CLR_Frames': 50, 'Metrics_tracking_VACE_STDA': 7.762461363351658, 'Metrics_tracking_VACE_VACE_IDs': 35, 'Metrics_tracking_VACE_VACE_GT_IDs': 14, 'Metrics_tracking_VACE_FDA': 58.51921986988501, 'Metrics_tracking_VACE_num_non_empty_timesteps': 50, 'Metrics_tracking_VACE_ATA': 0.3168351576878228, 'Metrics_tracking_VACE_SFDA': 1.1703843973977002, 'Metrics_tracking_IDEucl_IDEucl': array(0.54213838), 'Metrics_tracking_Count_Dets': 2500, 'Metrics_tracking_Count_GT_Dets': 2500, 'Metrics_tracking_Count_IDs': 35, 'Metrics_tracking_Count_GT_IDs': 14, 'Metrics_tracking_Count_Frames': 50, 'Metrics_prediction_agg_ADE': 2.826144976713746, 'Metrics_prediction_agg_FDE': 3.332080305594269, 'Metrics_prediction_std_ADE': 0.9528648788660196, 'Metrics_prediction_std_FDE': 2.1852699284240917, 'Metrics_prediction_n_with_truth': 1222, 'Metrics_prediction_n_objects': 1222, 'Metrics_collaborative_n_collab_detections_median': 12.5, 'Metrics_collaborative_n_collab_sensors_in_view_median': 2.0, 'Metrics_collaborative_n_collab_sensors_total_median': 39.0}\n",
      "load checkpoint from local path: /home/spencer/Documents/Projects/Research/avstack-studies/submodules/lib-avstack/third_party/mmdetection3d/work_dirs/hv_pointpillars_fpn_sbn-all_fp16_2x8_2x_carla-3d/latest.pth\n",
      "      Running dataset: CARLA, case 4\n"
     ]
    },
    {
     "name": "stderr",
     "output_type": "stream",
     "text": [
      "100%|███████████████████████████████████████████████████████████████████| 50/50 [00:04<00:00, 10.65it/s]\n",
      "100%|███████████████████████████████████████████████████████████████████| 50/50 [00:03<00:00, 15.09it/s]\n",
      "100%|███████████████████████████████████████████████████████████████████| 50/50 [00:03<00:00, 15.26it/s]\n"
     ]
    },
    {
     "name": "stdout",
     "output_type": "stream",
     "text": [
      "\n",
      "CLEAR Config:\n",
      "THRESHOLD            : 0.5                           \n",
      "PRINT_CONFIG         : True                          \n",
      "\n",
      "IDEucl Config:\n",
      "THRESHOLD            : 0.4                           \n",
      "PRINT_CONFIG         : True                          \n",
      "\n",
      "Evaluating 1 tracker(s) on 1 sequence(s) for 1 class(es) on AvstackTrackDataset dataset using the following metrics: HOTA, CLEAR, VACE, IDEucl, Count\n",
      "\n",
      "\n",
      "Evaluating box-tracker\n",
      "\n",
      "46 eval_sequence(run_2022_10_31_13:46:21, box-tracker)                    2.3820 sec\n",
      "\n",
      "All sequences for box-tracker finished in 2.38 seconds\n"
     ]
    },
    {
     "name": "stderr",
     "output_type": "stream",
     "text": [
      "100%|███████████████████████████████████████████████████████████████████| 50/50 [01:00<00:00,  1.21s/it]\n"
     ]
    },
    {
     "name": "stdout",
     "output_type": "stream",
     "text": [
      "{'Case': 4, 'Dataset': 'CARLA', 'Trial': 1, 'Metrics_perception_object_3d_tot_TP': 296, 'Metrics_perception_object_3d_tot_FP': 0, 'Metrics_perception_object_3d_tot_FN': 256, 'Metrics_perception_object_3d_tot_T': 552, 'Metrics_perception_object_3d_mean_precision': 1.0, 'Metrics_perception_object_3d_mean_recall': 0.5462556332556332, 'Metrics_tracking_HOTA_HOTA': array([0.58251467, 0.58251467, 0.58251467, 0.58251467, 0.58251467,\n",
      "       0.58251467, 0.58251467, 0.58251467, 0.58251467, 0.58251467,\n",
      "       0.58251467, 0.58251467, 0.58251467, 0.58251467, 0.58251467,\n",
      "       0.58251467, 0.58251467, 0.58060222, 0.58060222]), 'Metrics_tracking_HOTA_DetA': array([0.47058824, 0.47058824, 0.47058824, 0.47058824, 0.47058824,\n",
      "       0.47058824, 0.47058824, 0.47058824, 0.47058824, 0.47058824,\n",
      "       0.47058824, 0.47058824, 0.47058824, 0.47058824, 0.47058824,\n",
      "       0.47058824, 0.47058824, 0.46818923, 0.46818923]), 'Metrics_tracking_HOTA_AssA': array([0.7210621 , 0.7210621 , 0.7210621 , 0.7210621 , 0.7210621 ,\n",
      "       0.7210621 , 0.7210621 , 0.7210621 , 0.7210621 , 0.7210621 ,\n",
      "       0.7210621 , 0.7210621 , 0.7210621 , 0.7210621 , 0.7210621 ,\n",
      "       0.7210621 , 0.7210621 , 0.72000575, 0.72000575]), 'Metrics_tracking_HOTA_DetRe': array([0.47058824, 0.47058824, 0.47058824, 0.47058824, 0.47058824,\n",
      "       0.47058824, 0.47058824, 0.47058824, 0.47058824, 0.47058824,\n",
      "       0.47058824, 0.47058824, 0.47058824, 0.47058824, 0.47058824,\n",
      "       0.47058824, 0.47058824, 0.46895425, 0.46895425]), 'Metrics_tracking_HOTA_DetPr': array([1.        , 1.        , 1.        , 1.        , 1.        ,\n",
      "       1.        , 1.        , 1.        , 1.        , 1.        ,\n",
      "       1.        , 1.        , 1.        , 1.        , 1.        ,\n",
      "       1.        , 1.        , 0.99652778, 0.99652778]), 'Metrics_tracking_HOTA_AssRe': array([0.7210621 , 0.7210621 , 0.7210621 , 0.7210621 , 0.7210621 ,\n",
      "       0.7210621 , 0.7210621 , 0.7210621 , 0.7210621 , 0.7210621 ,\n",
      "       0.7210621 , 0.7210621 , 0.7210621 , 0.7210621 , 0.7210621 ,\n",
      "       0.7210621 , 0.7210621 , 0.72059832, 0.72059832]), 'Metrics_tracking_HOTA_AssPr': array([1.       , 1.       , 1.       , 1.       , 1.       , 1.       ,\n",
      "       1.       , 1.       , 1.       , 1.       , 1.       , 1.       ,\n",
      "       1.       , 1.       , 1.       , 1.       , 1.       , 0.9966816,\n",
      "       0.9966816]), 'Metrics_tracking_HOTA_LocA': array([2.91586545, 2.91586545, 2.91586545, 2.91586545, 2.91586545,\n",
      "       2.91586545, 2.91586545, 2.91586545, 2.91586545, 2.91586545,\n",
      "       2.91586545, 2.91586545, 2.91586545, 2.91586545, 2.91586545,\n",
      "       2.91586545, 2.91586545, 2.92300156, 2.92300156]), 'Metrics_tracking_HOTA_RHOTA': array([0.58251467, 0.58251467, 0.58251467, 0.58251467, 0.58251467,\n",
      "       0.58251467, 0.58251467, 0.58251467, 0.58251467, 0.58251467,\n",
      "       0.58251467, 0.58251467, 0.58251467, 0.58251467, 0.58251467,\n",
      "       0.58251467, 0.58251467, 0.58107638, 0.58107638]), 'Metrics_tracking_HOTA_HOTA_TP': array([288., 288., 288., 288., 288., 288., 288., 288., 288., 288., 288.,\n",
      "       288., 288., 288., 288., 288., 288., 287., 287.]), 'Metrics_tracking_HOTA_HOTA_FN': array([324., 324., 324., 324., 324., 324., 324., 324., 324., 324., 324.,\n",
      "       324., 324., 324., 324., 324., 324., 325., 325.]), 'Metrics_tracking_HOTA_HOTA_FP': array([0., 0., 0., 0., 0., 0., 0., 0., 0., 0., 0., 0., 0., 0., 0., 0., 0.,\n",
      "       1., 1.]), 'Metrics_tracking_HOTA_HOTA(0)': 0.5825146719384587, 'Metrics_tracking_HOTA_LocA(0)': 2.915865447986981, 'Metrics_tracking_HOTA_HOTALocA(0)': 1.6985344048508233, 'Metrics_tracking_CLEAR_MOTA': 0.47058823529411764, 'Metrics_tracking_CLEAR_MOTP': 2.915865447986981, 'Metrics_tracking_CLEAR_MODA': 0.47058823529411764, 'Metrics_tracking_CLEAR_CLR_Re': 0.47058823529411764, 'Metrics_tracking_CLEAR_CLR_Pr': 1.0, 'Metrics_tracking_CLEAR_MTR': 0.21428571428571427, 'Metrics_tracking_CLEAR_PTR': 0.5, 'Metrics_tracking_CLEAR_MLR': 0.2857142857142857, 'Metrics_tracking_CLEAR_sMOTA': 1.372171975523285, 'Metrics_tracking_CLEAR_CLR_F1': 0.64, 'Metrics_tracking_CLEAR_FP_per_frame': 0.0, 'Metrics_tracking_CLEAR_MOTAL': 0.47058823529411764, 'Metrics_tracking_CLEAR_MOTP_sum': 839.7692490202505, 'Metrics_tracking_CLEAR_CLR_TP': 288, 'Metrics_tracking_CLEAR_CLR_FN': 324, 'Metrics_tracking_CLEAR_CLR_FP': 0, 'Metrics_tracking_CLEAR_IDSW': 0, 'Metrics_tracking_CLEAR_MT': 3, 'Metrics_tracking_CLEAR_PT': 7, 'Metrics_tracking_CLEAR_ML': 4, 'Metrics_tracking_CLEAR_Frag': 0.0, 'Metrics_tracking_CLEAR_CLR_Frames': 50, 'Metrics_tracking_VACE_STDA': 6.333074035711079, 'Metrics_tracking_VACE_VACE_IDs': 10, 'Metrics_tracking_VACE_VACE_GT_IDs': 14, 'Metrics_tracking_VACE_FDA': 91.9896376508264, 'Metrics_tracking_VACE_num_non_empty_timesteps': 50, 'Metrics_tracking_VACE_ATA': 0.52775616964259, 'Metrics_tracking_VACE_SFDA': 1.839792753016528, 'Metrics_tracking_IDEucl_IDEucl': array(0.45687589), 'Metrics_tracking_Count_Dets': 2500, 'Metrics_tracking_Count_GT_Dets': 2500, 'Metrics_tracking_Count_IDs': 10, 'Metrics_tracking_Count_GT_IDs': 14, 'Metrics_tracking_Count_Frames': 50, 'Metrics_prediction_agg_ADE': 2.2335345826743733, 'Metrics_prediction_agg_FDE': 6.788254857421585, 'Metrics_prediction_std_ADE': 1.0464086610479284, 'Metrics_prediction_std_FDE': 6.477178481828337, 'Metrics_prediction_n_with_truth': 288, 'Metrics_prediction_n_objects': 288}\n"
     ]
    },
    {
     "data": {
      "text/plain": [
       "<Figure size 640x480 with 0 Axes>"
      ]
     },
     "metadata": {},
     "output_type": "display_data"
    }
   ],
   "source": [
    "save_file_base = 'study-3-collaborative-{}-seq-res-EXP2.p'\n",
    "max_dist = 70\n",
    "frame_res_all, seq_res_all = avapi.evaluation.run_trades(SMs, AVs, li_perception, ca_perception, tracking,\n",
    "                            max_dist=max_dist, max_lidar_range=max_lidar_range, max_framerate=max_framerate,\n",
    "                            trade_type=trade_types, sensor_eval=sensor_eval, sensor_eval_super=sensor_eval_super,\n",
    "                            collaborative_sensors=collab_sensors, n_cases_max=4,\n",
    "                            collaborative_range=collab_range, collaborative_noise=collab_noise,\n",
    "                            collaborative_source=collab_source, collaborative_rate=collab_rate,\n",
    "                            n_trials_max=2, frame_start=120, max_frames=50, filter_front=filter_front,\n",
    "                            save_file_base=save_file_base)"
   ]
  },
  {
   "cell_type": "code",
   "execution_count": null,
   "id": "50305b60",
   "metadata": {},
   "outputs": [],
   "source": []
  },
  {
   "cell_type": "code",
   "execution_count": null,
   "id": "11937e2c",
   "metadata": {},
   "outputs": [],
   "source": []
  },
  {
   "cell_type": "code",
   "execution_count": 4,
   "id": "54c2cc5a",
   "metadata": {
    "scrolled": false
   },
   "outputs": [
    {
     "data": {
      "text/plain": [
       "[[{'Case': 1,\n",
       "   'Dataset': 'CARLA',\n",
       "   'Trial': 0,\n",
       "   'Metrics_perception_object_3d_tot_TP': 214,\n",
       "   'Metrics_perception_object_3d_tot_FP': 0,\n",
       "   'Metrics_perception_object_3d_tot_FN': 173,\n",
       "   'Metrics_perception_object_3d_tot_T': 387,\n",
       "   'Metrics_perception_object_3d_mean_precision': 1.0,\n",
       "   'Metrics_perception_object_3d_mean_recall': 0.5565800865800866,\n",
       "   'Metrics_tracking_HOTA_HOTA': array([0.39926795, 0.39463659, 0.39463659, 0.39463659, 0.39463659,\n",
       "          0.39463659, 0.38724914, 0.3697228 , 0.34806124, 0.33564883,\n",
       "          0.31641804, 0.30839593, 0.29611816, 0.269327  , 0.22582769,\n",
       "          0.19337223, 0.15009072, 0.09697737, 0.07130367]),\n",
       "   'Metrics_tracking_HOTA_DetA': array([0.28368121, 0.27641509, 0.27641509, 0.27641509, 0.27641509,\n",
       "          0.27641509, 0.27161654, 0.26212687, 0.24700461, 0.23901099,\n",
       "          0.22222222, 0.21454219, 0.19522968, 0.17142857, 0.14467005,\n",
       "          0.12003311, 0.08674699, 0.04559505, 0.0281155 ]),\n",
       "   'Metrics_tracking_HOTA_AssA': array([0.56195083, 0.56342088, 0.56342088, 0.56342088, 0.56342088,\n",
       "          0.56342088, 0.55210886, 0.52148394, 0.49046302, 0.47135966,\n",
       "          0.45054169, 0.44330697, 0.44914259, 0.4231327 , 0.3525135 ,\n",
       "          0.31152088, 0.25968883, 0.20626381, 0.18083308]),\n",
       "   'Metrics_tracking_HOTA_DetRe': array([0.57945736, 0.56782946, 0.56782946, 0.56782946, 0.56782946,\n",
       "          0.56782946, 0.56007752, 0.54457364, 0.51937984, 0.50581395,\n",
       "          0.47674419, 0.46317829, 0.42829457, 0.38372093, 0.33139535,\n",
       "          0.28100775, 0.20930233, 0.11434109, 0.07170543]),\n",
       "   'Metrics_tracking_HOTA_DetPr': array([0.3572282 , 0.35005974, 0.35005974, 0.35005974, 0.35005974,\n",
       "          0.35005974, 0.34528076, 0.33572282, 0.32019116, 0.31182796,\n",
       "          0.29390681, 0.28554361, 0.26403823, 0.23655914, 0.20430108,\n",
       "          0.17323775, 0.12903226, 0.07048984, 0.0442055 ]),\n",
       "   'Metrics_tracking_HOTA_AssRe': array([0.62372087, 0.62684382, 0.62684382, 0.62684382, 0.62684382,\n",
       "          0.62684382, 0.61972317, 0.59827474, 0.57479933, 0.55702803,\n",
       "          0.53173807, 0.52719462, 0.53055949, 0.50776958, 0.43752627,\n",
       "          0.39983286, 0.35218451, 0.31107563, 0.28785742]),\n",
       "   'Metrics_tracking_HOTA_AssPr': array([0.80179216, 0.79510793, 0.79510793, 0.79510793, 0.79510793,\n",
       "          0.79510793, 0.78249887, 0.75815635, 0.72620613, 0.71007527,\n",
       "          0.68539945, 0.67783408, 0.67848293, 0.65727239, 0.60248724,\n",
       "          0.55937505, 0.48511441, 0.38457176, 0.32552718]),\n",
       "   'Metrics_tracking_HOTA_LocA': array([0.74653107, 0.76018872, 0.76018872, 0.76018872, 0.76018872,\n",
       "          0.76018872, 0.76606221, 0.77693411, 0.79403631, 0.80265341,\n",
       "          0.81939877, 0.82653261, 0.84289741, 0.86255571, 0.88320363,\n",
       "          0.90165879, 0.92670164, 0.96858899, 0.99406063]),\n",
       "   'Metrics_tracking_HOTA_RHOTA': array([0.57063696, 0.56562087, 0.56562087, 0.56562087, 0.56562087,\n",
       "          0.56562087, 0.55607892, 0.53290375, 0.50471438, 0.488283  ,\n",
       "          0.4634578 , 0.45313372, 0.43859473, 0.40294525, 0.34179136,\n",
       "          0.29587122, 0.23313832, 0.15357222, 0.11387148]),\n",
       "   'Metrics_tracking_HOTA_HOTA_TP': array([299., 293., 293., 293., 293., 293., 289., 281., 268., 261., 246.,\n",
       "          239., 221., 198., 171., 145., 108.,  59.,  37.]),\n",
       "   'Metrics_tracking_HOTA_HOTA_FN': array([217., 223., 223., 223., 223., 223., 227., 235., 248., 255., 270.,\n",
       "          277., 295., 318., 345., 371., 408., 457., 479.]),\n",
       "   'Metrics_tracking_HOTA_HOTA_FP': array([538., 544., 544., 544., 544., 544., 548., 556., 569., 576., 591.,\n",
       "          598., 616., 639., 666., 692., 729., 778., 800.]),\n",
       "   'Metrics_tracking_HOTA_HOTA(0)': 0.39926794672521004,\n",
       "   'Metrics_tracking_HOTA_LocA(0)': 0.7465310723923256,\n",
       "   'Metrics_tracking_HOTA_HOTALocA(0)': 0.298065928440653,\n",
       "   'Metrics_tracking_CLEAR_MOTA': -0.6375968992248062,\n",
       "   'Metrics_tracking_CLEAR_MOTP': 0.796800420215221,\n",
       "   'Metrics_tracking_CLEAR_MODA': -0.6027131782945736,\n",
       "   'Metrics_tracking_CLEAR_CLR_Re': 0.5096899224806202,\n",
       "   'Metrics_tracking_CLEAR_CLR_Pr': 0.3142174432497013,\n",
       "   'Metrics_tracking_CLEAR_MTR': 0.28,\n",
       "   'Metrics_tracking_CLEAR_PTR': 0.36,\n",
       "   'Metrics_tracking_CLEAR_MLR': 0.36,\n",
       "   'Metrics_tracking_CLEAR_sMOTA': -0.7411656772934048,\n",
       "   'Metrics_tracking_CLEAR_CLR_F1': 0.3887657058388766,\n",
       "   'Metrics_tracking_CLEAR_FP_per_frame': 19.133333333333333,\n",
       "   'Metrics_tracking_CLEAR_MOTAL': -0.6051458769478746,\n",
       "   'Metrics_tracking_CLEAR_MOTP_sum': 209.55851051660312,\n",
       "   'Metrics_tracking_CLEAR_CLR_TP': 263,\n",
       "   'Metrics_tracking_CLEAR_CLR_FN': 253,\n",
       "   'Metrics_tracking_CLEAR_CLR_FP': 574,\n",
       "   'Metrics_tracking_CLEAR_IDSW': 18,\n",
       "   'Metrics_tracking_CLEAR_MT': 7,\n",
       "   'Metrics_tracking_CLEAR_PT': 9,\n",
       "   'Metrics_tracking_CLEAR_ML': 9,\n",
       "   'Metrics_tracking_CLEAR_Frag': 20.0,\n",
       "   'Metrics_tracking_CLEAR_CLR_Frames': 30,\n",
       "   'Metrics_tracking_VACE_STDA': 8.817283542214497,\n",
       "   'Metrics_tracking_VACE_VACE_IDs': 72,\n",
       "   'Metrics_tracking_VACE_VACE_GT_IDs': 25,\n",
       "   'Metrics_tracking_VACE_FDA': 9.78211568642701,\n",
       "   'Metrics_tracking_VACE_num_non_empty_timesteps': 30,\n",
       "   'Metrics_tracking_VACE_ATA': 0.18179966066421643,\n",
       "   'Metrics_tracking_VACE_SFDA': 0.3260705228809003,\n",
       "   'Metrics_tracking_IDEucl_IDEucl': array(0.41262621),\n",
       "   'Metrics_tracking_Count_Dets': 900,\n",
       "   'Metrics_tracking_Count_GT_Dets': 900,\n",
       "   'Metrics_tracking_Count_IDs': 72,\n",
       "   'Metrics_tracking_Count_GT_IDs': 25,\n",
       "   'Metrics_tracking_Count_Frames': 30,\n",
       "   'Metrics_prediction_agg_ADE': 5.064241977075826,\n",
       "   'Metrics_prediction_agg_FDE': 10.428334572075531,\n",
       "   'Metrics_prediction_std_ADE': 1.390475385823943,\n",
       "   'Metrics_prediction_std_FDE': 2.0269244078084223,\n",
       "   'Metrics_prediction_n_with_truth': 1489,\n",
       "   'Metrics_prediction_n_objects': 1489,\n",
       "   'Metrics_collaborative_n_collab_detections_median': 116.5,\n",
       "   'Metrics_collaborative_n_collab_sensors_in_view_median': 12.0,\n",
       "   'Metrics_collaborative_n_collab_sensors_total_median': 39.0}]]"
      ]
     },
     "execution_count": 4,
     "metadata": {},
     "output_type": "execute_result"
    }
   ],
   "source": [
    "seq_res_all"
   ]
  },
  {
   "cell_type": "code",
   "execution_count": 242,
   "id": "b5879f5d",
   "metadata": {},
   "outputs": [
    {
     "data": {
      "text/plain": [
       "dict_keys(['CAM_FRONT', 'LIDAR_INFRASTRUCTURE_001', 'LIDAR_INFRASTRUCTURE_002', 'LIDAR_INFRASTRUCTURE_003', 'LIDAR_INFRASTRUCTURE_004', 'LIDAR_INFRASTRUCTURE_005', 'LIDAR_INFRASTRUCTURE_006', 'LIDAR_INFRASTRUCTURE_007', 'LIDAR_INFRASTRUCTURE_008', 'LIDAR_INFRASTRUCTURE_009', 'LIDAR_INFRASTRUCTURE_010', 'LIDAR_INFRASTRUCTURE_011', 'LIDAR_INFRASTRUCTURE_012', 'LIDAR_INFRASTRUCTURE_013', 'LIDAR_INFRASTRUCTURE_014', 'LIDAR_INFRASTRUCTURE_015', 'LIDAR_INFRASTRUCTURE_016', 'LIDAR_INFRASTRUCTURE_017', 'LIDAR_INFRASTRUCTURE_018', 'LIDAR_INFRASTRUCTURE_019', 'LIDAR_INFRASTRUCTURE_020', 'LIDAR_INFRASTRUCTURE_021', 'LIDAR_INFRASTRUCTURE_022', 'LIDAR_INFRASTRUCTURE_023', 'LIDAR_INFRASTRUCTURE_024', 'LIDAR_INFRASTRUCTURE_025', 'LIDAR_INFRASTRUCTURE_026', 'LIDAR_INFRASTRUCTURE_027', 'LIDAR_INFRASTRUCTURE_028', 'LIDAR_INFRASTRUCTURE_029', 'LIDAR_INFRASTRUCTURE_030', 'LIDAR_INFRASTRUCTURE_031', 'LIDAR_INFRASTRUCTURE_032', 'LIDAR_INFRASTRUCTURE_033', 'LIDAR_INFRASTRUCTURE_034', 'LIDAR_INFRASTRUCTURE_035', 'LIDAR_INFRASTRUCTURE_036', 'LIDAR_INFRASTRUCTURE_037', 'LIDAR_INFRASTRUCTURE_038', 'LIDAR_INFRASTRUCTURE_039', 'LIDAR_INFRASTRUCTURE_040', 'LIDAR_TOP'])"
      ]
     },
     "execution_count": 242,
     "metadata": {},
     "output_type": "execute_result"
    }
   ],
   "source": [
    "SM.sensor_file_post.keys()"
   ]
  },
  {
   "cell_type": "code",
   "execution_count": 4,
   "id": "8e73e778",
   "metadata": {},
   "outputs": [],
   "source": [
    "SM = CSM.get_scene_dataset_by_index(0)"
   ]
  },
  {
   "cell_type": "code",
   "execution_count": 204,
   "id": "60d136b9",
   "metadata": {},
   "outputs": [],
   "source": [
    "# collaborative detection noise (variance) on [h, w, l, x, y, z]\n",
    "collab_noise = {1:[s**2 for s in [0.2, 0.2, 0.2, 1, 1, 1]],\n",
    "                2:[s**2 for s in [0.1, 0.1, 0.1, 0.5, 0.5, 2]],\n",
    "                3:[s**s for s in [0.05, 0.05, 0.05, 0.25, 0.25, 0.25]],\n",
    "                4:None}\n",
    "\n",
    "n_assign = []\n",
    "for i_test in range(1,4):\n",
    "    n_assign_this = []\n",
    "    for i_trial in range(100):\n",
    "        objs_1 = SM.get_objects(frame=10, sensor='LIDAR_INFRASTRUCTURE_001')\n",
    "        for obj in objs_1:\n",
    "            obj.box.add_noise(collab_noise[i_test])\n",
    "\n",
    "        objs_2 = SM.get_objects(frame=12, sensor='LIDAR_INFRASTRUCTURE_001')\n",
    "        for obj in objs_2:\n",
    "            obj.box.add_noise(collab_noise[i_test])\n",
    "\n",
    "        A_noise = avstack.modules.assignment.build_A_from_iou([obj.box for obj in objs_1], [obj.box for obj in objs_2])\n",
    "        n_assign_this.append(np.sum(A_noise!=0))\n",
    "    n_assign.append(n_assign_this)\n",
    "        #     print(len(objs_1), len(objs_2), np.sum(A_noise!=0))"
   ]
  },
  {
   "cell_type": "code",
   "execution_count": 205,
   "id": "592b9841",
   "metadata": {},
   "outputs": [
    {
     "data": {
      "text/plain": [
       "(array([[ 0.,  0.,  0.,  5., 11., 17., 34., 18., 12.,  3.],\n",
       "        [ 2.,  3., 12., 37., 20., 18.,  6.,  2.,  0.,  0.],\n",
       "        [ 0.,  0.,  1., 11., 11., 13., 36., 18.,  6.,  4.]]),\n",
       " array([ 1. ,  2.3,  3.6,  4.9,  6.2,  7.5,  8.8, 10.1, 11.4, 12.7, 14. ]),\n",
       " <a list of 3 BarContainer objects>)"
      ]
     },
     "execution_count": 205,
     "metadata": {},
     "output_type": "execute_result"
    },
    {
     "data": {
      "image/png": "[encoded data removed]",
      "text/plain": [
       "<Figure size 640x480 with 1 Axes>"
      ]
     },
     "metadata": {},
     "output_type": "display_data"
    }
   ],
   "source": [
    "import matplotlib.pyplot as plt\n",
    "plt.hist(n_assign)"
   ]
  },
  {
   "cell_type": "code",
   "execution_count": 167,
   "id": "707995e7",
   "metadata": {},
   "outputs": [
    {
     "name": "stdout",
     "output_type": "stream",
     "text": [
      "14 13 13\n"
     ]
    }
   ],
   "source": [
    "A_reg = avstack.modules.assignment.build_A_from_iou([obj.box for obj in objs_1], [obj.box for obj in objs_2])\n",
    "print(len(objs_1), len(objs_2), np.sum(A_reg!=0))"
   ]
  },
  {
   "cell_type": "code",
   "execution_count": null,
   "id": "d5af8400",
   "metadata": {},
   "outputs": [],
   "source": []
  },
  {
   "cell_type": "code",
   "execution_count": 138,
   "id": "77815816",
   "metadata": {},
   "outputs": [
    {
     "data": {
      "text/plain": [
       "array([VehicleState car at position Translation at [56.488952, -15.378056, 15.405418] with origin of x:[-92.907332 -28.650821  15.017219], q:quaternion(-0.68029, 0.183739, 0.182283, -0.685724),\n",
       "       VehicleState truck at position Translation at [59.674094, -17.961276, 16.913199] with origin of x:[-92.907332 -28.650821  15.017219], q:quaternion(-0.68029, 0.183739, 0.182283, -0.685724),\n",
       "       VehicleState truck at position Translation at [46.689232, -17.613918, 9.466878] with origin of x:[-92.907332 -28.650821  15.017219], q:quaternion(-0.68029, 0.183739, 0.182283, -0.685724),\n",
       "       VehicleState truck at position Translation at [23.179778, -3.354969, -4.106296] with origin of x:[-92.907332 -28.650821  15.017219], q:quaternion(-0.68029, 0.183739, 0.182283, -0.685724),\n",
       "       VehicleState car at position Translation at [49.684616, -14.897358, 11.250742] with origin of x:[-92.907332 -28.650821  15.017219], q:quaternion(-0.68029, 0.183739, 0.182283, -0.685724),\n",
       "       VehicleState bicycle at position Translation at [56.478442, 23.750456, 15.117343] with origin of x:[-92.907332 -28.650821  15.017219], q:quaternion(-0.68029, 0.183739, 0.182283, -0.685724),\n",
       "       VehicleState car at position Translation at [33.892178, -3.241063, 2.247686] with origin of x:[-92.907332 -28.650821  15.017219], q:quaternion(-0.68029, 0.183739, 0.182283, -0.685724),\n",
       "       VehicleState car at position Translation at [59.485536, 20.567505, 16.939351] with origin of x:[-92.907332 -28.650821  15.017219], q:quaternion(-0.68029, 0.183739, 0.182283, -0.685724),\n",
       "       VehicleState car at position Translation at [31.139118, 0.224414, 0.543506] with origin of x:[-92.907332 -28.650821  15.017219], q:quaternion(-0.68029, 0.183739, 0.182283, -0.685724),\n",
       "       VehicleState truck at position Translation at [33.828099, 3.757544, 2.034068] with origin of x:[-92.907332 -28.650821  15.017219], q:quaternion(-0.68029, 0.183739, 0.182283, -0.685724),\n",
       "       VehicleState car at position Translation at [29.513284, 7.206557, -0.365118] with origin of x:[-92.907332 -28.650821  15.017219], q:quaternion(-0.68029, 0.183739, 0.182283, -0.685724),\n",
       "       VehicleState bicycle at position Translation at [20.409219, 0.111844, -5.707211] with origin of x:[-92.907332 -28.650821  15.017219], q:quaternion(-0.68029, 0.183739, 0.182283, -0.685724),\n",
       "       VehicleState car at position Translation at [25.174128, 3.676269, -2.878014] with origin of x:[-92.907332 -28.650821  15.017219], q:quaternion(-0.68029, 0.183739, 0.182283, -0.685724),\n",
       "       VehicleState car at position Translation at [20.883704, 7.122707, -5.319404] with origin of x:[-92.907332 -28.650821  15.017219], q:quaternion(-0.68029, 0.183739, 0.182283, -0.685724)],\n",
       "      dtype=object)"
      ]
     },
     "execution_count": 138,
     "metadata": {},
     "output_type": "execute_result"
    }
   ],
   "source": [
    "objs_1"
   ]
  },
  {
   "cell_type": "code",
   "execution_count": 139,
   "id": "1d6a1e4c",
   "metadata": {},
   "outputs": [
    {
     "data": {
      "text/plain": [
       "array([VehicleState car at position Translation at [56.472471, -15.346423, 15.430301] with origin of x:[-92.961448 -28.593684  15.088278], q:quaternion(-0.679987, 0.183385, 0.182578, -0.686042),\n",
       "       VehicleState truck at position Translation at [59.62864, -17.960731, 16.994307] with origin of x:[-92.961448 -28.593684  15.088278], q:quaternion(-0.679987, 0.183385, 0.182578, -0.686042),\n",
       "       VehicleState truck at position Translation at [46.646973, -17.617919, 9.539933] with origin of x:[-92.961448 -28.593684  15.088278], q:quaternion(-0.679987, 0.183385, 0.182578, -0.686042),\n",
       "       VehicleState truck at position Translation at [23.141075, -3.355029, -4.031189] with origin of x:[-92.961448 -28.593684  15.088278], q:quaternion(-0.679987, 0.183385, 0.182578, -0.686042),\n",
       "       VehicleState car at position Translation at [49.65604, -14.947966, 11.299989] with origin of x:[-92.961448 -28.593684  15.088278], q:quaternion(-0.679987, 0.183385, 0.182578, -0.686042),\n",
       "       VehicleState car at position Translation at [33.866571, -3.241021, 2.291728] with origin of x:[-92.961448 -28.593684  15.088278], q:quaternion(-0.679987, 0.183385, 0.182578, -0.686042),\n",
       "       VehicleState car at position Translation at [59.459946, 20.567377, 16.983559] with origin of x:[-92.961448 -28.593684  15.088278], q:quaternion(-0.679987, 0.183385, 0.182578, -0.686042),\n",
       "       VehicleState car at position Translation at [31.110544, 0.224291, 0.590753] with origin of x:[-92.961448 -28.593684  15.088278], q:quaternion(-0.679987, 0.183385, 0.182578, -0.686042),\n",
       "       VehicleState truck at position Translation at [33.592016, 3.755128, 1.995046] with origin of x:[-92.961448 -28.593684  15.088278], q:quaternion(-0.679987, 0.183385, 0.182578, -0.686042),\n",
       "       VehicleState car at position Translation at [29.487889, 7.206539, -0.320805] with origin of x:[-92.961448 -28.593684  15.088278], q:quaternion(-0.679987, 0.183385, 0.182578, -0.686042),\n",
       "       VehicleState bicycle at position Translation at [20.362694, 0.114305, -5.622876] with origin of x:[-92.961448 -28.593684  15.088278], q:quaternion(-0.679987, 0.183385, 0.182578, -0.686042),\n",
       "       VehicleState car at position Translation at [25.119646, 3.675909, -2.860351] with origin of x:[-92.961448 -28.593684  15.088278], q:quaternion(-0.679987, 0.183385, 0.182578, -0.686042),\n",
       "       VehicleState car at position Translation at [20.858265, 7.122692, -5.275091] with origin of x:[-92.961448 -28.593684  15.088278], q:quaternion(-0.679987, 0.183385, 0.182578, -0.686042)],\n",
       "      dtype=object)"
      ]
     },
     "execution_count": 139,
     "metadata": {},
     "output_type": "execute_result"
    }
   ],
   "source": [
    "objs_2"
   ]
  },
  {
   "cell_type": "code",
   "execution_count": 111,
   "id": "9bd71af6",
   "metadata": {},
   "outputs": [
    {
     "data": {
      "text/plain": [
       "[10, 10, 10, 10, 11, 11, 12, 12, 12, 12]"
      ]
     },
     "execution_count": 111,
     "metadata": {},
     "output_type": "execute_result"
    }
   ],
   "source": [
    "[f['n_collab_sensors_in_view'] for f in frame_res_all[0][0]]"
   ]
  },
  {
   "cell_type": "code",
   "execution_count": 75,
   "id": "10917754",
   "metadata": {},
   "outputs": [
    {
     "data": {
      "text/plain": [
       "{'Case': 1,\n",
       " 'Dataset': 'CARLA',\n",
       " 'Trial': 0,\n",
       " 'Frame': 112,\n",
       " 'collab_detections': [motorcycle detection from sensor LIDAR_INFRASTRUCTURE_014\n",
       "  Box3D=[h: 1.56, w: -0.73, l: 1.67] x (x: 29.91 y: 4.49, z: 1.27)\n",
       "    q: quaternion(0.190149, -0.25941, 0.083871, 0.94315) with origin: origin of x:[-32.492253  74.492033  14.965723], q:quaternion(0.002485, -0.258812, -0.000661, 0.965925),\n",
       "  truck detection from sensor LIDAR_INFRASTRUCTURE_014\n",
       "  Box3D=[h: 2.31, w: 2.11, l: 6.34] x (x: 27.53 y: -0.56, z: -4.07)\n",
       "    q: quaternion(-0.965758, 0.006343, -0.25772, -0.029457) with origin: origin of x:[-32.492253  74.492033  14.965723], q:quaternion(0.002485, -0.258812, -0.000661, 0.965925),\n",
       "  car detection from sensor LIDAR_INFRASTRUCTURE_014\n",
       "  Box3D=[h: 1.53, w: 1.33, l: 1.91] x (x: 45.52 y: 5.42, z: 12.36)\n",
       "    q: quaternion(0.681133, 0.181352, 0.184672, -0.684895) with origin: origin of x:[-32.492253  74.492033  14.965723], q:quaternion(0.002485, -0.258812, -0.000661, 0.965925),\n",
       "  car detection from sensor LIDAR_INFRASTRUCTURE_014\n",
       "  Box3D=[h: 2.05, w: 1.06, l: 3.03] x (x: 41.49 y: 3.18, z: 7.10)\n",
       "    q: quaternion(-0.6817, -0.183546, -0.18249, 0.684331) with origin: origin of x:[-32.492253  74.492033  14.965723], q:quaternion(0.002485, -0.258812, -0.000661, 0.965925),\n",
       "  car detection from sensor LIDAR_INFRASTRUCTURE_014\n",
       "  Box3D=[h: 0.97, w: 1.76, l: 5.18] x (x: 35.76 y: 17.39, z: 7.09)\n",
       "    q: quaternion(-0.684398, 0.18258, -0.183445, -0.681636) with origin: origin of x:[-32.492253  74.492033  14.965723], q:quaternion(0.002485, -0.258812, -0.000661, 0.965925),\n",
       "  car detection from sensor LIDAR_INFRASTRUCTURE_014\n",
       "  Box3D=[h: 2.26, w: 2.00, l: 4.88] x (x: 37.36 y: 26.88, z: 8.04)\n",
       "    q: quaternion(-0.684349, 0.182628, -0.1834, -0.681686) with origin: origin of x:[-32.492253  74.492033  14.965723], q:quaternion(0.002485, -0.258812, -0.000661, 0.965925)],\n",
       " 'n_collab_sensors_total': 15,\n",
       " 'n_collab_sensors_in_view': 6,\n",
       " 'n_collab_detections': 39,\n",
       " 'Result_object_3d': Result Manager\n",
       " ----5 detections, 8 truths\n",
       " ----0 detections are dontcares\n",
       " ----3 Assignments, 0 FPs, 5 FNs,\n",
       " 'Result_tracking': Result Manager\n",
       " ----3 detections, 8 truths\n",
       " ----0 detections are dontcares\n",
       " ----2 Assignments, 1 FPs, 6 FNs}"
      ]
     },
     "execution_count": 75,
     "metadata": {},
     "output_type": "execute_result"
    }
   ],
   "source": [
    "frame_res_all[0][0][idx_frame]"
   ]
  },
  {
   "cell_type": "code",
   "execution_count": 161,
   "id": "bf847aa0",
   "metadata": {},
   "outputs": [
    {
     "name": "stdout",
     "output_type": "stream",
     "text": [
      "[3, 13, 21, 30, 33]\n",
      "[3, 13, 21, 30, 33]\n"
     ]
    }
   ],
   "source": [
    "idx_frame = 9\n",
    "print(frame_res_all[0][0][idx_frame]['collab_sensor_ids_in_view'])\n",
    "print(frame_res_all[0][0][idx_frame]['collab_sensor_ids_made_dets'])"
   ]
  },
  {
   "cell_type": "code",
   "execution_count": 146,
   "id": "3560891e",
   "metadata": {},
   "outputs": [],
   "source": [
    "idx_frame = 3\n",
    "dets_e = frame_res_all[0][0][idx_frame]['Result_object_3d'].get_objects_of('detections')\n",
    "dets_c = frame_res_all[0][0][idx_frame]['collab_detections']\n",
    "trus = frame_res_all[0][0][idx_frame]['Result_tracking'].get_objects_of('truths')\n",
    "trks = frame_res_all[0][0][idx_frame]['Result_tracking'].get_objects_of('detections')\n",
    "\n",
    "# --- change origins\n",
    "for det in dets_c:\n",
    "    det.change_origin(trus[0].origin)\n",
    "for trk in trks:\n",
    "    trk.change_origin(trus[0].origin)"
   ]
  },
  {
   "cell_type": "code",
   "execution_count": 147,
   "id": "eade0349",
   "metadata": {
    "scrolled": true
   },
   "outputs": [
    {
     "name": "stdout",
     "output_type": "stream",
     "text": [
      "[car detection from sensor lidar_objects_3d\n",
      "Box3D=[h: 1.50, w: 1.85, l: 4.56] x (x: 9.36 y: -4.68, z: -1.12)\n",
      "  q: quaternion(0.99404438, 0, 0, 0.10897599) with origin: origin of x:[-0.5  0.   1.8], q:quaternion(1, 0, 0, 0)\n",
      ", car detection from sensor lidar_objects_3d\n",
      "Box3D=[h: 1.63, w: 2.11, l: 4.98] x (x: -1.17 y: 3.36, z: -0.94)\n",
      "  q: quaternion(-0.0062728, 0, 0, -0.99998033) with origin: origin of x:[-0.5  0.   1.8], q:quaternion(1, 0, 0, 0)\n",
      ", car detection from sensor lidar_objects_3d\n",
      "Box3D=[h: 1.66, w: 2.17, l: 4.60] x (x: -12.56 y: -5.70, z: -0.97)\n",
      "  q: quaternion(0.98376068, 0, 0, -0.17948518) with origin: origin of x:[-0.5  0.   1.8], q:quaternion(1, 0, 0, 0)\n",
      ", car detection from sensor lidar_objects_3d\n",
      "Box3D=[h: 1.89, w: 2.02, l: 4.50] x (x: 20.72 y: -3.79, z: -0.87)\n",
      "  q: quaternion(0.99421563, 0, 0, 0.10740239) with origin: origin of x:[-0.5  0.   1.8], q:quaternion(1, 0, 0, 0)\n",
      ", bicycle detection from sensor lidar_objects_3d\n",
      "Box3D=[h: 1.20, w: 0.50, l: 1.65] x (x: -9.82 y: 2.26, z: -1.25)\n",
      "  q: quaternion(-0.08757224, 0, 0, -0.99615817) with origin: origin of x:[-0.5  0.   1.8], q:quaternion(1, 0, 0, 0)\n",
      "] \n",
      "\n",
      "[truck detection from sensor LIDAR_INFRASTRUCTURE_003\n",
      "Box3D=[h: 2.43, w: 1.77, l: 4.92] x (x: -39.06 y: -14.21, z: -0.71)\n",
      "  q: quaternion(-0.4817855, 0.00294333, -0.00319194, -0.87627773) with origin: origin of x:[-0.5  0.   1.8], q:quaternion(1, 0, 0, 0)\n",
      ", car detection from sensor LIDAR_INFRASTRUCTURE_003\n",
      "Box3D=[h: 1.83, w: 2.08, l: 3.74] x (x: 15.38 y: -6.90, z: 1.61)\n",
      "  q: quaternion(-0.99235256, 0.00126085, 0.00015011, -0.12342154) with origin: origin of x:[-0.5  0.   1.8], q:quaternion(1, 0, 0, 0)\n",
      ", car detection from sensor LIDAR_INFRASTRUCTURE_003\n",
      "Box3D=[h: 1.75, w: 2.37, l: 4.61] x (x: 20.28 y: -2.69, z: 0.81)\n",
      "  q: quaternion(-0.99222479, 0.0012602, 0.00014485, -0.12444257) with origin: origin of x:[-0.5  0.   1.8], q:quaternion(1, 0, 0, 0)\n",
      ", car detection from sensor LIDAR_INFRASTRUCTURE_003\n",
      "Box3D=[h: 1.51, w: 2.35, l: 4.34] x (x: -28.39 y: -5.04, z: -1.22)\n",
      "  q: quaternion(-0.35224342, 0.00167024, -0.00191796, -0.93590322) with origin: origin of x:[-0.5  0.   1.8], q:quaternion(1, 0, 0, 0)\n",
      ", car detection from sensor LIDAR_INFRASTRUCTURE_003\n",
      "Box3D=[h: 2.29, w: 2.67, l: 4.37] x (x: 0.19 y: 4.25, z: 1.00)\n",
      "  q: quaternion(0.00174778, -9.676e-05, 0.00090715, -0.99999979) with origin: origin of x:[-0.5  0.   1.8], q:quaternion(1, 0, 0, 0)\n",
      ", car detection from sensor LIDAR_INFRASTRUCTURE_003\n",
      "Box3D=[h: 1.44, w: 2.77, l: 5.26] x (x: -12.48 y: -6.62, z: -1.13)\n",
      "  q: quaternion(-0.98024882, 0.00187382, -0.00012754, 0.19775205) with origin: origin of x:[-0.5  0.   1.8], q:quaternion(1, 0, 0, 0)\n",
      ", car detection from sensor LIDAR_INFRASTRUCTURE_003\n",
      "Box3D=[h: 1.46, w: 2.92, l: 4.81] x (x: -20.35 y: -6.08, z: 1.93)\n",
      "  q: quaternion(0.95717564, 0.00504658, 0.00224981, -0.28945121) with origin: origin of x:[-0.5  0.   1.8], q:quaternion(1, 0, 0, 0)\n",
      ", car detection from sensor LIDAR_INFRASTRUCTURE_003\n",
      "Box3D=[h: 1.37, w: 1.97, l: 5.50] x (x: 8.62 y: -5.49, z: -2.48)\n",
      "  q: quaternion(0.99395486, -0.00120826, -0.00016986, 0.10976847) with origin: origin of x:[-0.5  0.   1.8], q:quaternion(1, 0, 0, 0)\n",
      ", bicycle detection from sensor LIDAR_INFRASTRUCTURE_003\n",
      "Box3D=[h: 1.51, w: 0.04, l: 0.77] x (x: -9.71 y: 0.11, z: -1.33)\n",
      "  q: quaternion(0.11694761, 0.00026869, -0.00627979, 0.99311712) with origin: origin of x:[-0.5  0.   1.8], q:quaternion(1, 0, 0, 0)\n",
      ", car detection from sensor LIDAR_INFRASTRUCTURE_003\n",
      "Box3D=[h: 0.94, w: 1.81, l: 5.34] x (x: -2.22 y: -2.91, z: -1.40)\n",
      "  q: quaternion(0.99999844, -6e-08, -5.1e-07, -2.4e-07) with origin: origin of x:[-0.5  0.   1.8], q:quaternion(1, 0, 0, 0)\n",
      ", car detection from sensor LIDAR_INFRASTRUCTURE_003\n",
      "Box3D=[h: 1.09, w: 2.10, l: 4.95] x (x: 2.30 y: 1.21, z: -0.81)\n",
      "  q: quaternion(0.99999818, 6e-08, 4.5e-07, -2.7e-07) with origin: origin of x:[-0.5  0.   1.8], q:quaternion(1, 0, 0, 0)\n",
      ", car detection from sensor LIDAR_INFRASTRUCTURE_003\n",
      "Box3D=[h: 1.46, w: 2.12, l: 5.15] x (x: 0.84 y: 2.48, z: -1.23)\n",
      "  q: quaternion(0.99999903, -3e-08, -2.6e-07, -1.2e-07) with origin: origin of x:[-0.5  0.   1.8], q:quaternion(1, 0, 0, 0)\n",
      ", car detection from sensor LIDAR_INFRASTRUCTURE_013\n",
      "Box3D=[h: 2.34, w: 1.63, l: 3.14] x (x: 104.18 y: -31.63, z: -4.82)\n",
      "  q: quaternion(-0.9684757, -0.0016882, -0.00297102, 0.24904916) with origin: origin of x:[-0.5  0.   1.8], q:quaternion(1, 0, 0, 0)\n",
      ", truck detection from sensor LIDAR_INFRASTRUCTURE_013\n",
      "Box3D=[h: 1.89, w: 2.38, l: 5.72] x (x: 82.63 y: -13.08, z: 1.81)\n",
      "  q: quaternion(0.1248943, -0.00015363, 0.00126086, -0.99216028) with origin: origin of x:[-0.5  0.   1.8], q:quaternion(1, 0, 0, 0)\n",
      ", car detection from sensor LIDAR_INFRASTRUCTURE_013\n",
      "Box3D=[h: 2.60, w: 2.23, l: 5.67] x (x: 89.54 y: -13.35, z: -1.36)\n",
      "  q: quaternion(0.12460913, 0.00025964, 0.00120819, -0.9921962) with origin: origin of x:[-0.5  0.   1.8], q:quaternion(1, 0, 0, 0)\n",
      ", car detection from sensor LIDAR_INFRASTRUCTURE_013\n",
      "Box3D=[h: 1.80, w: 1.99, l: 4.91] x (x: 84.95 y: -17.58, z: 1.78)\n",
      "  q: quaternion(-0.12599362, 0.00015487, -0.00126193, 0.99202125) with origin: origin of x:[-0.5  0.   1.8], q:quaternion(1, 0, 0, 0)\n",
      ", car detection from sensor LIDAR_INFRASTRUCTURE_013\n",
      "Box3D=[h: 1.72, w: 1.25, l: 4.63] x (x: 93.95 y: -12.84, z: -3.81)\n",
      "  q: quaternion(-0.12508225, 0.00015387, -0.0012608, 0.99213651) with origin: origin of x:[-0.5  0.   1.8], q:quaternion(1, 0, 0, 0)\n",
      ", truck detection from sensor LIDAR_INFRASTRUCTURE_013\n",
      "Box3D=[h: 1.41, w: 1.94, l: 5.28] x (x: 94.78 y: -24.87, z: -5.16)\n",
      "  q: quaternion(-0.99159389, 0.00126042, 0.00014784, -0.12931446) with origin: origin of x:[-0.5  0.   1.8], q:quaternion(1, 0, 0, 0)\n",
      ", car detection from sensor LIDAR_INFRASTRUCTURE_013\n",
      "Box3D=[h: 0.73, w: 2.20, l: 4.43] x (x: 117.15 y: -27.78, z: -0.80)\n",
      "  q: quaternion(0.99177697, -0.00048722, -0.00078869, 0.12790761) with origin: origin of x:[-0.5  0.   1.8], q:quaternion(1, 0, 0, 0)\n",
      ", car detection from sensor LIDAR_INFRASTRUCTURE_013\n",
      "Box3D=[h: 1.87, w: 2.43, l: 4.54] x (x: 95.03 y: -41.49, z: 1.47)\n",
      "  q: quaternion(-0.78933164, 0.00121099, -0.00105766, 0.61395006) with origin: origin of x:[-0.5  0.   1.8], q:quaternion(1, 0, 0, 0)\n",
      ", car detection from sensor LIDAR_INFRASTRUCTURE_013\n",
      "Box3D=[h: 0.89, w: 2.19, l: 4.65] x (x: 78.63 y: -14.02, z: -0.70)\n",
      "  q: quaternion(0.11868118, 0.00026986, 0.00121368, -0.99292245) with origin: origin of x:[-0.5  0.   1.8], q:quaternion(1, 0, 0, 0)\n",
      ", truck detection from sensor LIDAR_INFRASTRUCTURE_013\n",
      "Box3D=[h: 4.05, w: 2.06, l: 8.30] x (x: 130.49 y: -34.45, z: -0.30)\n",
      "  q: quaternion(-0.94522945, 0.00113589, 0.00034531, -0.32637793) with origin: origin of x:[-0.5  0.   1.8], q:quaternion(1, 0, 0, 0)\n",
      ", car detection from sensor LIDAR_INFRASTRUCTURE_021\n",
      "Box3D=[h: 1.48, w: 2.20, l: 3.51] x (x: 101.95 y: -32.43, z: -5.73)\n",
      "  q: quaternion(-0.96846929, -0.0016881, -0.00297162, 0.24904679) with origin: origin of x:[-0.5  0.   1.8], q:quaternion(1, 0, 0, 0)\n",
      ", truck detection from sensor LIDAR_INFRASTRUCTURE_021\n",
      "Box3D=[h: 2.31, w: 1.53, l: 4.96] x (x: 82.02 y: -15.02, z: 1.28)\n",
      "  q: quaternion(0.12489349, -0.00015375, 0.00126087, -0.99215389) with origin: origin of x:[-0.5  0.   1.8], q:quaternion(1, 0, 0, 0)\n",
      ", car detection from sensor LIDAR_INFRASTRUCTURE_021\n",
      "Box3D=[h: 0.87, w: 2.16, l: 5.10] x (x: 92.26 y: -14.43, z: -2.29)\n",
      "  q: quaternion(0.12460825, 0.00026048, 0.00120807, -0.99218923) with origin: origin of x:[-0.5  0.   1.8], q:quaternion(1, 0, 0, 0)\n",
      ", car detection from sensor LIDAR_INFRASTRUCTURE_021\n",
      "Box3D=[h: 0.58, w: 2.29, l: 4.09] x (x: 88.78 y: -19.22, z: 3.30)\n",
      "  q: quaternion(-0.12599283, 0.00015524, -0.00126197, 0.99201499) with origin: origin of x:[-0.5  0.   1.8], q:quaternion(1, 0, 0, 0)\n",
      ", car detection from sensor LIDAR_INFRASTRUCTURE_021\n",
      "Box3D=[h: 1.13, w: 1.99, l: 3.86] x (x: 92.94 y: -15.69, z: -2.39)\n",
      "  q: quaternion(-0.12508134, 0.00015399, -0.0012608, 0.99212929) with origin: origin of x:[-0.5  0.   1.8], q:quaternion(1, 0, 0, 0)\n",
      ", truck detection from sensor LIDAR_INFRASTRUCTURE_021\n",
      "Box3D=[h: 2.20, w: 1.79, l: 5.72] x (x: 93.98 y: -22.00, z: 1.83)\n",
      "  q: quaternion(-0.99158667, 0.00126043, 0.00014796, -0.12931354) with origin: origin of x:[-0.5  0.   1.8], q:quaternion(1, 0, 0, 0)\n",
      ", car detection from sensor LIDAR_INFRASTRUCTURE_021\n",
      "Box3D=[h: 1.98, w: 2.36, l: 4.06] x (x: 115.40 y: -32.03, z: -0.19)\n",
      "  q: quaternion(0.99177001, -0.0004871, -0.00078785, 0.12790673) with origin: origin of x:[-0.5  0.   1.8], q:quaternion(1, 0, 0, 0)\n",
      ", car detection from sensor LIDAR_INFRASTRUCTURE_021\n",
      "Box3D=[h: 1.46, w: 2.42, l: 5.04] x (x: 96.48 y: -46.77, z: -2.65)\n",
      "  q: quaternion(-0.78932662, 0.00121061, -0.00105794, 0.61394617) with origin: origin of x:[-0.5  0.   1.8], q:quaternion(1, 0, 0, 0)\n",
      ", car detection from sensor LIDAR_INFRASTRUCTURE_021\n",
      "Box3D=[h: 1.98, w: 1.88, l: 5.29] x (x: 78.75 y: -9.86, z: 1.33)\n",
      "  q: quaternion(0.1186803, 0.0002707, 0.00121356, -0.99291548) with origin: origin of x:[-0.5  0.   1.8], q:quaternion(1, 0, 0, 0)\n",
      ", truck detection from sensor LIDAR_INFRASTRUCTURE_021\n",
      "Box3D=[h: 3.83, w: 3.77, l: 7.92] x (x: 127.45 y: -35.08, z: -1.17)\n",
      "  q: quaternion(-0.94522207, 0.00113615, 0.0003454, -0.32637596) with origin: origin of x:[-0.5  0.   1.8], q:quaternion(1, 0, 0, 0)\n",
      ", truck detection from sensor LIDAR_INFRASTRUCTURE_030\n",
      "Box3D=[h: 2.39, w: 1.25, l: 6.15] x (x: -39.46 y: -52.41, z: -3.41)\n",
      "  q: quaternion(0.78799097, -0.00097727, 0.0007593, -0.61564412) with origin: origin of x:[-0.5  0.   1.8], q:quaternion(1, 0, 0, 0)\n",
      ", car detection from sensor LIDAR_INFRASTRUCTURE_030\n",
      "Box3D=[h: 2.38, w: 1.58, l: 3.63] x (x: -45.63 y: -56.54, z: -1.90)\n",
      "  q: quaternion(0.78801833, -0.00077682, 0.00050465, -0.61561264) with origin: origin of x:[-0.5  0.   1.8], q:quaternion(1, 0, 0, 0)\n",
      ", car detection from sensor LIDAR_INFRASTRUCTURE_030\n",
      "Box3D=[h: 1.91, w: 2.14, l: 4.87] x (x: -52.99 y: -81.66, z: -3.13)\n",
      "  q: quaternion(0.80580277, 0.00060656, 0.0018898, -0.59213596) with origin: origin of x:[-0.5  0.   1.8], q:quaternion(1, 0, 0, 0)\n",
      ", truck detection from sensor LIDAR_INFRASTRUCTURE_030\n",
      "Box3D=[h: 1.63, w: 1.64, l: 6.22] x (x: -57.68 y: -95.14, z: -3.80)\n",
      "  q: quaternion(0.61112321, -0.00088996, -0.00108768, 0.79150214) with origin: origin of x:[-0.5  0.   1.8], q:quaternion(1, 0, 0, 0)\n",
      ", truck detection from sensor LIDAR_INFRASTRUCTURE_030\n",
      "Box3D=[h: 1.78, w: 1.87, l: 4.65] x (x: -62.84 y: -98.66, z: 0.69)\n",
      "  q: quaternion(0.61127645, 0.00194328, 0.00110101, 0.79138351) with origin: origin of x:[-0.5  0.   1.8], q:quaternion(1, 0, 0, 0)\n",
      ", car detection from sensor LIDAR_INFRASTRUCTURE_030\n",
      "Box3D=[h: 1.01, w: 1.81, l: 4.91] x (x: -57.65 y: -89.60, z: -0.12)\n",
      "  q: quaternion(0.61163223, -0.00084614, -0.00105318, 0.79110912) with origin: origin of x:[-0.5  0.   1.8], q:quaternion(1, 0, 0, 0)\n",
      ", car detection from sensor LIDAR_INFRASTRUCTURE_030\n",
      "Box3D=[h: 1.91, w: 2.58, l: 3.98] x (x: -59.04 y: -86.35, z: 0.19)\n",
      "  q: quaternion(0.61161737, -0.00162224, -0.00185167, 0.79111694) with origin: origin of x:[-0.5  0.   1.8], q:quaternion(1, 0, 0, 0)\n",
      ", truck detection from sensor LIDAR_INFRASTRUCTURE_033\n",
      "Box3D=[h: 3.42, w: 1.98, l: 5.65] x (x: 31.33 y: -66.07, z: 0.66)\n",
      "  q: quaternion(0.61498398, -0.00073467, -0.00103867, 0.78850354) with origin: origin of x:[-0.5  0.   1.8], q:quaternion(1, 0, 0, 0)\n",
      ", car detection from sensor LIDAR_INFRASTRUCTURE_033\n",
      "Box3D=[h: 1.20, w: 1.99, l: 4.59] x (x: 67.31 y: -81.79, z: -3.11)\n",
      "  q: quaternion(0.99073077, -0.00125808, -0.00016821, 0.13562816) with origin: origin of x:[-0.5  0.   1.8], q:quaternion(1, 0, 0, 0)\n",
      ", car detection from sensor LIDAR_INFRASTRUCTURE_033\n",
      "Box3D=[h: 2.33, w: 1.30, l: 4.28] x (x: 44.58 y: -54.90, z: -0.46)\n",
      "  q: quaternion(0.79153462, -0.00076873, 0.00048589, -0.61107606) with origin: origin of x:[-0.5  0.   1.8], q:quaternion(1, 0, 0, 0)\n",
      ", truck detection from sensor LIDAR_INFRASTRUCTURE_033\n",
      "Box3D=[h: 1.44, w: 1.98, l: 4.93] x (x: 49.08 y: -77.78, z: 1.65)\n",
      "  q: quaternion(0.98932015, 0.00595164, 0.00394451, -0.14538983) with origin: origin of x:[-0.5  0.   1.8], q:quaternion(1, 0, 0, 0)\n",
      ", car detection from sensor LIDAR_INFRASTRUCTURE_033\n",
      "Box3D=[h: 2.38, w: 2.28, l: 4.56] x (x: 63.31 y: -77.62, z: -0.75)\n",
      "  q: quaternion(0.99360593, -0.00113907, -0.00072189, 0.11264286) with origin: origin of x:[-0.5  0.   1.8], q:quaternion(1, 0, 0, 0)\n",
      ", car detection from sensor LIDAR_INFRASTRUCTURE_033\n",
      "Box3D=[h: 0.95, w: 1.77, l: 5.00] x (x: 23.93 y: -82.42, z: 1.70)\n",
      "  q: quaternion(0.61617905, -0.00066377, -0.00090694, 0.78756995) with origin: origin of x:[-0.5  0.   1.8], q:quaternion(1, 0, 0, 0)\n",
      "] \n",
      "\n",
      "[VehicleState car at position Translation at [9.493901, -4.709229, -1.114924] with origin of x:[-0.5  0.   1.8], q:quaternion(1, 0, 0, 0)\n",
      " VehicleState car at position Translation at [-0.769227, 3.356755, -0.938208] with origin of x:[-0.5  0.   1.8], q:quaternion(1, 0, 0, 0)\n",
      " VehicleState car at position Translation at [-12.590514, -5.734911, -0.961199] with origin of x:[-0.5  0.   1.8], q:quaternion(1, 0, 0, 0)\n",
      " VehicleState car at position Translation at [-0.47605307, 4.93993716, -2.3273494] with origin of x:[-0.5  0.   1.8], q:quaternion(1, 0, 0, 0)\n",
      " VehicleState car at position Translation at [0.44275215, 4.05520942, 0.92701628] with origin of x:[-0.5  0.   1.8], q:quaternion(1, 0, 0, 0)\n",
      " VehicleState car at position Translation at [87.72264309, -19.57533805, -2.4919941] with origin of x:[-0.5  0.   1.8], q:quaternion(1, 0, 0, 0)\n",
      " VehicleState car at position Translation at [-11.61742816, -6.57227594, -0.98173254] with origin of x:[-0.5  0.   1.8], q:quaternion(1, 0, 0, 0)\n",
      " VehicleState car at position Translation at [81.77237207, -14.99314704, 0.92859214] with origin of x:[-0.5  0.   1.8], q:quaternion(1, 0, 0, 0)\n",
      " VehicleState car at position Translation at [44.63817639, -54.59182081, -0.42746379] with origin of x:[-0.5  0.   1.8], q:quaternion(1, 0, 0, 0)] \n",
      "\n",
      "[VehicleState car at position Translation at [45.582569, -52.130496, -1.923441] with origin of x:[-0.5  0.   1.8], q:quaternion(1, 0, 0, 0)\n",
      " VehicleState car at position Translation at [45.738311, -5.748101, -1.844723] with origin of x:[-0.5  0.   1.8], q:quaternion(1, 0, 0, 0)\n",
      " VehicleState motorcycle at position Translation at [-31.459571, -23.703919, -1.94917] with origin of x:[-0.5  0.   1.8], q:quaternion(1, 0, 0, 0)\n",
      " VehicleState car at position Translation at [-35.343897, -24.260522, -1.896762] with origin of x:[-0.5  0.   1.8], q:quaternion(1, 0, 0, 0)\n",
      " VehicleState car at position Translation at [20.591768, -7.49975, -1.842315] with origin of x:[-0.5  0.   1.8], q:quaternion(1, 0, 0, 0)\n",
      " VehicleState car at position Translation at [20.680612, -3.89872, -1.842426] with origin of x:[-0.5  0.   1.8], q:quaternion(1, 0, 0, 0)\n",
      " VehicleState car at position Translation at [-30.061756, -4.528661, -1.855008] with origin of x:[-0.5  0.   1.8], q:quaternion(1, 0, 0, 0)\n",
      " VehicleState car at position Translation at [-1.264412, 3.408191, -1.683996] with origin of x:[-0.5  0.   1.8], q:quaternion(1, 0, 0, 0)\n",
      " VehicleState car at position Translation at [-12.511357, -5.735772, -1.845203] with origin of x:[-0.5  0.   1.8], q:quaternion(1, 0, 0, 0)\n",
      " VehicleState car at position Translation at [-20.852975, -6.046548, -1.84815] with origin of x:[-0.5  0.   1.8], q:quaternion(1, 0, 0, 0)\n",
      " VehicleState car at position Translation at [9.358542, -4.722899, -1.844182] with origin of x:[-0.5  0.   1.8], q:quaternion(1, 0, 0, 0)\n",
      " VehicleState bicycle at position Translation at [-9.798075, 2.227321, -1.825766] with origin of x:[-0.5  0.   1.8], q:quaternion(1, 0, 0, 0)] \n",
      "\n"
     ]
    }
   ],
   "source": [
    "print(dets_e, '\\n')\n",
    "print(dets_c, '\\n')\n",
    "print(trks, '\\n')\n",
    "print(trus, '\\n')"
   ]
  },
  {
   "cell_type": "code",
   "execution_count": null,
   "id": "2fc3c2e9",
   "metadata": {},
   "outputs": [],
   "source": []
  },
  {
   "cell_type": "code",
   "execution_count": null,
   "id": "e5445782",
   "metadata": {},
   "outputs": [],
   "source": []
  },
  {
   "cell_type": "markdown",
   "id": "da612f82",
   "metadata": {},
   "source": [
    "# Trade Study 2: Using real detections at different distances"
   ]
  },
  {
   "cell_type": "code",
   "execution_count": null,
   "id": "564e6eaa",
   "metadata": {},
   "outputs": [],
   "source": []
  }
 ],
 "metadata": {
  "kernelspec": {
   "display_name": "Python [conda env:avstack-studies-1] *",
   "language": "python",
   "name": "conda-env-avstack-studies-1-py"
  },
  "language_info": {
   "codemirror_mode": {
    "name": "ipython",
    "version": 3
   },
   "file_extension": ".py",
   "mimetype": "text/x-python",
   "name": "python",
   "nbconvert_exporter": "python",
   "pygments_lexer": "ipython3",
   "version": "3.8.13"
  }
 },
 "nbformat": 4,
 "nbformat_minor": 5
}
